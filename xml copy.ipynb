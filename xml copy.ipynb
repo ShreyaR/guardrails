{
 "cells": [
  {
   "cell_type": "code",
   "execution_count": 26,
   "metadata": {},
   "outputs": [],
   "source": [
    "import copy\n",
    "import logging\n",
    "import json\n",
    "from collections import defaultdict\n",
    "from typing import Union, Dict, List, Optional, Any\n",
    "from lxml import etree as ET\n",
    "\n",
    "import rich\n",
    "\n",
    "from guardrails.x_datatypes import registry as types_registry\n",
    "\n",
    "from guardrails.x_schema import XSchema\n",
    "from guardrails.prompt_repo import Prompt\n",
    "from guardrails.utils.docs_utils import read_pdf"
   ]
  },
  {
   "cell_type": "code",
   "execution_count": 2,
   "metadata": {},
   "outputs": [],
   "source": [
    "# Set up logging\n",
    "logging.basicConfig(level=logging.INFO)\n",
    "logger = logging.getLogger(__name__)"
   ]
  },
  {
   "cell_type": "code",
   "execution_count": 19,
   "metadata": {},
   "outputs": [
    {
     "name": "stderr",
     "output_type": "stream",
     "text": [
      "/Users/shreyarajpal/guardrails/guardrails/x_datatypes.py:52: UserWarning: Formatter 1-indexed is not valid for element integer.\n",
      "  warnings.warn(\n",
      "/Users/shreyarajpal/guardrails/guardrails/x_datatypes.py:52: UserWarning: Formatter percentage is not valid for element float.\n",
      "  warnings.warn(\n",
      "/Users/shreyarajpal/guardrails/guardrails/x_datatypes.py:52: UserWarning: Formatter tone-twitter explain-high-quality is not valid for element string.\n",
      "  warnings.warn(\n",
      "/Users/shreyarajpal/guardrails/guardrails/x_datatypes.py:52: UserWarning: Formatter tagline tv-ad is not valid for element string.\n",
      "  warnings.warn(\n"
     ]
    }
   ],
   "source": [
    "base_prompt_template = Prompt(\"\"\"Given the following document, answer the following questions. If the answer doesn't exist in the document, enter 'None'.\n",
    "\n",
    "{document}\"\"\")\n",
    "\n",
    "schema = XSchema.from_xml('guardrails/prompt.xml', base_prompt_template)"
   ]
  },
  {
   "cell_type": "code",
   "execution_count": 20,
   "metadata": {},
   "outputs": [
    {
     "name": "stdout",
     "output_type": "stream",
     "text": [
      "Element: string\n"
     ]
    }
   ],
   "source": [
    "# # Get all elements in `schema.parsed_xml`\n",
    "# elements = schema.parsed_xml.findall(\".//*\")\n",
    "# # Print information about each element\n",
    "# for element in elements:\n",
    "#     print(f\"Element: {element.tag}\")\n",
    "#     print(f\"Attributes: {element.attrib}\")\n",
    "#     print(f\"Text: {element.text}\")\n",
    "#     print()\n",
    "\n",
    "# explanation_element = schema.parsed_xml.find(\".//list[@name='fees']/object\")\n",
    "explanation_element = schema.parsed_xml.find(\".//list[@name='fees']/object/string[@name='explanation']\")\n",
    "\n",
    "# Get the element that has the property `name` with the value `explanation`\n",
    "# and is the descendant of elements `list` with name 'fees' and `object` (no name)\n",
    "explanation_element = schema.parsed_xml.find(\".//list[@name='fees']/object/string[@name='explanation']\")\n",
    "\n",
    "# Print information about the element\n",
    "print(f\"Element: {explanation_element.tag}\")"
   ]
  },
  {
   "cell_type": "code",
   "execution_count": 21,
   "metadata": {},
   "outputs": [
    {
     "data": {
      "text/html": [
       "<pre style=\"white-space:pre;overflow-x:auto;line-height:normal;font-family:Menlo,'DejaVu Sans Mono',consolas,'Courier New',monospace\"><span style=\"font-weight: bold\">[</span>\n",
       "    <span style=\"font-weight: bold\">([</span><span style=\"color: #008000; text-decoration-color: #008000\">'fees'</span>, <span style=\"color: #008080; text-decoration-color: #008080; font-weight: bold\">0</span>, <span style=\"color: #008000; text-decoration-color: #008000\">'description'</span><span style=\"font-weight: bold\">]</span>, <span style=\"color: #800080; text-decoration-color: #800080; font-style: italic\">None</span><span style=\"font-weight: bold\">)</span>,\n",
       "    <span style=\"font-weight: bold\">([</span><span style=\"color: #008000; text-decoration-color: #008000\">'fees'</span>, <span style=\"color: #008080; text-decoration-color: #008080; font-weight: bold\">0</span>, <span style=\"color: #008000; text-decoration-color: #008000\">'example'</span><span style=\"font-weight: bold\">]</span>, <span style=\"color: #800080; text-decoration-color: #800080; font-style: italic\">None</span><span style=\"font-weight: bold\">)</span>,\n",
       "    <span style=\"font-weight: bold\">([</span><span style=\"color: #008000; text-decoration-color: #008000\">'fees'</span>, <span style=\"color: #008080; text-decoration-color: #008080; font-weight: bold\">0</span>, <span style=\"color: #008000; text-decoration-color: #008000\">'advertisement'</span><span style=\"font-weight: bold\">]</span>, <span style=\"color: #800080; text-decoration-color: #800080; font-style: italic\">None</span><span style=\"font-weight: bold\">)</span>,\n",
       "    <span style=\"font-weight: bold\">([</span><span style=\"color: #008000; text-decoration-color: #008000\">'fees'</span>, <span style=\"color: #008080; text-decoration-color: #008080; font-weight: bold\">1</span>, <span style=\"color: #008000; text-decoration-color: #008000\">'explanation'</span><span style=\"font-weight: bold\">]</span>, <span style=\"color: #800080; text-decoration-color: #800080; font-style: italic\">None</span><span style=\"font-weight: bold\">)</span>,\n",
       "    <span style=\"font-weight: bold\">([</span><span style=\"color: #008000; text-decoration-color: #008000\">'fees'</span>, <span style=\"color: #008080; text-decoration-color: #008080; font-weight: bold\">1</span>, <span style=\"color: #008000; text-decoration-color: #008000\">'example'</span><span style=\"font-weight: bold\">]</span>, <span style=\"color: #800080; text-decoration-color: #800080; font-style: italic\">None</span><span style=\"font-weight: bold\">)</span>,\n",
       "    <span style=\"font-weight: bold\">([</span><span style=\"color: #008000; text-decoration-color: #008000\">'fees'</span>, <span style=\"color: #008080; text-decoration-color: #008080; font-weight: bold\">1</span>, <span style=\"color: #008000; text-decoration-color: #008000\">'advertisement'</span><span style=\"font-weight: bold\">]</span>, <span style=\"color: #800080; text-decoration-color: #800080; font-style: italic\">None</span><span style=\"font-weight: bold\">)</span>,\n",
       "    <span style=\"font-weight: bold\">([</span><span style=\"color: #008000; text-decoration-color: #008000\">'fees'</span>, <span style=\"color: #008080; text-decoration-color: #008080; font-weight: bold\">4</span>, <span style=\"color: #008000; text-decoration-color: #008000\">'description'</span><span style=\"font-weight: bold\">]</span>, <span style=\"color: #800080; text-decoration-color: #800080; font-style: italic\">None</span><span style=\"font-weight: bold\">)</span>,\n",
       "    <span style=\"font-weight: bold\">([</span><span style=\"color: #008000; text-decoration-color: #008000\">'fees'</span>, <span style=\"color: #008080; text-decoration-color: #008080; font-weight: bold\">6</span>, <span style=\"color: #008000; text-decoration-color: #008000\">'explanation'</span><span style=\"font-weight: bold\">]</span>, <span style=\"color: #800080; text-decoration-color: #800080; font-style: italic\">None</span><span style=\"font-weight: bold\">)</span>,\n",
       "    <span style=\"font-weight: bold\">([</span><span style=\"color: #008000; text-decoration-color: #008000\">'fees'</span>, <span style=\"color: #008080; text-decoration-color: #008080; font-weight: bold\">6</span>, <span style=\"color: #008000; text-decoration-color: #008000\">'description'</span><span style=\"font-weight: bold\">]</span>, <span style=\"color: #800080; text-decoration-color: #800080; font-style: italic\">None</span><span style=\"font-weight: bold\">)</span>,\n",
       "    <span style=\"font-weight: bold\">([</span><span style=\"color: #008000; text-decoration-color: #008000\">'fees'</span>, <span style=\"color: #008080; text-decoration-color: #008080; font-weight: bold\">6</span>, <span style=\"color: #008000; text-decoration-color: #008000\">'example'</span><span style=\"font-weight: bold\">]</span>, <span style=\"color: #800080; text-decoration-color: #800080; font-style: italic\">None</span><span style=\"font-weight: bold\">)</span>,\n",
       "    <span style=\"font-weight: bold\">([</span><span style=\"color: #008000; text-decoration-color: #008000\">'fees'</span>, <span style=\"color: #008080; text-decoration-color: #008080; font-weight: bold\">6</span>, <span style=\"color: #008000; text-decoration-color: #008000\">'advertisement'</span><span style=\"font-weight: bold\">]</span>, <span style=\"color: #800080; text-decoration-color: #800080; font-style: italic\">None</span><span style=\"font-weight: bold\">)</span>,\n",
       "    <span style=\"font-weight: bold\">([</span><span style=\"color: #008000; text-decoration-color: #008000\">'fees'</span>, <span style=\"color: #008080; text-decoration-color: #008080; font-weight: bold\">8</span>, <span style=\"color: #008000; text-decoration-color: #008000\">'explanation'</span><span style=\"font-weight: bold\">]</span>, <span style=\"color: #800080; text-decoration-color: #800080; font-style: italic\">None</span><span style=\"font-weight: bold\">)</span>,\n",
       "    <span style=\"font-weight: bold\">([</span><span style=\"color: #008000; text-decoration-color: #008000\">'fees'</span>, <span style=\"color: #008080; text-decoration-color: #008080; font-weight: bold\">8</span>, <span style=\"color: #008000; text-decoration-color: #008000\">'description'</span><span style=\"font-weight: bold\">]</span>, <span style=\"color: #800080; text-decoration-color: #800080; font-style: italic\">None</span><span style=\"font-weight: bold\">)</span>,\n",
       "    <span style=\"font-weight: bold\">([</span><span style=\"color: #008000; text-decoration-color: #008000\">'fees'</span>, <span style=\"color: #008080; text-decoration-color: #008080; font-weight: bold\">8</span>, <span style=\"color: #008000; text-decoration-color: #008000\">'example'</span><span style=\"font-weight: bold\">]</span>, <span style=\"color: #800080; text-decoration-color: #800080; font-style: italic\">None</span><span style=\"font-weight: bold\">)</span>,\n",
       "    <span style=\"font-weight: bold\">([</span><span style=\"color: #008000; text-decoration-color: #008000\">'fees'</span>, <span style=\"color: #008080; text-decoration-color: #008080; font-weight: bold\">8</span>, <span style=\"color: #008000; text-decoration-color: #008000\">'advertisement'</span><span style=\"font-weight: bold\">]</span>, <span style=\"color: #800080; text-decoration-color: #800080; font-style: italic\">None</span><span style=\"font-weight: bold\">)</span>,\n",
       "    <span style=\"font-weight: bold\">([</span><span style=\"color: #008000; text-decoration-color: #008000\">'interest_rates'</span><span style=\"font-weight: bold\">]</span>, <span style=\"color: #800080; text-decoration-color: #800080; font-style: italic\">None</span><span style=\"font-weight: bold\">)</span>\n",
       "<span style=\"font-weight: bold\">]</span>\n",
       "</pre>\n"
      ],
      "text/plain": [
       "\u001b[1m[\u001b[0m\n",
       "    \u001b[1m(\u001b[0m\u001b[1m[\u001b[0m\u001b[32m'fees'\u001b[0m, \u001b[1;36m0\u001b[0m, \u001b[32m'description'\u001b[0m\u001b[1m]\u001b[0m, \u001b[3;35mNone\u001b[0m\u001b[1m)\u001b[0m,\n",
       "    \u001b[1m(\u001b[0m\u001b[1m[\u001b[0m\u001b[32m'fees'\u001b[0m, \u001b[1;36m0\u001b[0m, \u001b[32m'example'\u001b[0m\u001b[1m]\u001b[0m, \u001b[3;35mNone\u001b[0m\u001b[1m)\u001b[0m,\n",
       "    \u001b[1m(\u001b[0m\u001b[1m[\u001b[0m\u001b[32m'fees'\u001b[0m, \u001b[1;36m0\u001b[0m, \u001b[32m'advertisement'\u001b[0m\u001b[1m]\u001b[0m, \u001b[3;35mNone\u001b[0m\u001b[1m)\u001b[0m,\n",
       "    \u001b[1m(\u001b[0m\u001b[1m[\u001b[0m\u001b[32m'fees'\u001b[0m, \u001b[1;36m1\u001b[0m, \u001b[32m'explanation'\u001b[0m\u001b[1m]\u001b[0m, \u001b[3;35mNone\u001b[0m\u001b[1m)\u001b[0m,\n",
       "    \u001b[1m(\u001b[0m\u001b[1m[\u001b[0m\u001b[32m'fees'\u001b[0m, \u001b[1;36m1\u001b[0m, \u001b[32m'example'\u001b[0m\u001b[1m]\u001b[0m, \u001b[3;35mNone\u001b[0m\u001b[1m)\u001b[0m,\n",
       "    \u001b[1m(\u001b[0m\u001b[1m[\u001b[0m\u001b[32m'fees'\u001b[0m, \u001b[1;36m1\u001b[0m, \u001b[32m'advertisement'\u001b[0m\u001b[1m]\u001b[0m, \u001b[3;35mNone\u001b[0m\u001b[1m)\u001b[0m,\n",
       "    \u001b[1m(\u001b[0m\u001b[1m[\u001b[0m\u001b[32m'fees'\u001b[0m, \u001b[1;36m4\u001b[0m, \u001b[32m'description'\u001b[0m\u001b[1m]\u001b[0m, \u001b[3;35mNone\u001b[0m\u001b[1m)\u001b[0m,\n",
       "    \u001b[1m(\u001b[0m\u001b[1m[\u001b[0m\u001b[32m'fees'\u001b[0m, \u001b[1;36m6\u001b[0m, \u001b[32m'explanation'\u001b[0m\u001b[1m]\u001b[0m, \u001b[3;35mNone\u001b[0m\u001b[1m)\u001b[0m,\n",
       "    \u001b[1m(\u001b[0m\u001b[1m[\u001b[0m\u001b[32m'fees'\u001b[0m, \u001b[1;36m6\u001b[0m, \u001b[32m'description'\u001b[0m\u001b[1m]\u001b[0m, \u001b[3;35mNone\u001b[0m\u001b[1m)\u001b[0m,\n",
       "    \u001b[1m(\u001b[0m\u001b[1m[\u001b[0m\u001b[32m'fees'\u001b[0m, \u001b[1;36m6\u001b[0m, \u001b[32m'example'\u001b[0m\u001b[1m]\u001b[0m, \u001b[3;35mNone\u001b[0m\u001b[1m)\u001b[0m,\n",
       "    \u001b[1m(\u001b[0m\u001b[1m[\u001b[0m\u001b[32m'fees'\u001b[0m, \u001b[1;36m6\u001b[0m, \u001b[32m'advertisement'\u001b[0m\u001b[1m]\u001b[0m, \u001b[3;35mNone\u001b[0m\u001b[1m)\u001b[0m,\n",
       "    \u001b[1m(\u001b[0m\u001b[1m[\u001b[0m\u001b[32m'fees'\u001b[0m, \u001b[1;36m8\u001b[0m, \u001b[32m'explanation'\u001b[0m\u001b[1m]\u001b[0m, \u001b[3;35mNone\u001b[0m\u001b[1m)\u001b[0m,\n",
       "    \u001b[1m(\u001b[0m\u001b[1m[\u001b[0m\u001b[32m'fees'\u001b[0m, \u001b[1;36m8\u001b[0m, \u001b[32m'description'\u001b[0m\u001b[1m]\u001b[0m, \u001b[3;35mNone\u001b[0m\u001b[1m)\u001b[0m,\n",
       "    \u001b[1m(\u001b[0m\u001b[1m[\u001b[0m\u001b[32m'fees'\u001b[0m, \u001b[1;36m8\u001b[0m, \u001b[32m'example'\u001b[0m\u001b[1m]\u001b[0m, \u001b[3;35mNone\u001b[0m\u001b[1m)\u001b[0m,\n",
       "    \u001b[1m(\u001b[0m\u001b[1m[\u001b[0m\u001b[32m'fees'\u001b[0m, \u001b[1;36m8\u001b[0m, \u001b[32m'advertisement'\u001b[0m\u001b[1m]\u001b[0m, \u001b[3;35mNone\u001b[0m\u001b[1m)\u001b[0m,\n",
       "    \u001b[1m(\u001b[0m\u001b[1m[\u001b[0m\u001b[32m'interest_rates'\u001b[0m\u001b[1m]\u001b[0m, \u001b[3;35mNone\u001b[0m\u001b[1m)\u001b[0m\n",
       "\u001b[1m]\u001b[0m\n"
      ]
     },
     "metadata": {},
     "output_type": "display_data"
    }
   ],
   "source": [
    "obj = {\n",
    "    \"fees\": [\n",
    "        {\n",
    "            \"index\": 1,\n",
    "            \"name\": \"annual membership\",\n",
    "            \"explanation\": \"annual fee for membership\",\n",
    "            \"value\": 0,\n",
    "            \"description\": None,\n",
    "            \"example\": None,\n",
    "            \"advertisement\": None,\n",
    "        },\n",
    "        {\n",
    "            \"index\": 2,\n",
    "            \"name\": \"my chase plan\",\n",
    "            \"explanation\": None,\n",
    "            \"value\": 1.72,\n",
    "            \"description\": \"\"\"Monthly fee of 0% of the amount of each eligible purchase transaction or amount selected to \n",
    "create a My Chase Plan while in the 0% Intro Purchase APR period. After that, monthly fee of 1.72% of the amount of\n",
    "each eligible purchase transaction or amount selected to create a My Chase Plan. The My Chase Plan Fee will be \n",
    "determined at the time each My Chase Plan is created and will remain the same until the My Chase Plan is paid in \n",
    "full.\"\"\",\n",
    "            \"example\": None,\n",
    "            \"advertisement\": None,\n",
    "        },\n",
    "        {\n",
    "            \"index\": 3,\n",
    "            \"name\": \"balance transfers\",\n",
    "            \"explanation\": \"intro fee of either $5 or 3% of the amount of each transfer, whichever is greater\",\n",
    "            \"value\": 3,\n",
    "            \"description\": \"\"\"Intro fee of either $5 or 3% of the amount of each transfer, whichever is greater, on \n",
    "transfers made within 60 days of account opening. After that: Either $5 or 5% of the amount of each transfer, \n",
    "whichever is greater.\"\"\",\n",
    "            \"example\": \"Transfer $100 and pay a fee of $3.\",\n",
    "            \"advertisement\": \"Transfer your balance and pay only a 3% fee!\",\n",
    "        },\n",
    "        {\n",
    "            \"index\": 4,\n",
    "            \"name\": \"cash advances\",\n",
    "            \"explanation\": \"either $10 or 5% of the amount of each transaction, whichever is greater\",\n",
    "            \"value\": 5,\n",
    "            \"description\": \"Either $10 or 5% of the amount of each transaction, whichever is greater.\",\n",
    "            \"example\": \"Withdraw $100 and pay a fee of $5.\",\n",
    "            \"advertisement\": \"Withdraw cash and pay only a 5% fee!\",\n",
    "        },\n",
    "        {\n",
    "            \"index\": 5,\n",
    "            \"name\": \"foreign transactions\",\n",
    "            \"explanation\": \"3% of the amount of each transaction in U.S. dollars\",\n",
    "            \"value\": 3,\n",
    "            \"description\": None,\n",
    "            \"example\": \"Make a purchase of $100 and pay a fee of $3.\",\n",
    "            \"advertisement\": \"Make purchases abroad and pay only a 3% fee!\",\n",
    "        },\n",
    "        {\n",
    "            \"index\": 6,\n",
    "            \"name\": \"late payment\",\n",
    "            \"explanation\": \"up to $40\",\n",
    "            \"value\": 0,\n",
    "            \"description\": \"Up to $40.\",\n",
    "            \"example\": \"Make a late payment and pay a fee of up to $40.\",\n",
    "            \"advertisement\": \"Make a late payment and pay only up to $40!\",\n",
    "        },\n",
    "        {\n",
    "            \"index\": 7,\n",
    "            \"name\": \"over-the-credit-limit\",\n",
    "            \"explanation\": None,\n",
    "            \"value\": 0,\n",
    "            \"description\": None,\n",
    "            \"example\": None,\n",
    "            \"advertisement\": None,\n",
    "        },\n",
    "        {\n",
    "            \"index\": 8,\n",
    "            \"name\": \"return payment\",\n",
    "            \"explanation\": \"up to $40\",\n",
    "            \"value\": 0,\n",
    "            \"description\": \"Up to $40.\",\n",
    "            \"example\": \"Make a return payment and pay a fee of up to $40.\",\n",
    "            \"advertisement\": \"Make a return payment and pay only up to $40!\",\n",
    "        },\n",
    "        {\n",
    "            \"index\": 9,\n",
    "            \"name\": \"return check\",\n",
    "            \"explanation\": None,\n",
    "            \"value\": 0,\n",
    "            \"description\": None,\n",
    "            \"example\": None,\n",
    "            \"advertisement\": None,\n",
    "        },\n",
    "    ],\n",
    "    \"interest_rates\": None,\n",
    "}\n",
    "\n",
    "nones = []\n",
    "\n",
    "\n",
    "def _gather_reasks(response: Union[list, dict], path: List[str] = []):\n",
    "    if isinstance(response, dict):\n",
    "        iterable = response.items()\n",
    "    elif isinstance(response, list):\n",
    "        iterable = enumerate(response)\n",
    "    else:\n",
    "        raise ValueError(f\"Expected dict or list, got {type(response)}\")\n",
    "    for field, value in iterable:\n",
    "        if value is None:\n",
    "            nones.append((path + [field], value))\n",
    "\n",
    "        if isinstance(value, dict):\n",
    "            _gather_reasks(value, path + [field])\n",
    "\n",
    "        if isinstance(value, list):\n",
    "            for idx, item in enumerate(value):\n",
    "                if item is None:\n",
    "                    nones.append((path + [field, idx], item))\n",
    "                else:\n",
    "                    _gather_reasks(item, path + [field, idx])\n",
    "\n",
    "_gather_reasks(obj)\n",
    "rich.print(nones)"
   ]
  },
  {
   "cell_type": "code",
   "execution_count": 22,
   "metadata": {},
   "outputs": [
    {
     "data": {
      "text/html": [
       "<pre style=\"white-space:pre;overflow-x:auto;line-height:normal;font-family:Menlo,'DejaVu Sans Mono',consolas,'Courier New',monospace\"><span style=\"font-weight: bold\">[</span>\n",
       "    <span style=\"font-weight: bold\">([</span><span style=\"color: #008000; text-decoration-color: #008000\">'fees'</span>, <span style=\"color: #008080; text-decoration-color: #008080; font-weight: bold\">0</span>, <span style=\"color: #008000; text-decoration-color: #008000\">'description'</span><span style=\"font-weight: bold\">]</span>, <span style=\"color: #800080; text-decoration-color: #800080; font-style: italic\">None</span><span style=\"font-weight: bold\">)</span>,\n",
       "    <span style=\"font-weight: bold\">([</span><span style=\"color: #008000; text-decoration-color: #008000\">'fees'</span>, <span style=\"color: #008080; text-decoration-color: #008080; font-weight: bold\">0</span>, <span style=\"color: #008000; text-decoration-color: #008000\">'example'</span><span style=\"font-weight: bold\">]</span>, <span style=\"color: #800080; text-decoration-color: #800080; font-style: italic\">None</span><span style=\"font-weight: bold\">)</span>,\n",
       "    <span style=\"font-weight: bold\">([</span><span style=\"color: #008000; text-decoration-color: #008000\">'fees'</span>, <span style=\"color: #008080; text-decoration-color: #008080; font-weight: bold\">0</span>, <span style=\"color: #008000; text-decoration-color: #008000\">'advertisement'</span><span style=\"font-weight: bold\">]</span>, <span style=\"color: #800080; text-decoration-color: #800080; font-style: italic\">None</span><span style=\"font-weight: bold\">)</span>,\n",
       "    <span style=\"font-weight: bold\">([</span><span style=\"color: #008000; text-decoration-color: #008000\">'fees'</span>, <span style=\"color: #008080; text-decoration-color: #008080; font-weight: bold\">1</span>, <span style=\"color: #008000; text-decoration-color: #008000\">'explanation'</span><span style=\"font-weight: bold\">]</span>, <span style=\"color: #800080; text-decoration-color: #800080; font-style: italic\">None</span><span style=\"font-weight: bold\">)</span>,\n",
       "    <span style=\"font-weight: bold\">([</span><span style=\"color: #008000; text-decoration-color: #008000\">'fees'</span>, <span style=\"color: #008080; text-decoration-color: #008080; font-weight: bold\">1</span>, <span style=\"color: #008000; text-decoration-color: #008000\">'example'</span><span style=\"font-weight: bold\">]</span>, <span style=\"color: #800080; text-decoration-color: #800080; font-style: italic\">None</span><span style=\"font-weight: bold\">)</span>,\n",
       "    <span style=\"font-weight: bold\">([</span><span style=\"color: #008000; text-decoration-color: #008000\">'fees'</span>, <span style=\"color: #008080; text-decoration-color: #008080; font-weight: bold\">1</span>, <span style=\"color: #008000; text-decoration-color: #008000\">'advertisement'</span><span style=\"font-weight: bold\">]</span>, <span style=\"color: #800080; text-decoration-color: #800080; font-style: italic\">None</span><span style=\"font-weight: bold\">)</span>,\n",
       "    <span style=\"font-weight: bold\">([</span><span style=\"color: #008000; text-decoration-color: #008000\">'fees'</span>, <span style=\"color: #008080; text-decoration-color: #008080; font-weight: bold\">4</span>, <span style=\"color: #008000; text-decoration-color: #008000\">'description'</span><span style=\"font-weight: bold\">]</span>, <span style=\"color: #800080; text-decoration-color: #800080; font-style: italic\">None</span><span style=\"font-weight: bold\">)</span>,\n",
       "    <span style=\"font-weight: bold\">([</span><span style=\"color: #008000; text-decoration-color: #008000\">'fees'</span>, <span style=\"color: #008080; text-decoration-color: #008080; font-weight: bold\">6</span>, <span style=\"color: #008000; text-decoration-color: #008000\">'explanation'</span><span style=\"font-weight: bold\">]</span>, <span style=\"color: #800080; text-decoration-color: #800080; font-style: italic\">None</span><span style=\"font-weight: bold\">)</span>,\n",
       "    <span style=\"font-weight: bold\">([</span><span style=\"color: #008000; text-decoration-color: #008000\">'fees'</span>, <span style=\"color: #008080; text-decoration-color: #008080; font-weight: bold\">6</span>, <span style=\"color: #008000; text-decoration-color: #008000\">'description'</span><span style=\"font-weight: bold\">]</span>, <span style=\"color: #800080; text-decoration-color: #800080; font-style: italic\">None</span><span style=\"font-weight: bold\">)</span>,\n",
       "    <span style=\"font-weight: bold\">([</span><span style=\"color: #008000; text-decoration-color: #008000\">'fees'</span>, <span style=\"color: #008080; text-decoration-color: #008080; font-weight: bold\">6</span>, <span style=\"color: #008000; text-decoration-color: #008000\">'example'</span><span style=\"font-weight: bold\">]</span>, <span style=\"color: #800080; text-decoration-color: #800080; font-style: italic\">None</span><span style=\"font-weight: bold\">)</span>,\n",
       "    <span style=\"font-weight: bold\">([</span><span style=\"color: #008000; text-decoration-color: #008000\">'fees'</span>, <span style=\"color: #008080; text-decoration-color: #008080; font-weight: bold\">6</span>, <span style=\"color: #008000; text-decoration-color: #008000\">'advertisement'</span><span style=\"font-weight: bold\">]</span>, <span style=\"color: #800080; text-decoration-color: #800080; font-style: italic\">None</span><span style=\"font-weight: bold\">)</span>,\n",
       "    <span style=\"font-weight: bold\">([</span><span style=\"color: #008000; text-decoration-color: #008000\">'fees'</span>, <span style=\"color: #008080; text-decoration-color: #008080; font-weight: bold\">8</span>, <span style=\"color: #008000; text-decoration-color: #008000\">'explanation'</span><span style=\"font-weight: bold\">]</span>, <span style=\"color: #800080; text-decoration-color: #800080; font-style: italic\">None</span><span style=\"font-weight: bold\">)</span>,\n",
       "    <span style=\"font-weight: bold\">([</span><span style=\"color: #008000; text-decoration-color: #008000\">'fees'</span>, <span style=\"color: #008080; text-decoration-color: #008080; font-weight: bold\">8</span>, <span style=\"color: #008000; text-decoration-color: #008000\">'description'</span><span style=\"font-weight: bold\">]</span>, <span style=\"color: #800080; text-decoration-color: #800080; font-style: italic\">None</span><span style=\"font-weight: bold\">)</span>,\n",
       "    <span style=\"font-weight: bold\">([</span><span style=\"color: #008000; text-decoration-color: #008000\">'fees'</span>, <span style=\"color: #008080; text-decoration-color: #008080; font-weight: bold\">8</span>, <span style=\"color: #008000; text-decoration-color: #008000\">'example'</span><span style=\"font-weight: bold\">]</span>, <span style=\"color: #800080; text-decoration-color: #800080; font-style: italic\">None</span><span style=\"font-weight: bold\">)</span>,\n",
       "    <span style=\"font-weight: bold\">([</span><span style=\"color: #008000; text-decoration-color: #008000\">'fees'</span>, <span style=\"color: #008080; text-decoration-color: #008080; font-weight: bold\">8</span>, <span style=\"color: #008000; text-decoration-color: #008000\">'advertisement'</span><span style=\"font-weight: bold\">]</span>, <span style=\"color: #800080; text-decoration-color: #800080; font-style: italic\">None</span><span style=\"font-weight: bold\">)</span>,\n",
       "    <span style=\"font-weight: bold\">([</span><span style=\"color: #008000; text-decoration-color: #008000\">'interest_rates'</span><span style=\"font-weight: bold\">]</span>, <span style=\"color: #800080; text-decoration-color: #800080; font-style: italic\">None</span><span style=\"font-weight: bold\">)</span>\n",
       "<span style=\"font-weight: bold\">]</span>\n",
       "</pre>\n"
      ],
      "text/plain": [
       "\u001b[1m[\u001b[0m\n",
       "    \u001b[1m(\u001b[0m\u001b[1m[\u001b[0m\u001b[32m'fees'\u001b[0m, \u001b[1;36m0\u001b[0m, \u001b[32m'description'\u001b[0m\u001b[1m]\u001b[0m, \u001b[3;35mNone\u001b[0m\u001b[1m)\u001b[0m,\n",
       "    \u001b[1m(\u001b[0m\u001b[1m[\u001b[0m\u001b[32m'fees'\u001b[0m, \u001b[1;36m0\u001b[0m, \u001b[32m'example'\u001b[0m\u001b[1m]\u001b[0m, \u001b[3;35mNone\u001b[0m\u001b[1m)\u001b[0m,\n",
       "    \u001b[1m(\u001b[0m\u001b[1m[\u001b[0m\u001b[32m'fees'\u001b[0m, \u001b[1;36m0\u001b[0m, \u001b[32m'advertisement'\u001b[0m\u001b[1m]\u001b[0m, \u001b[3;35mNone\u001b[0m\u001b[1m)\u001b[0m,\n",
       "    \u001b[1m(\u001b[0m\u001b[1m[\u001b[0m\u001b[32m'fees'\u001b[0m, \u001b[1;36m1\u001b[0m, \u001b[32m'explanation'\u001b[0m\u001b[1m]\u001b[0m, \u001b[3;35mNone\u001b[0m\u001b[1m)\u001b[0m,\n",
       "    \u001b[1m(\u001b[0m\u001b[1m[\u001b[0m\u001b[32m'fees'\u001b[0m, \u001b[1;36m1\u001b[0m, \u001b[32m'example'\u001b[0m\u001b[1m]\u001b[0m, \u001b[3;35mNone\u001b[0m\u001b[1m)\u001b[0m,\n",
       "    \u001b[1m(\u001b[0m\u001b[1m[\u001b[0m\u001b[32m'fees'\u001b[0m, \u001b[1;36m1\u001b[0m, \u001b[32m'advertisement'\u001b[0m\u001b[1m]\u001b[0m, \u001b[3;35mNone\u001b[0m\u001b[1m)\u001b[0m,\n",
       "    \u001b[1m(\u001b[0m\u001b[1m[\u001b[0m\u001b[32m'fees'\u001b[0m, \u001b[1;36m4\u001b[0m, \u001b[32m'description'\u001b[0m\u001b[1m]\u001b[0m, \u001b[3;35mNone\u001b[0m\u001b[1m)\u001b[0m,\n",
       "    \u001b[1m(\u001b[0m\u001b[1m[\u001b[0m\u001b[32m'fees'\u001b[0m, \u001b[1;36m6\u001b[0m, \u001b[32m'explanation'\u001b[0m\u001b[1m]\u001b[0m, \u001b[3;35mNone\u001b[0m\u001b[1m)\u001b[0m,\n",
       "    \u001b[1m(\u001b[0m\u001b[1m[\u001b[0m\u001b[32m'fees'\u001b[0m, \u001b[1;36m6\u001b[0m, \u001b[32m'description'\u001b[0m\u001b[1m]\u001b[0m, \u001b[3;35mNone\u001b[0m\u001b[1m)\u001b[0m,\n",
       "    \u001b[1m(\u001b[0m\u001b[1m[\u001b[0m\u001b[32m'fees'\u001b[0m, \u001b[1;36m6\u001b[0m, \u001b[32m'example'\u001b[0m\u001b[1m]\u001b[0m, \u001b[3;35mNone\u001b[0m\u001b[1m)\u001b[0m,\n",
       "    \u001b[1m(\u001b[0m\u001b[1m[\u001b[0m\u001b[32m'fees'\u001b[0m, \u001b[1;36m6\u001b[0m, \u001b[32m'advertisement'\u001b[0m\u001b[1m]\u001b[0m, \u001b[3;35mNone\u001b[0m\u001b[1m)\u001b[0m,\n",
       "    \u001b[1m(\u001b[0m\u001b[1m[\u001b[0m\u001b[32m'fees'\u001b[0m, \u001b[1;36m8\u001b[0m, \u001b[32m'explanation'\u001b[0m\u001b[1m]\u001b[0m, \u001b[3;35mNone\u001b[0m\u001b[1m)\u001b[0m,\n",
       "    \u001b[1m(\u001b[0m\u001b[1m[\u001b[0m\u001b[32m'fees'\u001b[0m, \u001b[1;36m8\u001b[0m, \u001b[32m'description'\u001b[0m\u001b[1m]\u001b[0m, \u001b[3;35mNone\u001b[0m\u001b[1m)\u001b[0m,\n",
       "    \u001b[1m(\u001b[0m\u001b[1m[\u001b[0m\u001b[32m'fees'\u001b[0m, \u001b[1;36m8\u001b[0m, \u001b[32m'example'\u001b[0m\u001b[1m]\u001b[0m, \u001b[3;35mNone\u001b[0m\u001b[1m)\u001b[0m,\n",
       "    \u001b[1m(\u001b[0m\u001b[1m[\u001b[0m\u001b[32m'fees'\u001b[0m, \u001b[1;36m8\u001b[0m, \u001b[32m'advertisement'\u001b[0m\u001b[1m]\u001b[0m, \u001b[3;35mNone\u001b[0m\u001b[1m)\u001b[0m,\n",
       "    \u001b[1m(\u001b[0m\u001b[1m[\u001b[0m\u001b[32m'interest_rates'\u001b[0m\u001b[1m]\u001b[0m, \u001b[3;35mNone\u001b[0m\u001b[1m)\u001b[0m\n",
       "\u001b[1m]\u001b[0m\n"
      ]
     },
     "metadata": {},
     "output_type": "display_data"
    }
   ],
   "source": [
    "rich.print(nones)"
   ]
  },
  {
   "cell_type": "code",
   "execution_count": 84,
   "metadata": {},
   "outputs": [],
   "source": [
    "parsed_xml_copy = copy.deepcopy(schema.parsed_xml)"
   ]
  },
  {
   "cell_type": "code",
   "execution_count": 85,
   "metadata": {},
   "outputs": [
    {
     "data": {
      "text/html": [
       "<pre style=\"white-space:pre;overflow-x:auto;line-height:normal;font-family:Menlo,'DejaVu Sans Mono',consolas,'Courier New',monospace\"><span style=\"font-weight: bold\">{</span>\n",
       "    <span style=\"font-weight: bold\">&lt;</span><span style=\"color: #ff00ff; text-decoration-color: #ff00ff; font-weight: bold\">Element</span><span style=\"color: #000000; text-decoration-color: #000000\"> string at </span><span style=\"color: #008080; text-decoration-color: #008080; font-weight: bold\">0x7fef309c6700</span><span style=\"color: #000000; text-decoration-color: #000000\">&gt;: </span><span style=\"color: #000000; text-decoration-color: #000000; font-weight: bold\">[</span>\n",
       "<span style=\"color: #000000; text-decoration-color: #000000\">        </span><span style=\"color: #000000; text-decoration-color: #000000; font-weight: bold\">([</span><span style=\"color: #008000; text-decoration-color: #008000\">'fees'</span><span style=\"color: #000000; text-decoration-color: #000000\">, </span><span style=\"color: #008080; text-decoration-color: #008080; font-weight: bold\">0</span><span style=\"color: #000000; text-decoration-color: #000000\">, </span><span style=\"color: #008000; text-decoration-color: #008000\">'description'</span><span style=\"color: #000000; text-decoration-color: #000000; font-weight: bold\">]</span><span style=\"color: #000000; text-decoration-color: #000000\">, </span><span style=\"color: #800080; text-decoration-color: #800080; font-style: italic\">None</span><span style=\"color: #000000; text-decoration-color: #000000; font-weight: bold\">)</span><span style=\"color: #000000; text-decoration-color: #000000\">,</span>\n",
       "<span style=\"color: #000000; text-decoration-color: #000000\">        </span><span style=\"color: #000000; text-decoration-color: #000000; font-weight: bold\">([</span><span style=\"color: #008000; text-decoration-color: #008000\">'fees'</span><span style=\"color: #000000; text-decoration-color: #000000\">, </span><span style=\"color: #008080; text-decoration-color: #008080; font-weight: bold\">4</span><span style=\"color: #000000; text-decoration-color: #000000\">, </span><span style=\"color: #008000; text-decoration-color: #008000\">'description'</span><span style=\"color: #000000; text-decoration-color: #000000; font-weight: bold\">]</span><span style=\"color: #000000; text-decoration-color: #000000\">, </span><span style=\"color: #800080; text-decoration-color: #800080; font-style: italic\">None</span><span style=\"color: #000000; text-decoration-color: #000000; font-weight: bold\">)</span><span style=\"color: #000000; text-decoration-color: #000000\">,</span>\n",
       "<span style=\"color: #000000; text-decoration-color: #000000\">        </span><span style=\"color: #000000; text-decoration-color: #000000; font-weight: bold\">([</span><span style=\"color: #008000; text-decoration-color: #008000\">'fees'</span><span style=\"color: #000000; text-decoration-color: #000000\">, </span><span style=\"color: #008080; text-decoration-color: #008080; font-weight: bold\">6</span><span style=\"color: #000000; text-decoration-color: #000000\">, </span><span style=\"color: #008000; text-decoration-color: #008000\">'description'</span><span style=\"color: #000000; text-decoration-color: #000000; font-weight: bold\">]</span><span style=\"color: #000000; text-decoration-color: #000000\">, </span><span style=\"color: #800080; text-decoration-color: #800080; font-style: italic\">None</span><span style=\"color: #000000; text-decoration-color: #000000; font-weight: bold\">)</span><span style=\"color: #000000; text-decoration-color: #000000\">,</span>\n",
       "<span style=\"color: #000000; text-decoration-color: #000000\">        </span><span style=\"color: #000000; text-decoration-color: #000000; font-weight: bold\">([</span><span style=\"color: #008000; text-decoration-color: #008000\">'fees'</span><span style=\"color: #000000; text-decoration-color: #000000\">, </span><span style=\"color: #008080; text-decoration-color: #008080; font-weight: bold\">8</span><span style=\"color: #000000; text-decoration-color: #000000\">, </span><span style=\"color: #008000; text-decoration-color: #008000\">'description'</span><span style=\"color: #000000; text-decoration-color: #000000; font-weight: bold\">]</span><span style=\"color: #000000; text-decoration-color: #000000\">, </span><span style=\"color: #800080; text-decoration-color: #800080; font-style: italic\">None</span><span style=\"color: #000000; text-decoration-color: #000000; font-weight: bold\">)</span>\n",
       "<span style=\"color: #000000; text-decoration-color: #000000\">    </span><span style=\"color: #000000; text-decoration-color: #000000; font-weight: bold\">]</span><span style=\"color: #000000; text-decoration-color: #000000\">,</span>\n",
       "<span style=\"color: #000000; text-decoration-color: #000000\">    &lt;Element string at </span><span style=\"color: #008080; text-decoration-color: #008080; font-weight: bold\">0x7fef309c6600</span><span style=\"color: #000000; text-decoration-color: #000000\">&gt;: </span><span style=\"color: #000000; text-decoration-color: #000000; font-weight: bold\">[</span>\n",
       "<span style=\"color: #000000; text-decoration-color: #000000\">        </span><span style=\"color: #000000; text-decoration-color: #000000; font-weight: bold\">([</span><span style=\"color: #008000; text-decoration-color: #008000\">'fees'</span><span style=\"color: #000000; text-decoration-color: #000000\">, </span><span style=\"color: #008080; text-decoration-color: #008080; font-weight: bold\">0</span><span style=\"color: #000000; text-decoration-color: #000000\">, </span><span style=\"color: #008000; text-decoration-color: #008000\">'example'</span><span style=\"color: #000000; text-decoration-color: #000000; font-weight: bold\">]</span><span style=\"color: #000000; text-decoration-color: #000000\">, </span><span style=\"color: #800080; text-decoration-color: #800080; font-style: italic\">None</span><span style=\"color: #000000; text-decoration-color: #000000; font-weight: bold\">)</span><span style=\"color: #000000; text-decoration-color: #000000\">,</span>\n",
       "<span style=\"color: #000000; text-decoration-color: #000000\">        </span><span style=\"color: #000000; text-decoration-color: #000000; font-weight: bold\">([</span><span style=\"color: #008000; text-decoration-color: #008000\">'fees'</span><span style=\"color: #000000; text-decoration-color: #000000\">, </span><span style=\"color: #008080; text-decoration-color: #008080; font-weight: bold\">1</span><span style=\"color: #000000; text-decoration-color: #000000\">, </span><span style=\"color: #008000; text-decoration-color: #008000\">'example'</span><span style=\"color: #000000; text-decoration-color: #000000; font-weight: bold\">]</span><span style=\"color: #000000; text-decoration-color: #000000\">, </span><span style=\"color: #800080; text-decoration-color: #800080; font-style: italic\">None</span><span style=\"color: #000000; text-decoration-color: #000000; font-weight: bold\">)</span><span style=\"color: #000000; text-decoration-color: #000000\">,</span>\n",
       "<span style=\"color: #000000; text-decoration-color: #000000\">        </span><span style=\"color: #000000; text-decoration-color: #000000; font-weight: bold\">([</span><span style=\"color: #008000; text-decoration-color: #008000\">'fees'</span><span style=\"color: #000000; text-decoration-color: #000000\">, </span><span style=\"color: #008080; text-decoration-color: #008080; font-weight: bold\">6</span><span style=\"color: #000000; text-decoration-color: #000000\">, </span><span style=\"color: #008000; text-decoration-color: #008000\">'example'</span><span style=\"color: #000000; text-decoration-color: #000000; font-weight: bold\">]</span><span style=\"color: #000000; text-decoration-color: #000000\">, </span><span style=\"color: #800080; text-decoration-color: #800080; font-style: italic\">None</span><span style=\"color: #000000; text-decoration-color: #000000; font-weight: bold\">)</span><span style=\"color: #000000; text-decoration-color: #000000\">,</span>\n",
       "<span style=\"color: #000000; text-decoration-color: #000000\">        </span><span style=\"color: #000000; text-decoration-color: #000000; font-weight: bold\">([</span><span style=\"color: #008000; text-decoration-color: #008000\">'fees'</span><span style=\"color: #000000; text-decoration-color: #000000\">, </span><span style=\"color: #008080; text-decoration-color: #008080; font-weight: bold\">8</span><span style=\"color: #000000; text-decoration-color: #000000\">, </span><span style=\"color: #008000; text-decoration-color: #008000\">'example'</span><span style=\"color: #000000; text-decoration-color: #000000; font-weight: bold\">]</span><span style=\"color: #000000; text-decoration-color: #000000\">, </span><span style=\"color: #800080; text-decoration-color: #800080; font-style: italic\">None</span><span style=\"color: #000000; text-decoration-color: #000000; font-weight: bold\">)</span>\n",
       "<span style=\"color: #000000; text-decoration-color: #000000\">    </span><span style=\"color: #000000; text-decoration-color: #000000; font-weight: bold\">]</span><span style=\"color: #000000; text-decoration-color: #000000\">,</span>\n",
       "<span style=\"color: #000000; text-decoration-color: #000000\">    &lt;Element string at </span><span style=\"color: #008080; text-decoration-color: #008080; font-weight: bold\">0x7fef309c6f00</span><span style=\"color: #000000; text-decoration-color: #000000\">&gt;: </span><span style=\"color: #000000; text-decoration-color: #000000; font-weight: bold\">[</span>\n",
       "<span style=\"color: #000000; text-decoration-color: #000000\">        </span><span style=\"color: #000000; text-decoration-color: #000000; font-weight: bold\">([</span><span style=\"color: #008000; text-decoration-color: #008000\">'fees'</span><span style=\"color: #000000; text-decoration-color: #000000\">, </span><span style=\"color: #008080; text-decoration-color: #008080; font-weight: bold\">0</span><span style=\"color: #000000; text-decoration-color: #000000\">, </span><span style=\"color: #008000; text-decoration-color: #008000\">'advertisement'</span><span style=\"color: #000000; text-decoration-color: #000000; font-weight: bold\">]</span><span style=\"color: #000000; text-decoration-color: #000000\">, </span><span style=\"color: #800080; text-decoration-color: #800080; font-style: italic\">None</span><span style=\"color: #000000; text-decoration-color: #000000; font-weight: bold\">)</span><span style=\"color: #000000; text-decoration-color: #000000\">,</span>\n",
       "<span style=\"color: #000000; text-decoration-color: #000000\">        </span><span style=\"color: #000000; text-decoration-color: #000000; font-weight: bold\">([</span><span style=\"color: #008000; text-decoration-color: #008000\">'fees'</span><span style=\"color: #000000; text-decoration-color: #000000\">, </span><span style=\"color: #008080; text-decoration-color: #008080; font-weight: bold\">1</span><span style=\"color: #000000; text-decoration-color: #000000\">, </span><span style=\"color: #008000; text-decoration-color: #008000\">'advertisement'</span><span style=\"color: #000000; text-decoration-color: #000000; font-weight: bold\">]</span><span style=\"color: #000000; text-decoration-color: #000000\">, </span><span style=\"color: #800080; text-decoration-color: #800080; font-style: italic\">None</span><span style=\"color: #000000; text-decoration-color: #000000; font-weight: bold\">)</span><span style=\"color: #000000; text-decoration-color: #000000\">,</span>\n",
       "<span style=\"color: #000000; text-decoration-color: #000000\">        </span><span style=\"color: #000000; text-decoration-color: #000000; font-weight: bold\">([</span><span style=\"color: #008000; text-decoration-color: #008000\">'fees'</span><span style=\"color: #000000; text-decoration-color: #000000\">, </span><span style=\"color: #008080; text-decoration-color: #008080; font-weight: bold\">6</span><span style=\"color: #000000; text-decoration-color: #000000\">, </span><span style=\"color: #008000; text-decoration-color: #008000\">'advertisement'</span><span style=\"color: #000000; text-decoration-color: #000000; font-weight: bold\">]</span><span style=\"color: #000000; text-decoration-color: #000000\">, </span><span style=\"color: #800080; text-decoration-color: #800080; font-style: italic\">None</span><span style=\"color: #000000; text-decoration-color: #000000; font-weight: bold\">)</span><span style=\"color: #000000; text-decoration-color: #000000\">,</span>\n",
       "<span style=\"color: #000000; text-decoration-color: #000000\">        </span><span style=\"color: #000000; text-decoration-color: #000000; font-weight: bold\">([</span><span style=\"color: #008000; text-decoration-color: #008000\">'fees'</span><span style=\"color: #000000; text-decoration-color: #000000\">, </span><span style=\"color: #008080; text-decoration-color: #008080; font-weight: bold\">8</span><span style=\"color: #000000; text-decoration-color: #000000\">, </span><span style=\"color: #008000; text-decoration-color: #008000\">'advertisement'</span><span style=\"color: #000000; text-decoration-color: #000000; font-weight: bold\">]</span><span style=\"color: #000000; text-decoration-color: #000000\">, </span><span style=\"color: #800080; text-decoration-color: #800080; font-style: italic\">None</span><span style=\"color: #000000; text-decoration-color: #000000; font-weight: bold\">)</span>\n",
       "<span style=\"color: #000000; text-decoration-color: #000000\">    </span><span style=\"color: #000000; text-decoration-color: #000000; font-weight: bold\">]</span><span style=\"color: #000000; text-decoration-color: #000000\">,</span>\n",
       "<span style=\"color: #000000; text-decoration-color: #000000\">    &lt;Element string at </span><span style=\"color: #008080; text-decoration-color: #008080; font-weight: bold\">0x7fef309c67c0</span><span style=\"color: #000000; text-decoration-color: #000000\">&gt;: </span><span style=\"color: #000000; text-decoration-color: #000000; font-weight: bold\">[</span>\n",
       "<span style=\"color: #000000; text-decoration-color: #000000\">        </span><span style=\"color: #000000; text-decoration-color: #000000; font-weight: bold\">([</span><span style=\"color: #008000; text-decoration-color: #008000\">'fees'</span><span style=\"color: #000000; text-decoration-color: #000000\">, </span><span style=\"color: #008080; text-decoration-color: #008080; font-weight: bold\">1</span><span style=\"color: #000000; text-decoration-color: #000000\">, </span><span style=\"color: #008000; text-decoration-color: #008000\">'explanation'</span><span style=\"color: #000000; text-decoration-color: #000000; font-weight: bold\">]</span><span style=\"color: #000000; text-decoration-color: #000000\">, </span><span style=\"color: #800080; text-decoration-color: #800080; font-style: italic\">None</span><span style=\"color: #000000; text-decoration-color: #000000; font-weight: bold\">)</span><span style=\"color: #000000; text-decoration-color: #000000\">,</span>\n",
       "<span style=\"color: #000000; text-decoration-color: #000000\">        </span><span style=\"color: #000000; text-decoration-color: #000000; font-weight: bold\">([</span><span style=\"color: #008000; text-decoration-color: #008000\">'fees'</span><span style=\"color: #000000; text-decoration-color: #000000\">, </span><span style=\"color: #008080; text-decoration-color: #008080; font-weight: bold\">6</span><span style=\"color: #000000; text-decoration-color: #000000\">, </span><span style=\"color: #008000; text-decoration-color: #008000\">'explanation'</span><span style=\"color: #000000; text-decoration-color: #000000; font-weight: bold\">]</span><span style=\"color: #000000; text-decoration-color: #000000\">, </span><span style=\"color: #800080; text-decoration-color: #800080; font-style: italic\">None</span><span style=\"color: #000000; text-decoration-color: #000000; font-weight: bold\">)</span><span style=\"color: #000000; text-decoration-color: #000000\">,</span>\n",
       "<span style=\"color: #000000; text-decoration-color: #000000\">        </span><span style=\"color: #000000; text-decoration-color: #000000; font-weight: bold\">([</span><span style=\"color: #008000; text-decoration-color: #008000\">'fees'</span><span style=\"color: #000000; text-decoration-color: #000000\">, </span><span style=\"color: #008080; text-decoration-color: #008080; font-weight: bold\">8</span><span style=\"color: #000000; text-decoration-color: #000000\">, </span><span style=\"color: #008000; text-decoration-color: #008000\">'explanation'</span><span style=\"color: #000000; text-decoration-color: #000000; font-weight: bold\">]</span><span style=\"color: #000000; text-decoration-color: #000000\">, </span><span style=\"color: #800080; text-decoration-color: #800080; font-style: italic\">None</span><span style=\"color: #000000; text-decoration-color: #000000; font-weight: bold\">)</span>\n",
       "<span style=\"color: #000000; text-decoration-color: #000000\">    </span><span style=\"color: #000000; text-decoration-color: #000000; font-weight: bold\">]</span><span style=\"color: #000000; text-decoration-color: #000000\">,</span>\n",
       "<span style=\"color: #000000; text-decoration-color: #000000\">    &lt;Element string at </span><span style=\"color: #008080; text-decoration-color: #008080; font-weight: bold\">0x7fef309c65c0</span><span style=\"font-weight: bold\">&gt;</span>: <span style=\"font-weight: bold\">[([</span><span style=\"color: #008000; text-decoration-color: #008000\">'interest_rates'</span><span style=\"font-weight: bold\">]</span>, <span style=\"color: #800080; text-decoration-color: #800080; font-style: italic\">None</span><span style=\"font-weight: bold\">)]</span>\n",
       "<span style=\"font-weight: bold\">}</span>\n",
       "</pre>\n"
      ],
      "text/plain": [
       "\u001b[1m{\u001b[0m\n",
       "    \u001b[1m<\u001b[0m\u001b[1;95mElement\u001b[0m\u001b[39m string at \u001b[0m\u001b[1;36m0x7fef309c6700\u001b[0m\u001b[39m>: \u001b[0m\u001b[1;39m[\u001b[0m\n",
       "\u001b[39m        \u001b[0m\u001b[1;39m(\u001b[0m\u001b[1;39m[\u001b[0m\u001b[32m'fees'\u001b[0m\u001b[39m, \u001b[0m\u001b[1;36m0\u001b[0m\u001b[39m, \u001b[0m\u001b[32m'description'\u001b[0m\u001b[1;39m]\u001b[0m\u001b[39m, \u001b[0m\u001b[3;35mNone\u001b[0m\u001b[1;39m)\u001b[0m\u001b[39m,\u001b[0m\n",
       "\u001b[39m        \u001b[0m\u001b[1;39m(\u001b[0m\u001b[1;39m[\u001b[0m\u001b[32m'fees'\u001b[0m\u001b[39m, \u001b[0m\u001b[1;36m4\u001b[0m\u001b[39m, \u001b[0m\u001b[32m'description'\u001b[0m\u001b[1;39m]\u001b[0m\u001b[39m, \u001b[0m\u001b[3;35mNone\u001b[0m\u001b[1;39m)\u001b[0m\u001b[39m,\u001b[0m\n",
       "\u001b[39m        \u001b[0m\u001b[1;39m(\u001b[0m\u001b[1;39m[\u001b[0m\u001b[32m'fees'\u001b[0m\u001b[39m, \u001b[0m\u001b[1;36m6\u001b[0m\u001b[39m, \u001b[0m\u001b[32m'description'\u001b[0m\u001b[1;39m]\u001b[0m\u001b[39m, \u001b[0m\u001b[3;35mNone\u001b[0m\u001b[1;39m)\u001b[0m\u001b[39m,\u001b[0m\n",
       "\u001b[39m        \u001b[0m\u001b[1;39m(\u001b[0m\u001b[1;39m[\u001b[0m\u001b[32m'fees'\u001b[0m\u001b[39m, \u001b[0m\u001b[1;36m8\u001b[0m\u001b[39m, \u001b[0m\u001b[32m'description'\u001b[0m\u001b[1;39m]\u001b[0m\u001b[39m, \u001b[0m\u001b[3;35mNone\u001b[0m\u001b[1;39m)\u001b[0m\n",
       "\u001b[39m    \u001b[0m\u001b[1;39m]\u001b[0m\u001b[39m,\u001b[0m\n",
       "\u001b[39m    <Element string at \u001b[0m\u001b[1;36m0x7fef309c6600\u001b[0m\u001b[39m>: \u001b[0m\u001b[1;39m[\u001b[0m\n",
       "\u001b[39m        \u001b[0m\u001b[1;39m(\u001b[0m\u001b[1;39m[\u001b[0m\u001b[32m'fees'\u001b[0m\u001b[39m, \u001b[0m\u001b[1;36m0\u001b[0m\u001b[39m, \u001b[0m\u001b[32m'example'\u001b[0m\u001b[1;39m]\u001b[0m\u001b[39m, \u001b[0m\u001b[3;35mNone\u001b[0m\u001b[1;39m)\u001b[0m\u001b[39m,\u001b[0m\n",
       "\u001b[39m        \u001b[0m\u001b[1;39m(\u001b[0m\u001b[1;39m[\u001b[0m\u001b[32m'fees'\u001b[0m\u001b[39m, \u001b[0m\u001b[1;36m1\u001b[0m\u001b[39m, \u001b[0m\u001b[32m'example'\u001b[0m\u001b[1;39m]\u001b[0m\u001b[39m, \u001b[0m\u001b[3;35mNone\u001b[0m\u001b[1;39m)\u001b[0m\u001b[39m,\u001b[0m\n",
       "\u001b[39m        \u001b[0m\u001b[1;39m(\u001b[0m\u001b[1;39m[\u001b[0m\u001b[32m'fees'\u001b[0m\u001b[39m, \u001b[0m\u001b[1;36m6\u001b[0m\u001b[39m, \u001b[0m\u001b[32m'example'\u001b[0m\u001b[1;39m]\u001b[0m\u001b[39m, \u001b[0m\u001b[3;35mNone\u001b[0m\u001b[1;39m)\u001b[0m\u001b[39m,\u001b[0m\n",
       "\u001b[39m        \u001b[0m\u001b[1;39m(\u001b[0m\u001b[1;39m[\u001b[0m\u001b[32m'fees'\u001b[0m\u001b[39m, \u001b[0m\u001b[1;36m8\u001b[0m\u001b[39m, \u001b[0m\u001b[32m'example'\u001b[0m\u001b[1;39m]\u001b[0m\u001b[39m, \u001b[0m\u001b[3;35mNone\u001b[0m\u001b[1;39m)\u001b[0m\n",
       "\u001b[39m    \u001b[0m\u001b[1;39m]\u001b[0m\u001b[39m,\u001b[0m\n",
       "\u001b[39m    <Element string at \u001b[0m\u001b[1;36m0x7fef309c6f00\u001b[0m\u001b[39m>: \u001b[0m\u001b[1;39m[\u001b[0m\n",
       "\u001b[39m        \u001b[0m\u001b[1;39m(\u001b[0m\u001b[1;39m[\u001b[0m\u001b[32m'fees'\u001b[0m\u001b[39m, \u001b[0m\u001b[1;36m0\u001b[0m\u001b[39m, \u001b[0m\u001b[32m'advertisement'\u001b[0m\u001b[1;39m]\u001b[0m\u001b[39m, \u001b[0m\u001b[3;35mNone\u001b[0m\u001b[1;39m)\u001b[0m\u001b[39m,\u001b[0m\n",
       "\u001b[39m        \u001b[0m\u001b[1;39m(\u001b[0m\u001b[1;39m[\u001b[0m\u001b[32m'fees'\u001b[0m\u001b[39m, \u001b[0m\u001b[1;36m1\u001b[0m\u001b[39m, \u001b[0m\u001b[32m'advertisement'\u001b[0m\u001b[1;39m]\u001b[0m\u001b[39m, \u001b[0m\u001b[3;35mNone\u001b[0m\u001b[1;39m)\u001b[0m\u001b[39m,\u001b[0m\n",
       "\u001b[39m        \u001b[0m\u001b[1;39m(\u001b[0m\u001b[1;39m[\u001b[0m\u001b[32m'fees'\u001b[0m\u001b[39m, \u001b[0m\u001b[1;36m6\u001b[0m\u001b[39m, \u001b[0m\u001b[32m'advertisement'\u001b[0m\u001b[1;39m]\u001b[0m\u001b[39m, \u001b[0m\u001b[3;35mNone\u001b[0m\u001b[1;39m)\u001b[0m\u001b[39m,\u001b[0m\n",
       "\u001b[39m        \u001b[0m\u001b[1;39m(\u001b[0m\u001b[1;39m[\u001b[0m\u001b[32m'fees'\u001b[0m\u001b[39m, \u001b[0m\u001b[1;36m8\u001b[0m\u001b[39m, \u001b[0m\u001b[32m'advertisement'\u001b[0m\u001b[1;39m]\u001b[0m\u001b[39m, \u001b[0m\u001b[3;35mNone\u001b[0m\u001b[1;39m)\u001b[0m\n",
       "\u001b[39m    \u001b[0m\u001b[1;39m]\u001b[0m\u001b[39m,\u001b[0m\n",
       "\u001b[39m    <Element string at \u001b[0m\u001b[1;36m0x7fef309c67c0\u001b[0m\u001b[39m>: \u001b[0m\u001b[1;39m[\u001b[0m\n",
       "\u001b[39m        \u001b[0m\u001b[1;39m(\u001b[0m\u001b[1;39m[\u001b[0m\u001b[32m'fees'\u001b[0m\u001b[39m, \u001b[0m\u001b[1;36m1\u001b[0m\u001b[39m, \u001b[0m\u001b[32m'explanation'\u001b[0m\u001b[1;39m]\u001b[0m\u001b[39m, \u001b[0m\u001b[3;35mNone\u001b[0m\u001b[1;39m)\u001b[0m\u001b[39m,\u001b[0m\n",
       "\u001b[39m        \u001b[0m\u001b[1;39m(\u001b[0m\u001b[1;39m[\u001b[0m\u001b[32m'fees'\u001b[0m\u001b[39m, \u001b[0m\u001b[1;36m6\u001b[0m\u001b[39m, \u001b[0m\u001b[32m'explanation'\u001b[0m\u001b[1;39m]\u001b[0m\u001b[39m, \u001b[0m\u001b[3;35mNone\u001b[0m\u001b[1;39m)\u001b[0m\u001b[39m,\u001b[0m\n",
       "\u001b[39m        \u001b[0m\u001b[1;39m(\u001b[0m\u001b[1;39m[\u001b[0m\u001b[32m'fees'\u001b[0m\u001b[39m, \u001b[0m\u001b[1;36m8\u001b[0m\u001b[39m, \u001b[0m\u001b[32m'explanation'\u001b[0m\u001b[1;39m]\u001b[0m\u001b[39m, \u001b[0m\u001b[3;35mNone\u001b[0m\u001b[1;39m)\u001b[0m\n",
       "\u001b[39m    \u001b[0m\u001b[1;39m]\u001b[0m\u001b[39m,\u001b[0m\n",
       "\u001b[39m    <Element string at \u001b[0m\u001b[1;36m0x7fef309c65c0\u001b[0m\u001b[1m>\u001b[0m: \u001b[1m[\u001b[0m\u001b[1m(\u001b[0m\u001b[1m[\u001b[0m\u001b[32m'interest_rates'\u001b[0m\u001b[1m]\u001b[0m, \u001b[3;35mNone\u001b[0m\u001b[1m)\u001b[0m\u001b[1m]\u001b[0m\n",
       "\u001b[1m}\u001b[0m\n"
      ]
     },
     "metadata": {},
     "output_type": "display_data"
    }
   ],
   "source": [
    "\"\"\"\n",
    "[\n",
    "    (['fees', 0, 'description'], None),\n",
    "    (['fees', 0, 'example'], None),\n",
    "    (['fees', 0, 'advertisement'], None),\n",
    "    (['fees', 1, 'explanation'], None),\n",
    "    (['fees', 1, 'example'], None),\n",
    "    (['fees', 1, 'advertisement'], None),\n",
    "    (['fees', 4, 'description'], None),\n",
    "    (['fees', 6, 'explanation'], None),\n",
    "    (['fees', 6, 'description'], None),\n",
    "    (['fees', 6, 'example'], None),\n",
    "    (['fees', 6, 'advertisement'], None),\n",
    "    (['fees', 8, 'explanation'], None),\n",
    "    (['fees', 8, 'description'], None),\n",
    "    (['fees', 8, 'example'], None),\n",
    "    (['fees', 8, 'advertisement'], None),\n",
    "    (['interest_rates'], None)\n",
    "]\n",
    "\"\"\"\n",
    "\n",
    "# explanation\n",
    "things = [\n",
    "    (['fees', 0, 'description'], None),\n",
    "    (['fees', 0, 'example'], None),\n",
    "    (['fees', 0, 'advertisement'], None),\n",
    "    (['fees', 1, 'explanation'], None),\n",
    "    (['fees', 1, 'example'], None),\n",
    "    (['fees', 1, 'advertisement'], None),\n",
    "    (['fees', 4, 'description'], None),\n",
    "    (['fees', 6, 'explanation'], None),\n",
    "    (['fees', 6, 'description'], None),\n",
    "    (['fees', 6, 'example'], None),\n",
    "    (['fees', 6, 'advertisement'], None),\n",
    "    (['fees', 8, 'explanation'], None),\n",
    "    (['fees', 8, 'description'], None),\n",
    "    (['fees', 8, 'example'], None),\n",
    "    (['fees', 8, 'advertisement'], None),\n",
    "    (['interest_rates'], None)\n",
    "]\n",
    "\n",
    "nones_by_element = defaultdict(list)\n",
    "\n",
    "for path, value in things:\n",
    "    # Make a find query for each path: replace int values in path with '*'\n",
    "    query = \".\"\n",
    "    for part in path:\n",
    "        if isinstance(part, int):\n",
    "            query += \"/*\"\n",
    "        else:\n",
    "            query += f\"/*[@name='{part}']\"\n",
    "\n",
    "    # Find the element\n",
    "    element = parsed_xml_copy.find(query)\n",
    "    # Print the element\n",
    "    nones_by_element[element].append((path, value))\n",
    "\n",
    "rich.print(dict(nones_by_element))"
   ]
  },
  {
   "cell_type": "code",
   "execution_count": 86,
   "metadata": {},
   "outputs": [
    {
     "name": "stdout",
     "output_type": "stream",
     "text": [
      "\n",
      " /response/list fees\n",
      "False\n",
      "False\n",
      "\n",
      " /response/list/object None\n",
      "False\n",
      "False\n",
      "\n",
      " /response/list/object/integer index\n",
      "False\n",
      "True\n",
      "element: <Element integer at 0x7fef28ad9b00>\n",
      "parent: <Element object at 0x7fef28ad9800>\n",
      "Pre removal parent len: 7\n",
      "Post removal parent len: 6\n",
      "\n",
      " /response/list/object/string[1] name\n",
      "False\n",
      "True\n",
      "element: <Element string at 0x7fef28ad9380>\n",
      "parent: <Element object at 0x7fef28ad9800>\n",
      "Pre removal parent len: 6\n",
      "Post removal parent len: 5\n",
      "\n",
      " /response/list/object/string[1] explanation\n",
      "True\n",
      "True\n",
      "\n",
      " /response/list/object/float value\n",
      "False\n",
      "True\n",
      "element: <Element float at 0x7fef28ad9240>\n",
      "parent: <Element object at 0x7fef28ad9800>\n",
      "Pre removal parent len: 5\n",
      "Post removal parent len: 4\n",
      "\n",
      " /response/list/object/string[2] description\n",
      "True\n",
      "True\n",
      "\n",
      " /response/list/object/string[3] example\n",
      "True\n",
      "True\n",
      "\n",
      " /response/list/object/string[4] advertisement\n",
      "True\n",
      "True\n",
      "\n",
      " /response/string[1] interest_rates\n",
      "True\n",
      "True\n",
      "\n",
      " /response/string[2] follow_up_url\n",
      "False\n",
      "True\n",
      "element: <Element string at 0x7fef28ad9e00>\n",
      "parent: <Element response at 0x7fef289e9e00>\n",
      "Pre removal parent len: 4\n",
      "Post removal parent len: 3\n"
     ]
    }
   ],
   "source": [
    "def get_pruned_tree(\n",
    "    root: ET._Element,\n",
    "    reask_elements: List[ET._Element] = None,\n",
    ") -> str:\n",
    "    \"\"\"Prune tree of any elements that are not in `reasks`.\n",
    "\n",
    "    Return the tree with only the elements that are keys of `reasks` and their\n",
    "    parents. If `reasks` is None, return the entire tree. If an element is\n",
    "    removed, remove all ancestors that have no children.\n",
    "\n",
    "    Args:\n",
    "        root: The XML tree.\n",
    "        reasks: The elements that are to be reasked.\n",
    "\n",
    "    Returns:\n",
    "        The prompt.\n",
    "    \"\"\"\n",
    "    if reask_elements is None:\n",
    "        return root\n",
    "\n",
    "    # Get all elements in `root`\n",
    "    elements = root.findall(\".//*\")\n",
    "    for element in elements:\n",
    "        if (element not in reask_elements) and len(element) == 0:\n",
    "            parent = element.getparent()\n",
    "            parent.remove(element)\n",
    "\n",
    "            # Remove all ancestors that have no children\n",
    "            while len(parent) == 0:\n",
    "                grandparent = parent.getparent()\n",
    "                grandparent.remove(parent)\n",
    "                parent = grandparent\n",
    "\n",
    "    return root\n",
    "\n",
    "pruned_tree = get_pruned_tree(parsed_xml_copy, list(nones_by_element.keys()))"
   ]
  },
  {
   "cell_type": "code",
   "execution_count": 97,
   "metadata": {},
   "outputs": [
    {
     "data": {
      "text/plain": [
       "{'name': 'advertisement', 'format': 'tagline tv-ad'}"
      ]
     },
     "execution_count": 97,
     "metadata": {},
     "output_type": "execute_result"
    }
   ],
   "source": [
    "list(list(list(parsed_xml_copy)[0])[0])[3].attrib"
   ]
  },
  {
   "cell_type": "code",
   "execution_count": 79,
   "metadata": {},
   "outputs": [
    {
     "data": {
      "text/plain": [
       "0"
      ]
     },
     "execution_count": 79,
     "metadata": {},
     "output_type": "execute_result"
    }
   ],
   "source": [
    "len(list(nones_by_element.keys())[0])"
   ]
  },
  {
   "cell_type": "code",
   "execution_count": 82,
   "metadata": {},
   "outputs": [
    {
     "data": {
      "text/plain": [
       "True"
      ]
     },
     "execution_count": 82,
     "metadata": {},
     "output_type": "execute_result"
    }
   ],
   "source": [
    "list(list(list(schema.parsed_xml)[0])[0])[4] in list(nones_by_element.keys())"
   ]
  },
  {
   "cell_type": "code",
   "execution_count": null,
   "metadata": {},
   "outputs": [],
   "source": []
  },
  {
   "cell_type": "code",
   "execution_count": 53,
   "metadata": {},
   "outputs": [
    {
     "data": {
      "text/plain": [
       "['__bool__',\n",
       " '__class__',\n",
       " '__contains__',\n",
       " '__copy__',\n",
       " '__deepcopy__',\n",
       " '__delattr__',\n",
       " '__delitem__',\n",
       " '__dir__',\n",
       " '__doc__',\n",
       " '__eq__',\n",
       " '__format__',\n",
       " '__ge__',\n",
       " '__getattribute__',\n",
       " '__getitem__',\n",
       " '__gt__',\n",
       " '__hash__',\n",
       " '__init__',\n",
       " '__init_subclass__',\n",
       " '__iter__',\n",
       " '__le__',\n",
       " '__len__',\n",
       " '__lt__',\n",
       " '__ne__',\n",
       " '__new__',\n",
       " '__reduce__',\n",
       " '__reduce_ex__',\n",
       " '__repr__',\n",
       " '__reversed__',\n",
       " '__setattr__',\n",
       " '__setitem__',\n",
       " '__sizeof__',\n",
       " '__str__',\n",
       " '__subclasshook__',\n",
       " '_init',\n",
       " 'addnext',\n",
       " 'addprevious',\n",
       " 'append',\n",
       " 'attrib',\n",
       " 'base',\n",
       " 'clear',\n",
       " 'cssselect',\n",
       " 'extend',\n",
       " 'find',\n",
       " 'findall',\n",
       " 'findtext',\n",
       " 'get',\n",
       " 'getchildren',\n",
       " 'getiterator',\n",
       " 'getnext',\n",
       " 'getparent',\n",
       " 'getprevious',\n",
       " 'getroottree',\n",
       " 'index',\n",
       " 'insert',\n",
       " 'items',\n",
       " 'iter',\n",
       " 'iterancestors',\n",
       " 'iterchildren',\n",
       " 'iterdescendants',\n",
       " 'iterfind',\n",
       " 'itersiblings',\n",
       " 'itertext',\n",
       " 'keys',\n",
       " 'makeelement',\n",
       " 'nsmap',\n",
       " 'prefix',\n",
       " 'remove',\n",
       " 'replace',\n",
       " 'set',\n",
       " 'sourceline',\n",
       " 'tag',\n",
       " 'tail',\n",
       " 'text',\n",
       " 'values',\n",
       " 'xpath']"
      ]
     },
     "execution_count": 53,
     "metadata": {},
     "output_type": "execute_result"
    }
   ],
   "source": [
    "dir(element)"
   ]
  },
  {
   "cell_type": "code",
   "execution_count": 56,
   "metadata": {},
   "outputs": [
    {
     "data": {
      "text/plain": [
       "'/response/string[1]'"
      ]
     },
     "execution_count": 56,
     "metadata": {},
     "output_type": "execute_result"
    }
   ],
   "source": [
    "element.getroottree().getpath(element)"
   ]
  },
  {
   "cell_type": "code",
   "execution_count": 40,
   "metadata": {},
   "outputs": [
    {
     "data": {
      "text/plain": [
       "[<!-- <string name='fees' description='What fees and charges are associated with my account?' format=\"max-len: 5; explain-like-im-five; valid-choices: {[0,5,10]}\"/> -->]"
      ]
     },
     "execution_count": 40,
     "metadata": {},
     "output_type": "execute_result"
    }
   ],
   "source": [
    "list(pruned_tree)"
   ]
  },
  {
   "cell_type": "code",
   "execution_count": 36,
   "metadata": {},
   "outputs": [
    {
     "data": {
      "text/plain": [
       "[]"
      ]
     },
     "execution_count": 36,
     "metadata": {},
     "output_type": "execute_result"
    }
   ],
   "source": [
    "list(list(list(list(schema.parsed_xml)[0])[0])[0])"
   ]
  },
  {
   "cell_type": "code",
   "execution_count": 24,
   "metadata": {},
   "outputs": [
    {
     "data": {
      "text/html": [
       "<pre style=\"white-space:pre;overflow-x:auto;line-height:normal;font-family:Menlo,'DejaVu Sans Mono',consolas,'Courier New',monospace\"><span style=\"font-weight: bold\">{</span>\n",
       "    <span style=\"color: #008000; text-decoration-color: #008000\">'fees'</span>: <span style=\"font-weight: bold\">&lt;</span><span style=\"color: #ff00ff; text-decoration-color: #ff00ff; font-weight: bold\">guardrails.x_datatypes.List</span><span style=\"color: #000000; text-decoration-color: #000000\"> object at </span><span style=\"color: #008080; text-decoration-color: #008080; font-weight: bold\">0x7fa4989bb5e0</span><span style=\"color: #000000; text-decoration-color: #000000\">&gt;,</span>\n",
       "<span style=\"color: #000000; text-decoration-color: #000000\">    </span><span style=\"color: #008000; text-decoration-color: #008000\">'interest_rates'</span><span style=\"color: #000000; text-decoration-color: #000000\">: &lt;guardrails.x_datatypes.String object at </span><span style=\"color: #008080; text-decoration-color: #008080; font-weight: bold\">0x7fa4989bb640</span><span style=\"color: #000000; text-decoration-color: #000000\">&gt;,</span>\n",
       "<span style=\"color: #000000; text-decoration-color: #000000\">    </span><span style=\"color: #008000; text-decoration-color: #008000\">'follow_up_url'</span><span style=\"color: #000000; text-decoration-color: #000000\">: &lt;guardrails.x_datatypes.String object at </span><span style=\"color: #008080; text-decoration-color: #008080; font-weight: bold\">0x7fa4986ff460</span><span style=\"font-weight: bold\">&gt;</span>\n",
       "<span style=\"font-weight: bold\">}</span>\n",
       "</pre>\n"
      ],
      "text/plain": [
       "\u001b[1m{\u001b[0m\n",
       "    \u001b[32m'fees'\u001b[0m: \u001b[1m<\u001b[0m\u001b[1;95mguardrails.x_datatypes.List\u001b[0m\u001b[39m object at \u001b[0m\u001b[1;36m0x7fa4989bb5e0\u001b[0m\u001b[39m>,\u001b[0m\n",
       "\u001b[39m    \u001b[0m\u001b[32m'interest_rates'\u001b[0m\u001b[39m: <guardrails.x_datatypes.String object at \u001b[0m\u001b[1;36m0x7fa4989bb640\u001b[0m\u001b[39m>,\u001b[0m\n",
       "\u001b[39m    \u001b[0m\u001b[32m'follow_up_url'\u001b[0m\u001b[39m: <guardrails.x_datatypes.String object at \u001b[0m\u001b[1;36m0x7fa4986ff460\u001b[0m\u001b[1m>\u001b[0m\n",
       "\u001b[1m}\u001b[0m\n"
      ]
     },
     "metadata": {},
     "output_type": "display_data"
    }
   ],
   "source": [
    "rich.print(\n",
    "    schema.schema,\n",
    ")"
   ]
  },
  {
   "cell_type": "code",
   "execution_count": null,
   "metadata": {},
   "outputs": [],
   "source": []
  },
  {
   "cell_type": "code",
   "execution_count": 25,
   "metadata": {},
   "outputs": [
    {
     "data": {
      "text/plain": [
       "([],\n",
       " [<guardrails.x_validators.LowerCase at 0x7fa4989c7a00>,\n",
       "  <guardrails.x_validators.TwoWords at 0x7fa4989c7190>],\n",
       " {})"
      ]
     },
     "execution_count": 25,
     "metadata": {},
     "output_type": "execute_result"
    }
   ],
   "source": [
    "schema.schema['fees'].validators, schema.schema['fees'].children['item'].children['name'].validators, schema.schema['interest_rates'].children"
   ]
  },
  {
   "cell_type": "code",
   "execution_count": 26,
   "metadata": {},
   "outputs": [
    {
     "name": "stdout",
     "output_type": "stream",
     "text": [
      "Given the following document, answer the following questions. If the answer doesn't exist in the document, enter 'None'.\n",
      "\n",
      "{document}\n",
      "\n",
      "Given below is XML that describes the information to extract from this document and the tags to extract it into.\n",
      "\n",
      "<prompt>\n",
      "    <list name=\"fees\" description=\"What fees and charges are associated with my account?\">\n",
      "        <object>\n",
      "            <integer name=\"index\" format=\"1-indexed\" />\n",
      "            <string name=\"name\" format=\"lower-case; two-words\" />\n",
      "            <string name=\"explanation\" format=\"one-line\" />\n",
      "            <float name=\"value\" format=\"percentage\" />\n",
      "            <string name=\"description\" format=\"length: 0 200\" />\n",
      "            <string name=\"example\" required=\"True\" format=\"tone-twitter explain-high-quality\" />\n",
      "            <string name=\"advertisement\" format=\"tagline tv-ad\" />\n",
      "        </object>\n",
      "    </list>\n",
      "    <string name=\"interest_rates\" description=\"What are the interest rates offered by the bank on savings and checking accounts, loans, and credit products?\" format=\"one-line\" />\n",
      "    \n",
      "    <string name=\"follow_up_url\" description=\"Where can I follow up for more information?\" format=\"valid-url\" />\n",
      "</prompt>\n",
      "\n",
      "Return a valid JSON object that respects this XML format and extracts only the information requested in this document. Respect the types indicated in the XML -- the information you extract should be converted into the correct 'type'. Try to be as correct and concise as possible. Find all relevant information in the document. If you are unsure of the answer, enter 'None'. If you answer incorrectly, you will be asked again until you get it right which is expensive.\n"
     ]
    }
   ],
   "source": [
    "print(schema.prompt)"
   ]
  },
  {
   "cell_type": "code",
   "execution_count": 27,
   "metadata": {},
   "outputs": [],
   "source": [
    "content = read_pdf('chase_card_agreement.pdf')"
   ]
  },
  {
   "cell_type": "code",
   "execution_count": 35,
   "metadata": {},
   "outputs": [
    {
     "data": {
      "text/plain": [
       "8763142813423"
      ]
     },
     "execution_count": 35,
     "metadata": {},
     "output_type": "execute_result"
    }
   ],
   "source": []
  },
  {
   "cell_type": "code",
   "execution_count": null,
   "metadata": {},
   "outputs": [],
   "source": []
  },
  {
   "cell_type": "code",
   "execution_count": 28,
   "metadata": {},
   "outputs": [
    {
     "ename": "KeyboardInterrupt",
     "evalue": "",
     "output_type": "error",
     "traceback": [
      "\u001b[0;31m---------------------------------------------------------------------------\u001b[0m",
      "\u001b[0;31mKeyboardInterrupt\u001b[0m                         Traceback (most recent call last)",
      "Cell \u001b[0;32mIn[28], line 1\u001b[0m\n\u001b[0;32m----> 1\u001b[0m response, response_as_dict, validated_response \u001b[39m=\u001b[39m schema\u001b[39m.\u001b[39;49mask_with_validation(content[:\u001b[39m6000\u001b[39;49m])\n",
      "File \u001b[0;32m~/Desktop/workspace/projects/guardrails/guardrails/x_schema.py:84\u001b[0m, in \u001b[0;36mask_with_validation\u001b[0;34m(self, text)\u001b[0m\n\u001b[1;32m     81\u001b[0m prompt \u001b[39m=\u001b[39m \u001b[39mself\u001b[39m\u001b[39m.\u001b[39mprompt\u001b[39m.\u001b[39mformat(document\u001b[39m=\u001b[39mtext)\n\u001b[1;32m     82\u001b[0m response \u001b[39m=\u001b[39m \u001b[39mself\u001b[39m\u001b[39m.\u001b[39mllm_ask(prompt)\n\u001b[0;32m---> 84\u001b[0m \u001b[39mtry\u001b[39;00m:\n\u001b[1;32m     85\u001b[0m     response_as_dict \u001b[39m=\u001b[39m json\u001b[39m.\u001b[39mloads(response)\n\u001b[1;32m     86\u001b[0m     validated_response \u001b[39m=\u001b[39m \u001b[39mself\u001b[39m\u001b[39m.\u001b[39mvalidate_response(response_as_dict)\n",
      "File \u001b[0;32m~/Desktop/workspace/projects/guardrails/guardrails/x_schema.py:46\u001b[0m, in \u001b[0;36mllm_ask\u001b[0;34m(self, prompt)\u001b[0m\n\u001b[1;32m     40\u001b[0m \u001b[39mdef\u001b[39;00m \u001b[39mllm_ask\u001b[39m(\u001b[39mself\u001b[39m, prompt):\n\u001b[1;32m     41\u001b[0m     \u001b[39mfrom\u001b[39;00m \u001b[39mopenai\u001b[39;00m \u001b[39mimport\u001b[39;00m Completion\n\u001b[1;32m     42\u001b[0m     llm_output \u001b[39m=\u001b[39m Completion\u001b[39m.\u001b[39mcreate(\n\u001b[1;32m     43\u001b[0m         model\u001b[39m=\u001b[39m\u001b[39m\"\u001b[39m\u001b[39mtext-davinci-003\u001b[39m\u001b[39m\"\u001b[39m,\n\u001b[1;32m     44\u001b[0m         prompt\u001b[39m=\u001b[39mprompt,\n\u001b[1;32m     45\u001b[0m         temperature\u001b[39m=\u001b[39m\u001b[39m0\u001b[39m,\n\u001b[0;32m---> 46\u001b[0m         max_tokens\u001b[39m=\u001b[39m\u001b[39m2048\u001b[39m,\n\u001b[1;32m     47\u001b[0m         api_key\u001b[39m=\u001b[39m\u001b[39mself\u001b[39m\u001b[39m.\u001b[39mopenai_api_key\n\u001b[1;32m     48\u001b[0m     )\n\u001b[1;32m     49\u001b[0m     \u001b[39mreturn\u001b[39;00m llm_output[\u001b[39m'\u001b[39m\u001b[39mchoices\u001b[39m\u001b[39m'\u001b[39m][\u001b[39m0\u001b[39m][\u001b[39m'\u001b[39m\u001b[39mtext\u001b[39m\u001b[39m'\u001b[39m]\n",
      "File \u001b[0;32m~/opt/anaconda3/envs/guardrails/lib/python3.9/site-packages/manifest/manifest.py:237\u001b[0m, in \u001b[0;36mManifest.run\u001b[0;34m(self, prompt, overwrite_cache, run_id, stop_token, return_response, **kwargs)\u001b[0m\n\u001b[1;32m    235\u001b[0m \u001b[39mif\u001b[39;00m run_id:\n\u001b[1;32m    236\u001b[0m     cache_key[\u001b[39m\"\u001b[39m\u001b[39mrun_id\u001b[39m\u001b[39m\"\u001b[39m] \u001b[39m=\u001b[39m run_id\n\u001b[0;32m--> 237\u001b[0m response_obj \u001b[39m=\u001b[39m \u001b[39mself\u001b[39;49m\u001b[39m.\u001b[39;49mcache\u001b[39m.\u001b[39;49mget(cache_key, overwrite_cache, possible_request)\n\u001b[1;32m    238\u001b[0m \u001b[39m# Log session dictionary values\u001b[39;00m\n\u001b[1;32m    239\u001b[0m \u001b[39mif\u001b[39;00m \u001b[39mself\u001b[39m\u001b[39m.\u001b[39msession:\n",
      "File \u001b[0;32m~/opt/anaconda3/envs/guardrails/lib/python3.9/site-packages/manifest/caches/cache.py:115\u001b[0m, in \u001b[0;36mCache.get\u001b[0;34m(self, request, overwrite_cache, compute)\u001b[0m\n\u001b[1;32m    112\u001b[0m     response \u001b[39m=\u001b[39m \u001b[39mself\u001b[39m\u001b[39m.\u001b[39mserializer\u001b[39m.\u001b[39mkey_to_response(cached_response)\n\u001b[1;32m    113\u001b[0m \u001b[39melse\u001b[39;00m:\n\u001b[1;32m    114\u001b[0m     \u001b[39m# Type Response\u001b[39;00m\n\u001b[0;32m--> 115\u001b[0m     response \u001b[39m=\u001b[39m compute()\n\u001b[1;32m    116\u001b[0m     \u001b[39mself\u001b[39m\u001b[39m.\u001b[39mset_key(key, \u001b[39mself\u001b[39m\u001b[39m.\u001b[39mserializer\u001b[39m.\u001b[39mresponse_to_key(response))\n\u001b[1;32m    117\u001b[0m     cached \u001b[39m=\u001b[39m \u001b[39mFalse\u001b[39;00m\n",
      "File \u001b[0;32m~/opt/anaconda3/envs/guardrails/lib/python3.9/site-packages/manifest/clients/client.py:150\u001b[0m, in \u001b[0;36mClient.get_request.<locals>._run_completion\u001b[0;34m()\u001b[0m\n\u001b[1;32m    148\u001b[0m post_str \u001b[39m=\u001b[39m \u001b[39mself\u001b[39m\u001b[39m.\u001b[39mget_generation_url()\n\u001b[1;32m    149\u001b[0m \u001b[39mtry\u001b[39;00m:\n\u001b[0;32m--> 150\u001b[0m     res \u001b[39m=\u001b[39m requests\u001b[39m.\u001b[39;49mpost(\n\u001b[1;32m    151\u001b[0m         post_str,\n\u001b[1;32m    152\u001b[0m         headers\u001b[39m=\u001b[39;49m\u001b[39mself\u001b[39;49m\u001b[39m.\u001b[39;49mget_generation_header(),\n\u001b[1;32m    153\u001b[0m         json\u001b[39m=\u001b[39;49mrequest_params,\n\u001b[1;32m    154\u001b[0m         timeout\u001b[39m=\u001b[39;49mretry_timeout,\n\u001b[1;32m    155\u001b[0m     )\n\u001b[1;32m    156\u001b[0m     res\u001b[39m.\u001b[39mraise_for_status()\n\u001b[1;32m    157\u001b[0m \u001b[39mexcept\u001b[39;00m requests\u001b[39m.\u001b[39mTimeout \u001b[39mas\u001b[39;00m e:\n",
      "File \u001b[0;32m~/opt/anaconda3/envs/guardrails/lib/python3.9/site-packages/requests/api.py:115\u001b[0m, in \u001b[0;36mpost\u001b[0;34m(url, data, json, **kwargs)\u001b[0m\n\u001b[1;32m    103\u001b[0m \u001b[39mdef\u001b[39;00m \u001b[39mpost\u001b[39m(url, data\u001b[39m=\u001b[39m\u001b[39mNone\u001b[39;00m, json\u001b[39m=\u001b[39m\u001b[39mNone\u001b[39;00m, \u001b[39m*\u001b[39m\u001b[39m*\u001b[39mkwargs):\n\u001b[1;32m    104\u001b[0m \u001b[39m    \u001b[39m\u001b[39mr\u001b[39m\u001b[39m\"\"\"Sends a POST request.\u001b[39;00m\n\u001b[1;32m    105\u001b[0m \n\u001b[1;32m    106\u001b[0m \u001b[39m    :param url: URL for the new :class:`Request` object.\u001b[39;00m\n\u001b[0;32m   (...)\u001b[0m\n\u001b[1;32m    112\u001b[0m \u001b[39m    :rtype: requests.Response\u001b[39;00m\n\u001b[1;32m    113\u001b[0m \u001b[39m    \"\"\"\u001b[39;00m\n\u001b[0;32m--> 115\u001b[0m     \u001b[39mreturn\u001b[39;00m request(\u001b[39m\"\u001b[39;49m\u001b[39mpost\u001b[39;49m\u001b[39m\"\u001b[39;49m, url, data\u001b[39m=\u001b[39;49mdata, json\u001b[39m=\u001b[39;49mjson, \u001b[39m*\u001b[39;49m\u001b[39m*\u001b[39;49mkwargs)\n",
      "File \u001b[0;32m~/opt/anaconda3/envs/guardrails/lib/python3.9/site-packages/requests/api.py:59\u001b[0m, in \u001b[0;36mrequest\u001b[0;34m(method, url, **kwargs)\u001b[0m\n\u001b[1;32m     55\u001b[0m \u001b[39m# By using the 'with' statement we are sure the session is closed, thus we\u001b[39;00m\n\u001b[1;32m     56\u001b[0m \u001b[39m# avoid leaving sockets open which can trigger a ResourceWarning in some\u001b[39;00m\n\u001b[1;32m     57\u001b[0m \u001b[39m# cases, and look like a memory leak in others.\u001b[39;00m\n\u001b[1;32m     58\u001b[0m \u001b[39mwith\u001b[39;00m sessions\u001b[39m.\u001b[39mSession() \u001b[39mas\u001b[39;00m session:\n\u001b[0;32m---> 59\u001b[0m     \u001b[39mreturn\u001b[39;00m session\u001b[39m.\u001b[39;49mrequest(method\u001b[39m=\u001b[39;49mmethod, url\u001b[39m=\u001b[39;49murl, \u001b[39m*\u001b[39;49m\u001b[39m*\u001b[39;49mkwargs)\n",
      "File \u001b[0;32m~/opt/anaconda3/envs/guardrails/lib/python3.9/site-packages/requests/sessions.py:587\u001b[0m, in \u001b[0;36mSession.request\u001b[0;34m(self, method, url, params, data, headers, cookies, files, auth, timeout, allow_redirects, proxies, hooks, stream, verify, cert, json)\u001b[0m\n\u001b[1;32m    582\u001b[0m send_kwargs \u001b[39m=\u001b[39m {\n\u001b[1;32m    583\u001b[0m     \u001b[39m\"\u001b[39m\u001b[39mtimeout\u001b[39m\u001b[39m\"\u001b[39m: timeout,\n\u001b[1;32m    584\u001b[0m     \u001b[39m\"\u001b[39m\u001b[39mallow_redirects\u001b[39m\u001b[39m\"\u001b[39m: allow_redirects,\n\u001b[1;32m    585\u001b[0m }\n\u001b[1;32m    586\u001b[0m send_kwargs\u001b[39m.\u001b[39mupdate(settings)\n\u001b[0;32m--> 587\u001b[0m resp \u001b[39m=\u001b[39m \u001b[39mself\u001b[39;49m\u001b[39m.\u001b[39;49msend(prep, \u001b[39m*\u001b[39;49m\u001b[39m*\u001b[39;49msend_kwargs)\n\u001b[1;32m    589\u001b[0m \u001b[39mreturn\u001b[39;00m resp\n",
      "File \u001b[0;32m~/opt/anaconda3/envs/guardrails/lib/python3.9/site-packages/requests/sessions.py:701\u001b[0m, in \u001b[0;36mSession.send\u001b[0;34m(self, request, **kwargs)\u001b[0m\n\u001b[1;32m    698\u001b[0m start \u001b[39m=\u001b[39m preferred_clock()\n\u001b[1;32m    700\u001b[0m \u001b[39m# Send the request\u001b[39;00m\n\u001b[0;32m--> 701\u001b[0m r \u001b[39m=\u001b[39m adapter\u001b[39m.\u001b[39;49msend(request, \u001b[39m*\u001b[39;49m\u001b[39m*\u001b[39;49mkwargs)\n\u001b[1;32m    703\u001b[0m \u001b[39m# Total elapsed time of the request (approximately)\u001b[39;00m\n\u001b[1;32m    704\u001b[0m elapsed \u001b[39m=\u001b[39m preferred_clock() \u001b[39m-\u001b[39m start\n",
      "File \u001b[0;32m~/opt/anaconda3/envs/guardrails/lib/python3.9/site-packages/requests/adapters.py:489\u001b[0m, in \u001b[0;36mHTTPAdapter.send\u001b[0;34m(self, request, stream, timeout, verify, cert, proxies)\u001b[0m\n\u001b[1;32m    487\u001b[0m \u001b[39mtry\u001b[39;00m:\n\u001b[1;32m    488\u001b[0m     \u001b[39mif\u001b[39;00m \u001b[39mnot\u001b[39;00m chunked:\n\u001b[0;32m--> 489\u001b[0m         resp \u001b[39m=\u001b[39m conn\u001b[39m.\u001b[39;49murlopen(\n\u001b[1;32m    490\u001b[0m             method\u001b[39m=\u001b[39;49mrequest\u001b[39m.\u001b[39;49mmethod,\n\u001b[1;32m    491\u001b[0m             url\u001b[39m=\u001b[39;49murl,\n\u001b[1;32m    492\u001b[0m             body\u001b[39m=\u001b[39;49mrequest\u001b[39m.\u001b[39;49mbody,\n\u001b[1;32m    493\u001b[0m             headers\u001b[39m=\u001b[39;49mrequest\u001b[39m.\u001b[39;49mheaders,\n\u001b[1;32m    494\u001b[0m             redirect\u001b[39m=\u001b[39;49m\u001b[39mFalse\u001b[39;49;00m,\n\u001b[1;32m    495\u001b[0m             assert_same_host\u001b[39m=\u001b[39;49m\u001b[39mFalse\u001b[39;49;00m,\n\u001b[1;32m    496\u001b[0m             preload_content\u001b[39m=\u001b[39;49m\u001b[39mFalse\u001b[39;49;00m,\n\u001b[1;32m    497\u001b[0m             decode_content\u001b[39m=\u001b[39;49m\u001b[39mFalse\u001b[39;49;00m,\n\u001b[1;32m    498\u001b[0m             retries\u001b[39m=\u001b[39;49m\u001b[39mself\u001b[39;49m\u001b[39m.\u001b[39;49mmax_retries,\n\u001b[1;32m    499\u001b[0m             timeout\u001b[39m=\u001b[39;49mtimeout,\n\u001b[1;32m    500\u001b[0m         )\n\u001b[1;32m    502\u001b[0m     \u001b[39m# Send the request.\u001b[39;00m\n\u001b[1;32m    503\u001b[0m     \u001b[39melse\u001b[39;00m:\n\u001b[1;32m    504\u001b[0m         \u001b[39mif\u001b[39;00m \u001b[39mhasattr\u001b[39m(conn, \u001b[39m\"\u001b[39m\u001b[39mproxy_pool\u001b[39m\u001b[39m\"\u001b[39m):\n",
      "File \u001b[0;32m~/opt/anaconda3/envs/guardrails/lib/python3.9/site-packages/urllib3/connectionpool.py:703\u001b[0m, in \u001b[0;36mHTTPConnectionPool.urlopen\u001b[0;34m(self, method, url, body, headers, retries, redirect, assert_same_host, timeout, pool_timeout, release_conn, chunked, body_pos, **response_kw)\u001b[0m\n\u001b[1;32m    700\u001b[0m     \u001b[39mself\u001b[39m\u001b[39m.\u001b[39m_prepare_proxy(conn)\n\u001b[1;32m    702\u001b[0m \u001b[39m# Make the request on the httplib connection object.\u001b[39;00m\n\u001b[0;32m--> 703\u001b[0m httplib_response \u001b[39m=\u001b[39m \u001b[39mself\u001b[39;49m\u001b[39m.\u001b[39;49m_make_request(\n\u001b[1;32m    704\u001b[0m     conn,\n\u001b[1;32m    705\u001b[0m     method,\n\u001b[1;32m    706\u001b[0m     url,\n\u001b[1;32m    707\u001b[0m     timeout\u001b[39m=\u001b[39;49mtimeout_obj,\n\u001b[1;32m    708\u001b[0m     body\u001b[39m=\u001b[39;49mbody,\n\u001b[1;32m    709\u001b[0m     headers\u001b[39m=\u001b[39;49mheaders,\n\u001b[1;32m    710\u001b[0m     chunked\u001b[39m=\u001b[39;49mchunked,\n\u001b[1;32m    711\u001b[0m )\n\u001b[1;32m    713\u001b[0m \u001b[39m# If we're going to release the connection in ``finally:``, then\u001b[39;00m\n\u001b[1;32m    714\u001b[0m \u001b[39m# the response doesn't need to know about the connection. Otherwise\u001b[39;00m\n\u001b[1;32m    715\u001b[0m \u001b[39m# it will also try to release it and we'll have a double-release\u001b[39;00m\n\u001b[1;32m    716\u001b[0m \u001b[39m# mess.\u001b[39;00m\n\u001b[1;32m    717\u001b[0m response_conn \u001b[39m=\u001b[39m conn \u001b[39mif\u001b[39;00m \u001b[39mnot\u001b[39;00m release_conn \u001b[39melse\u001b[39;00m \u001b[39mNone\u001b[39;00m\n",
      "File \u001b[0;32m~/opt/anaconda3/envs/guardrails/lib/python3.9/site-packages/urllib3/connectionpool.py:449\u001b[0m, in \u001b[0;36mHTTPConnectionPool._make_request\u001b[0;34m(self, conn, method, url, timeout, chunked, **httplib_request_kw)\u001b[0m\n\u001b[1;32m    444\u001b[0m             httplib_response \u001b[39m=\u001b[39m conn\u001b[39m.\u001b[39mgetresponse()\n\u001b[1;32m    445\u001b[0m         \u001b[39mexcept\u001b[39;00m \u001b[39mBaseException\u001b[39;00m \u001b[39mas\u001b[39;00m e:\n\u001b[1;32m    446\u001b[0m             \u001b[39m# Remove the TypeError from the exception chain in\u001b[39;00m\n\u001b[1;32m    447\u001b[0m             \u001b[39m# Python 3 (including for exceptions like SystemExit).\u001b[39;00m\n\u001b[1;32m    448\u001b[0m             \u001b[39m# Otherwise it looks like a bug in the code.\u001b[39;00m\n\u001b[0;32m--> 449\u001b[0m             six\u001b[39m.\u001b[39;49mraise_from(e, \u001b[39mNone\u001b[39;49;00m)\n\u001b[1;32m    450\u001b[0m \u001b[39mexcept\u001b[39;00m (SocketTimeout, BaseSSLError, SocketError) \u001b[39mas\u001b[39;00m e:\n\u001b[1;32m    451\u001b[0m     \u001b[39mself\u001b[39m\u001b[39m.\u001b[39m_raise_timeout(err\u001b[39m=\u001b[39me, url\u001b[39m=\u001b[39murl, timeout_value\u001b[39m=\u001b[39mread_timeout)\n",
      "File \u001b[0;32m<string>:3\u001b[0m, in \u001b[0;36mraise_from\u001b[0;34m(value, from_value)\u001b[0m\n",
      "File \u001b[0;32m~/opt/anaconda3/envs/guardrails/lib/python3.9/site-packages/urllib3/connectionpool.py:444\u001b[0m, in \u001b[0;36mHTTPConnectionPool._make_request\u001b[0;34m(self, conn, method, url, timeout, chunked, **httplib_request_kw)\u001b[0m\n\u001b[1;32m    441\u001b[0m \u001b[39mexcept\u001b[39;00m \u001b[39mTypeError\u001b[39;00m:\n\u001b[1;32m    442\u001b[0m     \u001b[39m# Python 3\u001b[39;00m\n\u001b[1;32m    443\u001b[0m     \u001b[39mtry\u001b[39;00m:\n\u001b[0;32m--> 444\u001b[0m         httplib_response \u001b[39m=\u001b[39m conn\u001b[39m.\u001b[39;49mgetresponse()\n\u001b[1;32m    445\u001b[0m     \u001b[39mexcept\u001b[39;00m \u001b[39mBaseException\u001b[39;00m \u001b[39mas\u001b[39;00m e:\n\u001b[1;32m    446\u001b[0m         \u001b[39m# Remove the TypeError from the exception chain in\u001b[39;00m\n\u001b[1;32m    447\u001b[0m         \u001b[39m# Python 3 (including for exceptions like SystemExit).\u001b[39;00m\n\u001b[1;32m    448\u001b[0m         \u001b[39m# Otherwise it looks like a bug in the code.\u001b[39;00m\n\u001b[1;32m    449\u001b[0m         six\u001b[39m.\u001b[39mraise_from(e, \u001b[39mNone\u001b[39;00m)\n",
      "File \u001b[0;32m~/opt/anaconda3/envs/guardrails/lib/python3.9/http/client.py:1377\u001b[0m, in \u001b[0;36mHTTPConnection.getresponse\u001b[0;34m(self)\u001b[0m\n\u001b[1;32m   1375\u001b[0m \u001b[39mtry\u001b[39;00m:\n\u001b[1;32m   1376\u001b[0m     \u001b[39mtry\u001b[39;00m:\n\u001b[0;32m-> 1377\u001b[0m         response\u001b[39m.\u001b[39;49mbegin()\n\u001b[1;32m   1378\u001b[0m     \u001b[39mexcept\u001b[39;00m \u001b[39mConnectionError\u001b[39;00m:\n\u001b[1;32m   1379\u001b[0m         \u001b[39mself\u001b[39m\u001b[39m.\u001b[39mclose()\n",
      "File \u001b[0;32m~/opt/anaconda3/envs/guardrails/lib/python3.9/http/client.py:320\u001b[0m, in \u001b[0;36mHTTPResponse.begin\u001b[0;34m(self)\u001b[0m\n\u001b[1;32m    318\u001b[0m \u001b[39m# read until we get a non-100 response\u001b[39;00m\n\u001b[1;32m    319\u001b[0m \u001b[39mwhile\u001b[39;00m \u001b[39mTrue\u001b[39;00m:\n\u001b[0;32m--> 320\u001b[0m     version, status, reason \u001b[39m=\u001b[39m \u001b[39mself\u001b[39;49m\u001b[39m.\u001b[39;49m_read_status()\n\u001b[1;32m    321\u001b[0m     \u001b[39mif\u001b[39;00m status \u001b[39m!=\u001b[39m CONTINUE:\n\u001b[1;32m    322\u001b[0m         \u001b[39mbreak\u001b[39;00m\n",
      "File \u001b[0;32m~/opt/anaconda3/envs/guardrails/lib/python3.9/http/client.py:281\u001b[0m, in \u001b[0;36mHTTPResponse._read_status\u001b[0;34m(self)\u001b[0m\n\u001b[1;32m    280\u001b[0m \u001b[39mdef\u001b[39;00m \u001b[39m_read_status\u001b[39m(\u001b[39mself\u001b[39m):\n\u001b[0;32m--> 281\u001b[0m     line \u001b[39m=\u001b[39m \u001b[39mstr\u001b[39m(\u001b[39mself\u001b[39;49m\u001b[39m.\u001b[39;49mfp\u001b[39m.\u001b[39;49mreadline(_MAXLINE \u001b[39m+\u001b[39;49m \u001b[39m1\u001b[39;49m), \u001b[39m\"\u001b[39m\u001b[39miso-8859-1\u001b[39m\u001b[39m\"\u001b[39m)\n\u001b[1;32m    282\u001b[0m     \u001b[39mif\u001b[39;00m \u001b[39mlen\u001b[39m(line) \u001b[39m>\u001b[39m _MAXLINE:\n\u001b[1;32m    283\u001b[0m         \u001b[39mraise\u001b[39;00m LineTooLong(\u001b[39m\"\u001b[39m\u001b[39mstatus line\u001b[39m\u001b[39m\"\u001b[39m)\n",
      "File \u001b[0;32m~/opt/anaconda3/envs/guardrails/lib/python3.9/socket.py:704\u001b[0m, in \u001b[0;36mSocketIO.readinto\u001b[0;34m(self, b)\u001b[0m\n\u001b[1;32m    702\u001b[0m \u001b[39mwhile\u001b[39;00m \u001b[39mTrue\u001b[39;00m:\n\u001b[1;32m    703\u001b[0m     \u001b[39mtry\u001b[39;00m:\n\u001b[0;32m--> 704\u001b[0m         \u001b[39mreturn\u001b[39;00m \u001b[39mself\u001b[39;49m\u001b[39m.\u001b[39;49m_sock\u001b[39m.\u001b[39;49mrecv_into(b)\n\u001b[1;32m    705\u001b[0m     \u001b[39mexcept\u001b[39;00m timeout:\n\u001b[1;32m    706\u001b[0m         \u001b[39mself\u001b[39m\u001b[39m.\u001b[39m_timeout_occurred \u001b[39m=\u001b[39m \u001b[39mTrue\u001b[39;00m\n",
      "File \u001b[0;32m~/opt/anaconda3/envs/guardrails/lib/python3.9/ssl.py:1242\u001b[0m, in \u001b[0;36mSSLSocket.recv_into\u001b[0;34m(self, buffer, nbytes, flags)\u001b[0m\n\u001b[1;32m   1238\u001b[0m     \u001b[39mif\u001b[39;00m flags \u001b[39m!=\u001b[39m \u001b[39m0\u001b[39m:\n\u001b[1;32m   1239\u001b[0m         \u001b[39mraise\u001b[39;00m \u001b[39mValueError\u001b[39;00m(\n\u001b[1;32m   1240\u001b[0m           \u001b[39m\"\u001b[39m\u001b[39mnon-zero flags not allowed in calls to recv_into() on \u001b[39m\u001b[39m%s\u001b[39;00m\u001b[39m\"\u001b[39m \u001b[39m%\u001b[39m\n\u001b[1;32m   1241\u001b[0m           \u001b[39mself\u001b[39m\u001b[39m.\u001b[39m\u001b[39m__class__\u001b[39m)\n\u001b[0;32m-> 1242\u001b[0m     \u001b[39mreturn\u001b[39;00m \u001b[39mself\u001b[39;49m\u001b[39m.\u001b[39;49mread(nbytes, buffer)\n\u001b[1;32m   1243\u001b[0m \u001b[39melse\u001b[39;00m:\n\u001b[1;32m   1244\u001b[0m     \u001b[39mreturn\u001b[39;00m \u001b[39msuper\u001b[39m()\u001b[39m.\u001b[39mrecv_into(buffer, nbytes, flags)\n",
      "File \u001b[0;32m~/opt/anaconda3/envs/guardrails/lib/python3.9/ssl.py:1100\u001b[0m, in \u001b[0;36mSSLSocket.read\u001b[0;34m(self, len, buffer)\u001b[0m\n\u001b[1;32m   1098\u001b[0m \u001b[39mtry\u001b[39;00m:\n\u001b[1;32m   1099\u001b[0m     \u001b[39mif\u001b[39;00m buffer \u001b[39mis\u001b[39;00m \u001b[39mnot\u001b[39;00m \u001b[39mNone\u001b[39;00m:\n\u001b[0;32m-> 1100\u001b[0m         \u001b[39mreturn\u001b[39;00m \u001b[39mself\u001b[39;49m\u001b[39m.\u001b[39;49m_sslobj\u001b[39m.\u001b[39;49mread(\u001b[39mlen\u001b[39;49m, buffer)\n\u001b[1;32m   1101\u001b[0m     \u001b[39melse\u001b[39;00m:\n\u001b[1;32m   1102\u001b[0m         \u001b[39mreturn\u001b[39;00m \u001b[39mself\u001b[39m\u001b[39m.\u001b[39m_sslobj\u001b[39m.\u001b[39mread(\u001b[39mlen\u001b[39m)\n",
      "\u001b[0;31mKeyboardInterrupt\u001b[0m: "
     ]
    }
   ],
   "source": [
    "response, response_as_dict, validated_response = schema.ask_with_validation(content[:6000])"
   ]
  },
  {
   "cell_type": "code",
   "execution_count": null,
   "metadata": {},
   "outputs": [
    {
     "data": {
      "text/html": [
       "<pre style=\"white-space:pre;overflow-x:auto;line-height:normal;font-family:Menlo,'DejaVu Sans Mono',consolas,'Courier New',monospace\"><span style=\"font-weight: bold\">{</span>\n",
       "  <span style=\"color: #008000; text-decoration-color: #008000\">\"fees\"</span>: <span style=\"font-weight: bold\">[</span>\n",
       "    <span style=\"font-weight: bold\">{</span>\n",
       "      <span style=\"color: #008000; text-decoration-color: #008000\">\"index\"</span>: <span style=\"color: #008080; text-decoration-color: #008080; font-weight: bold\">1</span>,\n",
       "      <span style=\"color: #008000; text-decoration-color: #008000\">\"name\"</span>: <span style=\"color: #008000; text-decoration-color: #008000\">\"annual membership\"</span>,\n",
       "      <span style=\"color: #008000; text-decoration-color: #008000\">\"explanation\"</span>: <span style=\"color: #008000; text-decoration-color: #008000\">\"annual fee for membership\"</span>,\n",
       "      <span style=\"color: #008000; text-decoration-color: #008000\">\"value\"</span>: <span style=\"color: #008080; text-decoration-color: #008080; font-weight: bold\">0</span>,\n",
       "      <span style=\"color: #008000; text-decoration-color: #008000\">\"description\"</span>: <span style=\"color: #008000; text-decoration-color: #008000\">\"None\"</span>,\n",
       "      <span style=\"color: #008000; text-decoration-color: #008000\">\"example\"</span>: <span style=\"color: #008000; text-decoration-color: #008000\">\"None\"</span>,\n",
       "      <span style=\"color: #008000; text-decoration-color: #008000\">\"advertisement\"</span>: <span style=\"color: #008000; text-decoration-color: #008000\">\"None\"</span>\n",
       "    <span style=\"font-weight: bold\">}</span>,\n",
       "    <span style=\"font-weight: bold\">{</span>\n",
       "      <span style=\"color: #008000; text-decoration-color: #008000\">\"index\"</span>: <span style=\"color: #008080; text-decoration-color: #008080; font-weight: bold\">2</span>,\n",
       "      <span style=\"color: #008000; text-decoration-color: #008000\">\"name\"</span>: <span style=\"color: #008000; text-decoration-color: #008000\">\"my chase plan\"</span>,\n",
       "      <span style=\"color: #008000; text-decoration-color: #008000\">\"explanation\"</span>: <span style=\"color: #008000; text-decoration-color: #008000\">\"fixed finance charge\"</span>,\n",
       "      <span style=\"color: #008000; text-decoration-color: #008000\">\"value\"</span>: <span style=\"color: #008080; text-decoration-color: #008080; font-weight: bold\">1.72</span>,\n",
       "      <span style=\"color: #008000; text-decoration-color: #008000\">\"description\"</span>: <span style=\"color: #008000; text-decoration-color: #008000\">\"Monthly fee of 0% of the amount of each eligible purchase transaction or amount selected to </span>\n",
       "<span style=\"color: #008000; text-decoration-color: #008000\">create a My Chase Plan while in the 0% Intro Purchase APR period. After that, monthly fee of 1.72% of the amount of</span>\n",
       "<span style=\"color: #008000; text-decoration-color: #008000\">each eligible purchase transaction or amount selected to create a My Chase Plan. The My Chase Plan Fee will be </span>\n",
       "<span style=\"color: #008000; text-decoration-color: #008000\">determined at the time each My Chase Plan is created and will remain the same until the My Chase Plan is paid in </span>\n",
       "<span style=\"color: #008000; text-decoration-color: #008000\">full.\"</span>,\n",
       "      <span style=\"color: #008000; text-decoration-color: #008000\">\"example\"</span>: <span style=\"color: #008000; text-decoration-color: #008000\">\"None\"</span>,\n",
       "      <span style=\"color: #008000; text-decoration-color: #008000\">\"advertisement\"</span>: <span style=\"color: #008000; text-decoration-color: #008000\">\"None\"</span>\n",
       "    <span style=\"font-weight: bold\">}</span>,\n",
       "    <span style=\"font-weight: bold\">{</span>\n",
       "      <span style=\"color: #008000; text-decoration-color: #008000\">\"index\"</span>: <span style=\"color: #008080; text-decoration-color: #008080; font-weight: bold\">3</span>,\n",
       "      <span style=\"color: #008000; text-decoration-color: #008000\">\"name\"</span>: <span style=\"color: #008000; text-decoration-color: #008000\">\"balance transfers\"</span>,\n",
       "      <span style=\"color: #008000; text-decoration-color: #008000\">\"explanation\"</span>: <span style=\"color: #008000; text-decoration-color: #008000\">\"intro fee of either $5 or 3% of the amount of each transfer, whichever is greater\"</span>,\n",
       "      <span style=\"color: #008000; text-decoration-color: #008000\">\"value\"</span>: <span style=\"color: #008080; text-decoration-color: #008080; font-weight: bold\">3</span>,\n",
       "      <span style=\"color: #008000; text-decoration-color: #008000\">\"description\"</span>: <span style=\"color: #008000; text-decoration-color: #008000\">\"Intro fee of either $5 or 3% of the amount of each transfer, whichever is greater, on </span>\n",
       "<span style=\"color: #008000; text-decoration-color: #008000\">transfers made within 60 days of account opening. After that: Either $5 or 5% of the amount of each transfer, </span>\n",
       "<span style=\"color: #008000; text-decoration-color: #008000\">whichever is greater.\"</span>,\n",
       "      <span style=\"color: #008000; text-decoration-color: #008000\">\"example\"</span>: <span style=\"color: #008000; text-decoration-color: #008000\">\"Transfer $100 and pay a fee of $3.\"</span>,\n",
       "      <span style=\"color: #008000; text-decoration-color: #008000\">\"advertisement\"</span>: <span style=\"color: #008000; text-decoration-color: #008000\">\"Transfer your balance and pay only a 3% fee!\"</span>\n",
       "    <span style=\"font-weight: bold\">}</span>,\n",
       "    <span style=\"font-weight: bold\">{</span>\n",
       "      <span style=\"color: #008000; text-decoration-color: #008000\">\"index\"</span>: <span style=\"color: #008080; text-decoration-color: #008080; font-weight: bold\">4</span>,\n",
       "      <span style=\"color: #008000; text-decoration-color: #008000\">\"name\"</span>: <span style=\"color: #008000; text-decoration-color: #008000\">\"cash advances\"</span>,\n",
       "      <span style=\"color: #008000; text-decoration-color: #008000\">\"explanation\"</span>: <span style=\"color: #008000; text-decoration-color: #008000\">\"either $10 or 5% of the amount of each transaction, whichever is greater\"</span>,\n",
       "      <span style=\"color: #008000; text-decoration-color: #008000\">\"value\"</span>: <span style=\"color: #008080; text-decoration-color: #008080; font-weight: bold\">5</span>,\n",
       "      <span style=\"color: #008000; text-decoration-color: #008000\">\"description\"</span>: <span style=\"color: #008000; text-decoration-color: #008000\">\"Either $10 or 5% of the amount of each transaction, whichever is greater.\"</span>,\n",
       "      <span style=\"color: #008000; text-decoration-color: #008000\">\"example\"</span>: <span style=\"color: #008000; text-decoration-color: #008000\">\"Withdraw $100 and pay a fee of $5.\"</span>,\n",
       "      <span style=\"color: #008000; text-decoration-color: #008000\">\"advertisement\"</span>: <span style=\"color: #008000; text-decoration-color: #008000\">\"Withdraw cash and pay only a 5% fee!\"</span>\n",
       "    <span style=\"font-weight: bold\">}</span>,\n",
       "    <span style=\"font-weight: bold\">{</span>\n",
       "      <span style=\"color: #008000; text-decoration-color: #008000\">\"index\"</span>: <span style=\"color: #008080; text-decoration-color: #008080; font-weight: bold\">5</span>,\n",
       "      <span style=\"color: #008000; text-decoration-color: #008000\">\"name\"</span>: <span style=\"color: #008000; text-decoration-color: #008000\">\"foreign transactions\"</span>,\n",
       "      <span style=\"color: #008000; text-decoration-color: #008000\">\"explanation\"</span>: <span style=\"color: #008000; text-decoration-color: #008000\">\"3% of the amount of each transaction in U.S. dollars\"</span>,\n",
       "      <span style=\"color: #008000; text-decoration-color: #008000\">\"value\"</span>: <span style=\"color: #008080; text-decoration-color: #008080; font-weight: bold\">3</span>,\n",
       "      <span style=\"color: #008000; text-decoration-color: #008000\">\"description\"</span>: <span style=\"color: #008000; text-decoration-color: #008000\">\"3% of the amount of each transaction in U.S. dollars.\"</span>,\n",
       "      <span style=\"color: #008000; text-decoration-color: #008000\">\"example\"</span>: <span style=\"color: #008000; text-decoration-color: #008000\">\"Make a purchase of $100 and pay a fee of $3.\"</span>,\n",
       "      <span style=\"color: #008000; text-decoration-color: #008000\">\"advertisement\"</span>: <span style=\"color: #008000; text-decoration-color: #008000\">\"Make purchases abroad and pay only a 3% fee!\"</span>\n",
       "    <span style=\"font-weight: bold\">}</span>,\n",
       "    <span style=\"font-weight: bold\">{</span>\n",
       "      <span style=\"color: #008000; text-decoration-color: #008000\">\"index\"</span>: <span style=\"color: #008080; text-decoration-color: #008080; font-weight: bold\">6</span>,\n",
       "      <span style=\"color: #008000; text-decoration-color: #008000\">\"name\"</span>: <span style=\"color: #008000; text-decoration-color: #008000\">\"late payment\"</span>,\n",
       "      <span style=\"color: #008000; text-decoration-color: #008000\">\"explanation\"</span>: <span style=\"color: #008000; text-decoration-color: #008000\">\"up to $40\"</span>,\n",
       "      <span style=\"color: #008000; text-decoration-color: #008000\">\"value\"</span>: <span style=\"color: #008080; text-decoration-color: #008080; font-weight: bold\">0</span>,\n",
       "      <span style=\"color: #008000; text-decoration-color: #008000\">\"description\"</span>: <span style=\"color: #008000; text-decoration-color: #008000\">\"Up to $40.\"</span>,\n",
       "      <span style=\"color: #008000; text-decoration-color: #008000\">\"example\"</span>: <span style=\"color: #008000; text-decoration-color: #008000\">\"Make a late payment and pay a fee of up to $40.\"</span>,\n",
       "      <span style=\"color: #008000; text-decoration-color: #008000\">\"advertisement\"</span>: <span style=\"color: #008000; text-decoration-color: #008000\">\"Make a late payment and pay only up to $40!\"</span>\n",
       "    <span style=\"font-weight: bold\">}</span>,\n",
       "    <span style=\"font-weight: bold\">{</span>\n",
       "      <span style=\"color: #008000; text-decoration-color: #008000\">\"index\"</span>: <span style=\"color: #008080; text-decoration-color: #008080; font-weight: bold\">7</span>,\n",
       "      <span style=\"color: #008000; text-decoration-color: #008000\">\"name\"</span>: <span style=\"color: #008000; text-decoration-color: #008000\">\"over-the-credit-limit\"</span>,\n",
       "      <span style=\"color: #008000; text-decoration-color: #008000\">\"explanation\"</span>: <span style=\"color: #008000; text-decoration-color: #008000\">\"none\"</span>,\n",
       "      <span style=\"color: #008000; text-decoration-color: #008000\">\"value\"</span>: <span style=\"color: #008080; text-decoration-color: #008080; font-weight: bold\">0</span>,\n",
       "      <span style=\"color: #008000; text-decoration-color: #008000\">\"description\"</span>: <span style=\"color: #008000; text-decoration-color: #008000\">\"None\"</span>,\n",
       "      <span style=\"color: #008000; text-decoration-color: #008000\">\"example\"</span>: <span style=\"color: #008000; text-decoration-color: #008000\">\"None\"</span>,\n",
       "      <span style=\"color: #008000; text-decoration-color: #008000\">\"advertisement\"</span>: <span style=\"color: #008000; text-decoration-color: #008000\">\"None\"</span>\n",
       "    <span style=\"font-weight: bold\">}</span>,\n",
       "    <span style=\"font-weight: bold\">{</span>\n",
       "      <span style=\"color: #008000; text-decoration-color: #008000\">\"index\"</span>: <span style=\"color: #008080; text-decoration-color: #008080; font-weight: bold\">8</span>,\n",
       "      <span style=\"color: #008000; text-decoration-color: #008000\">\"name\"</span>: <span style=\"color: #008000; text-decoration-color: #008000\">\"return payment\"</span>,\n",
       "      <span style=\"color: #008000; text-decoration-color: #008000\">\"explanation\"</span>: <span style=\"color: #008000; text-decoration-color: #008000\">\"up to $40\"</span>,\n",
       "      <span style=\"color: #008000; text-decoration-color: #008000\">\"value\"</span>: <span style=\"color: #008080; text-decoration-color: #008080; font-weight: bold\">0</span>,\n",
       "      <span style=\"color: #008000; text-decoration-color: #008000\">\"description\"</span>: <span style=\"color: #008000; text-decoration-color: #008000\">\"Up to $40.\"</span>,\n",
       "      <span style=\"color: #008000; text-decoration-color: #008000\">\"example\"</span>: <span style=\"color: #008000; text-decoration-color: #008000\">\"Make a return payment and pay a fee of up to $40.\"</span>,\n",
       "      <span style=\"color: #008000; text-decoration-color: #008000\">\"advertisement\"</span>: <span style=\"color: #008000; text-decoration-color: #008000\">\"Make a return payment and pay only up to $40!\"</span>\n",
       "    <span style=\"font-weight: bold\">}</span>,\n",
       "    <span style=\"font-weight: bold\">{</span>\n",
       "      <span style=\"color: #008000; text-decoration-color: #008000\">\"index\"</span>: <span style=\"color: #008080; text-decoration-color: #008080; font-weight: bold\">9</span>,\n",
       "      <span style=\"color: #008000; text-decoration-color: #008000\">\"name\"</span>: <span style=\"color: #008000; text-decoration-color: #008000\">\"return check\"</span>,\n",
       "      <span style=\"color: #008000; text-decoration-color: #008000\">\"explanation\"</span>: <span style=\"color: #008000; text-decoration-color: #008000\">\"none\"</span>,\n",
       "      <span style=\"color: #008000; text-decoration-color: #008000\">\"value\"</span>: <span style=\"color: #008080; text-decoration-color: #008080; font-weight: bold\">0</span>,\n",
       "      <span style=\"color: #008000; text-decoration-color: #008000\">\"description\"</span>: <span style=\"color: #008000; text-decoration-color: #008000\">\"None\"</span>,\n",
       "      <span style=\"color: #008000; text-decoration-color: #008000\">\"example\"</span>: <span style=\"color: #008000; text-decoration-color: #008000\">\"None\"</span>,\n",
       "      <span style=\"color: #008000; text-decoration-color: #008000\">\"advertisement\"</span>: <span style=\"color: #008000; text-decoration-color: #008000\">\"None\"</span>\n",
       "    <span style=\"font-weight: bold\">}</span>\n",
       "  <span style=\"font-weight: bold\">]</span>,\n",
       "  <span style=\"color: #008000; text-decoration-color: #008000\">\"interest_rates\"</span>: <span style=\"color: #008000; text-decoration-color: #008000\">\"Purchase Annual Percentage Rate (APR) 0% Intro APR for the first 18 months that your Account </span>\n",
       "<span style=\"color: #008000; text-decoration-color: #008000\">is open. After that, 19.49%. This APR will vary with the market based on the Prime Rate. My Chase Loan SM APR </span>\n",
       "<span style=\"color: #008000; text-decoration-color: #008000\">19.49%. This APR will vary with the market based on the Prime Rate. Balance Transfer APR 0% Intro APR for the first</span>\n",
       "<span style=\"color: #008000; text-decoration-color: #008000\">18 months that your Account is open. After that, 19.49%. This APR will vary with the market based on the Prime </span>\n",
       "<span style=\"color: #008000; text-decoration-color: #008000\">Rate. Cash Advance APR 29.49%. This APR will vary with the market based on the Prime Rate. Penalty APR and When It </span>\n",
       "<span style=\"color: #008000; text-decoration-color: #008000\">Applies Up to 29.99%. This APR will vary with the market based on the Prime Rate.\"</span>\n",
       "<span style=\"font-weight: bold\">}</span>\n",
       "</pre>\n"
      ],
      "text/plain": [
       "\u001b[1m{\u001b[0m\n",
       "  \u001b[32m\"fees\"\u001b[0m: \u001b[1m[\u001b[0m\n",
       "    \u001b[1m{\u001b[0m\n",
       "      \u001b[32m\"index\"\u001b[0m: \u001b[1;36m1\u001b[0m,\n",
       "      \u001b[32m\"name\"\u001b[0m: \u001b[32m\"annual membership\"\u001b[0m,\n",
       "      \u001b[32m\"explanation\"\u001b[0m: \u001b[32m\"annual fee for membership\"\u001b[0m,\n",
       "      \u001b[32m\"value\"\u001b[0m: \u001b[1;36m0\u001b[0m,\n",
       "      \u001b[32m\"description\"\u001b[0m: \u001b[32m\"None\"\u001b[0m,\n",
       "      \u001b[32m\"example\"\u001b[0m: \u001b[32m\"None\"\u001b[0m,\n",
       "      \u001b[32m\"advertisement\"\u001b[0m: \u001b[32m\"None\"\u001b[0m\n",
       "    \u001b[1m}\u001b[0m,\n",
       "    \u001b[1m{\u001b[0m\n",
       "      \u001b[32m\"index\"\u001b[0m: \u001b[1;36m2\u001b[0m,\n",
       "      \u001b[32m\"name\"\u001b[0m: \u001b[32m\"my chase plan\"\u001b[0m,\n",
       "      \u001b[32m\"explanation\"\u001b[0m: \u001b[32m\"fixed finance charge\"\u001b[0m,\n",
       "      \u001b[32m\"value\"\u001b[0m: \u001b[1;36m1.72\u001b[0m,\n",
       "      \u001b[32m\"description\"\u001b[0m: \u001b[32m\"Monthly fee of 0% of the amount of each eligible purchase transaction or amount selected to \u001b[0m\n",
       "\u001b[32mcreate a My Chase Plan while in the 0% Intro Purchase APR period. After that, monthly fee of 1.72% of the amount of\u001b[0m\n",
       "\u001b[32meach eligible purchase transaction or amount selected to create a My Chase Plan. The My Chase Plan Fee will be \u001b[0m\n",
       "\u001b[32mdetermined at the time each My Chase Plan is created and will remain the same until the My Chase Plan is paid in \u001b[0m\n",
       "\u001b[32mfull.\"\u001b[0m,\n",
       "      \u001b[32m\"example\"\u001b[0m: \u001b[32m\"None\"\u001b[0m,\n",
       "      \u001b[32m\"advertisement\"\u001b[0m: \u001b[32m\"None\"\u001b[0m\n",
       "    \u001b[1m}\u001b[0m,\n",
       "    \u001b[1m{\u001b[0m\n",
       "      \u001b[32m\"index\"\u001b[0m: \u001b[1;36m3\u001b[0m,\n",
       "      \u001b[32m\"name\"\u001b[0m: \u001b[32m\"balance transfers\"\u001b[0m,\n",
       "      \u001b[32m\"explanation\"\u001b[0m: \u001b[32m\"intro fee of either $5 or 3% of the amount of each transfer, whichever is greater\"\u001b[0m,\n",
       "      \u001b[32m\"value\"\u001b[0m: \u001b[1;36m3\u001b[0m,\n",
       "      \u001b[32m\"description\"\u001b[0m: \u001b[32m\"Intro fee of either $5 or 3% of the amount of each transfer, whichever is greater, on \u001b[0m\n",
       "\u001b[32mtransfers made within 60 days of account opening. After that: Either $5 or 5% of the amount of each transfer, \u001b[0m\n",
       "\u001b[32mwhichever is greater.\"\u001b[0m,\n",
       "      \u001b[32m\"example\"\u001b[0m: \u001b[32m\"Transfer $100 and pay a fee of $3.\"\u001b[0m,\n",
       "      \u001b[32m\"advertisement\"\u001b[0m: \u001b[32m\"Transfer your balance and pay only a 3% fee!\"\u001b[0m\n",
       "    \u001b[1m}\u001b[0m,\n",
       "    \u001b[1m{\u001b[0m\n",
       "      \u001b[32m\"index\"\u001b[0m: \u001b[1;36m4\u001b[0m,\n",
       "      \u001b[32m\"name\"\u001b[0m: \u001b[32m\"cash advances\"\u001b[0m,\n",
       "      \u001b[32m\"explanation\"\u001b[0m: \u001b[32m\"either $10 or 5% of the amount of each transaction, whichever is greater\"\u001b[0m,\n",
       "      \u001b[32m\"value\"\u001b[0m: \u001b[1;36m5\u001b[0m,\n",
       "      \u001b[32m\"description\"\u001b[0m: \u001b[32m\"Either $10 or 5% of the amount of each transaction, whichever is greater.\"\u001b[0m,\n",
       "      \u001b[32m\"example\"\u001b[0m: \u001b[32m\"Withdraw $100 and pay a fee of $5.\"\u001b[0m,\n",
       "      \u001b[32m\"advertisement\"\u001b[0m: \u001b[32m\"Withdraw cash and pay only a 5% fee!\"\u001b[0m\n",
       "    \u001b[1m}\u001b[0m,\n",
       "    \u001b[1m{\u001b[0m\n",
       "      \u001b[32m\"index\"\u001b[0m: \u001b[1;36m5\u001b[0m,\n",
       "      \u001b[32m\"name\"\u001b[0m: \u001b[32m\"foreign transactions\"\u001b[0m,\n",
       "      \u001b[32m\"explanation\"\u001b[0m: \u001b[32m\"3% of the amount of each transaction in U.S. dollars\"\u001b[0m,\n",
       "      \u001b[32m\"value\"\u001b[0m: \u001b[1;36m3\u001b[0m,\n",
       "      \u001b[32m\"description\"\u001b[0m: \u001b[32m\"3% of the amount of each transaction in U.S. dollars.\"\u001b[0m,\n",
       "      \u001b[32m\"example\"\u001b[0m: \u001b[32m\"Make a purchase of $100 and pay a fee of $3.\"\u001b[0m,\n",
       "      \u001b[32m\"advertisement\"\u001b[0m: \u001b[32m\"Make purchases abroad and pay only a 3% fee!\"\u001b[0m\n",
       "    \u001b[1m}\u001b[0m,\n",
       "    \u001b[1m{\u001b[0m\n",
       "      \u001b[32m\"index\"\u001b[0m: \u001b[1;36m6\u001b[0m,\n",
       "      \u001b[32m\"name\"\u001b[0m: \u001b[32m\"late payment\"\u001b[0m,\n",
       "      \u001b[32m\"explanation\"\u001b[0m: \u001b[32m\"up to $40\"\u001b[0m,\n",
       "      \u001b[32m\"value\"\u001b[0m: \u001b[1;36m0\u001b[0m,\n",
       "      \u001b[32m\"description\"\u001b[0m: \u001b[32m\"Up to $40.\"\u001b[0m,\n",
       "      \u001b[32m\"example\"\u001b[0m: \u001b[32m\"Make a late payment and pay a fee of up to $40.\"\u001b[0m,\n",
       "      \u001b[32m\"advertisement\"\u001b[0m: \u001b[32m\"Make a late payment and pay only up to $40!\"\u001b[0m\n",
       "    \u001b[1m}\u001b[0m,\n",
       "    \u001b[1m{\u001b[0m\n",
       "      \u001b[32m\"index\"\u001b[0m: \u001b[1;36m7\u001b[0m,\n",
       "      \u001b[32m\"name\"\u001b[0m: \u001b[32m\"over-the-credit-limit\"\u001b[0m,\n",
       "      \u001b[32m\"explanation\"\u001b[0m: \u001b[32m\"none\"\u001b[0m,\n",
       "      \u001b[32m\"value\"\u001b[0m: \u001b[1;36m0\u001b[0m,\n",
       "      \u001b[32m\"description\"\u001b[0m: \u001b[32m\"None\"\u001b[0m,\n",
       "      \u001b[32m\"example\"\u001b[0m: \u001b[32m\"None\"\u001b[0m,\n",
       "      \u001b[32m\"advertisement\"\u001b[0m: \u001b[32m\"None\"\u001b[0m\n",
       "    \u001b[1m}\u001b[0m,\n",
       "    \u001b[1m{\u001b[0m\n",
       "      \u001b[32m\"index\"\u001b[0m: \u001b[1;36m8\u001b[0m,\n",
       "      \u001b[32m\"name\"\u001b[0m: \u001b[32m\"return payment\"\u001b[0m,\n",
       "      \u001b[32m\"explanation\"\u001b[0m: \u001b[32m\"up to $40\"\u001b[0m,\n",
       "      \u001b[32m\"value\"\u001b[0m: \u001b[1;36m0\u001b[0m,\n",
       "      \u001b[32m\"description\"\u001b[0m: \u001b[32m\"Up to $40.\"\u001b[0m,\n",
       "      \u001b[32m\"example\"\u001b[0m: \u001b[32m\"Make a return payment and pay a fee of up to $40.\"\u001b[0m,\n",
       "      \u001b[32m\"advertisement\"\u001b[0m: \u001b[32m\"Make a return payment and pay only up to $40!\"\u001b[0m\n",
       "    \u001b[1m}\u001b[0m,\n",
       "    \u001b[1m{\u001b[0m\n",
       "      \u001b[32m\"index\"\u001b[0m: \u001b[1;36m9\u001b[0m,\n",
       "      \u001b[32m\"name\"\u001b[0m: \u001b[32m\"return check\"\u001b[0m,\n",
       "      \u001b[32m\"explanation\"\u001b[0m: \u001b[32m\"none\"\u001b[0m,\n",
       "      \u001b[32m\"value\"\u001b[0m: \u001b[1;36m0\u001b[0m,\n",
       "      \u001b[32m\"description\"\u001b[0m: \u001b[32m\"None\"\u001b[0m,\n",
       "      \u001b[32m\"example\"\u001b[0m: \u001b[32m\"None\"\u001b[0m,\n",
       "      \u001b[32m\"advertisement\"\u001b[0m: \u001b[32m\"None\"\u001b[0m\n",
       "    \u001b[1m}\u001b[0m\n",
       "  \u001b[1m]\u001b[0m,\n",
       "  \u001b[32m\"interest_rates\"\u001b[0m: \u001b[32m\"Purchase Annual Percentage Rate \u001b[0m\u001b[32m(\u001b[0m\u001b[32mAPR\u001b[0m\u001b[32m)\u001b[0m\u001b[32m 0% Intro APR for the first 18 months that your Account \u001b[0m\n",
       "\u001b[32mis open. After that, 19.49%. This APR will vary with the market based on the Prime Rate. My Chase Loan SM APR \u001b[0m\n",
       "\u001b[32m19.49%. This APR will vary with the market based on the Prime Rate. Balance Transfer APR 0% Intro APR for the first\u001b[0m\n",
       "\u001b[32m18 months that your Account is open. After that, 19.49%. This APR will vary with the market based on the Prime \u001b[0m\n",
       "\u001b[32mRate. Cash Advance APR 29.49%. This APR will vary with the market based on the Prime Rate. Penalty APR and When It \u001b[0m\n",
       "\u001b[32mApplies Up to 29.99%. This APR will vary with the market based on the Prime Rate.\"\u001b[0m\n",
       "\u001b[1m}\u001b[0m\n"
      ]
     },
     "metadata": {},
     "output_type": "display_data"
    },
    {
     "data": {
      "text/html": [
       "<pre style=\"white-space:pre;overflow-x:auto;line-height:normal;font-family:Menlo,'DejaVu Sans Mono',consolas,'Courier New',monospace\"><span style=\"font-weight: bold\">{</span>\n",
       "    <span style=\"color: #008000; text-decoration-color: #008000\">'fees'</span>: <span style=\"font-weight: bold\">[</span>\n",
       "        <span style=\"font-weight: bold\">{</span>\n",
       "            <span style=\"color: #008000; text-decoration-color: #008000\">'index'</span>: <span style=\"color: #008080; text-decoration-color: #008080; font-weight: bold\">1</span>,\n",
       "            <span style=\"color: #008000; text-decoration-color: #008000\">'name'</span>: <span style=\"color: #008000; text-decoration-color: #008000\">'annual membership'</span>,\n",
       "            <span style=\"color: #008000; text-decoration-color: #008000\">'explanation'</span>: <span style=\"color: #008000; text-decoration-color: #008000\">'annual fee for membership'</span>,\n",
       "            <span style=\"color: #008000; text-decoration-color: #008000\">'value'</span>: <span style=\"color: #008080; text-decoration-color: #008080; font-weight: bold\">0</span>,\n",
       "            <span style=\"color: #008000; text-decoration-color: #008000\">'description'</span>: <span style=\"color: #008000; text-decoration-color: #008000\">'None'</span>,\n",
       "            <span style=\"color: #008000; text-decoration-color: #008000\">'example'</span>: <span style=\"color: #008000; text-decoration-color: #008000\">'None'</span>,\n",
       "            <span style=\"color: #008000; text-decoration-color: #008000\">'advertisement'</span>: <span style=\"color: #008000; text-decoration-color: #008000\">'None'</span>\n",
       "        <span style=\"font-weight: bold\">}</span>,\n",
       "        <span style=\"font-weight: bold\">{</span>\n",
       "            <span style=\"color: #008000; text-decoration-color: #008000\">'index'</span>: <span style=\"color: #008080; text-decoration-color: #008080; font-weight: bold\">2</span>,\n",
       "            <span style=\"color: #008000; text-decoration-color: #008000\">'name'</span>: <span style=\"color: #008000; text-decoration-color: #008000\">'my chase plan'</span>,\n",
       "            <span style=\"color: #008000; text-decoration-color: #008000\">'explanation'</span>: <span style=\"color: #008000; text-decoration-color: #008000\">'fixed finance charge'</span>,\n",
       "            <span style=\"color: #008000; text-decoration-color: #008000\">'value'</span>: <span style=\"color: #008080; text-decoration-color: #008080; font-weight: bold\">1.72</span>,\n",
       "            <span style=\"color: #008000; text-decoration-color: #008000\">'description'</span>: <span style=\"color: #008000; text-decoration-color: #008000\">'Monthly fee of 0% of the amount of each eligible purchase transaction or amount </span>\n",
       "<span style=\"color: #008000; text-decoration-color: #008000\">selected to create a My Chase Plan while in the 0% Intro Purchase APR period. After that, monthly fee of 1.72% of </span>\n",
       "<span style=\"color: #008000; text-decoration-color: #008000\">the amount of each eligible purchase transaction or amount selected to create a My Chase Plan. The My Chase Plan </span>\n",
       "<span style=\"color: #008000; text-decoration-color: #008000\">Fee will be determined at the time each My Chase Plan is created and will remain the same until the My Chase Plan </span>\n",
       "<span style=\"color: #008000; text-decoration-color: #008000\">is paid in full.'</span>,\n",
       "            <span style=\"color: #008000; text-decoration-color: #008000\">'example'</span>: <span style=\"color: #008000; text-decoration-color: #008000\">'None'</span>,\n",
       "            <span style=\"color: #008000; text-decoration-color: #008000\">'advertisement'</span>: <span style=\"color: #008000; text-decoration-color: #008000\">'None'</span>\n",
       "        <span style=\"font-weight: bold\">}</span>,\n",
       "        <span style=\"font-weight: bold\">{</span>\n",
       "            <span style=\"color: #008000; text-decoration-color: #008000\">'index'</span>: <span style=\"color: #008080; text-decoration-color: #008080; font-weight: bold\">3</span>,\n",
       "            <span style=\"color: #008000; text-decoration-color: #008000\">'name'</span>: <span style=\"color: #008000; text-decoration-color: #008000\">'balance transfers'</span>,\n",
       "            <span style=\"color: #008000; text-decoration-color: #008000\">'explanation'</span>: <span style=\"color: #008000; text-decoration-color: #008000\">'intro fee of either $5 or 3% of the amount of each transfer, whichever is greater'</span>,\n",
       "            <span style=\"color: #008000; text-decoration-color: #008000\">'value'</span>: <span style=\"color: #008080; text-decoration-color: #008080; font-weight: bold\">3</span>,\n",
       "            <span style=\"color: #008000; text-decoration-color: #008000\">'description'</span>: <span style=\"color: #008000; text-decoration-color: #008000\">'Intro fee of either $5 or 3% of the amount of each transfer, whichever is greater, on </span>\n",
       "<span style=\"color: #008000; text-decoration-color: #008000\">transfers made within 60 days of account opening. After that: Either $5 or 5% of the amount of each transfer, </span>\n",
       "<span style=\"color: #008000; text-decoration-color: #008000\">whichever is greater.'</span>,\n",
       "            <span style=\"color: #008000; text-decoration-color: #008000\">'example'</span>: <span style=\"color: #008000; text-decoration-color: #008000\">'Transfer $100 and pay a fee of $3.'</span>,\n",
       "            <span style=\"color: #008000; text-decoration-color: #008000\">'advertisement'</span>: <span style=\"color: #008000; text-decoration-color: #008000\">'Transfer your balance and pay only a 3% fee!'</span>\n",
       "        <span style=\"font-weight: bold\">}</span>,\n",
       "        <span style=\"font-weight: bold\">{</span>\n",
       "            <span style=\"color: #008000; text-decoration-color: #008000\">'index'</span>: <span style=\"color: #008080; text-decoration-color: #008080; font-weight: bold\">4</span>,\n",
       "            <span style=\"color: #008000; text-decoration-color: #008000\">'name'</span>: <span style=\"color: #008000; text-decoration-color: #008000\">'cash advances'</span>,\n",
       "            <span style=\"color: #008000; text-decoration-color: #008000\">'explanation'</span>: <span style=\"color: #008000; text-decoration-color: #008000\">'either $10 or 5% of the amount of each transaction, whichever is greater'</span>,\n",
       "            <span style=\"color: #008000; text-decoration-color: #008000\">'value'</span>: <span style=\"color: #008080; text-decoration-color: #008080; font-weight: bold\">5</span>,\n",
       "            <span style=\"color: #008000; text-decoration-color: #008000\">'description'</span>: <span style=\"color: #008000; text-decoration-color: #008000\">'Either $10 or 5% of the amount of each transaction, whichever is greater.'</span>,\n",
       "            <span style=\"color: #008000; text-decoration-color: #008000\">'example'</span>: <span style=\"color: #008000; text-decoration-color: #008000\">'Withdraw $100 and pay a fee of $5.'</span>,\n",
       "            <span style=\"color: #008000; text-decoration-color: #008000\">'advertisement'</span>: <span style=\"color: #008000; text-decoration-color: #008000\">'Withdraw cash and pay only a 5% fee!'</span>\n",
       "        <span style=\"font-weight: bold\">}</span>,\n",
       "        <span style=\"font-weight: bold\">{</span>\n",
       "            <span style=\"color: #008000; text-decoration-color: #008000\">'index'</span>: <span style=\"color: #008080; text-decoration-color: #008080; font-weight: bold\">5</span>,\n",
       "            <span style=\"color: #008000; text-decoration-color: #008000\">'name'</span>: <span style=\"color: #008000; text-decoration-color: #008000\">'foreign transactions'</span>,\n",
       "            <span style=\"color: #008000; text-decoration-color: #008000\">'explanation'</span>: <span style=\"color: #008000; text-decoration-color: #008000\">'3% of the amount of each transaction in U.S. dollars'</span>,\n",
       "            <span style=\"color: #008000; text-decoration-color: #008000\">'value'</span>: <span style=\"color: #008080; text-decoration-color: #008080; font-weight: bold\">3</span>,\n",
       "            <span style=\"color: #008000; text-decoration-color: #008000\">'description'</span>: <span style=\"color: #008000; text-decoration-color: #008000\">'3% of the amount of each transaction in U.S. dollars.'</span>,\n",
       "            <span style=\"color: #008000; text-decoration-color: #008000\">'example'</span>: <span style=\"color: #008000; text-decoration-color: #008000\">'Make a purchase of $100 and pay a fee of $3.'</span>,\n",
       "            <span style=\"color: #008000; text-decoration-color: #008000\">'advertisement'</span>: <span style=\"color: #008000; text-decoration-color: #008000\">'Make purchases abroad and pay only a 3% fee!'</span>\n",
       "        <span style=\"font-weight: bold\">}</span>,\n",
       "        <span style=\"font-weight: bold\">{</span>\n",
       "            <span style=\"color: #008000; text-decoration-color: #008000\">'index'</span>: <span style=\"color: #008080; text-decoration-color: #008080; font-weight: bold\">6</span>,\n",
       "            <span style=\"color: #008000; text-decoration-color: #008000\">'name'</span>: <span style=\"color: #008000; text-decoration-color: #008000\">'late payment'</span>,\n",
       "            <span style=\"color: #008000; text-decoration-color: #008000\">'explanation'</span>: <span style=\"color: #008000; text-decoration-color: #008000\">'up to $40'</span>,\n",
       "            <span style=\"color: #008000; text-decoration-color: #008000\">'value'</span>: <span style=\"color: #008080; text-decoration-color: #008080; font-weight: bold\">0</span>,\n",
       "            <span style=\"color: #008000; text-decoration-color: #008000\">'description'</span>: <span style=\"color: #008000; text-decoration-color: #008000\">'Up to $40.'</span>,\n",
       "            <span style=\"color: #008000; text-decoration-color: #008000\">'example'</span>: <span style=\"color: #008000; text-decoration-color: #008000\">'Make a late payment and pay a fee of up to $40.'</span>,\n",
       "            <span style=\"color: #008000; text-decoration-color: #008000\">'advertisement'</span>: <span style=\"color: #008000; text-decoration-color: #008000\">'Make a late payment and pay only up to $40!'</span>\n",
       "        <span style=\"font-weight: bold\">}</span>,\n",
       "        <span style=\"font-weight: bold\">{</span>\n",
       "            <span style=\"color: #008000; text-decoration-color: #008000\">'index'</span>: <span style=\"color: #008080; text-decoration-color: #008080; font-weight: bold\">7</span>,\n",
       "            <span style=\"color: #008000; text-decoration-color: #008000\">'name'</span>: <span style=\"color: #008000; text-decoration-color: #008000\">'over-the-credit-limit'</span>,\n",
       "            <span style=\"color: #008000; text-decoration-color: #008000\">'explanation'</span>: <span style=\"color: #008000; text-decoration-color: #008000\">'none'</span>,\n",
       "            <span style=\"color: #008000; text-decoration-color: #008000\">'value'</span>: <span style=\"color: #008080; text-decoration-color: #008080; font-weight: bold\">0</span>,\n",
       "            <span style=\"color: #008000; text-decoration-color: #008000\">'description'</span>: <span style=\"color: #008000; text-decoration-color: #008000\">'None'</span>,\n",
       "            <span style=\"color: #008000; text-decoration-color: #008000\">'example'</span>: <span style=\"color: #008000; text-decoration-color: #008000\">'None'</span>,\n",
       "            <span style=\"color: #008000; text-decoration-color: #008000\">'advertisement'</span>: <span style=\"color: #008000; text-decoration-color: #008000\">'None'</span>\n",
       "        <span style=\"font-weight: bold\">}</span>,\n",
       "        <span style=\"font-weight: bold\">{</span>\n",
       "            <span style=\"color: #008000; text-decoration-color: #008000\">'index'</span>: <span style=\"color: #008080; text-decoration-color: #008080; font-weight: bold\">8</span>,\n",
       "            <span style=\"color: #008000; text-decoration-color: #008000\">'name'</span>: <span style=\"color: #008000; text-decoration-color: #008000\">'return payment'</span>,\n",
       "            <span style=\"color: #008000; text-decoration-color: #008000\">'explanation'</span>: <span style=\"color: #008000; text-decoration-color: #008000\">'up to $40'</span>,\n",
       "            <span style=\"color: #008000; text-decoration-color: #008000\">'value'</span>: <span style=\"color: #008080; text-decoration-color: #008080; font-weight: bold\">0</span>,\n",
       "            <span style=\"color: #008000; text-decoration-color: #008000\">'description'</span>: <span style=\"color: #008000; text-decoration-color: #008000\">'Up to $40.'</span>,\n",
       "            <span style=\"color: #008000; text-decoration-color: #008000\">'example'</span>: <span style=\"color: #008000; text-decoration-color: #008000\">'Make a return payment and pay a fee of up to $40.'</span>,\n",
       "            <span style=\"color: #008000; text-decoration-color: #008000\">'advertisement'</span>: <span style=\"color: #008000; text-decoration-color: #008000\">'Make a return payment and pay only up to $40!'</span>\n",
       "        <span style=\"font-weight: bold\">}</span>,\n",
       "        <span style=\"font-weight: bold\">{</span>\n",
       "            <span style=\"color: #008000; text-decoration-color: #008000\">'index'</span>: <span style=\"color: #008080; text-decoration-color: #008080; font-weight: bold\">9</span>,\n",
       "            <span style=\"color: #008000; text-decoration-color: #008000\">'name'</span>: <span style=\"color: #008000; text-decoration-color: #008000\">'return check'</span>,\n",
       "            <span style=\"color: #008000; text-decoration-color: #008000\">'explanation'</span>: <span style=\"color: #008000; text-decoration-color: #008000\">'none'</span>,\n",
       "            <span style=\"color: #008000; text-decoration-color: #008000\">'value'</span>: <span style=\"color: #008080; text-decoration-color: #008080; font-weight: bold\">0</span>,\n",
       "            <span style=\"color: #008000; text-decoration-color: #008000\">'description'</span>: <span style=\"color: #008000; text-decoration-color: #008000\">'None'</span>,\n",
       "            <span style=\"color: #008000; text-decoration-color: #008000\">'example'</span>: <span style=\"color: #008000; text-decoration-color: #008000\">'None'</span>,\n",
       "            <span style=\"color: #008000; text-decoration-color: #008000\">'advertisement'</span>: <span style=\"color: #008000; text-decoration-color: #008000\">'None'</span>\n",
       "        <span style=\"font-weight: bold\">}</span>\n",
       "    <span style=\"font-weight: bold\">]</span>,\n",
       "    <span style=\"color: #008000; text-decoration-color: #008000\">'interest_rates'</span>: <span style=\"color: #008000; text-decoration-color: #008000\">'Purchase Annual Percentage Rate (APR) 0% Intro APR for the first 18 months that your Account</span>\n",
       "<span style=\"color: #008000; text-decoration-color: #008000\">is open. After that, 19.49%. This APR will vary with the market based on the Prime Rate. My Chase Loan SM APR </span>\n",
       "<span style=\"color: #008000; text-decoration-color: #008000\">19.49%. This APR will vary with the market based on the Prime Rate. Balance Transfer APR 0% Intro APR for the first</span>\n",
       "<span style=\"color: #008000; text-decoration-color: #008000\">18 months that your Account is open. After that, 19.49%. This APR will vary with the market based on the Prime </span>\n",
       "<span style=\"color: #008000; text-decoration-color: #008000\">Rate. Cash Advance APR 29.49%. This APR will vary with the market based on the Prime Rate. Penalty APR and When It </span>\n",
       "<span style=\"color: #008000; text-decoration-color: #008000\">Applies Up to 29.99%. This APR will vary with the market based on the Prime Rate.'</span>\n",
       "<span style=\"font-weight: bold\">}</span>\n",
       "</pre>\n"
      ],
      "text/plain": [
       "\u001b[1m{\u001b[0m\n",
       "    \u001b[32m'fees'\u001b[0m: \u001b[1m[\u001b[0m\n",
       "        \u001b[1m{\u001b[0m\n",
       "            \u001b[32m'index'\u001b[0m: \u001b[1;36m1\u001b[0m,\n",
       "            \u001b[32m'name'\u001b[0m: \u001b[32m'annual membership'\u001b[0m,\n",
       "            \u001b[32m'explanation'\u001b[0m: \u001b[32m'annual fee for membership'\u001b[0m,\n",
       "            \u001b[32m'value'\u001b[0m: \u001b[1;36m0\u001b[0m,\n",
       "            \u001b[32m'description'\u001b[0m: \u001b[32m'None'\u001b[0m,\n",
       "            \u001b[32m'example'\u001b[0m: \u001b[32m'None'\u001b[0m,\n",
       "            \u001b[32m'advertisement'\u001b[0m: \u001b[32m'None'\u001b[0m\n",
       "        \u001b[1m}\u001b[0m,\n",
       "        \u001b[1m{\u001b[0m\n",
       "            \u001b[32m'index'\u001b[0m: \u001b[1;36m2\u001b[0m,\n",
       "            \u001b[32m'name'\u001b[0m: \u001b[32m'my chase plan'\u001b[0m,\n",
       "            \u001b[32m'explanation'\u001b[0m: \u001b[32m'fixed finance charge'\u001b[0m,\n",
       "            \u001b[32m'value'\u001b[0m: \u001b[1;36m1.72\u001b[0m,\n",
       "            \u001b[32m'description'\u001b[0m: \u001b[32m'Monthly fee of 0% of the amount of each eligible purchase transaction or amount \u001b[0m\n",
       "\u001b[32mselected to create a My Chase Plan while in the 0% Intro Purchase APR period. After that, monthly fee of 1.72% of \u001b[0m\n",
       "\u001b[32mthe amount of each eligible purchase transaction or amount selected to create a My Chase Plan. The My Chase Plan \u001b[0m\n",
       "\u001b[32mFee will be determined at the time each My Chase Plan is created and will remain the same until the My Chase Plan \u001b[0m\n",
       "\u001b[32mis paid in full.'\u001b[0m,\n",
       "            \u001b[32m'example'\u001b[0m: \u001b[32m'None'\u001b[0m,\n",
       "            \u001b[32m'advertisement'\u001b[0m: \u001b[32m'None'\u001b[0m\n",
       "        \u001b[1m}\u001b[0m,\n",
       "        \u001b[1m{\u001b[0m\n",
       "            \u001b[32m'index'\u001b[0m: \u001b[1;36m3\u001b[0m,\n",
       "            \u001b[32m'name'\u001b[0m: \u001b[32m'balance transfers'\u001b[0m,\n",
       "            \u001b[32m'explanation'\u001b[0m: \u001b[32m'intro fee of either $5 or 3% of the amount of each transfer, whichever is greater'\u001b[0m,\n",
       "            \u001b[32m'value'\u001b[0m: \u001b[1;36m3\u001b[0m,\n",
       "            \u001b[32m'description'\u001b[0m: \u001b[32m'Intro fee of either $5 or 3% of the amount of each transfer, whichever is greater, on \u001b[0m\n",
       "\u001b[32mtransfers made within 60 days of account opening. After that: Either $5 or 5% of the amount of each transfer, \u001b[0m\n",
       "\u001b[32mwhichever is greater.'\u001b[0m,\n",
       "            \u001b[32m'example'\u001b[0m: \u001b[32m'Transfer $100 and pay a fee of $3.'\u001b[0m,\n",
       "            \u001b[32m'advertisement'\u001b[0m: \u001b[32m'Transfer your balance and pay only a 3% fee!'\u001b[0m\n",
       "        \u001b[1m}\u001b[0m,\n",
       "        \u001b[1m{\u001b[0m\n",
       "            \u001b[32m'index'\u001b[0m: \u001b[1;36m4\u001b[0m,\n",
       "            \u001b[32m'name'\u001b[0m: \u001b[32m'cash advances'\u001b[0m,\n",
       "            \u001b[32m'explanation'\u001b[0m: \u001b[32m'either $10 or 5% of the amount of each transaction, whichever is greater'\u001b[0m,\n",
       "            \u001b[32m'value'\u001b[0m: \u001b[1;36m5\u001b[0m,\n",
       "            \u001b[32m'description'\u001b[0m: \u001b[32m'Either $10 or 5% of the amount of each transaction, whichever is greater.'\u001b[0m,\n",
       "            \u001b[32m'example'\u001b[0m: \u001b[32m'Withdraw $100 and pay a fee of $5.'\u001b[0m,\n",
       "            \u001b[32m'advertisement'\u001b[0m: \u001b[32m'Withdraw cash and pay only a 5% fee!'\u001b[0m\n",
       "        \u001b[1m}\u001b[0m,\n",
       "        \u001b[1m{\u001b[0m\n",
       "            \u001b[32m'index'\u001b[0m: \u001b[1;36m5\u001b[0m,\n",
       "            \u001b[32m'name'\u001b[0m: \u001b[32m'foreign transactions'\u001b[0m,\n",
       "            \u001b[32m'explanation'\u001b[0m: \u001b[32m'3% of the amount of each transaction in U.S. dollars'\u001b[0m,\n",
       "            \u001b[32m'value'\u001b[0m: \u001b[1;36m3\u001b[0m,\n",
       "            \u001b[32m'description'\u001b[0m: \u001b[32m'3% of the amount of each transaction in U.S. dollars.'\u001b[0m,\n",
       "            \u001b[32m'example'\u001b[0m: \u001b[32m'Make a purchase of $100 and pay a fee of $3.'\u001b[0m,\n",
       "            \u001b[32m'advertisement'\u001b[0m: \u001b[32m'Make purchases abroad and pay only a 3% fee!'\u001b[0m\n",
       "        \u001b[1m}\u001b[0m,\n",
       "        \u001b[1m{\u001b[0m\n",
       "            \u001b[32m'index'\u001b[0m: \u001b[1;36m6\u001b[0m,\n",
       "            \u001b[32m'name'\u001b[0m: \u001b[32m'late payment'\u001b[0m,\n",
       "            \u001b[32m'explanation'\u001b[0m: \u001b[32m'up to $40'\u001b[0m,\n",
       "            \u001b[32m'value'\u001b[0m: \u001b[1;36m0\u001b[0m,\n",
       "            \u001b[32m'description'\u001b[0m: \u001b[32m'Up to $40.'\u001b[0m,\n",
       "            \u001b[32m'example'\u001b[0m: \u001b[32m'Make a late payment and pay a fee of up to $40.'\u001b[0m,\n",
       "            \u001b[32m'advertisement'\u001b[0m: \u001b[32m'Make a late payment and pay only up to $40!'\u001b[0m\n",
       "        \u001b[1m}\u001b[0m,\n",
       "        \u001b[1m{\u001b[0m\n",
       "            \u001b[32m'index'\u001b[0m: \u001b[1;36m7\u001b[0m,\n",
       "            \u001b[32m'name'\u001b[0m: \u001b[32m'over-the-credit-limit'\u001b[0m,\n",
       "            \u001b[32m'explanation'\u001b[0m: \u001b[32m'none'\u001b[0m,\n",
       "            \u001b[32m'value'\u001b[0m: \u001b[1;36m0\u001b[0m,\n",
       "            \u001b[32m'description'\u001b[0m: \u001b[32m'None'\u001b[0m,\n",
       "            \u001b[32m'example'\u001b[0m: \u001b[32m'None'\u001b[0m,\n",
       "            \u001b[32m'advertisement'\u001b[0m: \u001b[32m'None'\u001b[0m\n",
       "        \u001b[1m}\u001b[0m,\n",
       "        \u001b[1m{\u001b[0m\n",
       "            \u001b[32m'index'\u001b[0m: \u001b[1;36m8\u001b[0m,\n",
       "            \u001b[32m'name'\u001b[0m: \u001b[32m'return payment'\u001b[0m,\n",
       "            \u001b[32m'explanation'\u001b[0m: \u001b[32m'up to $40'\u001b[0m,\n",
       "            \u001b[32m'value'\u001b[0m: \u001b[1;36m0\u001b[0m,\n",
       "            \u001b[32m'description'\u001b[0m: \u001b[32m'Up to $40.'\u001b[0m,\n",
       "            \u001b[32m'example'\u001b[0m: \u001b[32m'Make a return payment and pay a fee of up to $40.'\u001b[0m,\n",
       "            \u001b[32m'advertisement'\u001b[0m: \u001b[32m'Make a return payment and pay only up to $40!'\u001b[0m\n",
       "        \u001b[1m}\u001b[0m,\n",
       "        \u001b[1m{\u001b[0m\n",
       "            \u001b[32m'index'\u001b[0m: \u001b[1;36m9\u001b[0m,\n",
       "            \u001b[32m'name'\u001b[0m: \u001b[32m'return check'\u001b[0m,\n",
       "            \u001b[32m'explanation'\u001b[0m: \u001b[32m'none'\u001b[0m,\n",
       "            \u001b[32m'value'\u001b[0m: \u001b[1;36m0\u001b[0m,\n",
       "            \u001b[32m'description'\u001b[0m: \u001b[32m'None'\u001b[0m,\n",
       "            \u001b[32m'example'\u001b[0m: \u001b[32m'None'\u001b[0m,\n",
       "            \u001b[32m'advertisement'\u001b[0m: \u001b[32m'None'\u001b[0m\n",
       "        \u001b[1m}\u001b[0m\n",
       "    \u001b[1m]\u001b[0m,\n",
       "    \u001b[32m'interest_rates'\u001b[0m: \u001b[32m'Purchase Annual Percentage Rate \u001b[0m\u001b[32m(\u001b[0m\u001b[32mAPR\u001b[0m\u001b[32m)\u001b[0m\u001b[32m 0% Intro APR for the first 18 months that your Account\u001b[0m\n",
       "\u001b[32mis open. After that, 19.49%. This APR will vary with the market based on the Prime Rate. My Chase Loan SM APR \u001b[0m\n",
       "\u001b[32m19.49%. This APR will vary with the market based on the Prime Rate. Balance Transfer APR 0% Intro APR for the first\u001b[0m\n",
       "\u001b[32m18 months that your Account is open. After that, 19.49%. This APR will vary with the market based on the Prime \u001b[0m\n",
       "\u001b[32mRate. Cash Advance APR 29.49%. This APR will vary with the market based on the Prime Rate. Penalty APR and When It \u001b[0m\n",
       "\u001b[32mApplies Up to 29.99%. This APR will vary with the market based on the Prime Rate.'\u001b[0m\n",
       "\u001b[1m}\u001b[0m\n"
      ]
     },
     "metadata": {},
     "output_type": "display_data"
    },
    {
     "data": {
      "text/html": [
       "<pre style=\"white-space:pre;overflow-x:auto;line-height:normal;font-family:Menlo,'DejaVu Sans Mono',consolas,'Courier New',monospace\"><span style=\"color: #00ff00; text-decoration-color: #00ff00; font-style: italic\">True</span>\n",
       "</pre>\n"
      ],
      "text/plain": [
       "\u001b[3;92mTrue\u001b[0m\n"
      ]
     },
     "metadata": {},
     "output_type": "display_data"
    },
    {
     "data": {
      "text/plain": [
       "(None, None, None)"
      ]
     },
     "execution_count": 10,
     "metadata": {},
     "output_type": "execute_result"
    }
   ],
   "source": [
    "rich.print(response), rich.print(response_as_dict), rich.print(validated_response)"
   ]
  },
  {
   "cell_type": "code",
   "execution_count": 6,
   "metadata": {},
   "outputs": [],
   "source": [
    "# prompt = schema.prompt.format(document=content[:6000])\n",
    "# response = schema.llm_ask(prompt)\n",
    "# response_as_dict = json.loads(response)\n",
    "\n",
    "# # Save response_as_dict to a file\n",
    "# with open('response_as_dict.json', 'w') as f:\n",
    "#     json.dump(response_as_dict, f, indent=4)"
   ]
  },
  {
   "cell_type": "code",
   "execution_count": 7,
   "metadata": {},
   "outputs": [],
   "source": [
    "with open('response_as_dict.json', 'r') as f:\n",
    "    response_as_dict = json.load(f)\n"
   ]
  },
  {
   "cell_type": "code",
   "execution_count": 14,
   "metadata": {},
   "outputs": [
    {
     "name": "stderr",
     "output_type": "stream",
     "text": [
      "DEBUG:guardrails.x_validators:Validating annual membership is lower case...\n",
      "DEBUG:guardrails.x_validators:Validation outcome: True\n",
      "DEBUG:guardrails.x_validators:Validating annual membership is two words...\n",
      "DEBUG:guardrails.x_validators:Validation outcome: True\n",
      "DEBUG:guardrails.x_validators:Validating annual fee for membership is a single line...\n",
      "DEBUG:guardrails.x_validators:Validation outcome: True\n",
      "DEBUG:guardrails.x_validators:Validating None is in length range 0 - 200...\n",
      "DEBUG:guardrails.x_validators:Value None is in range 0 - 200.\n",
      "DEBUG:guardrails.x_validators:Validating my chase plan is lower case...\n",
      "DEBUG:guardrails.x_validators:Validation outcome: True\n",
      "DEBUG:guardrails.x_validators:Validating my chase plan is two words...\n",
      "DEBUG:guardrails.x_validators:Validation outcome: False\n"
     ]
    },
    {
     "name": "stdout",
     "output_type": "stream",
     "text": [
      "Field: fees\n",
      "Field fees is in schema\n",
      "Outcome: False\n",
      "Field: interest_rates\n",
      "Field interest_rates is in schema\n",
      "Outcome: True\n"
     ]
    }
   ],
   "source": [
    "for field, value in response_as_dict.items():\n",
    "\n",
    "    print(f\"Field: {field}\")\n",
    "\n",
    "    if field not in schema.schema:\n",
    "        print(f\"Field {field} not in schema\")\n",
    "        continue\n",
    "\n",
    "    print(f\"Field {field} is in schema\")\n",
    "    outcome = schema.schema[field].validate(value)\n",
    "    print(f\"Outcome: {outcome}\")\n"
   ]
  },
  {
   "cell_type": "code",
   "execution_count": null,
   "metadata": {},
   "outputs": [],
   "source": []
  },
  {
   "cell_type": "code",
   "execution_count": null,
   "metadata": {},
   "outputs": [],
   "source": []
  },
  {
   "cell_type": "code",
   "execution_count": null,
   "metadata": {},
   "outputs": [],
   "source": []
  },
  {
   "cell_type": "code",
   "execution_count": null,
   "metadata": {},
   "outputs": [],
   "source": []
  },
  {
   "cell_type": "code",
   "execution_count": null,
   "metadata": {},
   "outputs": [],
   "source": []
  },
  {
   "cell_type": "code",
   "execution_count": null,
   "metadata": {},
   "outputs": [],
   "source": []
  },
  {
   "cell_type": "code",
   "execution_count": null,
   "metadata": {},
   "outputs": [],
   "source": []
  },
  {
   "cell_type": "code",
   "execution_count": null,
   "metadata": {},
   "outputs": [],
   "source": []
  },
  {
   "cell_type": "code",
   "execution_count": null,
   "metadata": {},
   "outputs": [],
   "source": []
  },
  {
   "cell_type": "code",
   "execution_count": null,
   "metadata": {},
   "outputs": [],
   "source": []
  },
  {
   "cell_type": "code",
   "execution_count": 9,
   "metadata": {},
   "outputs": [
    {
     "name": "stdout",
     "output_type": "stream",
     "text": [
      "<prompt>\n",
      "    <list name=\"fees\" description=\"What fees and charges are associated with my account?\">\n",
      "        <object>\n",
      "            <integer name=\"index\" format=\"1-indexed\" />\n",
      "            <string name=\"name\" format=\"lower-case; two-words\" />\n",
      "            <string name=\"explanation\" format=\"one-line\" />\n",
      "            <float name=\"value\" format=\"percentage\" />\n",
      "            <string name=\"description\" format=\"length: 0 200\" />\n",
      "            <string name=\"example\" required=\"True\" format=\"tone-twitter explain-high-quality\" />\n",
      "            <string name=\"advertisement\" format=\"tagline tv-ad\" />\n",
      "        </object>\n",
      "    </list>\n",
      "    <string name=\"interest_rates\" description=\"What are the interest rates offered by the bank on savings and checking accounts, loans, and credit products?\" />\n",
      "    \n",
      "</prompt>\n"
     ]
    }
   ],
   "source": [
    "print(schema.prompt)"
   ]
  },
  {
   "cell_type": "code",
   "execution_count": 7,
   "metadata": {},
   "outputs": [
    {
     "name": "stdout",
     "output_type": "stream",
     "text": [
      "\n",
      "\n",
      "The fees associated with your account include:\n",
      "\n",
      "1. Maintenance Fee: A fee charged for the maintenance of your account. Value: 0.25%. Description: This fee is charged for the upkeep of your account and is usually charged on a monthly basis. Example: \"A $5 monthly maintenance fee is charged for the upkeep of your account.\" Advertisement: \"Keep your money safe with our low maintenance fees!\"\n",
      "\n",
      "2. Transaction Fee: A fee charged for each transaction made with your account. Value: 0.10%. Description: This fee is charged for each transaction made with your account and is usually charged on a per-transaction basis. Example: \"A $0.50 fee is charged for each transaction made with your account.\" Advertisement: \"Make transactions with ease and low fees!\"\n",
      "\n",
      "3. ATM Fee: A fee charged for using an ATM. Value: 0.15%. Description: This fee is charged for using an ATM and is usually charged on a per-transaction basis. Example: \"A $2 fee is charged for each ATM transaction made with your account.\" Advertisement: \"Make ATM transactions with ease and low fees!\"\n",
      "\n",
      "The interest rates offered by the bank on savings and checking accounts, loans, and credit products vary depending on the type of account and product. Please contact your local branch for more information.\n"
     ]
    }
   ],
   "source": [
    "print(raw_response)"
   ]
  },
  {
   "cell_type": "code",
   "execution_count": 9,
   "metadata": {},
   "outputs": [],
   "source": [
    "import openai\n",
    "\n",
    "with open('openai_api_key.txt', 'r') as f:\n",
    "    openai_api_key = f.read()\n",
    "\n",
    "models_list = openai.Model.list(api_key=openai_api_key)\n"
   ]
  },
  {
   "cell_type": "code",
   "execution_count": 12,
   "metadata": {},
   "outputs": [
    {
     "name": "stdout",
     "output_type": "stream",
     "text": [
      "object\n",
      "data\n"
     ]
    }
   ],
   "source": [
    "for model in models_list:\n",
    "    print(model)"
   ]
  },
  {
   "cell_type": "code",
   "execution_count": 25,
   "metadata": {},
   "outputs": [
    {
     "name": "stdout",
     "output_type": "stream",
     "text": [
      "babbage\n",
      "davinci\n",
      "gpt-3.5-turbo-0301\n",
      "text-davinci-003\n",
      "babbage-code-search-code\n",
      "text-similarity-babbage-001\n",
      "text-davinci-001\n",
      "ada\n",
      "curie-instruct-beta\n",
      "babbage-code-search-text\n",
      "babbage-similarity\n",
      "gpt-3.5-turbo\n",
      "code-davinci-002\n",
      "code-search-babbage-text-001\n",
      "text-embedding-ada-002\n",
      "code-cushman-001\n",
      "whisper-1\n",
      "code-search-babbage-code-001\n",
      "audio-transcribe-deprecated\n",
      "text-ada-001\n",
      "text-similarity-ada-001\n",
      "text-davinci-insert-002\n",
      "ada-code-search-code\n",
      "ada-similarity\n",
      "code-search-ada-text-001\n",
      "text-search-ada-query-001\n",
      "text-curie-001\n",
      "text-davinci-edit-001\n",
      "davinci-search-document\n",
      "ada-code-search-text\n",
      "text-search-ada-doc-001\n",
      "code-davinci-edit-001\n",
      "davinci-instruct-beta\n",
      "text-similarity-curie-001\n",
      "code-search-ada-code-001\n",
      "ada-search-query\n",
      "text-search-davinci-query-001\n",
      "curie-search-query\n",
      "davinci-search-query\n",
      "text-davinci-insert-001\n",
      "babbage-search-document\n",
      "ada-search-document\n",
      "text-search-curie-query-001\n",
      "text-search-babbage-doc-001\n",
      "text-davinci-002\n",
      "curie-search-document\n",
      "text-search-curie-doc-001\n",
      "babbage-search-query\n",
      "text-babbage-001\n",
      "text-search-davinci-doc-001\n",
      "text-search-babbage-query-001\n",
      "curie-similarity\n",
      "curie\n",
      "text-similarity-davinci-001\n",
      "davinci-similarity\n",
      "cushman:2020-05-03\n",
      "ada:2020-05-03\n",
      "babbage:2020-05-03\n",
      "curie:2020-05-03\n",
      "davinci:2020-05-03\n",
      "if-davinci-v2\n",
      "if-curie-v2\n",
      "if-davinci:3.0.0\n",
      "davinci-if:3.0.0\n",
      "davinci-instruct-beta:2.0.0\n",
      "text-ada:001\n",
      "text-davinci:001\n",
      "text-curie:001\n",
      "text-babbage:001\n"
     ]
    }
   ],
   "source": [
    "for model in models_list['data']:\n",
    "    print(model['id'])"
   ]
  },
  {
   "cell_type": "code",
   "execution_count": 18,
   "metadata": {},
   "outputs": [
    {
     "data": {
      "text/plain": [
       "Foo(key='key', value=[1, 2, 3], error=None)"
      ]
     },
     "execution_count": 18,
     "metadata": {},
     "output_type": "execute_result"
    }
   ],
   "source": [
    "from dataclasses import dataclass\n",
    "\n",
    "@dataclass\n",
    "class Foo(BaseException):\n",
    "\n",
    "    key: str\n",
    "    value: list\n",
    "    error: BaseException = None\n",
    "    \n",
    "    def __str__(self) -> str:\n",
    "        return f\"Error {self.error} with key {self.key} and value {self.value}.\"\n",
    "\n",
    "Foo('key', [1, 2, 3])"
   ]
  },
  {
   "cell_type": "code",
   "execution_count": 19,
   "metadata": {},
   "outputs": [
    {
     "ename": "TypeError",
     "evalue": "exceptions must derive from BaseException",
     "output_type": "error",
     "traceback": [
      "\u001b[0;31m---------------------------------------------------------------------------\u001b[0m",
      "\u001b[0;31mTypeError\u001b[0m                                 Traceback (most recent call last)",
      "Cell \u001b[0;32mIn[19], line 1\u001b[0m\n\u001b[0;32m----> 1\u001b[0m \u001b[39mraise\u001b[39;00m Foo(\u001b[39m'\u001b[39m\u001b[39mkey\u001b[39m\u001b[39m'\u001b[39m, [\u001b[39m1\u001b[39m, \u001b[39m2\u001b[39m, \u001b[39m3\u001b[39m], \u001b[39mValueError\u001b[39;00m(\u001b[39m'\u001b[39m\u001b[39mMy error\u001b[39m\u001b[39m'\u001b[39m))\n",
      "\u001b[0;31mTypeError\u001b[0m: exceptions must derive from BaseException"
     ]
    }
   ],
   "source": [
    "raise Foo('key', [1, 2, 3], ValueError('My error'))"
   ]
  },
  {
   "cell_type": "code",
   "execution_count": null,
   "metadata": {},
   "outputs": [],
   "source": []
  }
 ],
 "metadata": {
  "kernelspec": {
   "display_name": "tiff-env",
   "language": "python",
   "name": "python3"
  },
  "language_info": {
   "codemirror_mode": {
    "name": "ipython",
    "version": 3
   },
   "file_extension": ".py",
   "mimetype": "text/x-python",
   "name": "python",
   "nbconvert_exporter": "python",
   "pygments_lexer": "ipython3",
   "version": "3.9.16"
  },
  "orig_nbformat": 4,
  "vscode": {
   "interpreter": {
    "hash": "ef14f49bbc779f2fde64ca0552c2a99d578405052f5b73f61279551da311a8a1"
   }
  }
 },
 "nbformat": 4,
 "nbformat_minor": 2
}
