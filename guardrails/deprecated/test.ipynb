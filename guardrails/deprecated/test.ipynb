{
 "cells": [
  {
   "cell_type": "code",
   "execution_count": 1,
   "metadata": {},
   "outputs": [],
   "source": [
    "import typing as t\n",
    "from dataclasses import dataclass\n",
    "\n",
    "from guardrails.prompt_repo import PromptRepo, Prompt\n",
    "from guardrails.guardrails import Schema\n",
    "from guardrails.types import DataType, String, URL, Email, Date, Time, Percentage, CodeSnippet, Float\n",
    "from guardrails.utils import TextSplitter, read_pdf"
   ]
  },
  {
   "cell_type": "code",
   "execution_count": 3,
   "metadata": {},
   "outputs": [],
   "source": [
    "prompt_repo = PromptRepo()\n",
    "prompt_repo.add_prompt('Fees', 'What fees and charges are associated with my account, including account maintenance fees, transaction fees, and overdraft fees?')\n",
    "prompt_repo.add_prompt('Interest Rates', 'What are the interest rates offered by the bank on savings and checking accounts, loans, and credit products?')\n",
    "prompt_repo.add_prompt(\"Limitations\", \"Are there any limitations on the number or frequency of transactions, transfers, or withdrawals from my account?\")\n",
    "prompt_repo.add_prompt(\"Liability\", \"What is the maximum amount I am liable for in case of fraud, unauthorized transactions, or other security breaches?\")\n",
    "prompt_repo.add_prompt(\"Privacy\", \"What are the bank's policies on data collection, sharing, and protection?\")\n",
    "prompt_repo.add_prompt(\"Disputes\", \"What are the procedures for resolving disputes with the bank, including information on arbitration, mediation, and lawsuits?\")\n",
    "prompt_repo.add_prompt(\"Account Termination\", \"Under what circumstances can the bank terminate my account, and what notice is required for such termination?\")\n",
    "prompt_repo.add_prompt(\"Regulatory Oversight\", \"What is the bank's regulatory oversight, including its licensing and compliance status?\")"
   ]
  },
  {
   "cell_type": "code",
   "execution_count": 4,
   "metadata": {},
   "outputs": [],
   "source": [
    "@dataclass\n",
    "class ToS(Schema):\n",
    "    fees: DataType = String(name='Fees')\n",
    "    interest_rates: DataType = Float(name='Interest Rates')\n",
    "    limitations: DataType = String(name='Limitations')\n",
    "    liability: DataType = String(name='Liability')\n",
    "    privacy: DataType = String(name='Privacy')\n",
    "    disputes: DataType = String(name='Disputes')\n",
    "    account_termination: DataType = String(name='Account Termination')\n",
    "    regulatory_oversight: DataType = String(name='Regulatory Oversight')\n",
    "    prompt_repo: prompt_repo = prompt_repo"
   ]
  },
  {
   "cell_type": "code",
   "execution_count": 5,
   "metadata": {},
   "outputs": [],
   "source": [
    "base_prompt_template = Prompt(\"\"\"Given the following document, answer the following questions. If the answer doesn't exist in the document, enter 'None'.\n",
    "\n",
    "{document}\"\"\")"
   ]
  },
  {
   "cell_type": "code",
   "execution_count": 67,
   "metadata": {},
   "outputs": [],
   "source": [
    "class ToSReader:\n",
    "    def __init__(self):\n",
    "        self.splitter = TextSplitter()\n",
    "        self.prompt_template = base_prompt_template\n",
    "        self.schema = ToS()\n",
    "        self.schema.add_to_prompt(prompt=self.prompt_template)\n",
    "\n",
    "    def extract(self, path: str):\n",
    "        content = read_pdf(path)\n",
    "        content_chunks = self.splitter(content, prompt_template=self.prompt_template)\n",
    "\n",
    "        # Write each chunk to a file in the data folder\n",
    "        for i, chunk in enumerate(content_chunks):\n",
    "            with open(f\"data/chunk_{i}.txt\", \"w\") as f:\n",
    "                f.write(chunk)\n",
    "\n",
    "        # for chunk in content_chunks:\n",
    "        #     self.extract_from_chunk(chunk)\n",
    "        #     break\n",
    "\n",
    "    def extract_from_chunk(self, chunk: str) -> t.List[t.Dict[str, t.Any]]:\n",
    "        \"\"\"Extracts the info from the given chunk.\"\"\"\n",
    "\n",
    "        prompt = self.prompt_template.format(document=chunk)\n",
    "        llm_output = Completion.create(\n",
    "            model=\"text-davinci-003\",\n",
    "            prompt=prompt,\n",
    "            temperature=0,\n",
    "            max_tokens=2048,\n",
    "            api_key=api_key\n",
    "        )\n",
    "        extracted_info = llm_output['choices'][0]['text']\n",
    "        print(f\"extracted_info: {extracted_info}\")\n",
    "        return extracted_info"
   ]
  },
  {
   "cell_type": "code",
   "execution_count": 68,
   "metadata": {},
   "outputs": [],
   "source": [
    "extractor = ToSReader()\n",
    "extractor.extract('chase_zelle.pdf')"
   ]
  },
  {
   "cell_type": "code",
   "execution_count": 60,
   "metadata": {},
   "outputs": [
    {
     "data": {
      "text/plain": [
       "<__main__.ToSReader at 0x7f9b51172e80>"
      ]
     },
     "execution_count": 60,
     "metadata": {},
     "output_type": "execute_result"
    }
   ],
   "source": [
    "extractor.add_to_prompt('Fees', 'What fees and charges are associated with my account, including account maintenance fees, transaction fees, and overdraft fees?')"
   ]
  },
  {
   "cell_type": "code",
   "execution_count": 8,
   "metadata": {},
   "outputs": [],
   "source": [
    "content = read_pdf('chase_zelle.pdf')\n",
    "content_chunks = extractor.splitter(content, prompt_template=extractor.prompt_template)\n",
    "\n",
    "prompt = extractor.prompt_template.format(document=content_chunks[0])\n",
    "llm_output = Completion.create(\n",
    "    model=\"text-davinci-003\",\n",
    "    prompt=prompt,\n",
    "    temperature=0,\n",
    "    max_tokens=2048,\n",
    "    api_key=api_key\n",
    ")\n",
    "extracted_info = llm_output['choices'][0]['text']"
   ]
  },
  {
   "cell_type": "code",
   "execution_count": 66,
   "metadata": {},
   "outputs": [
    {
     "name": "stdout",
     "output_type": "stream",
     "text": [
      "her agree not to use the Service to request, send or receive money\n",
      "from anyone to whom you are obligated for tax payments, payments made pursuant to\n",
      "court orders (including court-ordered amounts for alimony or child support), fines,\n",
      "\n",
      "Questions:\n",
      "0. Account Termination: Under what circumstances can the bank terminate my account, and what notice is required for such termination?\n",
      "1. Disputes: What are the procedures for resolving disputes with the bank, including information on arbitration, mediation, and lawsuits?\n",
      "2. Fees: What fees and charges are associated with my account, including account maintenance fees, transaction fees, and overdraft fees?\n",
      "3. Interest Rates: What are the interest rates offered by the bank on savings and checking accounts, loans, and credit products?\n",
      "4. Liability: What is the maximum amount I am liable for in case of fraud, unauthorized transactions, or other security breaches?\n",
      "5. Limitations: Are there any limitations on the number or frequency of transactions, transfers, or withdrawals from my account?\n",
      "6. Privacy: What are the bank's policies on data collection, sharing, and protection?\n",
      "7. Regulatory Oversight: What is the bank's regulatory oversight, including its licensing and compliance status?\n",
      "\n",
      "To answer these questions, respond in this format:\n",
      "0. Regulatory Oversight: << answer to question 0 >>\n",
      "1. Regulatory Oversight: << answer to question 1 >>\n",
      "2. Regulatory Oversight: << answer to question 2 >>\n",
      "3. Regulatory Oversight: << answer to question 3 >>\n",
      "4. Regulatory Oversight: << answer to question 4 >>\n",
      "5. Regulatory Oversight: << answer to question 5 >>\n",
      "6. Regulatory Oversight: << answer to question 6 >>\n",
      "7. Regulatory Oversight: << answer to question 7 >>\n",
      "\n",
      "Try to be as correct and concise as possible. Find all relevant information in the document and answer the questions, even if the answer is 'None'.\n",
      "If you are unsure of the answer, enter 'None'. If you answer incorrectly, you will be asked again until you get it right which is expensive.\n"
     ]
    }
   ],
   "source": [
    "print(prompt[-2000:])"
   ]
  },
  {
   "cell_type": "code",
   "execution_count": 9,
   "metadata": {},
   "outputs": [
    {
     "name": "stdout",
     "output_type": "stream",
     "text": [
      "\n",
      "\n",
      "0. Account Termination: None\n",
      "1. Disputes: Please refer to Section 23 of this Agreement for information on disputes.\n",
      "2. Fees: Please refer to Section 17 of this Agreement for information on fees.\n",
      "3. Interest Rates: None\n",
      "4. Liability: Please refer to Section 18 of this Agreement for information on liability.\n",
      "5. Limitations: Please refer to Section 14 of this Agreement for information on transfer limits.\n",
      "6. Privacy: Please refer to Section 24 of this Agreement for information on privacy.\n",
      "7. Regulatory Oversight: None\n"
     ]
    }
   ],
   "source": [
    "print(extracted_info)"
   ]
  },
  {
   "cell_type": "code",
   "execution_count": 11,
   "metadata": {},
   "outputs": [
    {
     "ename": "AttributeError",
     "evalue": "'list' object has no attribute 'parseString'",
     "output_type": "error",
     "traceback": [
      "\u001b[0;31m---------------------------------------------------------------------------\u001b[0m",
      "\u001b[0;31mAttributeError\u001b[0m                            Traceback (most recent call last)",
      "Cell \u001b[0;32mIn[11], line 3\u001b[0m\n\u001b[1;32m      1\u001b[0m grammar \u001b[39m=\u001b[39m extractor\u001b[39m.\u001b[39mschema\u001b[39m.\u001b[39mgrammar_rules()\n\u001b[0;32m----> 3\u001b[0m grammar\u001b[39m.\u001b[39;49mparseString(extracted_info)\n",
      "\u001b[0;31mAttributeError\u001b[0m: 'list' object has no attribute 'parseString'"
     ]
    }
   ],
   "source": [
    "grammar = extractor.schema.grammar_rules()\n",
    "\n",
    "grammar.parseString(extracted_info)"
   ]
  },
  {
   "cell_type": "code",
   "execution_count": 12,
   "metadata": {},
   "outputs": [
    {
     "name": "stdout",
     "output_type": "stream",
     "text": [
      "\n",
      "\n",
      "1--. Account Termination: None\n",
      "1. Disputes: Please refer to Section 23 of this Agreement for information on disputes.\n",
      "2. Fees: Please refer to Section 17 of this Agreement for information on fees.\n",
      "3. Interest Rates: None\n",
      "4. Liability: Please refer to Section 18 of this Agreement for information on liability.\n",
      "5. Limitations: Please refer to Section 14 of this Agreement for information on transfer limits.\n",
      "6. Privacy: Please refer to Section 24 of this Agreement for information on privacy.\n",
      "7. Regulatory Oversight: None\n"
     ]
    }
   ],
   "source": [
    "from copy import deepcopy\n",
    "\n",
    "info_copy = deepcopy(extracted_info)\n",
    "info_copy = '\\n\\n1--' + info_copy[3:]\n",
    "print(info_copy)"
   ]
  },
  {
   "cell_type": "code",
   "execution_count": null,
   "metadata": {},
   "outputs": [],
   "source": [
    "from copy import deepcopy\n",
    "\n",
    "info_copy = deepcopy(extracted_info)\n",
    "info_copy = '\\n\\n1--' + info_copy[3:]\n",
    "print(info_copy)"
   ]
  },
  {
   "cell_type": "code",
   "execution_count": 25,
   "metadata": {},
   "outputs": [
    {
     "data": {
      "text/plain": [
       "Expected CaselessKeyword '0. Account Termination:', found '1'  (at char 2), (line:3, col:1)"
      ]
     },
     "execution_count": 25,
     "metadata": {},
     "output_type": "execute_result"
    }
   ],
   "source": [
    "exceptions[0]"
   ]
  },
  {
   "cell_type": "code",
   "execution_count": 28,
   "metadata": {},
   "outputs": [
    {
     "data": {
      "text/plain": [
       "['__cause__',\n",
       " '__class__',\n",
       " '__context__',\n",
       " '__delattr__',\n",
       " '__dict__',\n",
       " '__dir__',\n",
       " '__doc__',\n",
       " '__eq__',\n",
       " '__format__',\n",
       " '__ge__',\n",
       " '__getattribute__',\n",
       " '__gt__',\n",
       " '__hash__',\n",
       " '__init__',\n",
       " '__init_subclass__',\n",
       " '__le__',\n",
       " '__lt__',\n",
       " '__module__',\n",
       " '__ne__',\n",
       " '__new__',\n",
       " '__reduce__',\n",
       " '__reduce_ex__',\n",
       " '__repr__',\n",
       " '__setattr__',\n",
       " '__setstate__',\n",
       " '__sizeof__',\n",
       " '__str__',\n",
       " '__subclasshook__',\n",
       " '__suppress_context__',\n",
       " '__traceback__',\n",
       " '__weakref__',\n",
       " '_from_exception',\n",
       " 'args',\n",
       " 'col',\n",
       " 'column',\n",
       " 'explain',\n",
       " 'explain_exception',\n",
       " 'line',\n",
       " 'lineno',\n",
       " 'loc',\n",
       " 'markInputline',\n",
       " 'mark_input_line',\n",
       " 'msg',\n",
       " 'parserElement',\n",
       " 'parser_element',\n",
       " 'pstr',\n",
       " 'with_traceback']"
      ]
     },
     "execution_count": 28,
     "metadata": {},
     "output_type": "execute_result"
    }
   ],
   "source": [
    "dir(exceptions[0])"
   ]
  },
  {
   "cell_type": "code",
   "execution_count": 30,
   "metadata": {},
   "outputs": [
    {
     "data": {
      "text/plain": [
       "'0. Account Termination:'"
      ]
     },
     "execution_count": 30,
     "metadata": {},
     "output_type": "execute_result"
    }
   ],
   "source": [
    "exceptions[0].parserElement"
   ]
  },
  {
   "cell_type": "code",
   "execution_count": 31,
   "metadata": {},
   "outputs": [
    {
     "data": {
      "text/plain": [
       "'0. Account Termination:'"
      ]
     },
     "execution_count": 31,
     "metadata": {},
     "output_type": "execute_result"
    }
   ],
   "source": [
    "exceptions[0].parser_element"
   ]
  },
  {
   "cell_type": "code",
   "execution_count": 32,
   "metadata": {},
   "outputs": [
    {
     "data": {
      "text/plain": [
       "'DEFAULT_KEYWORD_CHARS'"
      ]
     },
     "execution_count": 32,
     "metadata": {},
     "output_type": "execute_result"
    }
   ],
   "source": [
    "exceptions[0].parser_element"
   ]
  },
  {
   "cell_type": "code",
   "execution_count": 29,
   "metadata": {},
   "outputs": [
    {
     "data": {
      "text/plain": [
       "\"Expected CaselessKeyword '0. Account Termination:'\""
      ]
     },
     "execution_count": 29,
     "metadata": {},
     "output_type": "execute_result"
    }
   ],
   "source": [
    "exceptions[0].msg"
   ]
  },
  {
   "cell_type": "code",
   "execution_count": 33,
   "metadata": {},
   "outputs": [
    {
     "data": {
      "text/plain": [
       "'1--. Account Termination: None'"
      ]
     },
     "execution_count": 33,
     "metadata": {},
     "output_type": "execute_result"
    }
   ],
   "source": [
    "exceptions[0].line"
   ]
  },
  {
   "cell_type": "code",
   "execution_count": 22,
   "metadata": {},
   "outputs": [
    {
     "name": "stdout",
     "output_type": "stream",
     "text": [
      "1--. Account Termination: None\n",
      "^\n",
      "ParseException: Expected CaselessKeyword '0. Account Termination:', found '1'  (at char 2), (line:3, col:1)\n"
     ]
    }
   ],
   "source": [
    "explanation = []\n",
    "exceptions = []\n",
    "try:\n",
    "    for g in grammar:\n",
    "        g.parseString(info_copy)\n",
    "except Exception as e:\n",
    "    # print(e)\n",
    "    # print(dir(e))\n",
    "    # print(e.explain())\n",
    "    explanation.append(e.explain())\n",
    "    exceptions.append(e)\n",
    "\n",
    "print(explanation[0])"
   ]
  },
  {
   "cell_type": "code",
   "execution_count": 39,
   "metadata": {},
   "outputs": [
    {
     "data": {
      "text/plain": [
       "'\\n\\n1--. Account Termination: None\\n1. Disputes: Please refer to Section 23 of this Agreement for information on disputes.\\n2. Fees: Please refer to Section 17 of this Agreement for information on fees.\\n3. Interest Rates: None\\n4. Liability: Please refer to Section 18 of this Agreement for information on liability.\\n5. Limitations: Please refer to Section 14 of this Agreement for information on transfer limits.\\n6. Privacy: Please refer to Section 24 of this Agreement for information on privacy.\\n7. Regulatory Oversight: None'"
      ]
     },
     "execution_count": 39,
     "metadata": {},
     "output_type": "execute_result"
    }
   ],
   "source": [
    "info_copy"
   ]
  },
  {
   "cell_type": "code",
   "execution_count": 56,
   "metadata": {},
   "outputs": [
    {
     "data": {
      "text/plain": [
       "\"'0. Account Termination:' Re:('.+')\""
      ]
     },
     "execution_count": 56,
     "metadata": {},
     "output_type": "execute_result"
    }
   ],
   "source": [
    "f'{str(grammar[0])[1: -1]}'"
   ]
  },
  {
   "cell_type": "code",
   "execution_count": 46,
   "metadata": {},
   "outputs": [],
   "source": [
    "try:\n",
    "    grammar[0].parseString('0. Account Termination:')\n",
    "except Exception as e:\n",
    "    other_exc = e"
   ]
  },
  {
   "cell_type": "code",
   "execution_count": 53,
   "metadata": {},
   "outputs": [
    {
     "data": {
      "text/plain": [
       "Re:('.+')"
      ]
     },
     "execution_count": 53,
     "metadata": {},
     "output_type": "execute_result"
    }
   ],
   "source": [
    "other_exc.parser_element"
   ]
  },
  {
   "cell_type": "code",
   "execution_count": null,
   "metadata": {},
   "outputs": [],
   "source": []
  },
  {
   "cell_type": "code",
   "execution_count": 21,
   "metadata": {},
   "outputs": [
    {
     "data": {
      "text/plain": [
       "\"1--. Account Termination: None\\n^\\nParseException: Expected CaselessKeyword '0. Account Termination:', found '1'  (at char 2), (line:3, col:1)\""
      ]
     },
     "execution_count": 21,
     "metadata": {},
     "output_type": "execute_result"
    }
   ],
   "source": [
    "explanation[0]"
   ]
  },
  {
   "cell_type": "code",
   "execution_count": 20,
   "metadata": {},
   "outputs": [
    {
     "name": "stdout",
     "output_type": "stream",
     "text": [
      "1--. Account Termination: None\n",
      "ParseException: Expected CaselessKeyword '0. Account Termination:', found '1'  (at char 2), (line:3, col:1)\n"
     ]
    }
   ],
   "source": [
    "incorrect_output, exp = explanation[0].split(\"\\n^\\n\")\n",
    "print(incorrect_output)\n",
    "print(exp)\n",
    "\n",
    "# Write a prompt that corrects the incorrect output based on the explanation\n",
    "# E.g. for the following incorrect output and explanation:\n",
    "# incorrect_output = '1--. Account Termination: None'ArithmeticError\n",
    "# exp = 'ParseException: Expected CaselessKeyword '0. Account Termination:', found '1'  (at char 2), (line:3, col:1)'\n",
    "# debug_prompt should be 'The following is incorrect: \"1--. Account Termination: None\". The correct output is: \"0. Account Termination:\" followed by a string.'\n",
    "debug_prompt = Prompt(f\"\"\"The following is incorrect: \"{incorrect_output}\". The correct output is: \"{exp.parserElement}\" followed by a string.\"\"\")"
   ]
  },
  {
   "cell_type": "code",
   "execution_count": 1,
   "metadata": {},
   "outputs": [],
   "source": [
    "from guardrails.validators import get_rule"
   ]
  },
  {
   "cell_type": "code",
   "execution_count": 4,
   "metadata": {},
   "outputs": [],
   "source": [
    "from pyparsing import CaselessKeyword, Regex"
   ]
  },
  {
   "cell_type": "code",
   "execution_count": 5,
   "metadata": {},
   "outputs": [
    {
     "data": {
      "text/plain": [
       "abc.ABCMeta"
      ]
     },
     "execution_count": 5,
     "metadata": {},
     "output_type": "execute_result"
    }
   ],
   "source": [
    "type(Regex)"
   ]
  },
  {
   "cell_type": "code",
   "execution_count": 58,
   "metadata": {},
   "outputs": [
    {
     "ename": "ParseException",
     "evalue": "Expected Re:('.{100,}'), found 'aaaaaaaaaaaaaaaa'  (at char 0), (line:1, col:1)",
     "output_type": "error",
     "traceback": [
      "\u001b[0;31m---------------------------------------------------------------------------\u001b[0m",
      "\u001b[0;31mParseException\u001b[0m                            Traceback (most recent call last)",
      "Cell \u001b[0;32mIn[58], line 10\u001b[0m\n\u001b[1;32m      5\u001b[0m short_string \u001b[39m=\u001b[39m \u001b[39m'\u001b[39m\u001b[39ma\u001b[39m\u001b[39m'\u001b[39m \u001b[39m*\u001b[39m \u001b[39m99\u001b[39m\n\u001b[1;32m      8\u001b[0m \u001b[39mfrom\u001b[39;00m \u001b[39mguardrails\u001b[39;00m\u001b[39m.\u001b[39;00m\u001b[39mvalidators\u001b[39;00m \u001b[39mimport\u001b[39;00m VerboseStringValidator\n\u001b[0;32m---> 10\u001b[0m VerboseStringValidator\u001b[39m.\u001b[39;49mgrammar()\u001b[39m.\u001b[39;49mparse_string(short_string)\n",
      "File \u001b[0;32m~/anaconda3/envs/tiff-env/lib/python3.9/site-packages/pyparsing/core.py:1141\u001b[0m, in \u001b[0;36mParserElement.parse_string\u001b[0;34m(self, instring, parse_all, parseAll)\u001b[0m\n\u001b[1;32m   1138\u001b[0m         \u001b[39mraise\u001b[39;00m\n\u001b[1;32m   1139\u001b[0m     \u001b[39melse\u001b[39;00m:\n\u001b[1;32m   1140\u001b[0m         \u001b[39m# catch and re-raise exception from here, clearing out pyparsing internal stack trace\u001b[39;00m\n\u001b[0;32m-> 1141\u001b[0m         \u001b[39mraise\u001b[39;00m exc\u001b[39m.\u001b[39mwith_traceback(\u001b[39mNone\u001b[39;00m)\n\u001b[1;32m   1142\u001b[0m \u001b[39melse\u001b[39;00m:\n\u001b[1;32m   1143\u001b[0m     \u001b[39mreturn\u001b[39;00m tokens\n",
      "\u001b[0;31mParseException\u001b[0m: Expected Re:('.{100,}'), found 'aaaaaaaaaaaaaaaa'  (at char 0), (line:1, col:1)"
     ]
    }
   ],
   "source": [
    "# Write a string longer than 100 characters\n",
    "long_string = 'a' * 101\n",
    "\n",
    "# Write a string shorter than 100 characters\n",
    "short_string = 'a' * 99\n",
    "\n",
    "\n",
    "from guardrails.validators import VerboseStringValidator\n",
    "\n",
    "VerboseStringValidator.grammar().parse_string(short_string)"
   ]
  },
  {
   "cell_type": "code",
   "execution_count": null,
   "metadata": {},
   "outputs": [],
   "source": []
  }
 ],
 "metadata": {
  "kernelspec": {
   "display_name": "tiff-env",
   "language": "python",
   "name": "python3"
  },
  "language_info": {
   "codemirror_mode": {
    "name": "ipython",
    "version": 3
   },
   "file_extension": ".py",
   "mimetype": "text/x-python",
   "name": "python",
   "nbconvert_exporter": "python",
   "pygments_lexer": "ipython3",
   "version": "3.9.16"
  },
  "orig_nbformat": 4,
  "vscode": {
   "interpreter": {
    "hash": "ef14f49bbc779f2fde64ca0552c2a99d578405052f5b73f61279551da311a8a1"
   }
  }
 },
 "nbformat": 4,
 "nbformat_minor": 2
}
