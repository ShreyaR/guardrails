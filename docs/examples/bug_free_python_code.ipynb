{
 "cells": [
  {
   "attachments": {},
   "cell_type": "markdown",
   "metadata": {},
   "source": [
    "# Generating Bug Free Leetcode Solutions\n",
    "\n",
    ":::note\n",
    "To download this tutorial as a Jupyter notebook, click [here](https://github.com/guardrails-ai/guardrails/blob/main/docs/examples/bug_free_python_code.ipynb).\n",
    ":::\n",
    "\n",
    "In this example, we want to solve String Manipulation leetcode problems such that the code is bug free.\n",
    "\n",
    "We make the assumption that:\n",
    "\n",
    "1. We don't need any external libraries that are not already installed in the environment.\n",
    "2. We are able to execute the code in the environment.\n",
    "\n",
    "## Objective\n",
    "\n",
    "We want to generate bug-free code for solving leetcode problems. In this example, we don't account for semantic bugs, only for syntactic bugs.\n",
    "\n",
    "In short, we want to make sure that the code can be executed without any errors.\n",
    "\n",
    "## Step 1: Install validators from the hub\n",
    "\n",
    "First, we install the validators and packages we need to make sure generated python is valid."
   ]
  },
  {
   "cell_type": "code",
   "execution_count": 29,
   "metadata": {},
   "outputs": [
    {
     "name": "stdout",
     "output_type": "stream",
     "text": [
      "Installing hub:\u001b[35m/\u001b[0m\u001b[35m/reflex/\u001b[0m\u001b[95mvalid_python...\u001b[0m\n",
      "✅Successfully installed reflex/valid_python!\n",
      "\n",
      "\n"
     ]
    }
   ],
   "source": [
    "!guardrails hub install hub://reflex/valid_python --quiet"
   ]
  },
  {
   "cell_type": "markdown",
   "metadata": {},
   "source": [
    "# Step 2: Create a `Guard` object\n",
    "\n",
    "The Guard object contains the validations we aim to check the generated code against. This object also takes corrective action to fix the code if it doesn't pass the validations. As configured here, it will reask the LLM to correct the code."
   ]
  },
  {
   "cell_type": "code",
   "execution_count": 30,
   "metadata": {},
   "outputs": [],
   "source": [
    "from guardrails.hub import ValidPython\n",
    "from guardrails import Guard\n",
    "\n",
    "guard = Guard().use(ValidPython(on_fail=\"reask\"))"
   ]
  },
  {
   "attachments": {},
   "cell_type": "markdown",
   "metadata": {},
   "source": [
    "## Step 3: Use the `Guard` to make and validate the LLM API call"
   ]
  },
  {
   "cell_type": "code",
   "execution_count": 36,
   "metadata": {},
   "outputs": [
    {
     "data": {
      "text/html": [
       "<pre style=\"white-space:pre;overflow-x:auto;line-height:normal;font-family:Menlo,'DejaVu Sans Mono',consolas,'Courier New',monospace\"><span style=\"color: #800080; text-decoration-color: #800080; font-weight: bold\">ValidationOutcome</span><span style=\"font-weight: bold\">(</span>\n",
       "    <span style=\"color: #808000; text-decoration-color: #808000\">call_id</span>=<span style=\"color: #008000; text-decoration-color: #008000\">'12105167920'</span>,\n",
       "    <span style=\"color: #808000; text-decoration-color: #808000\">raw_llm_output</span>=<span style=\"color: #008000; text-decoration-color: #008000\">'def longest_palindromic_substring(s):\\n    n = len(s)\\n    if n == 0:\\n        return \"\"\\n    </span>\n",
       "<span style=\"color: #008000; text-decoration-color: #008000\">\\n    start, max_length = 0, 1\\n    \\n    for i in range(1, n):\\n        low, high = i - 1, i\\n        while low &gt;=</span>\n",
       "<span style=\"color: #008000; text-decoration-color: #008000\">0 and high &lt; n and s[low] == s[high]:\\n            if high - low + 1 &gt; max_length:\\n                start = low\\n  </span>\n",
       "<span style=\"color: #008000; text-decoration-color: #008000\">max_length = high - low + 1\\n            low -= 1\\n            high += 1\\n        \\n        low, high = i - 1, i + </span>\n",
       "<span style=\"color: #008000; text-decoration-color: #008000\">1\\n        while low &gt;= 0 and high &lt; n and s[low] == s[high]:\\n            if high - low + 1 &gt; max_length:\\n       </span>\n",
       "<span style=\"color: #008000; text-decoration-color: #008000\">start = low\\n                max_length = high - low + 1\\n            low -= 1\\n            high += 1\\n    \\n    </span>\n",
       "<span style=\"color: #008000; text-decoration-color: #008000\">return s[start:start + max_length]\\n\\n# Example usage:\\ns = \"babad\"\\nprint(longest_palindromic_substring(s))  # </span>\n",
       "<span style=\"color: #008000; text-decoration-color: #008000\">Output: \"bab\" or \"aba\"'</span><span style=\"color: #000000; text-decoration-color: #000000\">,</span>\n",
       "<span style=\"color: #000000; text-decoration-color: #000000\">    </span><span style=\"color: #808000; text-decoration-color: #808000\">validated_output</span><span style=\"color: #000000; text-decoration-color: #000000\">=</span><span style=\"color: #008000; text-decoration-color: #008000\">'def longest_palindromic_substring(s):\\n    n = len(s)\\n    if n == 0:\\n        return \"\"\\n   </span>\n",
       "<span style=\"color: #008000; text-decoration-color: #008000\">\\n    start, max_length = 0, 1\\n    \\n    for i in range(1, n):\\n        low, high = i - 1, i\\n        while low &gt;=</span>\n",
       "<span style=\"color: #008000; text-decoration-color: #008000\">0 and high &lt; n and s[low] == s[high]:\\n            if high - low + 1 &gt; max_length:\\n                start = low\\n  </span>\n",
       "<span style=\"color: #008000; text-decoration-color: #008000\">max_length = high - low + 1\\n            low -= 1\\n            high += 1\\n        \\n        low, high = i - 1, i + </span>\n",
       "<span style=\"color: #008000; text-decoration-color: #008000\">1\\n        while low &gt;= 0 and high &lt; n and s[low] == s[high]:\\n            if high - low + 1 &gt; max_length:\\n       </span>\n",
       "<span style=\"color: #008000; text-decoration-color: #008000\">start = low\\n                max_length = high - low + 1\\n            low -= 1\\n            high += 1\\n    \\n    </span>\n",
       "<span style=\"color: #008000; text-decoration-color: #008000\">return s[start:start + max_length]\\n\\n# Example usage:\\ns = \"babad\"\\nprint(longest_palindromic_substring(s))  # </span>\n",
       "<span style=\"color: #008000; text-decoration-color: #008000\">Output: \"bab\" or \"aba\"'</span>,\n",
       "    <span style=\"color: #808000; text-decoration-color: #808000\">reask</span>=<span style=\"color: #800080; text-decoration-color: #800080; font-style: italic\">None</span>,\n",
       "    <span style=\"color: #808000; text-decoration-color: #808000\">validation_passed</span>=<span style=\"color: #00ff00; text-decoration-color: #00ff00; font-style: italic\">True</span>,\n",
       "    <span style=\"color: #808000; text-decoration-color: #808000\">error</span>=<span style=\"color: #800080; text-decoration-color: #800080; font-style: italic\">None</span>\n",
       "<span style=\"font-weight: bold\">)</span>\n",
       "</pre>\n"
      ],
      "text/plain": [
       "\u001b[1;35mValidationOutcome\u001b[0m\u001b[1m(\u001b[0m\n",
       "    \u001b[33mcall_id\u001b[0m=\u001b[32m'12105167920'\u001b[0m,\n",
       "    \u001b[33mraw_llm_output\u001b[0m=\u001b[32m'def longest_palindromic_substring\u001b[0m\u001b[32m(\u001b[0m\u001b[32ms\u001b[0m\u001b[32m)\u001b[0m\u001b[32m:\\n    n = len\u001b[0m\u001b[32m(\u001b[0m\u001b[32ms\u001b[0m\u001b[32m)\u001b[0m\u001b[32m\\n    if n == 0:\\n        return \"\"\\n    \u001b[0m\n",
       "\u001b[32m\\n    start, max_length = 0, 1\\n    \\n    for i in range\u001b[0m\u001b[32m(\u001b[0m\u001b[32m1, n\u001b[0m\u001b[32m)\u001b[0m\u001b[32m:\\n        low, high = i - 1, i\\n        while low >=\u001b[0m\n",
       "\u001b[32m0 and high \u001b[0m\u001b[32m<\u001b[0m\u001b[32m n and s\u001b[0m\u001b[32m[\u001b[0m\u001b[32mlow\u001b[0m\u001b[32m]\u001b[0m\u001b[32m == s\u001b[0m\u001b[32m[\u001b[0m\u001b[32mhigh\u001b[0m\u001b[32m]\u001b[0m\u001b[32m:\\n            if high - low + 1 > max_length:\\n                start = low\\n  \u001b[0m\n",
       "\u001b[32mmax_length = high - low + 1\\n            low -= 1\\n            high += 1\\n        \\n        low, high = i - 1, i + \u001b[0m\n",
       "\u001b[32m1\\n        while low >= 0 and high < n and s\u001b[0m\u001b[32m[\u001b[0m\u001b[32mlow\u001b[0m\u001b[32m]\u001b[0m\u001b[32m == s\u001b[0m\u001b[32m[\u001b[0m\u001b[32mhigh\u001b[0m\u001b[32m]\u001b[0m\u001b[32m:\\n            if high - low + 1 > max_length:\\n       \u001b[0m\n",
       "\u001b[32mstart = low\\n                max_length = high - low + 1\\n            low -= 1\\n            high += 1\\n    \\n    \u001b[0m\n",
       "\u001b[32mreturn s\u001b[0m\u001b[32m[\u001b[0m\u001b[32mstart:start + max_length\u001b[0m\u001b[32m]\u001b[0m\u001b[32m\\n\\n# Example usage:\\ns = \"babad\"\\nprint\u001b[0m\u001b[32m(\u001b[0m\u001b[32mlongest_palindromic_substring\u001b[0m\u001b[32m(\u001b[0m\u001b[32ms\u001b[0m\u001b[32m)\u001b[0m\u001b[32m)\u001b[0m\u001b[32m  # \u001b[0m\n",
       "\u001b[32mOutput: \"bab\" or \"aba\"'\u001b[0m\u001b[39m,\u001b[0m\n",
       "\u001b[39m    \u001b[0m\u001b[33mvalidated_output\u001b[0m\u001b[39m=\u001b[0m\u001b[32m'def longest_palindromic_substring\u001b[0m\u001b[32m(\u001b[0m\u001b[32ms\u001b[0m\u001b[32m)\u001b[0m\u001b[32m:\\n    n = len\u001b[0m\u001b[32m(\u001b[0m\u001b[32ms\u001b[0m\u001b[32m)\u001b[0m\u001b[32m\\n    if n == 0:\\n        return \"\"\\n   \u001b[0m\n",
       "\u001b[32m\\n    start, max_length = 0, 1\\n    \\n    for i in range\u001b[0m\u001b[32m(\u001b[0m\u001b[32m1, n\u001b[0m\u001b[32m)\u001b[0m\u001b[32m:\\n        low, high = i - 1, i\\n        while low >=\u001b[0m\n",
       "\u001b[32m0 and high < n and s\u001b[0m\u001b[32m[\u001b[0m\u001b[32mlow\u001b[0m\u001b[32m]\u001b[0m\u001b[32m == s\u001b[0m\u001b[32m[\u001b[0m\u001b[32mhigh\u001b[0m\u001b[32m]\u001b[0m\u001b[32m:\\n            if high - low + 1 > max_length:\\n                start = low\\n  \u001b[0m\n",
       "\u001b[32mmax_length = high - low + 1\\n            low -= 1\\n            high += 1\\n        \\n        low, high = i - 1, i + \u001b[0m\n",
       "\u001b[32m1\\n        while low >= 0 and high < n and s\u001b[0m\u001b[32m[\u001b[0m\u001b[32mlow\u001b[0m\u001b[32m]\u001b[0m\u001b[32m == s\u001b[0m\u001b[32m[\u001b[0m\u001b[32mhigh\u001b[0m\u001b[32m]\u001b[0m\u001b[32m:\\n            if high - low + 1 \u001b[0m\u001b[32m>\u001b[0m\u001b[32m max_length:\\n       \u001b[0m\n",
       "\u001b[32mstart = low\\n                max_length = high - low + 1\\n            low -= 1\\n            high += 1\\n    \\n    \u001b[0m\n",
       "\u001b[32mreturn s\u001b[0m\u001b[32m[\u001b[0m\u001b[32mstart:start + max_length\u001b[0m\u001b[32m]\u001b[0m\u001b[32m\\n\\n# Example usage:\\ns = \"babad\"\\nprint\u001b[0m\u001b[32m(\u001b[0m\u001b[32mlongest_palindromic_substring\u001b[0m\u001b[32m(\u001b[0m\u001b[32ms\u001b[0m\u001b[32m)\u001b[0m\u001b[32m)\u001b[0m\u001b[32m  # \u001b[0m\n",
       "\u001b[32mOutput: \"bab\" or \"aba\"'\u001b[0m,\n",
       "    \u001b[33mreask\u001b[0m=\u001b[3;35mNone\u001b[0m,\n",
       "    \u001b[33mvalidation_passed\u001b[0m=\u001b[3;92mTrue\u001b[0m,\n",
       "    \u001b[33merror\u001b[0m=\u001b[3;35mNone\u001b[0m\n",
       "\u001b[1m)\u001b[0m\n"
      ]
     },
     "metadata": {},
     "output_type": "display_data"
    }
   ],
   "source": [
    "# Add your OPENAI_API_KEY as an environment variable if it's not already set\n",
    "# import os\n",
    "# os.environ[\"OPENAI_API_KEY\"] = \"YOUR_API_KEY\"\n",
    "\n",
    "prompt = \"\"\"\n",
    "Given the following high level leetcode problem description, write a short Python code snippet that solves the problem.\n",
    "Do not include any markdown in the response.\n",
    "\n",
    "Problem Description:\n",
    "${leetcode_problem}\n",
    "\"\"\"\n",
    "\n",
    "leetcode_problem = \"\"\"\n",
    "Given a string s, find the longest palindromic substring in s. You may assume that the maximum length of s is 1000.\n",
    "\"\"\"\n",
    "\n",
    "response = guard(\n",
    "    model=\"gpt-4o\",\n",
    "    messages=[{\n",
    "        \"role\": \"user\",\n",
    "        \"content\": prompt\n",
    "    }],\n",
    "    # prompt=prompt,\n",
    "    prompt_params={\"leetcode_problem\": leetcode_problem},\n",
    "    temperature=0\n",
    ")\n",
    "\n",
    "print(response)"
   ]
  },
  {
   "cell_type": "markdown",
   "metadata": {},
   "source": [
    "The response above shows a brief summary of what the Guard did. We can destructure it to show the final output:"
   ]
  },
  {
   "cell_type": "code",
   "execution_count": 34,
   "metadata": {},
   "outputs": [
    {
     "data": {
      "text/html": [
       "<pre style=\"white-space:pre;overflow-x:auto;line-height:normal;font-family:Menlo,'DejaVu Sans Mono',consolas,'Courier New',monospace\">def <span style=\"color: #800080; text-decoration-color: #800080; font-weight: bold\">longestPalindrome</span><span style=\"font-weight: bold\">(</span>s: str<span style=\"font-weight: bold\">)</span> -&gt; str:\n",
       "    if <span style=\"color: #800080; text-decoration-color: #800080; font-weight: bold\">len</span><span style=\"font-weight: bold\">(</span>s<span style=\"font-weight: bold\">)</span> == <span style=\"color: #008080; text-decoration-color: #008080; font-weight: bold\">0</span>:\n",
       "        return <span style=\"color: #008000; text-decoration-color: #008000\">\"\"</span>\n",
       "    \n",
       "    start, end = <span style=\"color: #008080; text-decoration-color: #008080; font-weight: bold\">0</span>, <span style=\"color: #008080; text-decoration-color: #008080; font-weight: bold\">0</span>\n",
       "    \n",
       "    for i in <span style=\"color: #800080; text-decoration-color: #800080; font-weight: bold\">range</span><span style=\"font-weight: bold\">(</span><span style=\"color: #800080; text-decoration-color: #800080; font-weight: bold\">len</span><span style=\"font-weight: bold\">(</span>s<span style=\"font-weight: bold\">))</span>:\n",
       "        len1 = <span style=\"color: #800080; text-decoration-color: #800080; font-weight: bold\">expandAroundCenter</span><span style=\"font-weight: bold\">(</span>s, i, i<span style=\"font-weight: bold\">)</span>\n",
       "        len2 = <span style=\"color: #800080; text-decoration-color: #800080; font-weight: bold\">expandAroundCenter</span><span style=\"font-weight: bold\">(</span>s, i, i + <span style=\"color: #008080; text-decoration-color: #008080; font-weight: bold\">1</span><span style=\"font-weight: bold\">)</span>\n",
       "        max_len = <span style=\"color: #800080; text-decoration-color: #800080; font-weight: bold\">max</span><span style=\"font-weight: bold\">(</span>len1, len2<span style=\"font-weight: bold\">)</span>\n",
       "        \n",
       "        if max_len &gt; end - start:\n",
       "            start = i - <span style=\"font-weight: bold\">(</span>max_len - <span style=\"color: #008080; text-decoration-color: #008080; font-weight: bold\">1</span><span style=\"font-weight: bold\">)</span> <span style=\"color: #800080; text-decoration-color: #800080\">//</span> <span style=\"color: #008080; text-decoration-color: #008080; font-weight: bold\">2</span>\n",
       "            end = i + max_len <span style=\"color: #800080; text-decoration-color: #800080\">//</span> <span style=\"color: #008080; text-decoration-color: #008080; font-weight: bold\">2</span>\n",
       "    \n",
       "    return s\n",
       "\n",
       "def <span style=\"color: #800080; text-decoration-color: #800080; font-weight: bold\">expandAroundCenter</span><span style=\"font-weight: bold\">(</span>s: str, left: int, right: int<span style=\"font-weight: bold\">)</span> -&gt; int:\n",
       "    while left &gt;= <span style=\"color: #008080; text-decoration-color: #008080; font-weight: bold\">0</span> and right &lt; <span style=\"color: #800080; text-decoration-color: #800080; font-weight: bold\">len</span><span style=\"font-weight: bold\">(</span>s<span style=\"font-weight: bold\">)</span> and s == s:\n",
       "        left -= <span style=\"color: #008080; text-decoration-color: #008080; font-weight: bold\">1</span>\n",
       "        right += <span style=\"color: #008080; text-decoration-color: #008080; font-weight: bold\">1</span>\n",
       "    return right - left - <span style=\"color: #008080; text-decoration-color: #008080; font-weight: bold\">1</span>\n",
       "\n",
       "# Example usage:\n",
       "s = <span style=\"color: #008000; text-decoration-color: #008000\">\"babad\"</span>\n",
       "<span style=\"color: #800080; text-decoration-color: #800080; font-weight: bold\">print</span><span style=\"font-weight: bold\">(</span><span style=\"color: #800080; text-decoration-color: #800080; font-weight: bold\">longestPalindrome</span><span style=\"font-weight: bold\">(</span>s<span style=\"font-weight: bold\">))</span>  # Output: <span style=\"color: #008000; text-decoration-color: #008000\">\"bab\"</span> or <span style=\"color: #008000; text-decoration-color: #008000\">\"aba\"</span>\n",
       "</pre>\n"
      ],
      "text/plain": [
       "def \u001b[1;35mlongestPalindrome\u001b[0m\u001b[1m(\u001b[0ms: str\u001b[1m)\u001b[0m -> str:\n",
       "    if \u001b[1;35mlen\u001b[0m\u001b[1m(\u001b[0ms\u001b[1m)\u001b[0m == \u001b[1;36m0\u001b[0m:\n",
       "        return \u001b[32m\"\"\u001b[0m\n",
       "    \n",
       "    start, end = \u001b[1;36m0\u001b[0m, \u001b[1;36m0\u001b[0m\n",
       "    \n",
       "    for i in \u001b[1;35mrange\u001b[0m\u001b[1m(\u001b[0m\u001b[1;35mlen\u001b[0m\u001b[1m(\u001b[0ms\u001b[1m)\u001b[0m\u001b[1m)\u001b[0m:\n",
       "        len1 = \u001b[1;35mexpandAroundCenter\u001b[0m\u001b[1m(\u001b[0ms, i, i\u001b[1m)\u001b[0m\n",
       "        len2 = \u001b[1;35mexpandAroundCenter\u001b[0m\u001b[1m(\u001b[0ms, i, i + \u001b[1;36m1\u001b[0m\u001b[1m)\u001b[0m\n",
       "        max_len = \u001b[1;35mmax\u001b[0m\u001b[1m(\u001b[0mlen1, len2\u001b[1m)\u001b[0m\n",
       "        \n",
       "        if max_len > end - start:\n",
       "            start = i - \u001b[1m(\u001b[0mmax_len - \u001b[1;36m1\u001b[0m\u001b[1m)\u001b[0m \u001b[35m/\u001b[0m\u001b[35m/\u001b[0m \u001b[1;36m2\u001b[0m\n",
       "            end = i + max_len \u001b[35m/\u001b[0m\u001b[35m/\u001b[0m \u001b[1;36m2\u001b[0m\n",
       "    \n",
       "    return s\n",
       "\n",
       "def \u001b[1;35mexpandAroundCenter\u001b[0m\u001b[1m(\u001b[0ms: str, left: int, right: int\u001b[1m)\u001b[0m -> int:\n",
       "    while left >= \u001b[1;36m0\u001b[0m and right < \u001b[1;35mlen\u001b[0m\u001b[1m(\u001b[0ms\u001b[1m)\u001b[0m and s == s:\n",
       "        left -= \u001b[1;36m1\u001b[0m\n",
       "        right += \u001b[1;36m1\u001b[0m\n",
       "    return right - left - \u001b[1;36m1\u001b[0m\n",
       "\n",
       "# Example usage:\n",
       "s = \u001b[32m\"babad\"\u001b[0m\n",
       "\u001b[1;35mprint\u001b[0m\u001b[1m(\u001b[0m\u001b[1;35mlongestPalindrome\u001b[0m\u001b[1m(\u001b[0ms\u001b[1m)\u001b[0m\u001b[1m)\u001b[0m  # Output: \u001b[32m\"bab\"\u001b[0m or \u001b[32m\"aba\"\u001b[0m\n"
      ]
     },
     "metadata": {},
     "output_type": "display_data"
    }
   ],
   "source": [
    "print(response.validated_output)"
   ]
  },
  {
   "attachments": {},
   "cell_type": "markdown",
   "metadata": {},
   "source": [
    "We can confirm that the code is bug free by executing the code in the environment."
   ]
  },
  {
   "cell_type": "code",
   "execution_count": 35,
   "metadata": {},
   "outputs": [
    {
     "data": {
      "text/html": [
       "<pre style=\"white-space:pre;overflow-x:auto;line-height:normal;font-family:Menlo,'DejaVu Sans Mono',consolas,'Courier New',monospace\">aba\n",
       "</pre>\n"
      ],
      "text/plain": [
       "aba\n"
      ]
     },
     "metadata": {},
     "output_type": "display_data"
    },
    {
     "data": {
      "text/html": [
       "<pre style=\"white-space:pre;overflow-x:auto;line-height:normal;font-family:Menlo,'DejaVu Sans Mono',consolas,'Courier New',monospace\">Success!\n",
       "</pre>\n"
      ],
      "text/plain": [
       "Success!\n"
      ]
     },
     "metadata": {},
     "output_type": "display_data"
    }
   ],
   "source": [
    "try:\n",
    "    exec(response.validated_output)\n",
    "    print(\"Success!\")\n",
    "except Exception as e:\n",
    "    print(\"Failed!\")"
   ]
  }
 ],
 "metadata": {
  "kernelspec": {
   "display_name": "tiff-env",
   "language": "python",
   "name": "python3"
  },
  "language_info": {
   "codemirror_mode": {
    "name": "ipython",
    "version": 3
   },
   "file_extension": ".py",
   "mimetype": "text/x-python",
   "name": "python",
   "nbconvert_exporter": "python",
   "pygments_lexer": "ipython3",
   "version": "3.11.7"
  },
  "orig_nbformat": 4,
  "vscode": {
   "interpreter": {
    "hash": "ef14f49bbc779f2fde64ca0552c2a99d578405052f5b73f61279551da311a8a1"
   }
  }
 },
 "nbformat": 4,
 "nbformat_minor": 2
}
