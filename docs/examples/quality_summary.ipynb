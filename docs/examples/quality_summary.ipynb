{
 "cells": [
  {
   "cell_type": "code",
   "execution_count": 1,
   "id": "initial_id",
   "metadata": {
    "ExecuteTime": {
     "end_time": "2024-02-25T00:10:17.184499Z",
     "start_time": "2024-02-25T00:10:11.260137Z"
    },
    "collapsed": true,
    "jupyter": {
     "outputs_hidden": true
    }
   },
   "outputs": [],
   "source": [
    "import guardrails as gd"
   ]
  },
  {
   "cell_type": "markdown",
   "id": "9ec41f251586e15d",
   "metadata": {
    "collapsed": false,
    "jupyter": {
     "outputs_hidden": false
    }
   },
   "source": [
    "The ideas in this tutorial are drawn from [From Sparse to Dense: GPT-4 Summarization with Chain of Density Prompting](https://arxiv.org/pdf/2309.04269.pdf)"
   ]
  },
  {
   "cell_type": "markdown",
   "id": "e813d27f9f231d28",
   "metadata": {
    "collapsed": false,
    "jupyter": {
     "outputs_hidden": false
    }
   },
   "source": [
    "In this tutorial, we will try to get a high quality summary from this news article https://www.nytimes.com/2024/02/17/nyregion/trump-civil-cases-millions.ht"
   ]
  },
  {
   "cell_type": "code",
   "execution_count": 2,
   "id": "9011e0851d63d12d",
   "metadata": {
    "ExecuteTime": {
     "end_time": "2024-02-25T00:10:17.193811Z",
     "start_time": "2024-02-25T00:10:17.186815Z"
    },
    "collapsed": false,
    "jupyter": {
     "outputs_hidden": false
    }
   },
   "outputs": [],
   "source": [
    "article = '''On Friday, the judge overseeing Mr. Trump’s civil fraud case issued a final ruling that inflicted a staggering financial penalty. With interest, the former president has been ordered to pay New York State about $450 million, a sum that threatens to wipe out a stockpile of cash, stocks and bonds that he amassed since leaving the White House, according to a New York Times review of Mr. Trump’s financial records. He will have only 30 days or so to either come up with the money or persuade an outside company to post a bond.\n",
    "\n",
    "The judge, Arthur F. Engoron, also imposed several new restrictions on Mr. Trump and his family business. For three years, Mr. Trump cannot run any New York company, including portions of his own, nor can he obtain a loan from a New York bank. The same restrictions apply to his adult sons for a two-year period. And the family business will be under the thumb of a watchful outsider, a court-appointed monitor who can hamstring the company if she does not like what she sees.\n",
    "\n",
    "All told, the judge’s decision poses unprecedented threats to Mr. Trump’s finances, his family business and his ego at a critical time for the former president. Although Mr. Trump will not go bankrupt and the Trump Organization will not go out of business, the company’s loudest hype man could for now become a silent partner in his hometown properties. The organization will be another real estate company in a city full of them — this one facing unusual new constraints that could impede its ability to compete.\n",
    "\n",
    "“Justice Engoron’s order could impose several years of paralysis at the Trump Organization,” said Jim Wheaton, a professor at William & Mary Law School who focuses on legal issues involving corporate entities and has studied Mr. Trump’s finances. The ruling, he added, could even “freeze the ability to make legitimate business decisions.”\n",
    "\n",
    "One of Mr. Trump’s lawyers, Christopher M. Kise, called the financial penalty “draconian and unconstitutional,” and said that the decision “will cause irreparable damage to both the business community and the rule of law in our country.”\n",
    "\n",
    "The punishments facing Mr. Trump and his company, some hard-hitting and some symbolic, could serve as a harrowing prelude to his criminal trials, the first of which is scheduled to begin next month. In those trials, for the first time, he faces the threat of prison.\n",
    "'''"
   ]
  },
  {
   "cell_type": "markdown",
   "id": "7b837c52b79bbf20",
   "metadata": {
    "collapsed": false,
    "jupyter": {
     "outputs_hidden": false
    }
   },
   "source": [
    "We want an LLM to summarize the news article above. \n",
    "\n",
    "Let's create a prompt for our summarization LLM.\n",
    "\n",
    "We'll give this LLM a creative name...The Summarizer."
   ]
  },
  {
   "cell_type": "code",
   "execution_count": 3,
   "id": "7716d25e7e59ab6a",
   "metadata": {
    "ExecuteTime": {
     "end_time": "2024-02-25T00:10:17.195393Z",
     "start_time": "2024-02-25T00:10:17.193716Z"
    },
    "collapsed": false,
    "jupyter": {
     "outputs_hidden": false
    }
   },
   "outputs": [],
   "source": [
    "summarizer_prompt_tmplt = '''Here is a portion of a news article:\n",
    "\n",
    "### START NEWS ARTICLE ####\n",
    "{article}\n",
    "### END NEWS ARTICLE \n",
    "\n",
    "Please provide a summary of the news article above\n",
    "'''"
   ]
  },
  {
   "cell_type": "markdown",
   "id": "d542ec28c2ac708c",
   "metadata": {
    "collapsed": false,
    "jupyter": {
     "outputs_hidden": false
    }
   },
   "source": [
    "Let's establish criteria for what a high-quality summary is.\n",
    "We will represent this criteria in a Pydantic class, so that we use it in a Guard.\n",
    "\n",
    "For each criteria, we must establish a valid range of scores.\n",
    "\n",
    "I have added a convenience function `to_prompt`. This allows the prompt criteria to be inserted into a prompt as natural language. "
   ]
  },
  {
   "cell_type": "code",
   "execution_count": 6,
   "id": "ec624646f9b3f0cd",
   "metadata": {
    "ExecuteTime": {
     "end_time": "2024-02-25T00:10:43.105320Z",
     "start_time": "2024-02-25T00:10:43.101475Z"
    },
    "collapsed": false,
    "jupyter": {
     "outputs_hidden": false
    }
   },
   "outputs": [],
   "source": [
    "from pydantic import BaseModel, Field\n",
    "from guardrails.validators import ValidRange\n",
    "class SummaryRatings(BaseModel):\n",
    "    informative: int = Field(description=\"An informative summary captures the important information in the article and presents it accurately\",\n",
    "                             validators=[ValidRange(min=1, max=5, on_fail='reask')])\n",
    "    coherent: int = Field(description=\"A coherent summary is well-structured and well-organized\",\n",
    "                           validators=[ValidRange(min=1, max=5, on_fail='reask')])\n",
    "    attributable: int = Field(description=\"Is all the information in the summary fully attributable to the Article?\",\n",
    "                              validators=[ValidRange(min=1, max=5, on_fail='reask')])\n",
    "    concise: int = Field(description=\"A good summary should convey the main ideas in the Article in less words.\",\n",
    "                                    validators=[ValidRange(min=1, max=5, on_fail='reask')])\n",
    "    @classmethod\n",
    "    def to_prompt(cls):\n",
    "        '''Returns rating criteria formatted as a bulleted list, for use in prompts.'''\n",
    "        return \"\\n- \" + \"\\n- \".join([f\"{str(k.title())}: {v.description}\" for k, v in cls.model_fields.items()])"
   ]
  },
  {
   "cell_type": "markdown",
   "id": "7d152ca64d305746",
   "metadata": {
    "collapsed": false,
    "jupyter": {
     "outputs_hidden": false
    }
   },
   "source": [
    "We need to explain our criteria in a prompt, so that an LLM can understand it. \n",
    "\n",
    "This LLM (which we will call the Critic) will use our criteria to evaluate the Summarizer."
   ]
  },
  {
   "cell_type": "code",
   "execution_count": 9,
   "id": "435af185c4461ca3",
   "metadata": {
    "ExecuteTime": {
     "end_time": "2024-02-25T00:11:07.286244Z",
     "start_time": "2024-02-25T00:11:07.202462Z"
    },
    "collapsed": false,
    "jupyter": {
     "outputs_hidden": false
    }
   },
   "outputs": [],
   "source": [
    "critic_prompt_tmplt = f'''Here is a portion of a news article:\n",
    "\n",
    "### BEGIN ARTICLE ###\n",
    "{article}\n",
    "### END ARTICLE ###\n",
    "\n",
    "Here is a summary of the article above:\n",
    "\n",
    "### BEGIN SUMMARY ###\n",
    "{{summary}}\n",
    "### END SUMMARY ###\n",
    "\n",
    "Please rate the quality of the summary, according to the following criteria:\n",
    "{SummaryRatings.to_prompt()}\n",
    "'''"
   ]
  },
  {
   "cell_type": "markdown",
   "id": "6559a82564cd3f3d",
   "metadata": {
    "collapsed": false,
    "jupyter": {
     "outputs_hidden": false
    }
   },
   "source": [
    "Let's create some functions that allow us to conveniently query the Summarizer and the Critic."
   ]
  },
  {
   "cell_type": "code",
   "execution_count": 11,
   "id": "73b6c628de8f1803",
   "metadata": {
    "ExecuteTime": {
     "end_time": "2024-02-25T00:12:24.850519Z",
     "start_time": "2024-02-25T00:12:24.766213Z"
    },
    "collapsed": false,
    "jupyter": {
     "outputs_hidden": false
    }
   },
   "outputs": [],
   "source": [
    "import openai\n",
    "from openai import AzureOpenAI\n",
    "import os\n",
    "\n",
    "client = OpenAI()\n",
    "\n",
    "def get_completion(prompt, model):\n",
    "    '''A generic function to get chat completions from an OpenAI model.'''\n",
    "    return client.chat.completions.create(\n",
    "        model=model,\n",
    "        messages=[{\"role\": \"system\", \"content\": \"You are a helpful assistant.\"}, {\"role\":\"user\", \"content\":prompt}]\n",
    "    ).choices[0].message.content\n",
    "\n",
    "#We will use GPT-4 as the Critic\n",
    "def invoke_critic(prompt, *args, **kwargs):\n",
    "    return get_completion(prompt, \"gpt-4\")\n",
    "#We will use GPT-3.5-Turbo as the Summarizer\n",
    "def invoke_summarizer(prompt, *args, **kwargs):\n",
    "    return get_completion(prompt, \"gpt-35-turbo\")"
   ]
  },
  {
   "cell_type": "markdown",
   "id": "3b326f486bd68ee8",
   "metadata": {
    "collapsed": false,
    "jupyter": {
     "outputs_hidden": false
    }
   },
   "source": [
    "Now we can create a Guard that uses the Critic.\n",
    "\n",
    "The Critic will act as a validator. It produces ratings, according to our SummaryRatings schema from above.\n",
    "\n",
    "If the Critic's ratings fall short of a threshold (which we set with the `thresh` parameter), then our validator fails its input."
   ]
  },
  {
   "cell_type": "code",
   "execution_count": 12,
   "id": "e341747cd60f98f3",
   "metadata": {
    "ExecuteTime": {
     "end_time": "2024-02-25T00:12:28.035474Z",
     "start_time": "2024-02-25T00:12:27.996416Z"
    },
    "collapsed": false,
    "jupyter": {
     "outputs_hidden": false
    }
   },
   "outputs": [],
   "source": [
    "from guardrails import Guard\n",
    "from guardrails.validators.llm_critic import LLMCritic\n",
    "from guardrails.validators import ToxicLanguage\n",
    "\n",
    "#Create a validator from the Critic\n",
    "critic = LLMCritic(\n",
    "    rating_schema=SummaryRatings,\n",
    "    critic_prompt_tmplt=critic_prompt_tmplt,\n",
    "    critic_llm_api=invoke_critic,\n",
    "    on_fail=\"reask\", \n",
    "    thresh=5,\n",
    "    critic_guard_kwargs={\n",
    "        \"num_reasks\":5\n",
    "    }\n",
    ")\n",
    "#Createa a Guard that uses the validator\n",
    "guard = Guard.from_string(validators=[critic])"
   ]
  },
  {
   "cell_type": "markdown",
   "id": "dc1cddaab46cc748",
   "metadata": {
    "collapsed": false,
    "jupyter": {
     "outputs_hidden": false
    }
   },
   "source": [
    "Now, let's use our critic to validate a piece of text.\n",
    "\n",
    "The example below serves as a sanity check of our validator.\n",
    "\n",
    "However, it also illustrates an interesting use-case...\n",
    "\n",
    "The LLMCritic validator can be used to validate results from very inferior algorithms. This can help determine whether data needs to be sent to manual review, for example. \n",
    "\n"
   ]
  },
  {
   "cell_type": "code",
   "execution_count": null,
   "id": "be9a0ffa0b8570fb",
   "metadata": {
    "collapsed": false,
    "jupyter": {
     "outputs_hidden": false
    }
   },
   "outputs": [],
   "source": [
    "raw_output, validated_output, *rest = Guard().use(critic).validate(\"Donald Trump was fined.\")"
   ]
  },
  {
   "cell_type": "code",
   "execution_count": 4,
   "id": "69d3c8c0a2d847fd",
   "metadata": {
    "ExecuteTime": {
     "end_time": "2024-02-25T00:16:55.121783Z",
     "start_time": "2024-02-25T00:16:55.041462Z"
    },
    "collapsed": false,
    "jupyter": {
     "outputs_hidden": false
    }
   },
   "outputs": [
    {
     "name": "stdout",
     "output_type": "stream",
     "text": [
      "None\n"
     ]
    }
   ],
   "source": [
    "print(validated_output)"
   ]
  },
  {
   "cell_type": "markdown",
   "id": "1baa723f2e63fee4",
   "metadata": {
    "collapsed": false,
    "jupyter": {
     "outputs_hidden": false
    }
   },
   "source": [
    "As you can see above, there is no valid output. The critic simply fails the poor summary.\n",
    "\n",
    "In our next example, we use the Critic to validate GPT-35-Turbo as a Summarizer."
   ]
  },
  {
   "cell_type": "code",
   "execution_count": null,
   "id": "1bebde3cb62ad484",
   "metadata": {
    "collapsed": false,
    "jupyter": {
     "outputs_hidden": false
    }
   },
   "outputs": [],
   "source": [
    "guard = Guard.from_string(validators=[critic])\n",
    "\n",
    "raw_output, validated_output, *rest = guard(\n",
    "    prompt=summarizer_prompt_tmplt.format(article=article),\n",
    "    llm_api=invoke_summarizer\n",
    ")"
   ]
  },
  {
   "cell_type": "markdown",
   "id": "6e69ea7bc91ae5dc",
   "metadata": {
    "collapsed": false,
    "jupyter": {
     "outputs_hidden": false
    }
   },
   "source": []
  },
  {
   "cell_type": "code",
   "execution_count": 19,
   "id": "100de7bd53f7f57b",
   "metadata": {
    "ExecuteTime": {
     "end_time": "2024-02-25T00:14:00.799303Z",
     "start_time": "2024-02-25T00:14:00.719117Z"
    },
    "collapsed": false,
    "jupyter": {
     "outputs_hidden": false
    }
   },
   "outputs": [
    {
     "data": {
      "text/html": [
       "<pre style=\"white-space:pre;overflow-x:auto;line-height:normal;font-family:Menlo,'DejaVu Sans Mono',consolas,'Courier New',monospace\">A judge has ordered former President Donald Trump to pay approximately $<span style=\"color: #008080; text-decoration-color: #008080; font-weight: bold\">450</span> million to New York State in a civil \n",
       "fraud case, which could significantly impact his financial assets. The ruling also restricts Trump from running any\n",
       "New York company and obtaining loans from New York banks for a specified period. These measures are described as \n",
       "unprecedented threats to Trump's finances and may temporarily set back his real estate company. A court-appointed \n",
       "monitor will oversee the family business. Trump's lawyer criticized the ruling, while these penalties could \n",
       "foreshadow challenges he will face in upcoming criminal trials, which carry the potential for imprisonment.\n",
       "</pre>\n"
      ],
      "text/plain": [
       "A judge has ordered former President Donald Trump to pay approximately $\u001b[1;36m450\u001b[0m million to New York State in a civil \n",
       "fraud case, which could significantly impact his financial assets. The ruling also restricts Trump from running any\n",
       "New York company and obtaining loans from New York banks for a specified period. These measures are described as \n",
       "unprecedented threats to Trump's finances and may temporarily set back his real estate company. A court-appointed \n",
       "monitor will oversee the family business. Trump's lawyer criticized the ruling, while these penalties could \n",
       "foreshadow challenges he will face in upcoming criminal trials, which carry the potential for imprisonment.\n"
      ]
     },
     "metadata": {},
     "output_type": "display_data"
    }
   ],
   "source": [
    "print(validated_output)"
   ]
  },
  {
   "cell_type": "markdown",
   "id": "e98143d34e2bb654",
   "metadata": {
    "collapsed": false,
    "jupyter": {
     "outputs_hidden": false
    }
   },
   "source": [
    "We can see above that GPT-3.5-Turbo was able to produce a summary that satisfied the Critic.\n",
    "\n",
    "If we inspect the Guard's history, we see that the Critic was able to teach the Summarizer how to improve.\n",
    "\n",
    "It took a follow up call, with modified instructions, in order to prompt the Summarizer to produce a satisfying response."
   ]
  },
  {
   "cell_type": "code",
   "execution_count": 18,
   "id": "18430afb1cd5a316",
   "metadata": {
    "ExecuteTime": {
     "end_time": "2024-02-25T00:13:53.814457Z",
     "start_time": "2024-02-25T00:13:53.563891Z"
    },
    "collapsed": false,
    "jupyter": {
     "outputs_hidden": false
    }
   },
   "outputs": [
    {
     "data": {
      "text/html": [
       "<pre style=\"white-space:pre;overflow-x:auto;line-height:normal;font-family:Menlo,'DejaVu Sans Mono',consolas,'Courier New',monospace\">Logs\n",
       "├── ╭────────────────────────────────────────────────── Step 0 ───────────────────────────────────────────────────╮\n",
       "│   │ <span style=\"background-color: #f0f8ff\">╭──────────────────────────────────────────────── Prompt ─────────────────────────────────────────────────╮</span> │\n",
       "│   │ <span style=\"background-color: #f0f8ff\">│ Here is a portion of a news article:                                                                    │</span> │\n",
       "│   │ <span style=\"background-color: #f0f8ff\">│                                                                                                         │</span> │\n",
       "│   │ <span style=\"background-color: #f0f8ff\">│ ### START NEWS ARTICLE ####                                                                             │</span> │\n",
       "│   │ <span style=\"background-color: #f0f8ff\">│ On Friday, the judge overseeing Mr. Trump’s civil fraud case issued a final ruling that inflicted a     │</span> │\n",
       "│   │ <span style=\"background-color: #f0f8ff\">│ staggering financial penalty. With interest, the former president has been ordered to pay New York      │</span> │\n",
       "│   │ <span style=\"background-color: #f0f8ff\">│ State about $450 million, a sum that threatens to wipe out a stockpile of cash, stocks and bonds that   │</span> │\n",
       "│   │ <span style=\"background-color: #f0f8ff\">│ he amassed since leaving the White House, according to a New York Times review of Mr. Trump’s financial │</span> │\n",
       "│   │ <span style=\"background-color: #f0f8ff\">│ records. He will have only 30 days or so to either come up with the money or persuade an outside        │</span> │\n",
       "│   │ <span style=\"background-color: #f0f8ff\">│ company to post a bond.                                                                                 │</span> │\n",
       "│   │ <span style=\"background-color: #f0f8ff\">│                                                                                                         │</span> │\n",
       "│   │ <span style=\"background-color: #f0f8ff\">│ The judge, Arthur F. Engoron, also imposed several new restrictions on Mr. Trump and his family         │</span> │\n",
       "│   │ <span style=\"background-color: #f0f8ff\">│ business. For three years, Mr. Trump cannot run any New York company, including portions of his own,    │</span> │\n",
       "│   │ <span style=\"background-color: #f0f8ff\">│ nor can he obtain a loan from a New York bank. The same restrictions apply to his adult sons for a      │</span> │\n",
       "│   │ <span style=\"background-color: #f0f8ff\">│ two-year period. And the family business will be under the thumb of a watchful outsider, a              │</span> │\n",
       "│   │ <span style=\"background-color: #f0f8ff\">│ court-appointed monitor who can hamstring the company if she does not like what she sees.               │</span> │\n",
       "│   │ <span style=\"background-color: #f0f8ff\">│                                                                                                         │</span> │\n",
       "│   │ <span style=\"background-color: #f0f8ff\">│ All told, the judge’s decision poses unprecedented threats to Mr. Trump’s finances, his family business │</span> │\n",
       "│   │ <span style=\"background-color: #f0f8ff\">│ and his ego at a critical time for the former president. Although Mr. Trump will not go bankrupt and    │</span> │\n",
       "│   │ <span style=\"background-color: #f0f8ff\">│ the Trump Organization will not go out of business, the company’s loudest hype man could for now become │</span> │\n",
       "│   │ <span style=\"background-color: #f0f8ff\">│ a silent partner in his hometown properties. The organization will be another real estate company in a  │</span> │\n",
       "│   │ <span style=\"background-color: #f0f8ff\">│ city full of them — this one facing unusual new constraints that could impede its ability to compete.   │</span> │\n",
       "│   │ <span style=\"background-color: #f0f8ff\">│                                                                                                         │</span> │\n",
       "│   │ <span style=\"background-color: #f0f8ff\">│ “Justice Engoron’s order could impose several years of paralysis at the Trump Organization,” said Jim   │</span> │\n",
       "│   │ <span style=\"background-color: #f0f8ff\">│ Wheaton, a professor at William &amp; Mary Law School who focuses on legal issues involving corporate       │</span> │\n",
       "│   │ <span style=\"background-color: #f0f8ff\">│ entities and has studied Mr. Trump’s finances. The ruling, he added, could even “freeze the ability to  │</span> │\n",
       "│   │ <span style=\"background-color: #f0f8ff\">│ make legitimate business decisions.”                                                                    │</span> │\n",
       "│   │ <span style=\"background-color: #f0f8ff\">│                                                                                                         │</span> │\n",
       "│   │ <span style=\"background-color: #f0f8ff\">│ One of Mr. Trump’s lawyers, Christopher M. Kise, called the financial penalty “draconian and            │</span> │\n",
       "│   │ <span style=\"background-color: #f0f8ff\">│ unconstitutional,” and said that the decision “will cause irreparable damage to both the business       │</span> │\n",
       "│   │ <span style=\"background-color: #f0f8ff\">│ community and the rule of law in our country.”                                                          │</span> │\n",
       "│   │ <span style=\"background-color: #f0f8ff\">│                                                                                                         │</span> │\n",
       "│   │ <span style=\"background-color: #f0f8ff\">│ The punishments facing Mr. Trump and his company, some hard-hitting and some symbolic, could serve as a │</span> │\n",
       "│   │ <span style=\"background-color: #f0f8ff\">│ harrowing prelude to his criminal trials, the first of which is scheduled to begin next month. In those │</span> │\n",
       "│   │ <span style=\"background-color: #f0f8ff\">│ trials, for the first time, he faces the threat of prison.                                              │</span> │\n",
       "│   │ <span style=\"background-color: #f0f8ff\">│                                                                                                         │</span> │\n",
       "│   │ <span style=\"background-color: #f0f8ff\">│ ### END NEWS ARTICLE                                                                                    │</span> │\n",
       "│   │ <span style=\"background-color: #f0f8ff\">│                                                                                                         │</span> │\n",
       "│   │ <span style=\"background-color: #f0f8ff\">│ Please provide a summary of the news article above                                                      │</span> │\n",
       "│   │ <span style=\"background-color: #f0f8ff\">│                                                                                                         │</span> │\n",
       "│   │ <span style=\"background-color: #f0f8ff\">╰─────────────────────────────────────────────────────────────────────────────────────────────────────────╯</span> │\n",
       "│   │ <span style=\"background-color: #e7dfeb\">╭──────────────────────────────────────────── Message History ────────────────────────────────────────────╮</span> │\n",
       "│   │ <span style=\"background-color: #e7dfeb\">│ No message history.                                                                                     │</span> │\n",
       "│   │ <span style=\"background-color: #e7dfeb\">╰─────────────────────────────────────────────────────────────────────────────────────────────────────────╯</span> │\n",
       "│   │ <span style=\"background-color: #f5f5dc\">╭──────────────────────────────────────────── Raw LLM Output ─────────────────────────────────────────────╮</span> │\n",
       "│   │ <span style=\"background-color: #f5f5dc\">│ Former President Donald Trump has been ordered by a judge overseeing his civil fraud case to pay        │</span> │\n",
       "│   │ <span style=\"background-color: #f5f5dc\">│ approximately $450 million to New York State, which could significantly impact his financial assets.    │</span> │\n",
       "│   │ <span style=\"background-color: #f5f5dc\">│ The ruling also includes restrictions on Trump and his family business, prohibiting him from running    │</span> │\n",
       "│   │ <span style=\"background-color: #f5f5dc\">│ any New York company and obtaining loans from New York banks for a specified period. Additionally, a    │</span> │\n",
       "│   │ <span style=\"background-color: #f5f5dc\">│ court-appointed monitor will oversee the family business, potentially hampering its operations. These   │</span> │\n",
       "│   │ <span style=\"background-color: #f5f5dc\">│ measures are described as unprecedented threats to Trump's finances and may result in a temporary       │</span> │\n",
       "│   │ <span style=\"background-color: #f5f5dc\">│ setback for his real estate company. Trump's lawyer criticized the ruling, stating it would cause       │</span> │\n",
       "│   │ <span style=\"background-color: #f5f5dc\">│ irreparable damage to the business community and the rule of law. Furthermore, these penalties could    │</span> │\n",
       "│   │ <span style=\"background-color: #f5f5dc\">│ foreshadow the challenges Trump will face in his upcoming criminal trials, which carry the potential    │</span> │\n",
       "│   │ <span style=\"background-color: #f5f5dc\">│ for imprisonment.                                                                                       │</span> │\n",
       "│   │ <span style=\"background-color: #f5f5dc\">╰─────────────────────────────────────────────────────────────────────────────────────────────────────────╯</span> │\n",
       "│   │ <span style=\"background-color: #f0fff0\">╭─────────────────────────────────────────── Validated Output ────────────────────────────────────────────╮</span> │\n",
       "│   │ <span style=\"background-color: #f0fff0\">│ FieldReAsk(                                                                                             │</span> │\n",
       "│   │ <span style=\"background-color: #f0fff0\">│     incorrect_value=\"Former President Donald Trump has been ordered by a judge overseeing his civil     │</span> │\n",
       "│   │ <span style=\"background-color: #f0fff0\">│ fraud case to pay approximately $450 million to New York State, which could significantly impact his    │</span> │\n",
       "│   │ <span style=\"background-color: #f0fff0\">│ financial assets. The ruling also includes restrictions on Trump and his family business, prohibiting   │</span> │\n",
       "│   │ <span style=\"background-color: #f0fff0\">│ him from running any New York company and obtaining loans from New York banks for a specified period.   │</span> │\n",
       "│   │ <span style=\"background-color: #f0fff0\">│ Additionally, a court-appointed monitor will oversee the family business, potentially hampering its     │</span> │\n",
       "│   │ <span style=\"background-color: #f0fff0\">│ operations. These measures are described as unprecedented threats to Trump's finances and may result in │</span> │\n",
       "│   │ <span style=\"background-color: #f0fff0\">│ a temporary setback for his real estate company. Trump's lawyer criticized the ruling, stating it would │</span> │\n",
       "│   │ <span style=\"background-color: #f0fff0\">│ cause irreparable damage to the business community and the rule of law. Furthermore, these penalties    │</span> │\n",
       "│   │ <span style=\"background-color: #f0fff0\">│ could foreshadow the challenges Trump will face in his upcoming criminal trials, which carry the        │</span> │\n",
       "│   │ <span style=\"background-color: #f0fff0\">│ potential for imprisonment.\",                                                                           │</span> │\n",
       "│   │ <span style=\"background-color: #f0fff0\">│     fail_results=[                                                                                      │</span> │\n",
       "│   │ <span style=\"background-color: #f0fff0\">│         FailResult(                                                                                     │</span> │\n",
       "│   │ <span style=\"background-color: #f0fff0\">│             outcome='fail',                                                                             │</span> │\n",
       "│   │ <span style=\"background-color: #f0fff0\">│             metadata=None,                                                                              │</span> │\n",
       "│   │ <span style=\"background-color: #f0fff0\">│             error_message='Your last attempt failed according to the following criteria:\\n\\n- It was    │</span> │\n",
       "│   │ <span style=\"background-color: #f0fff0\">│ not concise enough. You can make it more concise by meeting the following goal: A good summary should   │</span> │\n",
       "│   │ <span style=\"background-color: #f0fff0\">│ convey the main ideas in the Article in less words..',                                                  │</span> │\n",
       "│   │ <span style=\"background-color: #f0fff0\">│             fix_value=None                                                                              │</span> │\n",
       "│   │ <span style=\"background-color: #f0fff0\">│         )                                                                                               │</span> │\n",
       "│   │ <span style=\"background-color: #f0fff0\">│     ],                                                                                                  │</span> │\n",
       "│   │ <span style=\"background-color: #f0fff0\">│     path=None                                                                                           │</span> │\n",
       "│   │ <span style=\"background-color: #f0fff0\">│ )                                                                                                       │</span> │\n",
       "│   │ <span style=\"background-color: #f0fff0\">╰─────────────────────────────────────────────────────────────────────────────────────────────────────────╯</span> │\n",
       "│   ╰─────────────────────────────────────────────────────────────────────────────────────────────────────────────╯\n",
       "└── ╭────────────────────────────────────────────────── Step 1 ───────────────────────────────────────────────────╮\n",
       "    │ <span style=\"background-color: #f0f8ff\">╭──────────────────────────────────────────────── Prompt ─────────────────────────────────────────────────╮</span> │\n",
       "    │ <span style=\"background-color: #f0f8ff\">│ This was a previous response you generated:                                                             │</span> │\n",
       "    │ <span style=\"background-color: #f0f8ff\">│                                                                                                         │</span> │\n",
       "    │ <span style=\"background-color: #f0f8ff\">│ ======                                                                                                  │</span> │\n",
       "    │ <span style=\"background-color: #f0f8ff\">│ Former President Donald Trump has been ordered by a judge overseeing his civil fraud case to pay        │</span> │\n",
       "    │ <span style=\"background-color: #f0f8ff\">│ approximately $450 million to New York State, which could significantly impact his financial assets.    │</span> │\n",
       "    │ <span style=\"background-color: #f0f8ff\">│ The ruling also includes restrictions on Trump and his family business, prohibiting him from running    │</span> │\n",
       "    │ <span style=\"background-color: #f0f8ff\">│ any New York company and obtaining loans from New York banks for a specified period. Additionally, a    │</span> │\n",
       "    │ <span style=\"background-color: #f0f8ff\">│ court-appointed monitor will oversee the family business, potentially hampering its operations. These   │</span> │\n",
       "    │ <span style=\"background-color: #f0f8ff\">│ measures are described as unprecedented threats to Trump's finances and may result in a temporary       │</span> │\n",
       "    │ <span style=\"background-color: #f0f8ff\">│ setback for his real estate company. Trump's lawyer criticized the ruling, stating it would cause       │</span> │\n",
       "    │ <span style=\"background-color: #f0f8ff\">│ irreparable damage to the business community and the rule of law. Furthermore, these penalties could    │</span> │\n",
       "    │ <span style=\"background-color: #f0f8ff\">│ foreshadow the challenges Trump will face in his upcoming criminal trials, which carry the potential    │</span> │\n",
       "    │ <span style=\"background-color: #f0f8ff\">│ for imprisonment.                                                                                       │</span> │\n",
       "    │ <span style=\"background-color: #f0f8ff\">│ ======                                                                                                  │</span> │\n",
       "    │ <span style=\"background-color: #f0f8ff\">│                                                                                                         │</span> │\n",
       "    │ <span style=\"background-color: #f0f8ff\">│ Generate a new response that corrects your old response such that the following issues are fixed        │</span> │\n",
       "    │ <span style=\"background-color: #f0f8ff\">│ - Your last attempt failed according to the following criteria:                                         │</span> │\n",
       "    │ <span style=\"background-color: #f0f8ff\">│                                                                                                         │</span> │\n",
       "    │ <span style=\"background-color: #f0f8ff\">│ - It was not concise enough. You can make it more concise by meeting the following goal: A good summary │</span> │\n",
       "    │ <span style=\"background-color: #f0f8ff\">│ should convey the main ideas in the Article in less words..                                             │</span> │\n",
       "    │ <span style=\"background-color: #f0f8ff\">│                                                                                                         │</span> │\n",
       "    │ <span style=\"background-color: #f0f8ff\">│                                                                                                         │</span> │\n",
       "    │ <span style=\"background-color: #f0f8ff\">│                                                                                                         │</span> │\n",
       "    │ <span style=\"background-color: #f0f8ff\">│ Your generated response should satisfy the following properties:                                        │</span> │\n",
       "    │ <span style=\"background-color: #f0f8ff\">│ -                                                                                                       │</span> │\n",
       "    │ <span style=\"background-color: #f0f8ff\">│ - Informative: An informative summary captures the important information in the article and presents it │</span> │\n",
       "    │ <span style=\"background-color: #f0f8ff\">│ accurately                                                                                              │</span> │\n",
       "    │ <span style=\"background-color: #f0f8ff\">│ - Coherent: A coherent summary is well-structured and well-organized                                    │</span> │\n",
       "    │ <span style=\"background-color: #f0f8ff\">│ - Attributable: Is all the information in the summary fully attributable to the Article?                │</span> │\n",
       "    │ <span style=\"background-color: #f0f8ff\">│ - Concise: A good summary should convey the main ideas in the Article in less words.                    │</span> │\n",
       "    │ <span style=\"background-color: #f0f8ff\">│                                                                                                         │</span> │\n",
       "    │ <span style=\"background-color: #f0f8ff\">│ Don't talk; just go.                                                                                    │</span> │\n",
       "    │ <span style=\"background-color: #f0f8ff\">│                                                                                                         │</span> │\n",
       "    │ <span style=\"background-color: #f0f8ff\">╰─────────────────────────────────────────────────────────────────────────────────────────────────────────╯</span> │\n",
       "    │ <span style=\"background-color: #e7dfeb\">╭──────────────────────────────────────────── Message History ────────────────────────────────────────────╮</span> │\n",
       "    │ <span style=\"background-color: #e7dfeb\">│ No message history.                                                                                     │</span> │\n",
       "    │ <span style=\"background-color: #e7dfeb\">╰─────────────────────────────────────────────────────────────────────────────────────────────────────────╯</span> │\n",
       "    │ <span style=\"background-color: #f5f5dc\">╭──────────────────────────────────────────── Raw LLM Output ─────────────────────────────────────────────╮</span> │\n",
       "    │ <span style=\"background-color: #f5f5dc\">│ A judge has ordered former President Donald Trump to pay approximately $450 million to New York State   │</span> │\n",
       "    │ <span style=\"background-color: #f5f5dc\">│ in a civil fraud case, which could significantly impact his financial assets. The ruling also restricts │</span> │\n",
       "    │ <span style=\"background-color: #f5f5dc\">│ Trump from running any New York company and obtaining loans from New York banks for a specified period. │</span> │\n",
       "    │ <span style=\"background-color: #f5f5dc\">│ These measures are described as unprecedented threats to Trump's finances and may temporarily set back  │</span> │\n",
       "    │ <span style=\"background-color: #f5f5dc\">│ his real estate company. A court-appointed monitor will oversee the family business. Trump's lawyer     │</span> │\n",
       "    │ <span style=\"background-color: #f5f5dc\">│ criticized the ruling, while these penalties could foreshadow challenges he will face in upcoming       │</span> │\n",
       "    │ <span style=\"background-color: #f5f5dc\">│ criminal trials, which carry the potential for imprisonment.                                            │</span> │\n",
       "    │ <span style=\"background-color: #f5f5dc\">╰─────────────────────────────────────────────────────────────────────────────────────────────────────────╯</span> │\n",
       "    │ <span style=\"background-color: #f0fff0\">╭─────────────────────────────────────────── Validated Output ────────────────────────────────────────────╮</span> │\n",
       "    │ <span style=\"background-color: #f0fff0\">│ \"A judge has ordered former President Donald Trump to pay approximately $450 million to New York State  │</span> │\n",
       "    │ <span style=\"background-color: #f0fff0\">│ in a civil fraud case, which could significantly impact his financial assets. The ruling also restricts │</span> │\n",
       "    │ <span style=\"background-color: #f0fff0\">│ Trump from running any New York company and obtaining loans from New York banks for a specified period. │</span> │\n",
       "    │ <span style=\"background-color: #f0fff0\">│ These measures are described as unprecedented threats to Trump's finances and may temporarily set back  │</span> │\n",
       "    │ <span style=\"background-color: #f0fff0\">│ his real estate company. A court-appointed monitor will oversee the family business. Trump's lawyer     │</span> │\n",
       "    │ <span style=\"background-color: #f0fff0\">│ criticized the ruling, while these penalties could foreshadow challenges he will face in upcoming       │</span> │\n",
       "    │ <span style=\"background-color: #f0fff0\">│ criminal trials, which carry the potential for imprisonment.\"                                           │</span> │\n",
       "    │ <span style=\"background-color: #f0fff0\">╰─────────────────────────────────────────────────────────────────────────────────────────────────────────╯</span> │\n",
       "    ╰─────────────────────────────────────────────────────────────────────────────────────────────────────────────╯\n",
       "</pre>\n"
      ],
      "text/plain": [
       "Logs\n",
       "├── ╭────────────────────────────────────────────────── Step 0 ───────────────────────────────────────────────────╮\n",
       "│   │ \u001b[48;2;240;248;255m╭─\u001b[0m\u001b[48;2;240;248;255m───────────────────────────────────────────────\u001b[0m\u001b[48;2;240;248;255m Prompt \u001b[0m\u001b[48;2;240;248;255m────────────────────────────────────────────────\u001b[0m\u001b[48;2;240;248;255m─╮\u001b[0m │\n",
       "│   │ \u001b[48;2;240;248;255m│\u001b[0m\u001b[48;2;240;248;255m \u001b[0m\u001b[48;2;240;248;255mHere is a portion of a news article:\u001b[0m\u001b[48;2;240;248;255m                                                                   \u001b[0m\u001b[48;2;240;248;255m \u001b[0m\u001b[48;2;240;248;255m│\u001b[0m │\n",
       "│   │ \u001b[48;2;240;248;255m│\u001b[0m\u001b[48;2;240;248;255m \u001b[0m\u001b[48;2;240;248;255m                                                                                                       \u001b[0m\u001b[48;2;240;248;255m \u001b[0m\u001b[48;2;240;248;255m│\u001b[0m │\n",
       "│   │ \u001b[48;2;240;248;255m│\u001b[0m\u001b[48;2;240;248;255m \u001b[0m\u001b[48;2;240;248;255m### START NEWS ARTICLE ####\u001b[0m\u001b[48;2;240;248;255m                                                                            \u001b[0m\u001b[48;2;240;248;255m \u001b[0m\u001b[48;2;240;248;255m│\u001b[0m │\n",
       "│   │ \u001b[48;2;240;248;255m│\u001b[0m\u001b[48;2;240;248;255m \u001b[0m\u001b[48;2;240;248;255mOn Friday, the judge overseeing Mr. Trump’s civil fraud case issued a final ruling that inflicted a \u001b[0m\u001b[48;2;240;248;255m   \u001b[0m\u001b[48;2;240;248;255m \u001b[0m\u001b[48;2;240;248;255m│\u001b[0m │\n",
       "│   │ \u001b[48;2;240;248;255m│\u001b[0m\u001b[48;2;240;248;255m \u001b[0m\u001b[48;2;240;248;255mstaggering financial penalty. With interest, the former president has been ordered to pay New York \u001b[0m\u001b[48;2;240;248;255m    \u001b[0m\u001b[48;2;240;248;255m \u001b[0m\u001b[48;2;240;248;255m│\u001b[0m │\n",
       "│   │ \u001b[48;2;240;248;255m│\u001b[0m\u001b[48;2;240;248;255m \u001b[0m\u001b[48;2;240;248;255mState about $450 million, a sum that threatens to wipe out a stockpile of cash, stocks and bonds that \u001b[0m\u001b[48;2;240;248;255m \u001b[0m\u001b[48;2;240;248;255m \u001b[0m\u001b[48;2;240;248;255m│\u001b[0m │\n",
       "│   │ \u001b[48;2;240;248;255m│\u001b[0m\u001b[48;2;240;248;255m \u001b[0m\u001b[48;2;240;248;255mhe amassed since leaving the White House, according to a New York Times review of Mr. Trump’s financial\u001b[0m\u001b[48;2;240;248;255m \u001b[0m\u001b[48;2;240;248;255m│\u001b[0m │\n",
       "│   │ \u001b[48;2;240;248;255m│\u001b[0m\u001b[48;2;240;248;255m \u001b[0m\u001b[48;2;240;248;255mrecords. He will have only 30 days or so to either come up with the money or persuade an outside \u001b[0m\u001b[48;2;240;248;255m      \u001b[0m\u001b[48;2;240;248;255m \u001b[0m\u001b[48;2;240;248;255m│\u001b[0m │\n",
       "│   │ \u001b[48;2;240;248;255m│\u001b[0m\u001b[48;2;240;248;255m \u001b[0m\u001b[48;2;240;248;255mcompany to post a bond.\u001b[0m\u001b[48;2;240;248;255m                                                                                \u001b[0m\u001b[48;2;240;248;255m \u001b[0m\u001b[48;2;240;248;255m│\u001b[0m │\n",
       "│   │ \u001b[48;2;240;248;255m│\u001b[0m\u001b[48;2;240;248;255m \u001b[0m\u001b[48;2;240;248;255m                                                                                                       \u001b[0m\u001b[48;2;240;248;255m \u001b[0m\u001b[48;2;240;248;255m│\u001b[0m │\n",
       "│   │ \u001b[48;2;240;248;255m│\u001b[0m\u001b[48;2;240;248;255m \u001b[0m\u001b[48;2;240;248;255mThe judge, Arthur F. Engoron, also imposed several new restrictions on Mr. Trump and his family \u001b[0m\u001b[48;2;240;248;255m       \u001b[0m\u001b[48;2;240;248;255m \u001b[0m\u001b[48;2;240;248;255m│\u001b[0m │\n",
       "│   │ \u001b[48;2;240;248;255m│\u001b[0m\u001b[48;2;240;248;255m \u001b[0m\u001b[48;2;240;248;255mbusiness. For three years, Mr. Trump cannot run any New York company, including portions of his own, \u001b[0m\u001b[48;2;240;248;255m  \u001b[0m\u001b[48;2;240;248;255m \u001b[0m\u001b[48;2;240;248;255m│\u001b[0m │\n",
       "│   │ \u001b[48;2;240;248;255m│\u001b[0m\u001b[48;2;240;248;255m \u001b[0m\u001b[48;2;240;248;255mnor can he obtain a loan from a New York bank. The same restrictions apply to his adult sons for a \u001b[0m\u001b[48;2;240;248;255m    \u001b[0m\u001b[48;2;240;248;255m \u001b[0m\u001b[48;2;240;248;255m│\u001b[0m │\n",
       "│   │ \u001b[48;2;240;248;255m│\u001b[0m\u001b[48;2;240;248;255m \u001b[0m\u001b[48;2;240;248;255mtwo-year period. And the family business will be under the thumb of a watchful outsider, a \u001b[0m\u001b[48;2;240;248;255m            \u001b[0m\u001b[48;2;240;248;255m \u001b[0m\u001b[48;2;240;248;255m│\u001b[0m │\n",
       "│   │ \u001b[48;2;240;248;255m│\u001b[0m\u001b[48;2;240;248;255m \u001b[0m\u001b[48;2;240;248;255mcourt-appointed monitor who can hamstring the company if she does not like what she sees.\u001b[0m\u001b[48;2;240;248;255m              \u001b[0m\u001b[48;2;240;248;255m \u001b[0m\u001b[48;2;240;248;255m│\u001b[0m │\n",
       "│   │ \u001b[48;2;240;248;255m│\u001b[0m\u001b[48;2;240;248;255m \u001b[0m\u001b[48;2;240;248;255m                                                                                                       \u001b[0m\u001b[48;2;240;248;255m \u001b[0m\u001b[48;2;240;248;255m│\u001b[0m │\n",
       "│   │ \u001b[48;2;240;248;255m│\u001b[0m\u001b[48;2;240;248;255m \u001b[0m\u001b[48;2;240;248;255mAll told, the judge’s decision poses unprecedented threats to Mr. Trump’s finances, his family business\u001b[0m\u001b[48;2;240;248;255m \u001b[0m\u001b[48;2;240;248;255m│\u001b[0m │\n",
       "│   │ \u001b[48;2;240;248;255m│\u001b[0m\u001b[48;2;240;248;255m \u001b[0m\u001b[48;2;240;248;255mand his ego at a critical time for the former president. Although Mr. Trump will not go bankrupt and \u001b[0m\u001b[48;2;240;248;255m  \u001b[0m\u001b[48;2;240;248;255m \u001b[0m\u001b[48;2;240;248;255m│\u001b[0m │\n",
       "│   │ \u001b[48;2;240;248;255m│\u001b[0m\u001b[48;2;240;248;255m \u001b[0m\u001b[48;2;240;248;255mthe Trump Organization will not go out of business, the company’s loudest hype man could for now become\u001b[0m\u001b[48;2;240;248;255m \u001b[0m\u001b[48;2;240;248;255m│\u001b[0m │\n",
       "│   │ \u001b[48;2;240;248;255m│\u001b[0m\u001b[48;2;240;248;255m \u001b[0m\u001b[48;2;240;248;255ma silent partner in his hometown properties. The organization will be another real estate company in a \u001b[0m\u001b[48;2;240;248;255m \u001b[0m\u001b[48;2;240;248;255m│\u001b[0m │\n",
       "│   │ \u001b[48;2;240;248;255m│\u001b[0m\u001b[48;2;240;248;255m \u001b[0m\u001b[48;2;240;248;255mcity full of them — this one facing unusual new constraints that could impede its ability to compete.\u001b[0m\u001b[48;2;240;248;255m  \u001b[0m\u001b[48;2;240;248;255m \u001b[0m\u001b[48;2;240;248;255m│\u001b[0m │\n",
       "│   │ \u001b[48;2;240;248;255m│\u001b[0m\u001b[48;2;240;248;255m \u001b[0m\u001b[48;2;240;248;255m                                                                                                       \u001b[0m\u001b[48;2;240;248;255m \u001b[0m\u001b[48;2;240;248;255m│\u001b[0m │\n",
       "│   │ \u001b[48;2;240;248;255m│\u001b[0m\u001b[48;2;240;248;255m \u001b[0m\u001b[48;2;240;248;255m“Justice Engoron’s order could impose several years of paralysis at the Trump Organization,” said Jim \u001b[0m\u001b[48;2;240;248;255m \u001b[0m\u001b[48;2;240;248;255m \u001b[0m\u001b[48;2;240;248;255m│\u001b[0m │\n",
       "│   │ \u001b[48;2;240;248;255m│\u001b[0m\u001b[48;2;240;248;255m \u001b[0m\u001b[48;2;240;248;255mWheaton, a professor at William & Mary Law School who focuses on legal issues involving corporate \u001b[0m\u001b[48;2;240;248;255m     \u001b[0m\u001b[48;2;240;248;255m \u001b[0m\u001b[48;2;240;248;255m│\u001b[0m │\n",
       "│   │ \u001b[48;2;240;248;255m│\u001b[0m\u001b[48;2;240;248;255m \u001b[0m\u001b[48;2;240;248;255mentities and has studied Mr. Trump’s finances. The ruling, he added, could even “freeze the ability to \u001b[0m\u001b[48;2;240;248;255m \u001b[0m\u001b[48;2;240;248;255m│\u001b[0m │\n",
       "│   │ \u001b[48;2;240;248;255m│\u001b[0m\u001b[48;2;240;248;255m \u001b[0m\u001b[48;2;240;248;255mmake legitimate business decisions.”\u001b[0m\u001b[48;2;240;248;255m                                                                   \u001b[0m\u001b[48;2;240;248;255m \u001b[0m\u001b[48;2;240;248;255m│\u001b[0m │\n",
       "│   │ \u001b[48;2;240;248;255m│\u001b[0m\u001b[48;2;240;248;255m \u001b[0m\u001b[48;2;240;248;255m                                                                                                       \u001b[0m\u001b[48;2;240;248;255m \u001b[0m\u001b[48;2;240;248;255m│\u001b[0m │\n",
       "│   │ \u001b[48;2;240;248;255m│\u001b[0m\u001b[48;2;240;248;255m \u001b[0m\u001b[48;2;240;248;255mOne of Mr. Trump’s lawyers, Christopher M. Kise, called the financial penalty “draconian and \u001b[0m\u001b[48;2;240;248;255m          \u001b[0m\u001b[48;2;240;248;255m \u001b[0m\u001b[48;2;240;248;255m│\u001b[0m │\n",
       "│   │ \u001b[48;2;240;248;255m│\u001b[0m\u001b[48;2;240;248;255m \u001b[0m\u001b[48;2;240;248;255munconstitutional,” and said that the decision “will cause irreparable damage to both the business \u001b[0m\u001b[48;2;240;248;255m     \u001b[0m\u001b[48;2;240;248;255m \u001b[0m\u001b[48;2;240;248;255m│\u001b[0m │\n",
       "│   │ \u001b[48;2;240;248;255m│\u001b[0m\u001b[48;2;240;248;255m \u001b[0m\u001b[48;2;240;248;255mcommunity and the rule of law in our country.”\u001b[0m\u001b[48;2;240;248;255m                                                         \u001b[0m\u001b[48;2;240;248;255m \u001b[0m\u001b[48;2;240;248;255m│\u001b[0m │\n",
       "│   │ \u001b[48;2;240;248;255m│\u001b[0m\u001b[48;2;240;248;255m \u001b[0m\u001b[48;2;240;248;255m                                                                                                       \u001b[0m\u001b[48;2;240;248;255m \u001b[0m\u001b[48;2;240;248;255m│\u001b[0m │\n",
       "│   │ \u001b[48;2;240;248;255m│\u001b[0m\u001b[48;2;240;248;255m \u001b[0m\u001b[48;2;240;248;255mThe punishments facing Mr. Trump and his company, some hard-hitting and some symbolic, could serve as a\u001b[0m\u001b[48;2;240;248;255m \u001b[0m\u001b[48;2;240;248;255m│\u001b[0m │\n",
       "│   │ \u001b[48;2;240;248;255m│\u001b[0m\u001b[48;2;240;248;255m \u001b[0m\u001b[48;2;240;248;255mharrowing prelude to his criminal trials, the first of which is scheduled to begin next month. In those\u001b[0m\u001b[48;2;240;248;255m \u001b[0m\u001b[48;2;240;248;255m│\u001b[0m │\n",
       "│   │ \u001b[48;2;240;248;255m│\u001b[0m\u001b[48;2;240;248;255m \u001b[0m\u001b[48;2;240;248;255mtrials, for the first time, he faces the threat of prison.\u001b[0m\u001b[48;2;240;248;255m                                             \u001b[0m\u001b[48;2;240;248;255m \u001b[0m\u001b[48;2;240;248;255m│\u001b[0m │\n",
       "│   │ \u001b[48;2;240;248;255m│\u001b[0m\u001b[48;2;240;248;255m \u001b[0m\u001b[48;2;240;248;255m                                                                                                       \u001b[0m\u001b[48;2;240;248;255m \u001b[0m\u001b[48;2;240;248;255m│\u001b[0m │\n",
       "│   │ \u001b[48;2;240;248;255m│\u001b[0m\u001b[48;2;240;248;255m \u001b[0m\u001b[48;2;240;248;255m### END NEWS ARTICLE \u001b[0m\u001b[48;2;240;248;255m                                                                                  \u001b[0m\u001b[48;2;240;248;255m \u001b[0m\u001b[48;2;240;248;255m│\u001b[0m │\n",
       "│   │ \u001b[48;2;240;248;255m│\u001b[0m\u001b[48;2;240;248;255m \u001b[0m\u001b[48;2;240;248;255m                                                                                                       \u001b[0m\u001b[48;2;240;248;255m \u001b[0m\u001b[48;2;240;248;255m│\u001b[0m │\n",
       "│   │ \u001b[48;2;240;248;255m│\u001b[0m\u001b[48;2;240;248;255m \u001b[0m\u001b[48;2;240;248;255mPlease provide a summary of the news article above\u001b[0m\u001b[48;2;240;248;255m                                                     \u001b[0m\u001b[48;2;240;248;255m \u001b[0m\u001b[48;2;240;248;255m│\u001b[0m │\n",
       "│   │ \u001b[48;2;240;248;255m│\u001b[0m\u001b[48;2;240;248;255m \u001b[0m\u001b[48;2;240;248;255m                                                                                                       \u001b[0m\u001b[48;2;240;248;255m \u001b[0m\u001b[48;2;240;248;255m│\u001b[0m │\n",
       "│   │ \u001b[48;2;240;248;255m╰─────────────────────────────────────────────────────────────────────────────────────────────────────────╯\u001b[0m │\n",
       "│   │ \u001b[48;2;231;223;235m╭─\u001b[0m\u001b[48;2;231;223;235m───────────────────────────────────────────\u001b[0m\u001b[48;2;231;223;235m Message History \u001b[0m\u001b[48;2;231;223;235m───────────────────────────────────────────\u001b[0m\u001b[48;2;231;223;235m─╮\u001b[0m │\n",
       "│   │ \u001b[48;2;231;223;235m│\u001b[0m\u001b[48;2;231;223;235m \u001b[0m\u001b[48;2;231;223;235mNo message history.\u001b[0m\u001b[48;2;231;223;235m                                                                                    \u001b[0m\u001b[48;2;231;223;235m \u001b[0m\u001b[48;2;231;223;235m│\u001b[0m │\n",
       "│   │ \u001b[48;2;231;223;235m╰─────────────────────────────────────────────────────────────────────────────────────────────────────────╯\u001b[0m │\n",
       "│   │ \u001b[48;2;245;245;220m╭─\u001b[0m\u001b[48;2;245;245;220m───────────────────────────────────────────\u001b[0m\u001b[48;2;245;245;220m Raw LLM Output \u001b[0m\u001b[48;2;245;245;220m────────────────────────────────────────────\u001b[0m\u001b[48;2;245;245;220m─╮\u001b[0m │\n",
       "│   │ \u001b[48;2;245;245;220m│\u001b[0m\u001b[48;2;245;245;220m \u001b[0m\u001b[48;2;245;245;220mFormer President Donald Trump has been ordered by a judge overseeing his civil fraud case to pay \u001b[0m\u001b[48;2;245;245;220m      \u001b[0m\u001b[48;2;245;245;220m \u001b[0m\u001b[48;2;245;245;220m│\u001b[0m │\n",
       "│   │ \u001b[48;2;245;245;220m│\u001b[0m\u001b[48;2;245;245;220m \u001b[0m\u001b[48;2;245;245;220mapproximately $450 million to New York State, which could significantly impact his financial assets. \u001b[0m\u001b[48;2;245;245;220m  \u001b[0m\u001b[48;2;245;245;220m \u001b[0m\u001b[48;2;245;245;220m│\u001b[0m │\n",
       "│   │ \u001b[48;2;245;245;220m│\u001b[0m\u001b[48;2;245;245;220m \u001b[0m\u001b[48;2;245;245;220mThe ruling also includes restrictions on Trump and his family business, prohibiting him from running \u001b[0m\u001b[48;2;245;245;220m  \u001b[0m\u001b[48;2;245;245;220m \u001b[0m\u001b[48;2;245;245;220m│\u001b[0m │\n",
       "│   │ \u001b[48;2;245;245;220m│\u001b[0m\u001b[48;2;245;245;220m \u001b[0m\u001b[48;2;245;245;220many New York company and obtaining loans from New York banks for a specified period. Additionally, a \u001b[0m\u001b[48;2;245;245;220m  \u001b[0m\u001b[48;2;245;245;220m \u001b[0m\u001b[48;2;245;245;220m│\u001b[0m │\n",
       "│   │ \u001b[48;2;245;245;220m│\u001b[0m\u001b[48;2;245;245;220m \u001b[0m\u001b[48;2;245;245;220mcourt-appointed monitor will oversee the family business, potentially hampering its operations. These \u001b[0m\u001b[48;2;245;245;220m \u001b[0m\u001b[48;2;245;245;220m \u001b[0m\u001b[48;2;245;245;220m│\u001b[0m │\n",
       "│   │ \u001b[48;2;245;245;220m│\u001b[0m\u001b[48;2;245;245;220m \u001b[0m\u001b[48;2;245;245;220mmeasures are described as unprecedented threats to Trump's finances and may result in a temporary \u001b[0m\u001b[48;2;245;245;220m     \u001b[0m\u001b[48;2;245;245;220m \u001b[0m\u001b[48;2;245;245;220m│\u001b[0m │\n",
       "│   │ \u001b[48;2;245;245;220m│\u001b[0m\u001b[48;2;245;245;220m \u001b[0m\u001b[48;2;245;245;220msetback for his real estate company. Trump's lawyer criticized the ruling, stating it would cause \u001b[0m\u001b[48;2;245;245;220m     \u001b[0m\u001b[48;2;245;245;220m \u001b[0m\u001b[48;2;245;245;220m│\u001b[0m │\n",
       "│   │ \u001b[48;2;245;245;220m│\u001b[0m\u001b[48;2;245;245;220m \u001b[0m\u001b[48;2;245;245;220mirreparable damage to the business community and the rule of law. Furthermore, these penalties could \u001b[0m\u001b[48;2;245;245;220m  \u001b[0m\u001b[48;2;245;245;220m \u001b[0m\u001b[48;2;245;245;220m│\u001b[0m │\n",
       "│   │ \u001b[48;2;245;245;220m│\u001b[0m\u001b[48;2;245;245;220m \u001b[0m\u001b[48;2;245;245;220mforeshadow the challenges Trump will face in his upcoming criminal trials, which carry the potential \u001b[0m\u001b[48;2;245;245;220m  \u001b[0m\u001b[48;2;245;245;220m \u001b[0m\u001b[48;2;245;245;220m│\u001b[0m │\n",
       "│   │ \u001b[48;2;245;245;220m│\u001b[0m\u001b[48;2;245;245;220m \u001b[0m\u001b[48;2;245;245;220mfor imprisonment.\u001b[0m\u001b[48;2;245;245;220m                                                                                      \u001b[0m\u001b[48;2;245;245;220m \u001b[0m\u001b[48;2;245;245;220m│\u001b[0m │\n",
       "│   │ \u001b[48;2;245;245;220m╰─────────────────────────────────────────────────────────────────────────────────────────────────────────╯\u001b[0m │\n",
       "│   │ \u001b[48;2;240;255;240m╭─\u001b[0m\u001b[48;2;240;255;240m──────────────────────────────────────────\u001b[0m\u001b[48;2;240;255;240m Validated Output \u001b[0m\u001b[48;2;240;255;240m───────────────────────────────────────────\u001b[0m\u001b[48;2;240;255;240m─╮\u001b[0m │\n",
       "│   │ \u001b[48;2;240;255;240m│\u001b[0m\u001b[48;2;240;255;240m \u001b[0m\u001b[48;2;240;255;240mFieldReAsk(\u001b[0m\u001b[48;2;240;255;240m                                                                                            \u001b[0m\u001b[48;2;240;255;240m \u001b[0m\u001b[48;2;240;255;240m│\u001b[0m │\n",
       "│   │ \u001b[48;2;240;255;240m│\u001b[0m\u001b[48;2;240;255;240m \u001b[0m\u001b[48;2;240;255;240m    incorrect_value=\"Former President Donald Trump has been ordered by a judge overseeing his civil \u001b[0m\u001b[48;2;240;255;240m   \u001b[0m\u001b[48;2;240;255;240m \u001b[0m\u001b[48;2;240;255;240m│\u001b[0m │\n",
       "│   │ \u001b[48;2;240;255;240m│\u001b[0m\u001b[48;2;240;255;240m \u001b[0m\u001b[48;2;240;255;240mfraud case to pay approximately $450 million to New York State, which could significantly impact his \u001b[0m\u001b[48;2;240;255;240m  \u001b[0m\u001b[48;2;240;255;240m \u001b[0m\u001b[48;2;240;255;240m│\u001b[0m │\n",
       "│   │ \u001b[48;2;240;255;240m│\u001b[0m\u001b[48;2;240;255;240m \u001b[0m\u001b[48;2;240;255;240mfinancial assets. The ruling also includes restrictions on Trump and his family business, prohibiting \u001b[0m\u001b[48;2;240;255;240m \u001b[0m\u001b[48;2;240;255;240m \u001b[0m\u001b[48;2;240;255;240m│\u001b[0m │\n",
       "│   │ \u001b[48;2;240;255;240m│\u001b[0m\u001b[48;2;240;255;240m \u001b[0m\u001b[48;2;240;255;240mhim from running any New York company and obtaining loans from New York banks for a specified period. \u001b[0m\u001b[48;2;240;255;240m \u001b[0m\u001b[48;2;240;255;240m \u001b[0m\u001b[48;2;240;255;240m│\u001b[0m │\n",
       "│   │ \u001b[48;2;240;255;240m│\u001b[0m\u001b[48;2;240;255;240m \u001b[0m\u001b[48;2;240;255;240mAdditionally, a court-appointed monitor will oversee the family business, potentially hampering its \u001b[0m\u001b[48;2;240;255;240m   \u001b[0m\u001b[48;2;240;255;240m \u001b[0m\u001b[48;2;240;255;240m│\u001b[0m │\n",
       "│   │ \u001b[48;2;240;255;240m│\u001b[0m\u001b[48;2;240;255;240m \u001b[0m\u001b[48;2;240;255;240moperations. These measures are described as unprecedented threats to Trump's finances and may result in\u001b[0m\u001b[48;2;240;255;240m \u001b[0m\u001b[48;2;240;255;240m│\u001b[0m │\n",
       "│   │ \u001b[48;2;240;255;240m│\u001b[0m\u001b[48;2;240;255;240m \u001b[0m\u001b[48;2;240;255;240ma temporary setback for his real estate company. Trump's lawyer criticized the ruling, stating it would\u001b[0m\u001b[48;2;240;255;240m \u001b[0m\u001b[48;2;240;255;240m│\u001b[0m │\n",
       "│   │ \u001b[48;2;240;255;240m│\u001b[0m\u001b[48;2;240;255;240m \u001b[0m\u001b[48;2;240;255;240mcause irreparable damage to the business community and the rule of law. Furthermore, these penalties \u001b[0m\u001b[48;2;240;255;240m  \u001b[0m\u001b[48;2;240;255;240m \u001b[0m\u001b[48;2;240;255;240m│\u001b[0m │\n",
       "│   │ \u001b[48;2;240;255;240m│\u001b[0m\u001b[48;2;240;255;240m \u001b[0m\u001b[48;2;240;255;240mcould foreshadow the challenges Trump will face in his upcoming criminal trials, which carry the \u001b[0m\u001b[48;2;240;255;240m      \u001b[0m\u001b[48;2;240;255;240m \u001b[0m\u001b[48;2;240;255;240m│\u001b[0m │\n",
       "│   │ \u001b[48;2;240;255;240m│\u001b[0m\u001b[48;2;240;255;240m \u001b[0m\u001b[48;2;240;255;240mpotential for imprisonment.\",\u001b[0m\u001b[48;2;240;255;240m                                                                          \u001b[0m\u001b[48;2;240;255;240m \u001b[0m\u001b[48;2;240;255;240m│\u001b[0m │\n",
       "│   │ \u001b[48;2;240;255;240m│\u001b[0m\u001b[48;2;240;255;240m \u001b[0m\u001b[48;2;240;255;240m    fail_results=[\u001b[0m\u001b[48;2;240;255;240m                                                                                     \u001b[0m\u001b[48;2;240;255;240m \u001b[0m\u001b[48;2;240;255;240m│\u001b[0m │\n",
       "│   │ \u001b[48;2;240;255;240m│\u001b[0m\u001b[48;2;240;255;240m \u001b[0m\u001b[48;2;240;255;240m        FailResult(\u001b[0m\u001b[48;2;240;255;240m                                                                                    \u001b[0m\u001b[48;2;240;255;240m \u001b[0m\u001b[48;2;240;255;240m│\u001b[0m │\n",
       "│   │ \u001b[48;2;240;255;240m│\u001b[0m\u001b[48;2;240;255;240m \u001b[0m\u001b[48;2;240;255;240m            outcome='fail',\u001b[0m\u001b[48;2;240;255;240m                                                                            \u001b[0m\u001b[48;2;240;255;240m \u001b[0m\u001b[48;2;240;255;240m│\u001b[0m │\n",
       "│   │ \u001b[48;2;240;255;240m│\u001b[0m\u001b[48;2;240;255;240m \u001b[0m\u001b[48;2;240;255;240m            metadata=None,\u001b[0m\u001b[48;2;240;255;240m                                                                             \u001b[0m\u001b[48;2;240;255;240m \u001b[0m\u001b[48;2;240;255;240m│\u001b[0m │\n",
       "│   │ \u001b[48;2;240;255;240m│\u001b[0m\u001b[48;2;240;255;240m \u001b[0m\u001b[48;2;240;255;240m            error_message='Your last attempt failed according to the following criteria:\\n\\n- It was \u001b[0m\u001b[48;2;240;255;240m  \u001b[0m\u001b[48;2;240;255;240m \u001b[0m\u001b[48;2;240;255;240m│\u001b[0m │\n",
       "│   │ \u001b[48;2;240;255;240m│\u001b[0m\u001b[48;2;240;255;240m \u001b[0m\u001b[48;2;240;255;240mnot concise enough. You can make it more concise by meeting the following goal: A good summary should \u001b[0m\u001b[48;2;240;255;240m \u001b[0m\u001b[48;2;240;255;240m \u001b[0m\u001b[48;2;240;255;240m│\u001b[0m │\n",
       "│   │ \u001b[48;2;240;255;240m│\u001b[0m\u001b[48;2;240;255;240m \u001b[0m\u001b[48;2;240;255;240mconvey the main ideas in the Article in less words..',\u001b[0m\u001b[48;2;240;255;240m                                                 \u001b[0m\u001b[48;2;240;255;240m \u001b[0m\u001b[48;2;240;255;240m│\u001b[0m │\n",
       "│   │ \u001b[48;2;240;255;240m│\u001b[0m\u001b[48;2;240;255;240m \u001b[0m\u001b[48;2;240;255;240m            fix_value=None\u001b[0m\u001b[48;2;240;255;240m                                                                             \u001b[0m\u001b[48;2;240;255;240m \u001b[0m\u001b[48;2;240;255;240m│\u001b[0m │\n",
       "│   │ \u001b[48;2;240;255;240m│\u001b[0m\u001b[48;2;240;255;240m \u001b[0m\u001b[48;2;240;255;240m        )\u001b[0m\u001b[48;2;240;255;240m                                                                                              \u001b[0m\u001b[48;2;240;255;240m \u001b[0m\u001b[48;2;240;255;240m│\u001b[0m │\n",
       "│   │ \u001b[48;2;240;255;240m│\u001b[0m\u001b[48;2;240;255;240m \u001b[0m\u001b[48;2;240;255;240m    ],\u001b[0m\u001b[48;2;240;255;240m                                                                                                 \u001b[0m\u001b[48;2;240;255;240m \u001b[0m\u001b[48;2;240;255;240m│\u001b[0m │\n",
       "│   │ \u001b[48;2;240;255;240m│\u001b[0m\u001b[48;2;240;255;240m \u001b[0m\u001b[48;2;240;255;240m    path=None\u001b[0m\u001b[48;2;240;255;240m                                                                                          \u001b[0m\u001b[48;2;240;255;240m \u001b[0m\u001b[48;2;240;255;240m│\u001b[0m │\n",
       "│   │ \u001b[48;2;240;255;240m│\u001b[0m\u001b[48;2;240;255;240m \u001b[0m\u001b[48;2;240;255;240m)\u001b[0m\u001b[48;2;240;255;240m                                                                                                      \u001b[0m\u001b[48;2;240;255;240m \u001b[0m\u001b[48;2;240;255;240m│\u001b[0m │\n",
       "│   │ \u001b[48;2;240;255;240m╰─────────────────────────────────────────────────────────────────────────────────────────────────────────╯\u001b[0m │\n",
       "│   ╰─────────────────────────────────────────────────────────────────────────────────────────────────────────────╯\n",
       "└── ╭────────────────────────────────────────────────── Step 1 ───────────────────────────────────────────────────╮\n",
       "    │ \u001b[48;2;240;248;255m╭─\u001b[0m\u001b[48;2;240;248;255m───────────────────────────────────────────────\u001b[0m\u001b[48;2;240;248;255m Prompt \u001b[0m\u001b[48;2;240;248;255m────────────────────────────────────────────────\u001b[0m\u001b[48;2;240;248;255m─╮\u001b[0m │\n",
       "    │ \u001b[48;2;240;248;255m│\u001b[0m\u001b[48;2;240;248;255m \u001b[0m\u001b[48;2;240;248;255mThis was a previous response you generated:\u001b[0m\u001b[48;2;240;248;255m                                                            \u001b[0m\u001b[48;2;240;248;255m \u001b[0m\u001b[48;2;240;248;255m│\u001b[0m │\n",
       "    │ \u001b[48;2;240;248;255m│\u001b[0m\u001b[48;2;240;248;255m \u001b[0m\u001b[48;2;240;248;255m                                                                                                       \u001b[0m\u001b[48;2;240;248;255m \u001b[0m\u001b[48;2;240;248;255m│\u001b[0m │\n",
       "    │ \u001b[48;2;240;248;255m│\u001b[0m\u001b[48;2;240;248;255m \u001b[0m\u001b[48;2;240;248;255m======\u001b[0m\u001b[48;2;240;248;255m                                                                                                 \u001b[0m\u001b[48;2;240;248;255m \u001b[0m\u001b[48;2;240;248;255m│\u001b[0m │\n",
       "    │ \u001b[48;2;240;248;255m│\u001b[0m\u001b[48;2;240;248;255m \u001b[0m\u001b[48;2;240;248;255mFormer President Donald Trump has been ordered by a judge overseeing his civil fraud case to pay \u001b[0m\u001b[48;2;240;248;255m      \u001b[0m\u001b[48;2;240;248;255m \u001b[0m\u001b[48;2;240;248;255m│\u001b[0m │\n",
       "    │ \u001b[48;2;240;248;255m│\u001b[0m\u001b[48;2;240;248;255m \u001b[0m\u001b[48;2;240;248;255mapproximately $450 million to New York State, which could significantly impact his financial assets. \u001b[0m\u001b[48;2;240;248;255m  \u001b[0m\u001b[48;2;240;248;255m \u001b[0m\u001b[48;2;240;248;255m│\u001b[0m │\n",
       "    │ \u001b[48;2;240;248;255m│\u001b[0m\u001b[48;2;240;248;255m \u001b[0m\u001b[48;2;240;248;255mThe ruling also includes restrictions on Trump and his family business, prohibiting him from running \u001b[0m\u001b[48;2;240;248;255m  \u001b[0m\u001b[48;2;240;248;255m \u001b[0m\u001b[48;2;240;248;255m│\u001b[0m │\n",
       "    │ \u001b[48;2;240;248;255m│\u001b[0m\u001b[48;2;240;248;255m \u001b[0m\u001b[48;2;240;248;255many New York company and obtaining loans from New York banks for a specified period. Additionally, a \u001b[0m\u001b[48;2;240;248;255m  \u001b[0m\u001b[48;2;240;248;255m \u001b[0m\u001b[48;2;240;248;255m│\u001b[0m │\n",
       "    │ \u001b[48;2;240;248;255m│\u001b[0m\u001b[48;2;240;248;255m \u001b[0m\u001b[48;2;240;248;255mcourt-appointed monitor will oversee the family business, potentially hampering its operations. These \u001b[0m\u001b[48;2;240;248;255m \u001b[0m\u001b[48;2;240;248;255m \u001b[0m\u001b[48;2;240;248;255m│\u001b[0m │\n",
       "    │ \u001b[48;2;240;248;255m│\u001b[0m\u001b[48;2;240;248;255m \u001b[0m\u001b[48;2;240;248;255mmeasures are described as unprecedented threats to Trump's finances and may result in a temporary \u001b[0m\u001b[48;2;240;248;255m     \u001b[0m\u001b[48;2;240;248;255m \u001b[0m\u001b[48;2;240;248;255m│\u001b[0m │\n",
       "    │ \u001b[48;2;240;248;255m│\u001b[0m\u001b[48;2;240;248;255m \u001b[0m\u001b[48;2;240;248;255msetback for his real estate company. Trump's lawyer criticized the ruling, stating it would cause \u001b[0m\u001b[48;2;240;248;255m     \u001b[0m\u001b[48;2;240;248;255m \u001b[0m\u001b[48;2;240;248;255m│\u001b[0m │\n",
       "    │ \u001b[48;2;240;248;255m│\u001b[0m\u001b[48;2;240;248;255m \u001b[0m\u001b[48;2;240;248;255mirreparable damage to the business community and the rule of law. Furthermore, these penalties could \u001b[0m\u001b[48;2;240;248;255m  \u001b[0m\u001b[48;2;240;248;255m \u001b[0m\u001b[48;2;240;248;255m│\u001b[0m │\n",
       "    │ \u001b[48;2;240;248;255m│\u001b[0m\u001b[48;2;240;248;255m \u001b[0m\u001b[48;2;240;248;255mforeshadow the challenges Trump will face in his upcoming criminal trials, which carry the potential \u001b[0m\u001b[48;2;240;248;255m  \u001b[0m\u001b[48;2;240;248;255m \u001b[0m\u001b[48;2;240;248;255m│\u001b[0m │\n",
       "    │ \u001b[48;2;240;248;255m│\u001b[0m\u001b[48;2;240;248;255m \u001b[0m\u001b[48;2;240;248;255mfor imprisonment.\u001b[0m\u001b[48;2;240;248;255m                                                                                      \u001b[0m\u001b[48;2;240;248;255m \u001b[0m\u001b[48;2;240;248;255m│\u001b[0m │\n",
       "    │ \u001b[48;2;240;248;255m│\u001b[0m\u001b[48;2;240;248;255m \u001b[0m\u001b[48;2;240;248;255m======\u001b[0m\u001b[48;2;240;248;255m                                                                                                 \u001b[0m\u001b[48;2;240;248;255m \u001b[0m\u001b[48;2;240;248;255m│\u001b[0m │\n",
       "    │ \u001b[48;2;240;248;255m│\u001b[0m\u001b[48;2;240;248;255m \u001b[0m\u001b[48;2;240;248;255m                                                                                                       \u001b[0m\u001b[48;2;240;248;255m \u001b[0m\u001b[48;2;240;248;255m│\u001b[0m │\n",
       "    │ \u001b[48;2;240;248;255m│\u001b[0m\u001b[48;2;240;248;255m \u001b[0m\u001b[48;2;240;248;255mGenerate a new response that corrects your old response such that the following issues are fixed\u001b[0m\u001b[48;2;240;248;255m       \u001b[0m\u001b[48;2;240;248;255m \u001b[0m\u001b[48;2;240;248;255m│\u001b[0m │\n",
       "    │ \u001b[48;2;240;248;255m│\u001b[0m\u001b[48;2;240;248;255m \u001b[0m\u001b[48;2;240;248;255m- Your last attempt failed according to the following criteria:\u001b[0m\u001b[48;2;240;248;255m                                        \u001b[0m\u001b[48;2;240;248;255m \u001b[0m\u001b[48;2;240;248;255m│\u001b[0m │\n",
       "    │ \u001b[48;2;240;248;255m│\u001b[0m\u001b[48;2;240;248;255m \u001b[0m\u001b[48;2;240;248;255m                                                                                                       \u001b[0m\u001b[48;2;240;248;255m \u001b[0m\u001b[48;2;240;248;255m│\u001b[0m │\n",
       "    │ \u001b[48;2;240;248;255m│\u001b[0m\u001b[48;2;240;248;255m \u001b[0m\u001b[48;2;240;248;255m- It was not concise enough. You can make it more concise by meeting the following goal: A good summary\u001b[0m\u001b[48;2;240;248;255m \u001b[0m\u001b[48;2;240;248;255m│\u001b[0m │\n",
       "    │ \u001b[48;2;240;248;255m│\u001b[0m\u001b[48;2;240;248;255m \u001b[0m\u001b[48;2;240;248;255mshould convey the main ideas in the Article in less words..\u001b[0m\u001b[48;2;240;248;255m                                            \u001b[0m\u001b[48;2;240;248;255m \u001b[0m\u001b[48;2;240;248;255m│\u001b[0m │\n",
       "    │ \u001b[48;2;240;248;255m│\u001b[0m\u001b[48;2;240;248;255m \u001b[0m\u001b[48;2;240;248;255m                                                                                                       \u001b[0m\u001b[48;2;240;248;255m \u001b[0m\u001b[48;2;240;248;255m│\u001b[0m │\n",
       "    │ \u001b[48;2;240;248;255m│\u001b[0m\u001b[48;2;240;248;255m \u001b[0m\u001b[48;2;240;248;255m                                                                                                       \u001b[0m\u001b[48;2;240;248;255m \u001b[0m\u001b[48;2;240;248;255m│\u001b[0m │\n",
       "    │ \u001b[48;2;240;248;255m│\u001b[0m\u001b[48;2;240;248;255m \u001b[0m\u001b[48;2;240;248;255m                                                                                                       \u001b[0m\u001b[48;2;240;248;255m \u001b[0m\u001b[48;2;240;248;255m│\u001b[0m │\n",
       "    │ \u001b[48;2;240;248;255m│\u001b[0m\u001b[48;2;240;248;255m \u001b[0m\u001b[48;2;240;248;255mYour generated response should satisfy the following properties:\u001b[0m\u001b[48;2;240;248;255m                                       \u001b[0m\u001b[48;2;240;248;255m \u001b[0m\u001b[48;2;240;248;255m│\u001b[0m │\n",
       "    │ \u001b[48;2;240;248;255m│\u001b[0m\u001b[48;2;240;248;255m \u001b[0m\u001b[48;2;240;248;255m- \u001b[0m\u001b[48;2;240;248;255m                                                                                                     \u001b[0m\u001b[48;2;240;248;255m \u001b[0m\u001b[48;2;240;248;255m│\u001b[0m │\n",
       "    │ \u001b[48;2;240;248;255m│\u001b[0m\u001b[48;2;240;248;255m \u001b[0m\u001b[48;2;240;248;255m- Informative: An informative summary captures the important information in the article and presents it\u001b[0m\u001b[48;2;240;248;255m \u001b[0m\u001b[48;2;240;248;255m│\u001b[0m │\n",
       "    │ \u001b[48;2;240;248;255m│\u001b[0m\u001b[48;2;240;248;255m \u001b[0m\u001b[48;2;240;248;255maccurately\u001b[0m\u001b[48;2;240;248;255m                                                                                             \u001b[0m\u001b[48;2;240;248;255m \u001b[0m\u001b[48;2;240;248;255m│\u001b[0m │\n",
       "    │ \u001b[48;2;240;248;255m│\u001b[0m\u001b[48;2;240;248;255m \u001b[0m\u001b[48;2;240;248;255m- Coherent: A coherent summary is well-structured and well-organized\u001b[0m\u001b[48;2;240;248;255m                                   \u001b[0m\u001b[48;2;240;248;255m \u001b[0m\u001b[48;2;240;248;255m│\u001b[0m │\n",
       "    │ \u001b[48;2;240;248;255m│\u001b[0m\u001b[48;2;240;248;255m \u001b[0m\u001b[48;2;240;248;255m- Attributable: Is all the information in the summary fully attributable to the Article?\u001b[0m\u001b[48;2;240;248;255m               \u001b[0m\u001b[48;2;240;248;255m \u001b[0m\u001b[48;2;240;248;255m│\u001b[0m │\n",
       "    │ \u001b[48;2;240;248;255m│\u001b[0m\u001b[48;2;240;248;255m \u001b[0m\u001b[48;2;240;248;255m- Concise: A good summary should convey the main ideas in the Article in less words.\u001b[0m\u001b[48;2;240;248;255m                   \u001b[0m\u001b[48;2;240;248;255m \u001b[0m\u001b[48;2;240;248;255m│\u001b[0m │\n",
       "    │ \u001b[48;2;240;248;255m│\u001b[0m\u001b[48;2;240;248;255m \u001b[0m\u001b[48;2;240;248;255m                                                                                                       \u001b[0m\u001b[48;2;240;248;255m \u001b[0m\u001b[48;2;240;248;255m│\u001b[0m │\n",
       "    │ \u001b[48;2;240;248;255m│\u001b[0m\u001b[48;2;240;248;255m \u001b[0m\u001b[48;2;240;248;255mDon't talk; just go.\u001b[0m\u001b[48;2;240;248;255m                                                                                   \u001b[0m\u001b[48;2;240;248;255m \u001b[0m\u001b[48;2;240;248;255m│\u001b[0m │\n",
       "    │ \u001b[48;2;240;248;255m│\u001b[0m\u001b[48;2;240;248;255m \u001b[0m\u001b[48;2;240;248;255m                                                                                                       \u001b[0m\u001b[48;2;240;248;255m \u001b[0m\u001b[48;2;240;248;255m│\u001b[0m │\n",
       "    │ \u001b[48;2;240;248;255m╰─────────────────────────────────────────────────────────────────────────────────────────────────────────╯\u001b[0m │\n",
       "    │ \u001b[48;2;231;223;235m╭─\u001b[0m\u001b[48;2;231;223;235m───────────────────────────────────────────\u001b[0m\u001b[48;2;231;223;235m Message History \u001b[0m\u001b[48;2;231;223;235m───────────────────────────────────────────\u001b[0m\u001b[48;2;231;223;235m─╮\u001b[0m │\n",
       "    │ \u001b[48;2;231;223;235m│\u001b[0m\u001b[48;2;231;223;235m \u001b[0m\u001b[48;2;231;223;235mNo message history.\u001b[0m\u001b[48;2;231;223;235m                                                                                    \u001b[0m\u001b[48;2;231;223;235m \u001b[0m\u001b[48;2;231;223;235m│\u001b[0m │\n",
       "    │ \u001b[48;2;231;223;235m╰─────────────────────────────────────────────────────────────────────────────────────────────────────────╯\u001b[0m │\n",
       "    │ \u001b[48;2;245;245;220m╭─\u001b[0m\u001b[48;2;245;245;220m───────────────────────────────────────────\u001b[0m\u001b[48;2;245;245;220m Raw LLM Output \u001b[0m\u001b[48;2;245;245;220m────────────────────────────────────────────\u001b[0m\u001b[48;2;245;245;220m─╮\u001b[0m │\n",
       "    │ \u001b[48;2;245;245;220m│\u001b[0m\u001b[48;2;245;245;220m \u001b[0m\u001b[48;2;245;245;220mA judge has ordered former President Donald Trump to pay approximately $450 million to New York State \u001b[0m\u001b[48;2;245;245;220m \u001b[0m\u001b[48;2;245;245;220m \u001b[0m\u001b[48;2;245;245;220m│\u001b[0m │\n",
       "    │ \u001b[48;2;245;245;220m│\u001b[0m\u001b[48;2;245;245;220m \u001b[0m\u001b[48;2;245;245;220min a civil fraud case, which could significantly impact his financial assets. The ruling also restricts\u001b[0m\u001b[48;2;245;245;220m \u001b[0m\u001b[48;2;245;245;220m│\u001b[0m │\n",
       "    │ \u001b[48;2;245;245;220m│\u001b[0m\u001b[48;2;245;245;220m \u001b[0m\u001b[48;2;245;245;220mTrump from running any New York company and obtaining loans from New York banks for a specified period.\u001b[0m\u001b[48;2;245;245;220m \u001b[0m\u001b[48;2;245;245;220m│\u001b[0m │\n",
       "    │ \u001b[48;2;245;245;220m│\u001b[0m\u001b[48;2;245;245;220m \u001b[0m\u001b[48;2;245;245;220mThese measures are described as unprecedented threats to Trump's finances and may temporarily set back \u001b[0m\u001b[48;2;245;245;220m \u001b[0m\u001b[48;2;245;245;220m│\u001b[0m │\n",
       "    │ \u001b[48;2;245;245;220m│\u001b[0m\u001b[48;2;245;245;220m \u001b[0m\u001b[48;2;245;245;220mhis real estate company. A court-appointed monitor will oversee the family business. Trump's lawyer \u001b[0m\u001b[48;2;245;245;220m   \u001b[0m\u001b[48;2;245;245;220m \u001b[0m\u001b[48;2;245;245;220m│\u001b[0m │\n",
       "    │ \u001b[48;2;245;245;220m│\u001b[0m\u001b[48;2;245;245;220m \u001b[0m\u001b[48;2;245;245;220mcriticized the ruling, while these penalties could foreshadow challenges he will face in upcoming \u001b[0m\u001b[48;2;245;245;220m     \u001b[0m\u001b[48;2;245;245;220m \u001b[0m\u001b[48;2;245;245;220m│\u001b[0m │\n",
       "    │ \u001b[48;2;245;245;220m│\u001b[0m\u001b[48;2;245;245;220m \u001b[0m\u001b[48;2;245;245;220mcriminal trials, which carry the potential for imprisonment.\u001b[0m\u001b[48;2;245;245;220m                                           \u001b[0m\u001b[48;2;245;245;220m \u001b[0m\u001b[48;2;245;245;220m│\u001b[0m │\n",
       "    │ \u001b[48;2;245;245;220m╰─────────────────────────────────────────────────────────────────────────────────────────────────────────╯\u001b[0m │\n",
       "    │ \u001b[48;2;240;255;240m╭─\u001b[0m\u001b[48;2;240;255;240m──────────────────────────────────────────\u001b[0m\u001b[48;2;240;255;240m Validated Output \u001b[0m\u001b[48;2;240;255;240m───────────────────────────────────────────\u001b[0m\u001b[48;2;240;255;240m─╮\u001b[0m │\n",
       "    │ \u001b[48;2;240;255;240m│\u001b[0m\u001b[48;2;240;255;240m \u001b[0m\u001b[48;2;240;255;240m\"A judge has ordered former President Donald Trump to pay approximately $450 million to New York State \u001b[0m\u001b[48;2;240;255;240m \u001b[0m\u001b[48;2;240;255;240m│\u001b[0m │\n",
       "    │ \u001b[48;2;240;255;240m│\u001b[0m\u001b[48;2;240;255;240m \u001b[0m\u001b[48;2;240;255;240min a civil fraud case, which could significantly impact his financial assets. The ruling also restricts\u001b[0m\u001b[48;2;240;255;240m \u001b[0m\u001b[48;2;240;255;240m│\u001b[0m │\n",
       "    │ \u001b[48;2;240;255;240m│\u001b[0m\u001b[48;2;240;255;240m \u001b[0m\u001b[48;2;240;255;240mTrump from running any New York company and obtaining loans from New York banks for a specified period.\u001b[0m\u001b[48;2;240;255;240m \u001b[0m\u001b[48;2;240;255;240m│\u001b[0m │\n",
       "    │ \u001b[48;2;240;255;240m│\u001b[0m\u001b[48;2;240;255;240m \u001b[0m\u001b[48;2;240;255;240mThese measures are described as unprecedented threats to Trump's finances and may temporarily set back \u001b[0m\u001b[48;2;240;255;240m \u001b[0m\u001b[48;2;240;255;240m│\u001b[0m │\n",
       "    │ \u001b[48;2;240;255;240m│\u001b[0m\u001b[48;2;240;255;240m \u001b[0m\u001b[48;2;240;255;240mhis real estate company. A court-appointed monitor will oversee the family business. Trump's lawyer \u001b[0m\u001b[48;2;240;255;240m   \u001b[0m\u001b[48;2;240;255;240m \u001b[0m\u001b[48;2;240;255;240m│\u001b[0m │\n",
       "    │ \u001b[48;2;240;255;240m│\u001b[0m\u001b[48;2;240;255;240m \u001b[0m\u001b[48;2;240;255;240mcriticized the ruling, while these penalties could foreshadow challenges he will face in upcoming \u001b[0m\u001b[48;2;240;255;240m     \u001b[0m\u001b[48;2;240;255;240m \u001b[0m\u001b[48;2;240;255;240m│\u001b[0m │\n",
       "    │ \u001b[48;2;240;255;240m│\u001b[0m\u001b[48;2;240;255;240m \u001b[0m\u001b[48;2;240;255;240mcriminal trials, which carry the potential for imprisonment.\"\u001b[0m\u001b[48;2;240;255;240m                                          \u001b[0m\u001b[48;2;240;255;240m \u001b[0m\u001b[48;2;240;255;240m│\u001b[0m │\n",
       "    │ \u001b[48;2;240;255;240m╰─────────────────────────────────────────────────────────────────────────────────────────────────────────╯\u001b[0m │\n",
       "    ╰─────────────────────────────────────────────────────────────────────────────────────────────────────────────╯\n"
      ]
     },
     "metadata": {},
     "output_type": "display_data"
    }
   ],
   "source": [
    "from rich import print\n",
    "\n",
    "\n",
    "print(guard.history.last.tree)"
   ]
  }
 ],
 "metadata": {
  "kernelspec": {
   "display_name": "Python 3 (ipykernel)",
   "language": "python",
   "name": "python3"
  },
  "language_info": {
   "codemirror_mode": {
    "name": "ipython",
    "version": 3
   },
   "file_extension": ".py",
   "mimetype": "text/x-python",
   "name": "python",
   "nbconvert_exporter": "python",
   "pygments_lexer": "ipython3",
   "version": "3.10.12"
  }
 },
 "nbformat": 4,
 "nbformat_minor": 5
}
