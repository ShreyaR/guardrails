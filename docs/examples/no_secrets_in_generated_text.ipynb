{
 "cells": [
  {
   "attachments": {},
   "cell_type": "markdown",
   "metadata": {},
   "source": [
    "# Generating strings that don't have any secrets\n",
    "\n",
    "!!! note\n",
    "    To download this example as a Jupyter notebook, click [here](https://github.com/ShreyaR/guardrails/blob/main/docs/examples/no_secrets_in_generated_text.ipynb).\n",
    "\n",
    "In this example, we will use Guardrails to generate strings that don't have any secrets.\n",
    "\n",
    "This is also a good example to show how to use the `script` element of the `RAIL` specification. In this case, we will use the `script` element to create a custom Validator that checks if a string has any secrets.\n",
    "\n",
    "## Objective\n",
    "\n",
    "We want to ask help with an API, but make sure that the generated text has no secrets."
   ]
  },
  {
   "attachments": {},
   "cell_type": "markdown",
   "metadata": {},
   "source": [
    "## Step 1: Create the RAIL Spec\n",
    "\n",
    "Ordinarily, we would create an RAIL spec in a separate file. For the purposes of this example, we will create the spec in this notebook as a string following the RAIL syntax. For more information on RAIL, see the [RAIL documentation](../rail/output.md).\n",
    "\n",
    "In this RAIL spec, we:\n",
    "\n",
    "1. Create a `script` element that creates a custom Validator that checks if a string has any secrets. This is a simple example, but you can use this to create more complex Validators. For more information on creating custom Validators, see the [Validators documentation](../validation.md).\n",
    "2. Create a `output` schema that returns an object with a `api_help` key."
   ]
  },
  {
   "cell_type": "code",
   "execution_count": null,
   "metadata": {},
   "outputs": [],
   "source": [
    "rail_str = \"\"\"\n",
    "<rail version=\"0.1\">\n",
    "\n",
    "<script language='python'>\n",
    "from dataclasses import dataclass\n",
    "from guardrails.validators import Validator, EventDetail, register_validator\n",
    "\n",
    "import re\n",
    "from typing import Dict, List\n",
    "\n",
    "OPENAI_KEY_PATTERN = re.compile(r\"sk-[a-zA-Z0-9]{24}\")\n",
    "\n",
    "\n",
    "@register_validator(name=\"no-code-secrets\", data_type=\"string\")\n",
    "class NoCodeSecrets(Validator):\n",
    "\n",
    "    def validate(self, key, value, schema) -> Dict:\n",
    "        global OPENAI_KEY_PATTERN\n",
    "\n",
    "        if re.search(OPENAI_KEY_PATTERN, value) is not None:\n",
    "            # Corrected value should replace the OpenAI API key with \"sk-xxx\"\n",
    "            correct_value = re.sub(OPENAI_KEY_PATTERN, \"sk-xxx\", value)\n",
    "            raise EventDetail(\n",
    "                key,\n",
    "                value,\n",
    "                schema,\n",
    "                f\"Value {value} is an OpenAI API key.\",\n",
    "                correct_value,\n",
    "            )\n",
    "\n",
    "        return schema\n",
    "</script>\n",
    "\n",
    "\n",
    "<output>\n",
    "    <string name=\"api_help\" description=\"Show an example curl command for using openai Completion API\" format=\"no-code-secrets\" on-fail-no-code-secrets=\"fix\" />\n",
    "</output>\n",
    "\n",
    "\n",
    "<prompt>\n",
    "\n",
    "How do I use OpenAI's Completion API?\n",
    "\n",
    "${gr.complete_json_suffix}\n",
    "</prompt>\n",
    "\n",
    "\n",
    "</rail>\n",
    "\"\"\""
   ]
  },
  {
   "cell_type": "markdown",
   "metadata": {},
   "source": [
    "## Step 2: Create a `Guard` object with the RAIL Spec\n",
    "\n",
    "We create a `gd.Guard` object that will check, validate and correct the output of the LLM. This object:\n",
    "\n",
    "1. Enforces the quality criteria specified in the RAIL spec.\n",
    "2. Takes corrective action when the quality criteria are not met.\n",
    "3. Compiles the schema and type info from the RAIL spec and adds it to the prompt."
   ]
  },
  {
   "cell_type": "code",
   "execution_count": null,
   "metadata": {},
   "outputs": [],
   "source": [
    "import guardrails as gd\n",
    "\n",
    "from rich import print\n",
    "\n",
    "guard = gd.Guard.from_rail_string(rail_str)"
   ]
  },
  {
   "attachments": {},
   "cell_type": "markdown",
   "metadata": {},
   "source": [
    "We see the prompt that will be sent to the LLM."
   ]
  },
  {
   "cell_type": "code",
   "execution_count": null,
   "metadata": {},
   "outputs": [],
   "source": [
    "print(guard.base_prompt)"
   ]
  },
  {
   "cell_type": "markdown",
   "metadata": {},
   "source": [
    "## Step 3: Wrap the LLM API call with `Guard`"
   ]
  },
  {
   "cell_type": "code",
   "execution_count": null,
   "metadata": {},
   "outputs": [],
   "source": [
    "import openai\n",
    "\n",
    "raw_llm_response, validated_response = guard(\n",
    "    openai.Completion.create, engine=\"text-davinci-003\", max_tokens=2048, temperature=0\n",
    ")"
   ]
  },
  {
   "cell_type": "markdown",
   "metadata": {},
   "source": [
    "The `guard` wrapper returns the raw_llm_respose (which is a simple string), and the validated and corrected output (which is a dictionary).\n",
    "\n",
    "We can see that the output is a dictionary with the correct schema and types."
   ]
  },
  {
   "cell_type": "code",
   "execution_count": null,
   "metadata": {},
   "outputs": [],
   "source": [
    "print(validated_response)"
   ]
  },
  {
   "cell_type": "code",
   "execution_count": null,
   "metadata": {},
   "outputs": [],
   "source": [
    "print(guard.state.most_recent_call.tree)"
   ]
  }
 ],
 "metadata": {
  "kernelspec": {
   "display_name": "tiff-env",
   "language": "python",
   "name": "python3"
  },
  "language_info": {
   "codemirror_mode": {
    "name": "ipython",
    "version": 3
   },
   "file_extension": ".py",
   "mimetype": "text/x-python",
   "name": "python",
   "nbconvert_exporter": "python",
   "pygments_lexer": "ipython3",
   "version": "3.9.16"
  },
  "orig_nbformat": 4,
  "vscode": {
   "interpreter": {
    "hash": "ef14f49bbc779f2fde64ca0552c2a99d578405052f5b73f61279551da311a8a1"
   }
  }
 },
 "nbformat": 4,
 "nbformat_minor": 2
}
