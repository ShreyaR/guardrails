{
    "cells": [
     {
      "cell_type": "code",
      "execution_count": 4,
      "metadata": {},
      "outputs": [
       {
        "name": "stdout",
        "output_type": "stream",
        "text": [
         "\n",
         "\u001b[1m[\u001b[0m\u001b[34;49mnotice\u001b[0m\u001b[1;39;49m]\u001b[0m\u001b[39;49m A new release of pip is available: \u001b[0m\u001b[31;49m24.0\u001b[0m\u001b[39;49m -> \u001b[0m\u001b[32;49m24.1\u001b[0m\n",
         "\u001b[1m[\u001b[0m\u001b[34;49mnotice\u001b[0m\u001b[1;39;49m]\u001b[0m\u001b[39;49m To update, run: \u001b[0m\u001b[32;49mpip install --upgrade pip\u001b[0m\n",
         "\n",
         "\u001b[1m[\u001b[0m\u001b[34;49mnotice\u001b[0m\u001b[1;39;49m]\u001b[0m\u001b[39;49m A new release of pip is available: \u001b[0m\u001b[31;49m24.0\u001b[0m\u001b[39;49m -> \u001b[0m\u001b[32;49m24.1\u001b[0m\n",
         "\u001b[1m[\u001b[0m\u001b[34;49mnotice\u001b[0m\u001b[1;39;49m]\u001b[0m\u001b[39;49m To update, run: \u001b[0m\u001b[32;49mpip install --upgrade pip\u001b[0m\n"
        ]
       }
      ],
      "source": [
       "! pip install ipywidgets -q"
      ]
     },
     {
      "cell_type": "code",
      "execution_count": 1,
      "metadata": {},
      "outputs": [
       {
        "data": {
         "application/vnd.jupyter.widget-view+json": {
          "model_id": "81b91198c45249a2b0a7075d13ebf838",
          "version_major": 2,
          "version_minor": 0
         },
         "text/plain": [
          "model.safetensors:   0%|          | 10.5M/2.20G [00:00<?, ?B/s]"
         ]
        },
        "metadata": {},
        "output_type": "display_data"
       }
      ],
      "source": [
       "from guardrails import Guard\n",
       "from pydantic import BaseModel\n",
       "\n",
       "class Dog(BaseModel):\n",
       "    name: str\n",
       "    color: str\n",
       "    weight_kg: float\n",
       "\n",
       "class NewFriends(BaseModel):\n",
       "    dogs: list[Dog]\n",
       "\n",
       "guard = Guard.from_pydantic(NewFriends, output_formatter=\"jsonformer\")\n",
       "\n",
       "# JSONFormer is only compatible with HF Pipelines and HF Models:\n",
       "from transformers import pipeline\n",
       "tiny_llama_pipeline = pipeline(\"text-generation\", \"TinyLlama/TinyLlama-1.1B-Chat-v1.0\")\n",
       "\n",
       "# Inference is straightforward:\n",
       "response = guard(tiny_llama_pipeline, prompt=\"Please enjoy this list of good dogs:\")\n",
       "\n",
       "# `out` is a dict.  Format it as JSON for readability:\n",
       "import json\n",
       "print(json.dumps(response.validated_output, indent=2))"
      ]
     }
    ],
    "metadata": {
     "kernelspec": {
      "display_name": ".venv",
      "language": "python",
      "name": "python3"
     },
     "language_info": {
      "codemirror_mode": {
       "name": "ipython",
       "version": 3
      },
      "file_extension": ".py",
      "mimetype": "text/x-python",
      "name": "python",
      "nbconvert_exporter": "python",
      "pygments_lexer": "ipython3",
      "version": "3.12.3"
     }
    },
    "nbformat": 4,
    "nbformat_minor": 2
   }