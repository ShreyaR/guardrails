{
 "cells": [
  {
   "cell_type": "code",
   "execution_count": 15,
   "metadata": {},
   "outputs": [],
   "source": [
    "import logging\n",
    "import json\n",
    "\n",
    "from guardrails.x_schema import XSchema\n",
    "from guardrails.prompt_repo import Prompt\n",
    "from guardrails.utils.docs_utils import read_pdf"
   ]
  },
  {
   "cell_type": "code",
   "execution_count": 16,
   "metadata": {},
   "outputs": [],
   "source": [
    "# Set up logging\n",
    "logging.basicConfig(level=logging.INFO)\n",
    "logger = logging.getLogger(__name__)"
   ]
  },
  {
   "cell_type": "code",
   "execution_count": 17,
   "metadata": {},
   "outputs": [
    {
     "name": "stderr",
     "output_type": "stream",
     "text": [
      "DEBUG:__main__:Loading the XSchema for the PDF document.\n"
     ]
    }
   ],
   "source": [
    "logger.debug(\"Loading the XSchema for the PDF document.\")"
   ]
  },
  {
   "cell_type": "code",
   "execution_count": 18,
   "metadata": {},
   "outputs": [
    {
     "name": "stderr",
     "output_type": "stream",
     "text": [
      "/Users/shreyarajpal/guardrails/guardrails/x_datatypes.py:53: UserWarning: Formatter 1-indexed is not valid for element integer.\n",
      "  warnings.warn(\n",
      "/Users/shreyarajpal/guardrails/guardrails/x_datatypes.py:53: UserWarning: Formatter percentage is not valid for element float.\n",
      "  warnings.warn(\n",
      "/Users/shreyarajpal/guardrails/guardrails/x_datatypes.py:53: UserWarning: Formatter tone-twitter explain-high-quality is not valid for element string.\n",
      "  warnings.warn(\n",
      "/Users/shreyarajpal/guardrails/guardrails/x_datatypes.py:53: UserWarning: Formatter tagline tv-ad is not valid for element string.\n",
      "  warnings.warn(\n"
     ]
    }
   ],
   "source": [
    "base_prompt_template = Prompt(\"\"\"Given the following document, answer the following questions. If the answer doesn't exist in the document, enter 'None'.\n",
    "\n",
    "{document}\"\"\")\n",
    "\n",
    "schema = XSchema.from_xml('guardrails/prompt.xml', base_prompt_template)"
   ]
  },
  {
   "cell_type": "code",
   "execution_count": 19,
   "metadata": {},
   "outputs": [
    {
     "name": "stdout",
     "output_type": "stream",
     "text": [
      "Given the following document, answer the following questions. If the answer doesn't exist in the document, enter 'None'.\n",
      "\n",
      "{document}\n",
      "\n",
      "Given below is XML that describes the information to extract from this document and the tags to extract it into.\n",
      "\n",
      "<prompt>\n",
      "    <list name=\"fees\" description=\"What fees and charges are associated with my account?\">\n",
      "        <object>\n",
      "            <integer name=\"index\" format=\"1-indexed\" />\n",
      "            <string name=\"name\" format=\"lower-case; two-words\" />\n",
      "            <string name=\"explanation\" format=\"one-line\" />\n",
      "            <float name=\"value\" format=\"percentage\" />\n",
      "            <string name=\"description\" format=\"length: 0 200\" />\n",
      "            <string name=\"example\" required=\"True\" format=\"tone-twitter explain-high-quality\" />\n",
      "            <string name=\"advertisement\" format=\"tagline tv-ad\" />\n",
      "        </object>\n",
      "    </list>\n",
      "    <string name=\"interest_rates\" description=\"What are the interest rates offered by the bank on savings and checking accounts, loans, and credit products?\" />\n",
      "    \n",
      "</prompt>\n",
      "\n",
      "Return a valid JSON object that respects this XML format and extracts only the information requested in this document. Respect the types indicated in the XML -- the information you extract should be converted into the correct 'type'. Try to be as correct and concise as possible. Find all relevant information in the document. If you are unsure of the answer, enter 'None'. If you answer incorrectly, you will be asked again until you get it right which is expensive.\n"
     ]
    }
   ],
   "source": [
    "print(schema.prompt)"
   ]
  },
  {
   "cell_type": "code",
   "execution_count": 5,
   "metadata": {},
   "outputs": [],
   "source": [
    "# content = read_pdf('chase_card_agreement.pdf')\n",
    "# validated_response, raw_response = schema.ask_with_validation(content[:6000])"
   ]
  },
  {
   "cell_type": "code",
   "execution_count": 6,
   "metadata": {},
   "outputs": [],
   "source": [
    "# prompt = schema.prompt.format(document=content[:6000])\n",
    "# response = schema.llm_ask(prompt)\n",
    "# response_as_dict = json.loads(response)\n",
    "\n",
    "# # Save response_as_dict to a file\n",
    "# with open('response_as_dict.json', 'w') as f:\n",
    "#     json.dump(response_as_dict, f, indent=4)"
   ]
  },
  {
   "cell_type": "code",
   "execution_count": 7,
   "metadata": {},
   "outputs": [],
   "source": [
    "with open('response_as_dict.json', 'r') as f:\n",
    "    response_as_dict = json.load(f)\n"
   ]
  },
  {
   "cell_type": "code",
   "execution_count": 14,
   "metadata": {},
   "outputs": [
    {
     "name": "stderr",
     "output_type": "stream",
     "text": [
      "DEBUG:guardrails.x_validators:Validating annual membership is lower case...\n",
      "DEBUG:guardrails.x_validators:Validation outcome: True\n",
      "DEBUG:guardrails.x_validators:Validating annual membership is two words...\n",
      "DEBUG:guardrails.x_validators:Validation outcome: True\n",
      "DEBUG:guardrails.x_validators:Validating annual fee for membership is a single line...\n",
      "DEBUG:guardrails.x_validators:Validation outcome: True\n",
      "DEBUG:guardrails.x_validators:Validating None is in length range 0 - 200...\n",
      "DEBUG:guardrails.x_validators:Value None is in range 0 - 200.\n",
      "DEBUG:guardrails.x_validators:Validating my chase plan is lower case...\n",
      "DEBUG:guardrails.x_validators:Validation outcome: True\n",
      "DEBUG:guardrails.x_validators:Validating my chase plan is two words...\n",
      "DEBUG:guardrails.x_validators:Validation outcome: False\n"
     ]
    },
    {
     "name": "stdout",
     "output_type": "stream",
     "text": [
      "Field: fees\n",
      "Field fees is in schema\n",
      "Outcome: False\n",
      "Field: interest_rates\n",
      "Field interest_rates is in schema\n",
      "Outcome: True\n"
     ]
    }
   ],
   "source": [
    "for field, value in response_as_dict.items():\n",
    "\n",
    "    print(f\"Field: {field}\")\n",
    "\n",
    "    if field not in schema.schema:\n",
    "        print(f\"Field {field} not in schema\")\n",
    "        continue\n",
    "\n",
    "    print(f\"Field {field} is in schema\")\n",
    "    outcome = schema.schema[field].validate(value)\n",
    "    print(f\"Outcome: {outcome}\")\n"
   ]
  },
  {
   "cell_type": "code",
   "execution_count": null,
   "metadata": {},
   "outputs": [],
   "source": []
  },
  {
   "cell_type": "code",
   "execution_count": null,
   "metadata": {},
   "outputs": [],
   "source": []
  },
  {
   "cell_type": "code",
   "execution_count": null,
   "metadata": {},
   "outputs": [],
   "source": []
  },
  {
   "cell_type": "code",
   "execution_count": null,
   "metadata": {},
   "outputs": [],
   "source": []
  },
  {
   "cell_type": "code",
   "execution_count": null,
   "metadata": {},
   "outputs": [],
   "source": []
  },
  {
   "cell_type": "code",
   "execution_count": null,
   "metadata": {},
   "outputs": [],
   "source": []
  },
  {
   "cell_type": "code",
   "execution_count": null,
   "metadata": {},
   "outputs": [],
   "source": []
  },
  {
   "cell_type": "code",
   "execution_count": null,
   "metadata": {},
   "outputs": [],
   "source": []
  },
  {
   "cell_type": "code",
   "execution_count": null,
   "metadata": {},
   "outputs": [],
   "source": []
  },
  {
   "cell_type": "code",
   "execution_count": null,
   "metadata": {},
   "outputs": [],
   "source": []
  },
  {
   "cell_type": "code",
   "execution_count": 9,
   "metadata": {},
   "outputs": [
    {
     "name": "stdout",
     "output_type": "stream",
     "text": [
      "<prompt>\n",
      "    <list name=\"fees\" description=\"What fees and charges are associated with my account?\">\n",
      "        <object>\n",
      "            <integer name=\"index\" format=\"1-indexed\" />\n",
      "            <string name=\"name\" format=\"lower-case; two-words\" />\n",
      "            <string name=\"explanation\" format=\"one-line\" />\n",
      "            <float name=\"value\" format=\"percentage\" />\n",
      "            <string name=\"description\" format=\"length: 0 200\" />\n",
      "            <string name=\"example\" required=\"True\" format=\"tone-twitter explain-high-quality\" />\n",
      "            <string name=\"advertisement\" format=\"tagline tv-ad\" />\n",
      "        </object>\n",
      "    </list>\n",
      "    <string name=\"interest_rates\" description=\"What are the interest rates offered by the bank on savings and checking accounts, loans, and credit products?\" />\n",
      "    \n",
      "</prompt>\n"
     ]
    }
   ],
   "source": [
    "print(schema.prompt)"
   ]
  },
  {
   "cell_type": "code",
   "execution_count": 7,
   "metadata": {},
   "outputs": [
    {
     "name": "stdout",
     "output_type": "stream",
     "text": [
      "\n",
      "\n",
      "The fees associated with your account include:\n",
      "\n",
      "1. Maintenance Fee: A fee charged for the maintenance of your account. Value: 0.25%. Description: This fee is charged for the upkeep of your account and is usually charged on a monthly basis. Example: \"A $5 monthly maintenance fee is charged for the upkeep of your account.\" Advertisement: \"Keep your money safe with our low maintenance fees!\"\n",
      "\n",
      "2. Transaction Fee: A fee charged for each transaction made with your account. Value: 0.10%. Description: This fee is charged for each transaction made with your account and is usually charged on a per-transaction basis. Example: \"A $0.50 fee is charged for each transaction made with your account.\" Advertisement: \"Make transactions with ease and low fees!\"\n",
      "\n",
      "3. ATM Fee: A fee charged for using an ATM. Value: 0.15%. Description: This fee is charged for using an ATM and is usually charged on a per-transaction basis. Example: \"A $2 fee is charged for each ATM transaction made with your account.\" Advertisement: \"Make ATM transactions with ease and low fees!\"\n",
      "\n",
      "The interest rates offered by the bank on savings and checking accounts, loans, and credit products vary depending on the type of account and product. Please contact your local branch for more information.\n"
     ]
    }
   ],
   "source": [
    "print(raw_response)"
   ]
  },
  {
   "cell_type": "code",
   "execution_count": 9,
   "metadata": {},
   "outputs": [],
   "source": [
    "import openai\n",
    "\n",
    "with open('openai_api_key.txt', 'r') as f:\n",
    "    openai_api_key = f.read()\n",
    "\n",
    "models_list = openai.Model.list(api_key=openai_api_key)\n"
   ]
  },
  {
   "cell_type": "code",
   "execution_count": 12,
   "metadata": {},
   "outputs": [
    {
     "name": "stdout",
     "output_type": "stream",
     "text": [
      "object\n",
      "data\n"
     ]
    }
   ],
   "source": [
    "for model in models_list:\n",
    "    print(model)"
   ]
  },
  {
   "cell_type": "code",
   "execution_count": 25,
   "metadata": {},
   "outputs": [
    {
     "name": "stdout",
     "output_type": "stream",
     "text": [
      "babbage\n",
      "davinci\n",
      "gpt-3.5-turbo-0301\n",
      "text-davinci-003\n",
      "babbage-code-search-code\n",
      "text-similarity-babbage-001\n",
      "text-davinci-001\n",
      "ada\n",
      "curie-instruct-beta\n",
      "babbage-code-search-text\n",
      "babbage-similarity\n",
      "gpt-3.5-turbo\n",
      "code-davinci-002\n",
      "code-search-babbage-text-001\n",
      "text-embedding-ada-002\n",
      "code-cushman-001\n",
      "whisper-1\n",
      "code-search-babbage-code-001\n",
      "audio-transcribe-deprecated\n",
      "text-ada-001\n",
      "text-similarity-ada-001\n",
      "text-davinci-insert-002\n",
      "ada-code-search-code\n",
      "ada-similarity\n",
      "code-search-ada-text-001\n",
      "text-search-ada-query-001\n",
      "text-curie-001\n",
      "text-davinci-edit-001\n",
      "davinci-search-document\n",
      "ada-code-search-text\n",
      "text-search-ada-doc-001\n",
      "code-davinci-edit-001\n",
      "davinci-instruct-beta\n",
      "text-similarity-curie-001\n",
      "code-search-ada-code-001\n",
      "ada-search-query\n",
      "text-search-davinci-query-001\n",
      "curie-search-query\n",
      "davinci-search-query\n",
      "text-davinci-insert-001\n",
      "babbage-search-document\n",
      "ada-search-document\n",
      "text-search-curie-query-001\n",
      "text-search-babbage-doc-001\n",
      "text-davinci-002\n",
      "curie-search-document\n",
      "text-search-curie-doc-001\n",
      "babbage-search-query\n",
      "text-babbage-001\n",
      "text-search-davinci-doc-001\n",
      "text-search-babbage-query-001\n",
      "curie-similarity\n",
      "curie\n",
      "text-similarity-davinci-001\n",
      "davinci-similarity\n",
      "cushman:2020-05-03\n",
      "ada:2020-05-03\n",
      "babbage:2020-05-03\n",
      "curie:2020-05-03\n",
      "davinci:2020-05-03\n",
      "if-davinci-v2\n",
      "if-curie-v2\n",
      "if-davinci:3.0.0\n",
      "davinci-if:3.0.0\n",
      "davinci-instruct-beta:2.0.0\n",
      "text-ada:001\n",
      "text-davinci:001\n",
      "text-curie:001\n",
      "text-babbage:001\n"
     ]
    }
   ],
   "source": [
    "for model in models_list['data']:\n",
    "    print(model['id'])"
   ]
  }
 ],
 "metadata": {
  "kernelspec": {
   "display_name": "tiff-env",
   "language": "python",
   "name": "python3"
  },
  "language_info": {
   "codemirror_mode": {
    "name": "ipython",
    "version": 3
   },
   "file_extension": ".py",
   "mimetype": "text/x-python",
   "name": "python",
   "nbconvert_exporter": "python",
   "pygments_lexer": "ipython3",
   "version": "3.9.16"
  },
  "orig_nbformat": 4,
  "vscode": {
   "interpreter": {
    "hash": "ef14f49bbc779f2fde64ca0552c2a99d578405052f5b73f61279551da311a8a1"
   }
  }
 },
 "nbformat": 4,
 "nbformat_minor": 2
}
