{
 "cells": [
  {
   "attachments": {},
   "cell_type": "markdown",
   "metadata": {},
   "source": [
    "# Using Guardrails with Chat Models\n",
    "\n",
    "!!! note\n",
    "    To download this example as a Jupyter notebook, click [here](https://github.com/ShreyaR/guardrails/blob/main/docs/examples/guardrails_with_chat_models.ipynb).\n",
    "\n",
    "In this example, we will set up Guardrails with a chat model.\n",
    "\n",
    "## Objective\n",
    "\n",
    "We retry the [entity extraction example](./entity_extraction.ipynb) using a chat model.\n",
    "\n",
    "## Step 0: Download PDF and load it as string\n",
    "\n",
    "To get started, download the document from [here](https://github.com/ShreyaR/guardrails/blob/main/docs/examples/data/chase_card_agreement.pdf) and save it in `data/chase_card_agreement.pdf`.\n",
    "\n",
    "Guardrails has some built-in functions to help with common tasks. Here, we will use the `read_pdf` function to load the PDF as a string."
   ]
  },
  {
   "cell_type": "code",
   "execution_count": null,
   "metadata": {},
   "outputs": [],
   "source": [
    "import guardrails as gd\n",
    "\n",
    "from rich import print\n",
    "\n",
    "content = gd.docs_utils.read_pdf(\"data/chase_card_agreement.pdf\")\n",
    "\n",
    "print(f\"Chase Credit Card Document:\\n\\n{content[:275]}\\n...\")"
   ]
  },
  {
   "attachments": {},
   "cell_type": "markdown",
   "metadata": {},
   "source": [
    "## Step 1: Create the RAIL Spec with `<instructions>` tags\n",
    "\n",
    "In order to use Guardrails with a chat model, we need to add `<instructions>` tags to the RAIL spec. These tags will be used to generate the system message for the chat model.\n",
    "\n",
    "Ordinarily, everything that is contained in the `<prompt>` tag will be split across `<prompt>` and `<instructions>` tags. Here's an example illustrating the differences.\n",
    "\n",
    "\n",
    "=== \"RAIL Spec with instruction tag\"\n",
    "\n",
    "    ```xml\n",
    "    <instructions>\n",
    "    You are a helpful assistant only capable of communicating with valid JSON, and no other text.\n",
    "\n",
    "    ${gr.json_suffix_prompt_examples}\n",
    "    </instructions>\n",
    "\n",
    "\n",
    "    <prompt>\n",
    "    Given the following document, answer the following questions. If the answer doesn't exist in the document, enter \n",
    "    `null`.\n",
    "\n",
    "    ${document}\n",
    "\n",
    "    Extract information from this document and return a JSON that follows the correct schema.\n",
    "\n",
    "    ${gr.xml_prefix_prompt}\n",
    "\n",
    "    ${output_schema}\n",
    "    </prompt>\n",
    "    ```\n",
    "\n",
    "=== \"RAIL Spec without instruction tag\"\n",
    "    \n",
    "    ```xml\n",
    "    <prompt>\n",
    "    Given the following document, answer the following questions. If the answer doesn't exist in the document, enter `null`.\n",
    "\n",
    "    ${document}\n",
    "\n",
    "    ${gr.xml_prefix_prompt}\n",
    "\n",
    "    ${output_schema}\n",
    "\n",
    "    ${gr.json_suffix_prompt_v2_wo_none}\n",
    "    </prompt>\n",
    "    ```\n",
    "\n",
    "After materialization, the two specs will look like this:\n",
    "\n",
    "=== \"RAIL Spec with instruction tag\"\n",
    "\n",
    "    ```xml\n",
    "    <instructions>\n",
    "    You are a helpful assistant only capable of communicating with valid JSON, and no other text.\n",
    "\n",
    "    ONLY return a valid JSON object (no other text is necessary), where the key of the field in JSON is the `name` attribute of the corresponding XML, and the value is of the type specified by the corresponding XML's tag. The JSON MUST conform to the XML format, including any types and format requests e.g. requests for lists, objects and specific types. Be correct and concise. If you are unsure anywhere, enter `null`.\n",
    "\n",
    "    Here are examples of simple (XML, JSON) pairs that show the expected behavior:\n",
    "    - `<string name='foo' format='two-words lower-case' />` => `{'foo': 'example one'}`\n",
    "    - `<list name='bar'><string format='upper-case' /></list>` => `{\"bar\": ['STRING ONE', 'STRING TWO', etc.]}`\n",
    "    - `<object name='baz'><string name=\"foo\" format=\"capitalize two-words\" /><integer name=\"index\" format=\"1-indexed\" /></object>` => `{'baz': {'foo': 'Some String', 'index': 1}}`\n",
    "    </instructions>\n",
    "\n",
    "\n",
    "    <prompt>\n",
    "    Given the following document, answer the following questions. If the answer doesn't exist in the document, enter \n",
    "    `null`.\n",
    "\n",
    "    ${document}\n",
    "\n",
    "    Extract information from this document and return a JSON that follows the correct schema.\n",
    "\n",
    "    Given below is XML that describes the information to extract from this document and the tags to extract it into.\n",
    "\n",
    "    ${output_schema}\n",
    "    </prompt>\n",
    "    ```\n",
    "\n",
    "=== \"RAIL Spec without instruction tag\"\n",
    "\n",
    "    ```xml\n",
    "    <prompt>\n",
    "    Given the following document, answer the following questions. If the answer doesn't exist in the document, enter `null`.\n",
    "\n",
    "    ${document}\n",
    "\n",
    "    Given below is XML that describes the information to extract from this document and the tags to extract it into.\n",
    "\n",
    "    ${output_schema}\n",
    "\n",
    "    ONLY return a valid JSON object (no other text is necessary), where the key of the field in JSON is the `name` attribute of the corresponding XML, and the value is of the type specified by the corresponding XML's tag. The JSON MUST conform to the XML format, including any types and format requests e.g. requests for lists, objects and specific types. Be correct and concise. If you are unsure anywhere, enter `null`.\n",
    "\n",
    "    Here are examples of simple (XML, JSON) pairs that show the expected behavior:\n",
    "    - `<string name='foo' format='two-words lower-case' />` => `{'foo': 'example one'}`\n",
    "    - `<list name='bar'><string format='upper-case' /></list>` => `{\"bar\": ['STRING ONE', 'STRING TWO', etc.]}`\n",
    "    - `<object name='baz'><string name=\"foo\" format=\"capitalize two-words\" /><integer name=\"index\" format=\"1-indexed\" /></object>` => `{'baz': {'foo': 'Some String', 'index': 1}}`\n",
    "    </prompt>\n",
    "    ```\n",
    "\n",
    "Here's the final RAIL spec:"
   ]
  },
  {
   "cell_type": "code",
   "execution_count": null,
   "metadata": {},
   "outputs": [],
   "source": [
    "rail_str = \"\"\"\n",
    "<rail version=\"0.1\">\n",
    "\n",
    "<output>\n",
    "\n",
    "    <list name=\"fees\" description=\"What fees and charges are associated with my account?\">\n",
    "        <object>\n",
    "            <integer name=\"index\" format=\"1-indexed\" />\n",
    "            <string name=\"name\" format=\"lower-case; two-words\" on-fail-lower-case=\"fix\" on-fail-two-words=\"reask\" />\n",
    "            <string name=\"explanation\" format=\"one-line\" />\n",
    "            <float name=\"value\" format=\"percentage\"/>\n",
    "        </object>\n",
    "    </list>\n",
    "    <object name=\"interest_rates\" description=\"What are the interest rates offered by the bank on savings and checking accounts, loans, and credit products?\" />\n",
    "</output>\n",
    "\n",
    "\n",
    "<instructions>\n",
    "You are a helpful assistant only capable of communicating with valid JSON, and no other text.\n",
    "\n",
    "${gr.json_suffix_prompt_examples}\n",
    "</instructions>\n",
    "\n",
    "\n",
    "<prompt>\n",
    "Given the following document, answer the following questions. If the answer doesn't exist in the document, enter \n",
    "`null`.\n",
    "\n",
    "${document}\n",
    "\n",
    "Extract information from this document and return a JSON that follows the correct schema.\n",
    "\n",
    "${gr.xml_prefix_prompt}\n",
    "\n",
    "${output_schema}\n",
    "</prompt>\n",
    "\n",
    "</rail>\n",
    "\"\"\""
   ]
  },
  {
   "cell_type": "markdown",
   "metadata": {},
   "source": [
    "## Step 2: Create a `Guard` object with the RAIL Spec\n",
    "\n",
    "We create a `gd.Guard` object that will check, validate and correct the output of the LLM. This object:\n",
    "\n",
    "1. Enforces the quality criteria specified in the RAIL spec.\n",
    "2. Takes corrective action when the quality criteria are not met.\n",
    "3. Compiles the schema and type info from the RAIL spec and adds it to the prompt."
   ]
  },
  {
   "cell_type": "code",
   "execution_count": null,
   "metadata": {},
   "outputs": [],
   "source": [
    "guard = gd.Guard.from_rail_string(rail_str)"
   ]
  },
  {
   "cell_type": "markdown",
   "metadata": {},
   "source": [
    "As we can see, a few formatters weren't supported. These formatters won't be enforced in the output, but this information can still be used to generate a prompt.\n",
    "\n",
    "We see the prompt that will be sent to the LLM. The `{document}` is substituted with the user provided value at runtime."
   ]
  },
  {
   "cell_type": "code",
   "execution_count": null,
   "metadata": {},
   "outputs": [],
   "source": [
    "print(guard.base_prompt)"
   ]
  },
  {
   "attachments": {},
   "cell_type": "markdown",
   "metadata": {},
   "source": [
    "Here's the formatted instructions sent as the system message to the LLM."
   ]
  },
  {
   "cell_type": "code",
   "execution_count": null,
   "metadata": {},
   "outputs": [],
   "source": [
    "print(guard.instructions.source)"
   ]
  },
  {
   "attachments": {},
   "cell_type": "markdown",
   "metadata": {},
   "source": [
    "## Step 3: Wrap the LLM API call with `Guard`\n",
    "\n",
    "Compared to the [entity extraction example](./entity_extraction.ipynb), we call the OpenAI ChatCompletion API instead of the OpenAI Completion API.\n",
    "\n",
    "We also pass the `model` argument instead of the `engine` argument."
   ]
  },
  {
   "cell_type": "code",
   "execution_count": null,
   "metadata": {},
   "outputs": [],
   "source": [
    "import openai\n",
    "\n",
    "raw_llm_response, validated_response = guard(\n",
    "    openai.ChatCompletion.create,\n",
    "    prompt_params={\"document\": content[:6000]},\n",
    "    model=\"gpt-3.5-turbo\",\n",
    "    max_tokens=2048,\n",
    "    temperature=0,\n",
    ")"
   ]
  },
  {
   "cell_type": "markdown",
   "metadata": {},
   "source": [
    "The `guard` wrapper returns the raw_llm_respose (which is a simple string), and the validated and corrected output (which is a dictionary).\n",
    "\n",
    "We can see that the output is a dictionary with the correct schema and types."
   ]
  },
  {
   "cell_type": "code",
   "execution_count": null,
   "metadata": {},
   "outputs": [],
   "source": [
    "print(validated_response)"
   ]
  },
  {
   "cell_type": "code",
   "execution_count": null,
   "metadata": {},
   "outputs": [],
   "source": [
    "guard.state.most_recent_call.tree"
   ]
  }
 ],
 "metadata": {
  "kernelspec": {
   "display_name": "tiff-env",
   "language": "python",
   "name": "python3"
  },
  "language_info": {
   "codemirror_mode": {
    "name": "ipython",
    "version": 3
   },
   "file_extension": ".py",
   "mimetype": "text/x-python",
   "name": "python",
   "nbconvert_exporter": "python",
   "pygments_lexer": "ipython3",
   "version": "3.11.4"
  },
  "orig_nbformat": 4
 },
 "nbformat": 4,
 "nbformat_minor": 2
}
