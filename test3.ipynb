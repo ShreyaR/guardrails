{
 "cells": [
  {
   "cell_type": "code",
   "execution_count": 1,
   "metadata": {},
   "outputs": [],
   "source": [
    "from guardrails.prompt_repo import Prompt\n",
    "from guardrails.schema import Schema, Field\n",
    "from guardrails.validators import StringValidator, FloatValidator, Validator, FormValidator\n",
    "from guardrails.exceptions import SchemaMismatchException\n",
    "\n",
    "from copy import deepcopy"
   ]
  },
  {
   "cell_type": "code",
   "execution_count": 2,
   "metadata": {},
   "outputs": [],
   "source": [
    "with open('openai_api_key.txt', 'r') as f:\n",
    "    openai_api_key = f.read()"
   ]
  },
  {
   "cell_type": "code",
   "execution_count": 3,
   "metadata": {},
   "outputs": [],
   "source": [
    "schema = {\n",
    "    \"fees\": Field(\n",
    "        validator=StringValidator,\n",
    "        prompt=\"What fees and charges are associated with my account, including account maintenance fees, transaction fees, and overdraft fees?\"),\n",
    "    \"interest_rates\": Field(\n",
    "        validator=FloatValidator,\n",
    "        prompt=\"What are the interest rates offered by the bank on savings and checking accounts, loans, and credit products?\"),\n",
    "    \"limitations\": Field(\n",
    "        validator=StringValidator,\n",
    "        prompt=\"Are there any limitations on the number or frequency of transactions, transfers, or withdrawals from my account?\"),\n",
    "    \"liability\": Field(\n",
    "        validator=FloatValidator,\n",
    "        prompt=\"What is the maximum amount I am liable for in case of fraud, unauthorized transactions, or other security breaches?\"),\n",
    "    \"privacy\": Field(\n",
    "        validator=StringValidator,\n",
    "        prompt=\"What are the bank's policies on data collection, sharing, and protection?\"),\n",
    "    \"disputes\": Field(\n",
    "        validator=StringValidator,\n",
    "        prompt=\"What are the procedures for resolving disputes with the bank, including information on arbitration, mediation, and lawsuits?\"),\n",
    "    \"account_termination\": Field(\n",
    "        validator=StringValidator,\n",
    "        prompt=\"Under what circumstances can the bank terminate my account, and what notice is required for such termination?\"),\n",
    "    \"regulatory_oversight\": Field(\n",
    "        validator=StringValidator,\n",
    "        prompt=\"What is the bank's regulatory oversight, including its licensing and compliance status?\")\n",
    "}\n",
    "\n",
    "base_prompt_template = Prompt(\"\"\"Given the following document, answer the following questions. If the answer doesn't exist in the document, enter 'None'.\n",
    "\n",
    "{document}\"\"\")\n",
    "\n",
    "tos_schema = Schema.from_dict(schema, base_prompt=base_prompt_template)"
   ]
  },
  {
   "cell_type": "code",
   "execution_count": 7,
   "metadata": {},
   "outputs": [
    {
     "name": "stdout",
     "output_type": "stream",
     "text": [
      "Given the following document, answer the following questions. If the answer doesn't exist in the document, enter 'None'.\n",
      "\n",
      "Zelle® Service Agreement and Privacy\n",
      "Notice\n",
      "Last updated: 11/3/2022\n",
      "This agreement with Chase is available in Spanish as a courtesy. If there is any difference in\n",
      "meaning between the Spanish and English versions of this agreement or any related\n",
      "documents we provide you, either now or in the future, the English version is the official\n",
      "document and will prevail. Please consult with a translator if you have any questions.\n",
      "We suggest you read this document carefully and print a copy for your reference.\n",
      "This Zelle® Service Agreement and Privacy Notice (this \"Agreement\") states the terms and\n",
      "conditions that govern your use of the Zelle® Service (sometimes referred to as Chase\n",
      "QuickPay®, Chase QuickPay® with Zelle®, QuickPay, Send Money with Zelle®, Chase Person\u0002to-Person, QuickPay, Chase QuickPay for Small Business, Zelle, Zelle, or other trade name or\n",
      "trademark as determined by us) and J.P. Morgan QuickPay (each, the \" Zelle® Service\", “Zelle\n",
      "Service” or \"Service\"). As used herein, the terms \"Bank\", \"us,\" \"we,\" or \"our\" mean JPMorgan\n",
      "Chase Bank, National Association, or any affiliate, agent, independent contractor, designee, or\n",
      "assignee that we may, at our sole discretion, involve in the provision of the Service; \"you\" or\n",
      "\"your\" means (1) an individual or entity that is the owner of an account or (2) an authorized\n",
      "signer on an account who has authority to view account information and effect transactions\n",
      "on such account.\n",
      "TABLE OF CONTENTS\n",
      "1. General Terms Applicable to the Service\n",
      "2. Eligibility and User Profile\n",
      "3. Registering/Enrolling for the Service\n",
      "4. Definitions\n",
      "5. Statements\n",
      "6. Wireless Operator Data\n",
      "7. Disclosure of Account Information to Third Parties\n",
      "8. Mobile & Text Services; Consent to Emails and Automated Text Messages\n",
      "9. Cancellation of Your Service\n",
      "10. Cutoff Times\n",
      "11. Receiving Money\n",
      "12. Requesting Money\n",
      "13. Sending Money\n",
      "14. Transfer Limits\n",
      "15. Repeating Transfers\n",
      "16. Terms applicable to your use of Zelle platforms\n",
      "17. Zelle Fees\n",
      "18. Your Liability for Unauthorized Transfers\n",
      "19. Our Liability for Failure to Complete Transfers: For Consumer Deposit Accounts and Chase\n",
      "Liquid Cards Only\n",
      "20. Errors and Questions about Service: For Transfers From Consumer Deposit Accounts and\n",
      "Chase Liquid Cards Only\n",
      "21. No Purchase Protection\n",
      "22. ADDITIONAL TERMS APPLICABLE ONLY TO THE Service FOR BUSINESS ACCOUNTS\n",
      "Zelle Liability for Unauthorized Transfers for Chase Business Deposit Accounts Only\n",
      "Errors and Questions about Services for Chase Business Deposit Accounts Only\n",
      "Miscellaneous Terms for Business Accounts\n",
      "23. ADDITIONAL TERMS APPLICABLE TO ALL USERS OF THE SERVICE\n",
      "Computer Equipment; Browser Access and Internet Services\n",
      "Passwords\n",
      "Notices\n",
      "New Features\n",
      "Limitation of Liability; No Warranties\n",
      "Other Agreements\n",
      "Termination\n",
      "Disputes\n",
      "Binding Arbitration\n",
      "Indemnity\n",
      "Records; Communications\n",
      "Special Provisions for Business Customers\n",
      "Choice of Law/Successors; Waiver; Severability\n",
      "Chase Account Information\n",
      "Privacy Policy and Notice\n",
      "1. General Terms Applicable to the Service\n",
      "We have partnered with Zelle to enable transfers of money between you and others who are\n",
      "enrolled directly with Zelle or enrolled with another financial institution that partners with\n",
      "Zelle (each, a “User”) using aliases, such as email addresses or mobile phone numbers.\n",
      "When you use or access, or permit any other person(s) or entity to whom you have delegated\n",
      "to act on your behalf to use or access the Service, you agree to the terms and conditions of\n",
      "this Agreement. We may amend or change this Agreement (including any applicable fees and\n",
      "service charges) from time to time, in our sole discretion, by sending you written notice by\n",
      "electronic mail, postal mail or by posting the updated terms on the sites within the Service\n",
      "(the \"Site(s)\"). Please access and review this Agreement regularly. If you find the Agreement\n",
      "unacceptable to you at any time, please discontinue your use of the Service. Your use of the\n",
      "Service after we have made such changes available will be considered your agreement to the\n",
      "change.\n",
      "We grant to you, for your personal use or, if you are a business, internal business purposes\n",
      "only, a nonexclusive, limited and revocable right to access and use the Service. You agree not\n",
      "to use the Service for any other purpose, including commercial purposes, such as co\u0002branding, framing, linking, or reselling any portion of the Service without our prior written\n",
      "consent.\n",
      "Subject to the terms of this Agreement, the Services are generally available 24 hours a day,\n",
      "seven days a week with the exception of outages for maintenance and circumstances beyond\n",
      "\n"
     ]
    }
   ],
   "source": [
    "print(tos_schema.base_prompt.format(document=content))"
   ]
  },
  {
   "cell_type": "code",
   "execution_count": 4,
   "metadata": {},
   "outputs": [],
   "source": [
    "with open(\"data/chunk_0.txt\", \"r\") as f:\n",
    "    content = f.read()"
   ]
  },
  {
   "cell_type": "code",
   "execution_count": 5,
   "metadata": {},
   "outputs": [
    {
     "ename": "APIError",
     "evalue": "Internal server error {\n    \"error\": {\n        \"message\": \"Internal server error\",\n        \"type\": \"auth_subrequest_error\",\n        \"param\": null,\n        \"code\": \"internal_error\"\n    }\n}\n 500 {'error': {'message': 'Internal server error', 'type': 'auth_subrequest_error', 'param': None, 'code': 'internal_error'}} {'Date': 'Tue, 21 Feb 2023 08:09:24 GMT', 'Content-Type': 'application/json; charset=utf-8', 'Content-Length': '166', 'Connection': 'keep-alive', 'Vary': 'Origin', 'X-Request-Id': '051f7c45a4ac46e23a6a6bba874d1435', 'Strict-Transport-Security': 'max-age=15724800; includeSubDomains'}",
     "output_type": "error",
     "traceback": [
      "\u001b[0;31m---------------------------------------------------------------------------\u001b[0m",
      "\u001b[0;31mAPIError\u001b[0m                                  Traceback (most recent call last)",
      "Cell \u001b[0;32mIn[5], line 1\u001b[0m\n\u001b[0;32m----> 1\u001b[0m extracted_obj \u001b[39m=\u001b[39m tos_schema\u001b[39m.\u001b[39;49mvalidate(content)\n",
      "File \u001b[0;32m~/guardrails/guardrails/schema.py:288\u001b[0m, in \u001b[0;36mSchema.validate\u001b[0;34m(self, text)\u001b[0m\n\u001b[1;32m    282\u001b[0m content_prompts \u001b[39m=\u001b[39m \u001b[39mself\u001b[39m\u001b[39m.\u001b[39mget_content_prompts(\n\u001b[1;32m    283\u001b[0m     content_attributes,\n\u001b[1;32m    284\u001b[0m     extracted_object\u001b[39m=\u001b[39mextracted_object,\n\u001b[1;32m    285\u001b[0m )\n\u001b[1;32m    287\u001b[0m final_prompt \u001b[39m=\u001b[39m \u001b[39mself\u001b[39m\u001b[39m.\u001b[39mget_merged_prompt(format_prompts, content_prompts)\n\u001b[0;32m--> 288\u001b[0m llm_output \u001b[39m=\u001b[39m \u001b[39mself\u001b[39;49m\u001b[39m.\u001b[39;49mllm_ask(final_prompt\u001b[39m.\u001b[39;49mformat(document\u001b[39m=\u001b[39;49mtext))\n\u001b[1;32m    290\u001b[0m \u001b[39mprint\u001b[39m(\u001b[39m\"\u001b[39m\u001b[39mLLM OUTPUT: \u001b[39m\u001b[39m\"\u001b[39m, llm_output)\n\u001b[1;32m    292\u001b[0m format_attributes \u001b[39m=\u001b[39m []\n",
      "File \u001b[0;32m~/guardrails/guardrails/schema.py:98\u001b[0m, in \u001b[0;36mSchema.llm_ask\u001b[0;34m(self, prompt)\u001b[0m\n\u001b[1;32m     96\u001b[0m \u001b[39mdef\u001b[39;00m \u001b[39mllm_ask\u001b[39m(\u001b[39mself\u001b[39m, prompt):\n\u001b[1;32m     97\u001b[0m     \u001b[39mfrom\u001b[39;00m \u001b[39mopenai\u001b[39;00m \u001b[39mimport\u001b[39;00m Completion\n\u001b[0;32m---> 98\u001b[0m     llm_output \u001b[39m=\u001b[39m Completion\u001b[39m.\u001b[39;49mcreate(\n\u001b[1;32m     99\u001b[0m         model\u001b[39m=\u001b[39;49m\u001b[39m\"\u001b[39;49m\u001b[39mtext-davinci-003\u001b[39;49m\u001b[39m\"\u001b[39;49m,\n\u001b[1;32m    100\u001b[0m         prompt\u001b[39m=\u001b[39;49mprompt,\n\u001b[1;32m    101\u001b[0m         temperature\u001b[39m=\u001b[39;49m\u001b[39m0\u001b[39;49m,\n\u001b[1;32m    102\u001b[0m         max_tokens\u001b[39m=\u001b[39;49m\u001b[39m2048\u001b[39;49m,\n\u001b[1;32m    103\u001b[0m         api_key\u001b[39m=\u001b[39;49m\u001b[39mself\u001b[39;49m\u001b[39m.\u001b[39;49mopenai_api_key\n\u001b[1;32m    104\u001b[0m     )\n\u001b[1;32m    105\u001b[0m     \u001b[39mreturn\u001b[39;00m llm_output[\u001b[39m'\u001b[39m\u001b[39mchoices\u001b[39m\u001b[39m'\u001b[39m][\u001b[39m0\u001b[39m][\u001b[39m'\u001b[39m\u001b[39mtext\u001b[39m\u001b[39m'\u001b[39m]\n",
      "File \u001b[0;32m~/anaconda3/envs/tiff-env/lib/python3.9/site-packages/openai/api_resources/completion.py:25\u001b[0m, in \u001b[0;36mCompletion.create\u001b[0;34m(cls, *args, **kwargs)\u001b[0m\n\u001b[1;32m     23\u001b[0m \u001b[39mwhile\u001b[39;00m \u001b[39mTrue\u001b[39;00m:\n\u001b[1;32m     24\u001b[0m     \u001b[39mtry\u001b[39;00m:\n\u001b[0;32m---> 25\u001b[0m         \u001b[39mreturn\u001b[39;00m \u001b[39msuper\u001b[39;49m()\u001b[39m.\u001b[39;49mcreate(\u001b[39m*\u001b[39;49margs, \u001b[39m*\u001b[39;49m\u001b[39m*\u001b[39;49mkwargs)\n\u001b[1;32m     26\u001b[0m     \u001b[39mexcept\u001b[39;00m TryAgain \u001b[39mas\u001b[39;00m e:\n\u001b[1;32m     27\u001b[0m         \u001b[39mif\u001b[39;00m timeout \u001b[39mis\u001b[39;00m \u001b[39mnot\u001b[39;00m \u001b[39mNone\u001b[39;00m \u001b[39mand\u001b[39;00m time\u001b[39m.\u001b[39mtime() \u001b[39m>\u001b[39m start \u001b[39m+\u001b[39m timeout:\n",
      "File \u001b[0;32m~/anaconda3/envs/tiff-env/lib/python3.9/site-packages/openai/api_resources/abstract/engine_api_resource.py:153\u001b[0m, in \u001b[0;36mEngineAPIResource.create\u001b[0;34m(cls, api_key, api_base, api_type, request_id, api_version, organization, **params)\u001b[0m\n\u001b[1;32m    127\u001b[0m \u001b[39m@classmethod\u001b[39m\n\u001b[1;32m    128\u001b[0m \u001b[39mdef\u001b[39;00m \u001b[39mcreate\u001b[39m(\n\u001b[1;32m    129\u001b[0m     \u001b[39mcls\u001b[39m,\n\u001b[0;32m   (...)\u001b[0m\n\u001b[1;32m    136\u001b[0m     \u001b[39m*\u001b[39m\u001b[39m*\u001b[39mparams,\n\u001b[1;32m    137\u001b[0m ):\n\u001b[1;32m    138\u001b[0m     (\n\u001b[1;32m    139\u001b[0m         deployment_id,\n\u001b[1;32m    140\u001b[0m         engine,\n\u001b[0;32m   (...)\u001b[0m\n\u001b[1;32m    150\u001b[0m         api_key, api_base, api_type, api_version, organization, \u001b[39m*\u001b[39m\u001b[39m*\u001b[39mparams\n\u001b[1;32m    151\u001b[0m     )\n\u001b[0;32m--> 153\u001b[0m     response, _, api_key \u001b[39m=\u001b[39m requestor\u001b[39m.\u001b[39;49mrequest(\n\u001b[1;32m    154\u001b[0m         \u001b[39m\"\u001b[39;49m\u001b[39mpost\u001b[39;49m\u001b[39m\"\u001b[39;49m,\n\u001b[1;32m    155\u001b[0m         url,\n\u001b[1;32m    156\u001b[0m         params\u001b[39m=\u001b[39;49mparams,\n\u001b[1;32m    157\u001b[0m         headers\u001b[39m=\u001b[39;49mheaders,\n\u001b[1;32m    158\u001b[0m         stream\u001b[39m=\u001b[39;49mstream,\n\u001b[1;32m    159\u001b[0m         request_id\u001b[39m=\u001b[39;49mrequest_id,\n\u001b[1;32m    160\u001b[0m         request_timeout\u001b[39m=\u001b[39;49mrequest_timeout,\n\u001b[1;32m    161\u001b[0m     )\n\u001b[1;32m    163\u001b[0m     \u001b[39mif\u001b[39;00m stream:\n\u001b[1;32m    164\u001b[0m         \u001b[39m# must be an iterator\u001b[39;00m\n\u001b[1;32m    165\u001b[0m         \u001b[39massert\u001b[39;00m \u001b[39mnot\u001b[39;00m \u001b[39misinstance\u001b[39m(response, OpenAIResponse)\n",
      "File \u001b[0;32m~/anaconda3/envs/tiff-env/lib/python3.9/site-packages/openai/api_requestor.py:227\u001b[0m, in \u001b[0;36mAPIRequestor.request\u001b[0;34m(self, method, url, params, headers, files, stream, request_id, request_timeout)\u001b[0m\n\u001b[1;32m    206\u001b[0m \u001b[39mdef\u001b[39;00m \u001b[39mrequest\u001b[39m(\n\u001b[1;32m    207\u001b[0m     \u001b[39mself\u001b[39m,\n\u001b[1;32m    208\u001b[0m     method,\n\u001b[0;32m   (...)\u001b[0m\n\u001b[1;32m    215\u001b[0m     request_timeout: Optional[Union[\u001b[39mfloat\u001b[39m, Tuple[\u001b[39mfloat\u001b[39m, \u001b[39mfloat\u001b[39m]]] \u001b[39m=\u001b[39m \u001b[39mNone\u001b[39;00m,\n\u001b[1;32m    216\u001b[0m ) \u001b[39m-\u001b[39m\u001b[39m>\u001b[39m Tuple[Union[OpenAIResponse, Iterator[OpenAIResponse]], \u001b[39mbool\u001b[39m, \u001b[39mstr\u001b[39m]:\n\u001b[1;32m    217\u001b[0m     result \u001b[39m=\u001b[39m \u001b[39mself\u001b[39m\u001b[39m.\u001b[39mrequest_raw(\n\u001b[1;32m    218\u001b[0m         method\u001b[39m.\u001b[39mlower(),\n\u001b[1;32m    219\u001b[0m         url,\n\u001b[0;32m   (...)\u001b[0m\n\u001b[1;32m    225\u001b[0m         request_timeout\u001b[39m=\u001b[39mrequest_timeout,\n\u001b[1;32m    226\u001b[0m     )\n\u001b[0;32m--> 227\u001b[0m     resp, got_stream \u001b[39m=\u001b[39m \u001b[39mself\u001b[39;49m\u001b[39m.\u001b[39;49m_interpret_response(result, stream)\n\u001b[1;32m    228\u001b[0m     \u001b[39mreturn\u001b[39;00m resp, got_stream, \u001b[39mself\u001b[39m\u001b[39m.\u001b[39mapi_key\n",
      "File \u001b[0;32m~/anaconda3/envs/tiff-env/lib/python3.9/site-packages/openai/api_requestor.py:620\u001b[0m, in \u001b[0;36mAPIRequestor._interpret_response\u001b[0;34m(self, result, stream)\u001b[0m\n\u001b[1;32m    612\u001b[0m     \u001b[39mreturn\u001b[39;00m (\n\u001b[1;32m    613\u001b[0m         \u001b[39mself\u001b[39m\u001b[39m.\u001b[39m_interpret_response_line(\n\u001b[1;32m    614\u001b[0m             line, result\u001b[39m.\u001b[39mstatus_code, result\u001b[39m.\u001b[39mheaders, stream\u001b[39m=\u001b[39m\u001b[39mTrue\u001b[39;00m\n\u001b[1;32m    615\u001b[0m         )\n\u001b[1;32m    616\u001b[0m         \u001b[39mfor\u001b[39;00m line \u001b[39min\u001b[39;00m parse_stream(result\u001b[39m.\u001b[39miter_lines())\n\u001b[1;32m    617\u001b[0m     ), \u001b[39mTrue\u001b[39;00m\n\u001b[1;32m    618\u001b[0m \u001b[39melse\u001b[39;00m:\n\u001b[1;32m    619\u001b[0m     \u001b[39mreturn\u001b[39;00m (\n\u001b[0;32m--> 620\u001b[0m         \u001b[39mself\u001b[39;49m\u001b[39m.\u001b[39;49m_interpret_response_line(\n\u001b[1;32m    621\u001b[0m             result\u001b[39m.\u001b[39;49mcontent\u001b[39m.\u001b[39;49mdecode(\u001b[39m\"\u001b[39;49m\u001b[39mutf-8\u001b[39;49m\u001b[39m\"\u001b[39;49m),\n\u001b[1;32m    622\u001b[0m             result\u001b[39m.\u001b[39;49mstatus_code,\n\u001b[1;32m    623\u001b[0m             result\u001b[39m.\u001b[39;49mheaders,\n\u001b[1;32m    624\u001b[0m             stream\u001b[39m=\u001b[39;49m\u001b[39mFalse\u001b[39;49;00m,\n\u001b[1;32m    625\u001b[0m         ),\n\u001b[1;32m    626\u001b[0m         \u001b[39mFalse\u001b[39;00m,\n\u001b[1;32m    627\u001b[0m     )\n",
      "File \u001b[0;32m~/anaconda3/envs/tiff-env/lib/python3.9/site-packages/openai/api_requestor.py:680\u001b[0m, in \u001b[0;36mAPIRequestor._interpret_response_line\u001b[0;34m(self, rbody, rcode, rheaders, stream)\u001b[0m\n\u001b[1;32m    678\u001b[0m stream_error \u001b[39m=\u001b[39m stream \u001b[39mand\u001b[39;00m \u001b[39m\"\u001b[39m\u001b[39merror\u001b[39m\u001b[39m\"\u001b[39m \u001b[39min\u001b[39;00m resp\u001b[39m.\u001b[39mdata\n\u001b[1;32m    679\u001b[0m \u001b[39mif\u001b[39;00m stream_error \u001b[39mor\u001b[39;00m \u001b[39mnot\u001b[39;00m \u001b[39m200\u001b[39m \u001b[39m<\u001b[39m\u001b[39m=\u001b[39m rcode \u001b[39m<\u001b[39m \u001b[39m300\u001b[39m:\n\u001b[0;32m--> 680\u001b[0m     \u001b[39mraise\u001b[39;00m \u001b[39mself\u001b[39m\u001b[39m.\u001b[39mhandle_error_response(\n\u001b[1;32m    681\u001b[0m         rbody, rcode, resp\u001b[39m.\u001b[39mdata, rheaders, stream_error\u001b[39m=\u001b[39mstream_error\n\u001b[1;32m    682\u001b[0m     )\n\u001b[1;32m    683\u001b[0m \u001b[39mreturn\u001b[39;00m resp\n",
      "\u001b[0;31mAPIError\u001b[0m: Internal server error {\n    \"error\": {\n        \"message\": \"Internal server error\",\n        \"type\": \"auth_subrequest_error\",\n        \"param\": null,\n        \"code\": \"internal_error\"\n    }\n}\n 500 {'error': {'message': 'Internal server error', 'type': 'auth_subrequest_error', 'param': None, 'code': 'internal_error'}} {'Date': 'Tue, 21 Feb 2023 08:09:24 GMT', 'Content-Type': 'application/json; charset=utf-8', 'Content-Length': '166', 'Connection': 'keep-alive', 'Vary': 'Origin', 'X-Request-Id': '051f7c45a4ac46e23a6a6bba874d1435', 'Strict-Transport-Security': 'max-age=15724800; includeSubDomains'}"
     ]
    }
   ],
   "source": [
    "extracted_obj = tos_schema.validate(content)"
   ]
  },
  {
   "cell_type": "markdown",
   "metadata": {},
   "source": []
  },
  {
   "cell_type": "code",
   "execution_count": 9,
   "metadata": {},
   "outputs": [],
   "source": [
    "text = content\n",
    "\n",
    "extracted_object = {}\n",
    "prev_llm_output = None\n",
    "format_attributes = tos_schema._schema\n",
    "content_attributes = tos_schema._schema\n",
    "attributes_to_extract = tos_schema._schema\n",
    "\n",
    "format_prompts = tos_schema.get_format_prompts(\n",
    "    format_attributes,\n",
    "    llm_output=prev_llm_output\n",
    ")\n",
    "content_prompts = tos_schema.get_content_prompts(\n",
    "    content_attributes,\n",
    "    extracted_object=extracted_object,\n",
    ")\n",
    "\n",
    "final_prompt = tos_schema.get_merged_prompt(format_prompts, content_prompts)\n",
    "# llm_output = tos_schema.llm_ask(final_prompt.format(document=text))\n",
    "# Read llm_output from file\n",
    "with open(\"data/llm_output.txt\", \"r\") as f:\n",
    "    llm_output = f.read()\n",
    "\n",
    "format_attributes = []\n",
    "content_attributes = []\n",
    "\n",
    "\n",
    "for i, attr in enumerate(attributes_to_extract):\n",
    "    field = attr['field']\n",
    "    name = attr['name']\n",
    "    try:\n",
    "        extracted_object[name] = tos_schema.validate_form_for_field(i, name, field, llm_output)\n",
    "\n",
    "        for content_validator in field.content_validators:\n",
    "            if not content_validator.validate(extracted_object[name]):\n",
    "                attr['debugging'] = True\n",
    "                content_attributes.append(attr)\n",
    "    except SchemaMismatchException:\n",
    "        attr['debugging'] = True\n",
    "        format_attributes.append(attr)\n",
    "        continue"
   ]
  },
  {
   "cell_type": "code",
   "execution_count": 11,
   "metadata": {},
   "outputs": [
    {
     "name": "stdout",
     "output_type": "stream",
     "text": [
      "Given the following document, answer the following questions. If the answer doesn't exist in the document, enter 'None'.\n",
      "\n",
      "{document}\n",
      "Questions:\n",
      "fees: What fees and charges are associated with my account, including account maintenance fees, transaction fees, and overdraft fees?\n",
      "interest_rates: What are the interest rates offered by the bank on savings and checking accounts, loans, and credit products?\n",
      "limitations: Are there any limitations on the number or frequency of transactions, transfers, or withdrawals from my account?\n",
      "liability: What is the maximum amount I am liable for in case of fraud, unauthorized transactions, or other security breaches?\n",
      "privacy: What are the bank's policies on data collection, sharing, and protection?\n",
      "disputes: What are the procedures for resolving disputes with the bank, including information on arbitration, mediation, and lawsuits?\n",
      "account_termination: Under what circumstances can the bank terminate my account, and what notice is required for such termination?\n",
      "regulatory_oversight: What is the bank's regulatory oversight, including its licensing and compliance status?\n",
      "\n",
      "To answer these questions, respond in this format:\n",
      "fees: << a string >>\n",
      "interest_rates: << a float >>\n",
      "limitations: << a string >>\n",
      "liability: << a float >>\n",
      "privacy: << a string >>\n",
      "disputes: << a string >>\n",
      "account_termination: << a string >>\n",
      "regulatory_oversight: << a string >>\n",
      "\n",
      "Try to be as correct and concise as possible. Find all relevant information in the document and answer the questions, even if the answer is 'None'.\n",
      "If you are unsure of the answer, enter 'None'. If you answer incorrectly, you will be asked again until you get it right which is expensive.\n"
     ]
    }
   ],
   "source": [
    "# print(final_prompt.format(document=text))\n",
    "print(final_prompt.source)"
   ]
  },
  {
   "cell_type": "code",
   "execution_count": 8,
   "metadata": {},
   "outputs": [
    {
     "data": {
      "text/plain": [
       "[{'name': 'fees',\n",
       "  'field': <guardrails.schema.Field at 0x7f9fc0b26940>,\n",
       "  'debugging': True},\n",
       " {'name': 'limitations',\n",
       "  'field': <guardrails.schema.Field at 0x7f9fc0b26820>,\n",
       "  'debugging': True},\n",
       " {'name': 'privacy',\n",
       "  'field': <guardrails.schema.Field at 0x7f9fc0b23f10>,\n",
       "  'debugging': True},\n",
       " {'name': 'disputes',\n",
       "  'field': <guardrails.schema.Field at 0x7f9fc0b23880>,\n",
       "  'debugging': True},\n",
       " {'name': 'account_termination',\n",
       "  'field': <guardrails.schema.Field at 0x7f9fc0b23e50>,\n",
       "  'debugging': True},\n",
       " {'name': 'regulatory_oversight',\n",
       "  'field': <guardrails.schema.Field at 0x7f9fc0b23d90>,\n",
       "  'debugging': True}]"
      ]
     },
     "execution_count": 8,
     "metadata": {},
     "output_type": "execute_result"
    }
   ],
   "source": [
    "format_attributes"
   ]
  },
  {
   "cell_type": "code",
   "execution_count": 9,
   "metadata": {},
   "outputs": [
    {
     "data": {
      "text/plain": [
       "[]"
      ]
     },
     "execution_count": 9,
     "metadata": {},
     "output_type": "execute_result"
    }
   ],
   "source": [
    "content_attributes"
   ]
  },
  {
   "cell_type": "code",
   "execution_count": 10,
   "metadata": {},
   "outputs": [],
   "source": [
    "prev_llm_output = llm_output\n",
    "old_content_attributes = deepcopy(content_attributes)\n",
    "content_attributes = tos_schema.merge_form_content_debugging(\n",
    "    content_attributes, format_attributes)"
   ]
  },
  {
   "cell_type": "code",
   "execution_count": 13,
   "metadata": {},
   "outputs": [
    {
     "data": {
      "text/plain": [
       "12"
      ]
     },
     "execution_count": 13,
     "metadata": {},
     "output_type": "execute_result"
    }
   ],
   "source": [
    "len(tos_schema.merge_form_content_debugging(\n",
    "    old_content_attributes, format_attributes))"
   ]
  },
  {
   "cell_type": "code",
   "execution_count": 14,
   "metadata": {},
   "outputs": [],
   "source": [
    "list_1 = deepcopy(old_content_attributes)\n",
    "list_2 = deepcopy(format_attributes)"
   ]
  },
  {
   "cell_type": "code",
   "execution_count": 15,
   "metadata": {},
   "outputs": [],
   "source": [
    "merged_list = []\n",
    "i = 0\n",
    "j = 0\n",
    "while i < len(list_1) and j < len(list_2):\n",
    "\n",
    "    print(f'Merged list: {merged_list}')\n",
    "    print(f'i: {i}, j: {j}')\n",
    "\n",
    "    if tos_schema.name2idx[list_1[i]['name']] < tos_schema.name2idx[list_2[j]['name']]:\n",
    "        \n",
    "        merged_list.append(list_1[i])\n",
    "        i += 1\n",
    "        print(f'\\nAppending 1:')\n",
    "        print(f'merged_list: {merged_list}')\n",
    "        print(f'i: {i}, j: {j}')\n",
    "    elif tos_schema.name2idx[list_1[i]['name']] > tos_schema.name2idx[list_2[j]['name']]:\n",
    "        copied_item = deepcopy(list_2[j])\n",
    "        copied_item['debugging'] = False\n",
    "        merged_list.append(copied_item)\n",
    "        j += 1\n",
    "        print(f'\\nAppending 2:')\n",
    "        print(f'merged_list: {merged_list}')\n",
    "        print(f'i: {i}, j: {j}')\n",
    "    else:\n",
    "        merged_list.append(list_1[i])\n",
    "        i += 1\n",
    "        j += 1\n",
    "        print(f'\\nAppending 3:')\n",
    "        print(f'merged_list: {merged_list}')\n",
    "        print(f'i: {i}, j: {j}')"
   ]
  },
  {
   "cell_type": "code",
   "execution_count": 17,
   "metadata": {},
   "outputs": [],
   "source": [
    "while i < len(list_1):\n",
    "    merged_list.append(list_1[i])\n",
    "    i += 1"
   ]
  },
  {
   "cell_type": "code",
   "execution_count": 18,
   "metadata": {},
   "outputs": [
    {
     "data": {
      "text/plain": [
       "[]"
      ]
     },
     "execution_count": 18,
     "metadata": {},
     "output_type": "execute_result"
    }
   ],
   "source": [
    "merged_list"
   ]
  },
  {
   "cell_type": "code",
   "execution_count": 5,
   "metadata": {},
   "outputs": [
    {
     "name": "stdout",
     "output_type": "stream",
     "text": [
      "LLM OUTPUT:  \n",
      "\n",
      "fees: None\n",
      "interest_rates: None\n",
      "limitations: Transfer Limits\n",
      "liability: $0\n",
      "privacy: Disclosure of Account Information to Third Parties\n",
      "disputes: Disputes\n",
      "account_termination: Termination\n",
      "regulatory_oversight: None\n",
      "FORMAT ATTRIBUTES:  [{'name': 'liability', 'field': <guardrails.schema.Field object at 0x7fd8807978b0>, 'debugging': True}]\n",
      "CONTENT ATTRIBUTES:  []\n",
      "NEW CONTENT ATTRIBUTES:  [{'name': 'liability', 'field': <guardrails.schema.Field object at 0x7fd880797b80>, 'debugging': False}, {'name': 'liability', 'field': <guardrails.schema.Field object at 0x7fd8807978b0>, 'debugging': True}]\n",
      "NEW FORMAT ATTRIBUTES:  [{'name': 'liability', 'field': <guardrails.schema.Field object at 0x7fd8807978b0>, 'debugging': True}]\n",
      "EXTRACTED OBJECT:  {'fees': 'None', 'interest_rates': 'None', 'limitations': 'Transfer Limits', 'privacy': 'Disclosure of Account Information to Third Parties', 'disputes': 'Disputes', 'account_termination': 'Termination', 'regulatory_oversight': 'None'}\n",
      "NEW LOOP!! \n",
      "\n"
     ]
    },
    {
     "ename": "KeyError",
     "evalue": "'liability'",
     "output_type": "error",
     "traceback": [
      "\u001b[0;31m---------------------------------------------------------------------------\u001b[0m",
      "\u001b[0;31mKeyError\u001b[0m                                  Traceback (most recent call last)",
      "Cell \u001b[0;32mIn[5], line 1\u001b[0m\n\u001b[0;32m----> 1\u001b[0m extracted_obj \u001b[39m=\u001b[39m tos_schema\u001b[39m.\u001b[39;49mvalidate(content)\n",
      "File \u001b[0;32m~/guardrails/guardrails/schema.py:283\u001b[0m, in \u001b[0;36mSchema.validate\u001b[0;34m(self, text)\u001b[0m\n\u001b[1;32m    278\u001b[0m \u001b[39mwhile\u001b[39;00m(\u001b[39mTrue\u001b[39;00m):\n\u001b[1;32m    279\u001b[0m     format_prompts \u001b[39m=\u001b[39m \u001b[39mself\u001b[39m\u001b[39m.\u001b[39mget_format_prompts(\n\u001b[1;32m    280\u001b[0m         format_attributes,\n\u001b[1;32m    281\u001b[0m         llm_output\u001b[39m=\u001b[39mprev_llm_output\n\u001b[1;32m    282\u001b[0m     )\n\u001b[0;32m--> 283\u001b[0m     content_prompts \u001b[39m=\u001b[39m \u001b[39mself\u001b[39;49m\u001b[39m.\u001b[39;49mget_content_prompts(\n\u001b[1;32m    284\u001b[0m         content_attributes,\n\u001b[1;32m    285\u001b[0m         extracted_object\u001b[39m=\u001b[39;49mextracted_object,\n\u001b[1;32m    286\u001b[0m     )\n\u001b[1;32m    288\u001b[0m     final_prompt \u001b[39m=\u001b[39m \u001b[39mself\u001b[39m\u001b[39m.\u001b[39mget_merged_prompt(format_prompts, content_prompts)\n\u001b[1;32m    289\u001b[0m     llm_output \u001b[39m=\u001b[39m \u001b[39mself\u001b[39m\u001b[39m.\u001b[39mllm_ask(final_prompt\u001b[39m.\u001b[39mformat(document\u001b[39m=\u001b[39mtext))\n",
      "File \u001b[0;32m~/guardrails/guardrails/schema.py:262\u001b[0m, in \u001b[0;36mSchema.get_content_prompts\u001b[0;34m(self, attributes, extracted_object)\u001b[0m\n\u001b[1;32m    260\u001b[0m debugging \u001b[39m=\u001b[39m attr\u001b[39m.\u001b[39mget(\u001b[39m'\u001b[39m\u001b[39mdebugging\u001b[39m\u001b[39m'\u001b[39m, \u001b[39mFalse\u001b[39;00m)\n\u001b[1;32m    261\u001b[0m \u001b[39mif\u001b[39;00m debugging:\n\u001b[0;32m--> 262\u001b[0m     field \u001b[39m=\u001b[39m extracted_object[attr_name]\n\u001b[1;32m    263\u001b[0m     \u001b[39m# attr_idx = self.name2idx[attr_name]\u001b[39;00m\n\u001b[1;32m    264\u001b[0m     attr_debug_prompt \u001b[39m=\u001b[39m attr_field\u001b[39m.\u001b[39mform_validator\u001b[39m.\u001b[39mdebug(field)\n",
      "\u001b[0;31mKeyError\u001b[0m: 'liability'"
     ]
    }
   ],
   "source": []
  },
  {
   "cell_type": "code",
   "execution_count": 12,
   "metadata": {},
   "outputs": [
    {
     "ename": "JSONDecodeError",
     "evalue": "Expecting property name enclosed in double quotes: line 2 column 1 (char 2)",
     "output_type": "error",
     "traceback": [
      "\u001b[0;31m---------------------------------------------------------------------------\u001b[0m",
      "\u001b[0;31mJSONDecodeError\u001b[0m                           Traceback (most recent call last)",
      "Cell \u001b[0;32mIn[12], line 3\u001b[0m\n\u001b[1;32m      1\u001b[0m \u001b[39mimport\u001b[39;00m \u001b[39mjson\u001b[39;00m\n\u001b[0;32m----> 3\u001b[0m d \u001b[39m=\u001b[39m json\u001b[39m.\u001b[39;49mloads(\u001b[39m\"\"\"\u001b[39;49m\u001b[39m{\u001b[39;49m\n\u001b[1;32m      4\u001b[0m \u001b[39m'\u001b[39;49m\u001b[39mAccount Termination\u001b[39;49m\u001b[39m'\u001b[39;49m\u001b[39m: \u001b[39;49m\u001b[39m'\u001b[39;49m\u001b[39mNone\u001b[39;49m\u001b[39m'\u001b[39;49m\u001b[39m,\u001b[39;49m\n\u001b[1;32m      5\u001b[0m \u001b[39m'\u001b[39;49m\u001b[39mDisputes\u001b[39;49m\u001b[39m'\u001b[39;49m\u001b[39m: [\u001b[39;49m\u001b[39m'\u001b[39;49m\u001b[39mTermination\u001b[39;49m\u001b[39m'\u001b[39;49m\u001b[39m, \u001b[39;49m\u001b[39m'\u001b[39;49m\u001b[39mDisputes\u001b[39;49m\u001b[39m'\u001b[39;49m\u001b[39m, \u001b[39;49m\u001b[39m'\u001b[39;49m\u001b[39mBinding Arbitration\u001b[39;49m\u001b[39m'\u001b[39;49m\u001b[39m],\u001b[39;49m\n\u001b[1;32m      6\u001b[0m \u001b[39m'\u001b[39;49m\u001b[39mFees\u001b[39;49m\u001b[39m'\u001b[39;49m\u001b[39m: \u001b[39;49m\u001b[39m{\u001b[39;49m\n\u001b[1;32m      7\u001b[0m \u001b[39m'\u001b[39;49m\u001b[39mZelle Fees\u001b[39;49m\u001b[39m'\u001b[39;49m\u001b[39m: \u001b[39;49m\u001b[39m'\u001b[39;49m\u001b[39m17. Zelle Fees\u001b[39;49m\u001b[39m'\u001b[39;49m\u001b[39m,\u001b[39;49m\n\u001b[1;32m      8\u001b[0m \u001b[39m'\u001b[39;49m\u001b[39mOverdraft Fees\u001b[39;49m\u001b[39m'\u001b[39;49m\u001b[39m: \u001b[39;49m\u001b[39m'\u001b[39;49m\u001b[39mNone\u001b[39;49m\u001b[39m'\u001b[39;49m\u001b[39m,\u001b[39;49m\n\u001b[1;32m      9\u001b[0m \u001b[39m'\u001b[39;49m\u001b[39mTransaction Fees\u001b[39;49m\u001b[39m'\u001b[39;49m\u001b[39m: \u001b[39;49m\u001b[39m'\u001b[39;49m\u001b[39mNone\u001b[39;49m\u001b[39m'\u001b[39;49m\u001b[39m,\u001b[39;49m\n\u001b[1;32m     10\u001b[0m \u001b[39m'\u001b[39;49m\u001b[39mAccount Maintenance Fees\u001b[39;49m\u001b[39m'\u001b[39;49m\u001b[39m: \u001b[39;49m\u001b[39m'\u001b[39;49m\u001b[39mNone\u001b[39;49m\u001b[39m'\u001b[39;49m\n\u001b[1;32m     11\u001b[0m \u001b[39m},\u001b[39;49m\n\u001b[1;32m     12\u001b[0m \u001b[39m'\u001b[39;49m\u001b[39mInterest Rates\u001b[39;49m\u001b[39m'\u001b[39;49m\u001b[39m: \u001b[39;49m\u001b[39m'\u001b[39;49m\u001b[39mNone\u001b[39;49m\u001b[39m'\u001b[39;49m\u001b[39m,\u001b[39;49m\n\u001b[1;32m     13\u001b[0m \u001b[39m'\u001b[39;49m\u001b[39mDefinitions\u001b[39;49m\u001b[39m'\u001b[39;49m\u001b[39m: \u001b[39;49m\u001b[39m{\u001b[39;49m\n\u001b[1;32m     14\u001b[0m \u001b[39m'\u001b[39;49m\u001b[39mBank\u001b[39;49m\u001b[39m'\u001b[39;49m\u001b[39m: \u001b[39;49m\u001b[39m'\u001b[39;49m\u001b[39mJPMorgan Chase Bank, National Association, or any affiliate, agent, independent contractor, designee, or assignee that we may, at our sole discretion, involve in the provision of the Service\u001b[39;49m\u001b[39m'\u001b[39;49m\u001b[39m,\u001b[39;49m\n\u001b[1;32m     15\u001b[0m \u001b[39m'\u001b[39;49m\u001b[39mZelle Service\u001b[39;49m\u001b[39m'\u001b[39;49m\u001b[39m: \u001b[39;49m\u001b[39m'\u001b[39;49m\u001b[39mZelle® Service or J.P. Morgan QuickPay\u001b[39;49m\u001b[39m'\u001b[39;49m\n\u001b[1;32m     16\u001b[0m \u001b[39m}\u001b[39;49m\n\u001b[1;32m     17\u001b[0m \u001b[39m}\u001b[39;49m\u001b[39m\"\"\"\u001b[39;49m)\n",
      "File \u001b[0;32m~/anaconda3/envs/tiff-env/lib/python3.9/json/__init__.py:346\u001b[0m, in \u001b[0;36mloads\u001b[0;34m(s, cls, object_hook, parse_float, parse_int, parse_constant, object_pairs_hook, **kw)\u001b[0m\n\u001b[1;32m    341\u001b[0m     s \u001b[39m=\u001b[39m s\u001b[39m.\u001b[39mdecode(detect_encoding(s), \u001b[39m'\u001b[39m\u001b[39msurrogatepass\u001b[39m\u001b[39m'\u001b[39m)\n\u001b[1;32m    343\u001b[0m \u001b[39mif\u001b[39;00m (\u001b[39mcls\u001b[39m \u001b[39mis\u001b[39;00m \u001b[39mNone\u001b[39;00m \u001b[39mand\u001b[39;00m object_hook \u001b[39mis\u001b[39;00m \u001b[39mNone\u001b[39;00m \u001b[39mand\u001b[39;00m\n\u001b[1;32m    344\u001b[0m         parse_int \u001b[39mis\u001b[39;00m \u001b[39mNone\u001b[39;00m \u001b[39mand\u001b[39;00m parse_float \u001b[39mis\u001b[39;00m \u001b[39mNone\u001b[39;00m \u001b[39mand\u001b[39;00m\n\u001b[1;32m    345\u001b[0m         parse_constant \u001b[39mis\u001b[39;00m \u001b[39mNone\u001b[39;00m \u001b[39mand\u001b[39;00m object_pairs_hook \u001b[39mis\u001b[39;00m \u001b[39mNone\u001b[39;00m \u001b[39mand\u001b[39;00m \u001b[39mnot\u001b[39;00m kw):\n\u001b[0;32m--> 346\u001b[0m     \u001b[39mreturn\u001b[39;00m _default_decoder\u001b[39m.\u001b[39;49mdecode(s)\n\u001b[1;32m    347\u001b[0m \u001b[39mif\u001b[39;00m \u001b[39mcls\u001b[39m \u001b[39mis\u001b[39;00m \u001b[39mNone\u001b[39;00m:\n\u001b[1;32m    348\u001b[0m     \u001b[39mcls\u001b[39m \u001b[39m=\u001b[39m JSONDecoder\n",
      "File \u001b[0;32m~/anaconda3/envs/tiff-env/lib/python3.9/json/decoder.py:337\u001b[0m, in \u001b[0;36mJSONDecoder.decode\u001b[0;34m(self, s, _w)\u001b[0m\n\u001b[1;32m    332\u001b[0m \u001b[39mdef\u001b[39;00m \u001b[39mdecode\u001b[39m(\u001b[39mself\u001b[39m, s, _w\u001b[39m=\u001b[39mWHITESPACE\u001b[39m.\u001b[39mmatch):\n\u001b[1;32m    333\u001b[0m \u001b[39m    \u001b[39m\u001b[39m\"\"\"Return the Python representation of ``s`` (a ``str`` instance\u001b[39;00m\n\u001b[1;32m    334\u001b[0m \u001b[39m    containing a JSON document).\u001b[39;00m\n\u001b[1;32m    335\u001b[0m \n\u001b[1;32m    336\u001b[0m \u001b[39m    \"\"\"\u001b[39;00m\n\u001b[0;32m--> 337\u001b[0m     obj, end \u001b[39m=\u001b[39m \u001b[39mself\u001b[39;49m\u001b[39m.\u001b[39;49mraw_decode(s, idx\u001b[39m=\u001b[39;49m_w(s, \u001b[39m0\u001b[39;49m)\u001b[39m.\u001b[39;49mend())\n\u001b[1;32m    338\u001b[0m     end \u001b[39m=\u001b[39m _w(s, end)\u001b[39m.\u001b[39mend()\n\u001b[1;32m    339\u001b[0m     \u001b[39mif\u001b[39;00m end \u001b[39m!=\u001b[39m \u001b[39mlen\u001b[39m(s):\n",
      "File \u001b[0;32m~/anaconda3/envs/tiff-env/lib/python3.9/json/decoder.py:353\u001b[0m, in \u001b[0;36mJSONDecoder.raw_decode\u001b[0;34m(self, s, idx)\u001b[0m\n\u001b[1;32m    344\u001b[0m \u001b[39m\u001b[39m\u001b[39m\"\"\"Decode a JSON document from ``s`` (a ``str`` beginning with\u001b[39;00m\n\u001b[1;32m    345\u001b[0m \u001b[39ma JSON document) and return a 2-tuple of the Python\u001b[39;00m\n\u001b[1;32m    346\u001b[0m \u001b[39mrepresentation and the index in ``s`` where the document ended.\u001b[39;00m\n\u001b[0;32m   (...)\u001b[0m\n\u001b[1;32m    350\u001b[0m \n\u001b[1;32m    351\u001b[0m \u001b[39m\"\"\"\u001b[39;00m\n\u001b[1;32m    352\u001b[0m \u001b[39mtry\u001b[39;00m:\n\u001b[0;32m--> 353\u001b[0m     obj, end \u001b[39m=\u001b[39m \u001b[39mself\u001b[39;49m\u001b[39m.\u001b[39;49mscan_once(s, idx)\n\u001b[1;32m    354\u001b[0m \u001b[39mexcept\u001b[39;00m \u001b[39mStopIteration\u001b[39;00m \u001b[39mas\u001b[39;00m err:\n\u001b[1;32m    355\u001b[0m     \u001b[39mraise\u001b[39;00m JSONDecodeError(\u001b[39m\"\u001b[39m\u001b[39mExpecting value\u001b[39m\u001b[39m\"\u001b[39m, s, err\u001b[39m.\u001b[39mvalue) \u001b[39mfrom\u001b[39;00m \u001b[39mNone\u001b[39m\n",
      "\u001b[0;31mJSONDecodeError\u001b[0m: Expecting property name enclosed in double quotes: line 2 column 1 (char 2)"
     ]
    }
   ],
   "source": [
    "import json\n",
    "\n",
    "d = json.loads(\"\"\"{\n",
    "'Account Termination': 'None',\n",
    "'Disputes': ['Termination', 'Disputes', 'Binding Arbitration'],\n",
    "'Fees': {\n",
    "'Zelle Fees': '17. Zelle Fees',\n",
    "'Overdraft Fees': 'None',\n",
    "'Transaction Fees': 'None',\n",
    "'Account Maintenance Fees': 'None'\n",
    "},\n",
    "'Interest Rates': 'None',\n",
    "'Definitions': {\n",
    "'Bank': 'JPMorgan Chase Bank, National Association, or any affiliate, agent, independent contractor, designee, or assignee that we may, at our sole discretion, involve in the provision of the Service',\n",
    "'Zelle Service': 'Zelle® Service or J.P. Morgan QuickPay'\n",
    "}\n",
    "}\"\"\")"
   ]
  },
  {
   "cell_type": "code",
   "execution_count": 14,
   "metadata": {},
   "outputs": [],
   "source": [
    "s = \"\"\"\n",
    "{\n",
    "    \"Account Termination\": \"None\",\n",
    "    \"Disputes\": [\"Termination\", \"Disputes\", \"Binding Arbitration\"],\n",
    "    \"Fees\": {\n",
    "        \"Zelle Fees\": \"17. Zelle Fees\",\n",
    "        \"Overdraft Fees\": \"None\",\n",
    "        \"Transaction Fees\": \"None\",\n",
    "        \"Account Maintenance Fees\": \"None\"\n",
    "},\n",
    "\"Interest Rates\": \"None\",\n",
    "\"Definitions\": {\n",
    "    \"Bank\": \"JPMorgan Chase Bank, National Association, or any affiliate, agent, independent contractor, designee, or assignee that we may, at our sole discretion, involve in the provision of the Service\",\n",
    "    \"Zelle Service\": \"Zelle® Service or J.P. Morgan QuickPay\"\n",
    "}\n",
    "}\"\"\"\n",
    "\n",
    "# Load s into a json object avoiding \"name enclosed in double quotes\" errors\n",
    "import json\n",
    "import re\n",
    "\n",
    "def load_json(s):\n",
    "    s = re.sub(r\"(\\w+):\", r'\"\\1\":', s)\n",
    "    return json.loads(s)\n",
    "\n",
    "d = load_json(s)\n"
   ]
  },
  {
   "cell_type": "code",
   "execution_count": 17,
   "metadata": {},
   "outputs": [
    {
     "data": {
      "text/plain": [
       "{'Zelle Fees': '17. Zelle Fees',\n",
       " 'Overdraft Fees': 'None',\n",
       " 'Transaction Fees': 'None',\n",
       " 'Account Maintenance Fees': 'None'}"
      ]
     },
     "execution_count": 17,
     "metadata": {},
     "output_type": "execute_result"
    }
   ],
   "source": []
  },
  {
   "cell_type": "code",
   "execution_count": null,
   "metadata": {},
   "outputs": [],
   "source": []
  }
 ],
 "metadata": {
  "kernelspec": {
   "display_name": "tiff-env",
   "language": "python",
   "name": "python3"
  },
  "language_info": {
   "codemirror_mode": {
    "name": "ipython",
    "version": 3
   },
   "file_extension": ".py",
   "mimetype": "text/x-python",
   "name": "python",
   "nbconvert_exporter": "python",
   "pygments_lexer": "ipython3",
   "version": "3.9.16"
  },
  "orig_nbformat": 4,
  "vscode": {
   "interpreter": {
    "hash": "ef14f49bbc779f2fde64ca0552c2a99d578405052f5b73f61279551da311a8a1"
   }
  }
 },
 "nbformat": 4,
 "nbformat_minor": 2
}
