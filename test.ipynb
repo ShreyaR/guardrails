{
 "cells": [
  {
   "cell_type": "code",
   "execution_count": 7,
   "metadata": {},
   "outputs": [],
   "source": [
    "from guardrails.schema import Schema, ToS\n",
    "\n",
    "\n",
    "from guardrails.types import BaseType\n",
    "from guardrails.prompt_repo import PromptRepo"
   ]
  },
  {
   "cell_type": "code",
   "execution_count": 2,
   "metadata": {},
   "outputs": [],
   "source": [
    "tos = ToS()"
   ]
  },
  {
   "cell_type": "code",
   "execution_count": 3,
   "metadata": {},
   "outputs": [
    {
     "data": {
      "text/plain": [
       "['account_termination',\n",
       " 'disputes',\n",
       " 'fees',\n",
       " 'interest_rates',\n",
       " 'liability',\n",
       " 'limitations',\n",
       " 'privacy',\n",
       " 'regulatory_oversight']"
      ]
     },
     "execution_count": 3,
     "metadata": {},
     "output_type": "execute_result"
    }
   ],
   "source": [
    "tos.attributes"
   ]
  },
  {
   "cell_type": "code",
   "execution_count": 4,
   "metadata": {},
   "outputs": [
    {
     "data": {
      "text/plain": [
       "String(name='Fees')"
      ]
     },
     "execution_count": 4,
     "metadata": {},
     "output_type": "execute_result"
    }
   ],
   "source": [
    "tos.fees"
   ]
  },
  {
   "cell_type": "code",
   "execution_count": 11,
   "metadata": {},
   "outputs": [],
   "source": [
    "prompt_repo = PromptRepo()"
   ]
  },
  {
   "cell_type": "code",
   "execution_count": 12,
   "metadata": {},
   "outputs": [],
   "source": [
    "prompt_repo.add_prompt('Fees', 'What fees and charges are associated with my account, including account maintenance fees, transaction fees, and overdraft fees?')\n",
    "prompt_repo.add_prompt('Interest Rates', 'What are the interest rates offered by the bank on savings and checking accounts, loans, and credit products?')\n",
    "prompt_repo.add_prompt(\"Limitations\", \"Are there any limitations on the number or frequency of transactions, transfers, or withdrawals from my account?\")\n",
    "prompt_repo.add_prompt(\"Liability\", \"What is the maximum amount I am liable for in case of fraud, unauthorized transactions, or other security breaches?\")\n",
    "prompt_repo.add_prompt(\"Privacy\", \"What are the bank's policies on data collection, sharing, and protection?\")\n",
    "prompt_repo.add_prompt(\"Disputes\", \"What are the procedures for resolving disputes with the bank, including information on arbitration, mediation, and lawsuits?\")\n",
    "prompt_repo.add_prompt(\"Account termination\", \"Under what circumstances can the bank terminate my account, and what notice is required for such termination?\")\n",
    "prompt_repo.add_prompt(\"Regulatory Oversight\", \"What is the bank's regulatory oversight, including its licensing and compliance status?\")"
   ]
  },
  {
   "cell_type": "code",
   "execution_count": null,
   "metadata": {},
   "outputs": [],
   "source": []
  }
 ],
 "metadata": {
  "kernelspec": {
   "display_name": "llm-env",
   "language": "python",
   "name": "python3"
  },
  "language_info": {
   "codemirror_mode": {
    "name": "ipython",
    "version": 3
   },
   "file_extension": ".py",
   "mimetype": "text/x-python",
   "name": "python",
   "nbconvert_exporter": "python",
   "pygments_lexer": "ipython3",
   "version": "3.9.0"
  },
  "orig_nbformat": 4,
  "vscode": {
   "interpreter": {
    "hash": "b1677b440931f40d89ef8be7bf03acb108ce003de0ac9b18e8d43753ea2e7103"
   }
  }
 },
 "nbformat": 4,
 "nbformat_minor": 2
}
