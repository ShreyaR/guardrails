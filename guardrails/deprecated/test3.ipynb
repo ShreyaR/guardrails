{
 "cells": [
  {
   "cell_type": "code",
   "execution_count": null,
   "metadata": {},
   "outputs": [],
   "source": [
    "from guardrails.prompt_repo import Prompt\n",
    "from guardrails.schema import Schema, Field\n",
    "from guardrails.validators import StringValidator, FloatValidator, Validator, FormValidator\n",
    "from guardrails.exceptions import SchemaMismatchException\n",
    "\n",
    "from copy import deepcopy"
   ]
  },
  {
   "cell_type": "code",
   "execution_count": null,
   "metadata": {},
   "outputs": [],
   "source": [
    "with open('openai_api_key.txt', 'r') as f:\n",
    "    openai_api_key = f.read()"
   ]
  },
  {
   "cell_type": "code",
   "execution_count": null,
   "metadata": {},
   "outputs": [],
   "source": [
    "schema = {\n",
    "    \"fees\": Field(\n",
    "        validator=StringValidator,\n",
    "        prompt=\"What fees and charges are associated with my account, including account maintenance fees, transaction fees, and overdraft fees?\"),\n",
    "    \"interest_rates\": Field(\n",
    "        validator=FloatValidator,\n",
    "        prompt=\"What are the interest rates offered by the bank on savings and checking accounts, loans, and credit products?\"),\n",
    "    \"limitations\": Field(\n",
    "        validator=StringValidator,\n",
    "        prompt=\"Are there any limitations on the number or frequency of transactions, transfers, or withdrawals from my account?\"),\n",
    "    \"liability\": Field(\n",
    "        validator=FloatValidator,\n",
    "        prompt=\"What is the maximum amount I am liable for in case of fraud, unauthorized transactions, or other security breaches?\"),\n",
    "    \"privacy\": Field(\n",
    "        validator=StringValidator,\n",
    "        prompt=\"What are the bank's policies on data collection, sharing, and protection?\"),\n",
    "    \"disputes\": Field(\n",
    "        validator=StringValidator,\n",
    "        prompt=\"What are the procedures for resolving disputes with the bank, including information on arbitration, mediation, and lawsuits?\"),\n",
    "    \"account_termination\": Field(\n",
    "        validator=StringValidator,\n",
    "        prompt=\"Under what circumstances can the bank terminate my account, and what notice is required for such termination?\"),\n",
    "    \"regulatory_oversight\": Field(\n",
    "        validator=StringValidator,\n",
    "        prompt=\"What is the bank's regulatory oversight, including its licensing and compliance status?\")\n",
    "}\n",
    "\n",
    "base_prompt_template = Prompt(\"\"\"Given the following document, answer the following questions. If the answer doesn't exist in the document, enter 'None'.\n",
    "\n",
    "{document}\"\"\")\n",
    "\n",
    "tos_schema = Schema.from_dict(schema, base_prompt=base_prompt_template)"
   ]
  },
  {
   "cell_type": "code",
   "execution_count": null,
   "metadata": {},
   "outputs": [],
   "source": [
    "print(tos_schema.base_prompt.format(document=content))"
   ]
  },
  {
   "cell_type": "code",
   "execution_count": null,
   "metadata": {},
   "outputs": [],
   "source": [
    "with open(\"data/chunk_0.txt\", \"r\") as f:\n",
    "    content = f.read()"
   ]
  },
  {
   "cell_type": "code",
   "execution_count": null,
   "metadata": {},
   "outputs": [],
   "source": [
    "extracted_obj = tos_schema.validate(content)"
   ]
  },
  {
   "cell_type": "markdown",
   "metadata": {},
   "source": []
  },
  {
   "cell_type": "code",
   "execution_count": null,
   "metadata": {},
   "outputs": [],
   "source": [
    "text = content\n",
    "\n",
    "extracted_object = {}\n",
    "prev_llm_output = None\n",
    "format_attributes = tos_schema._schema\n",
    "content_attributes = tos_schema._schema\n",
    "attributes_to_extract = tos_schema._schema\n",
    "\n",
    "format_prompts = tos_schema.get_format_prompts(\n",
    "    format_attributes,\n",
    "    llm_output=prev_llm_output\n",
    ")\n",
    "content_prompts = tos_schema.get_content_prompts(\n",
    "    content_attributes,\n",
    "    extracted_object=extracted_object,\n",
    ")\n",
    "\n",
    "final_prompt = tos_schema.get_merged_prompt(format_prompts, content_prompts)\n",
    "# llm_output = tos_schema.llm_ask(final_prompt.format(document=text))\n",
    "# Read llm_output from file\n",
    "with open(\"data/llm_output.txt\", \"r\") as f:\n",
    "    llm_output = f.read()\n",
    "\n",
    "format_attributes = []\n",
    "content_attributes = []\n",
    "\n",
    "\n",
    "for i, attr in enumerate(attributes_to_extract):\n",
    "    field = attr['field']\n",
    "    name = attr['name']\n",
    "    try:\n",
    "        extracted_object[name] = tos_schema.validate_form_for_field(i, name, field, llm_output)\n",
    "\n",
    "        for content_validator in field.content_validators:\n",
    "            if not content_validator.validate(extracted_object[name]):\n",
    "                attr['debugging'] = True\n",
    "                content_attributes.append(attr)\n",
    "    except SchemaMismatchException:\n",
    "        attr['debugging'] = True\n",
    "        format_attributes.append(attr)\n",
    "        continue"
   ]
  },
  {
   "cell_type": "code",
   "execution_count": null,
   "metadata": {},
   "outputs": [],
   "source": [
    "# print(final_prompt.format(document=text))\n",
    "print(final_prompt.source)"
   ]
  },
  {
   "cell_type": "code",
   "execution_count": null,
   "metadata": {},
   "outputs": [],
   "source": [
    "format_attributes"
   ]
  },
  {
   "cell_type": "code",
   "execution_count": null,
   "metadata": {},
   "outputs": [],
   "source": [
    "content_attributes"
   ]
  },
  {
   "cell_type": "code",
   "execution_count": null,
   "metadata": {},
   "outputs": [],
   "source": [
    "prev_llm_output = llm_output\n",
    "old_content_attributes = deepcopy(content_attributes)\n",
    "content_attributes = tos_schema.merge_form_content_debugging(\n",
    "    content_attributes, format_attributes)"
   ]
  },
  {
   "cell_type": "code",
   "execution_count": null,
   "metadata": {},
   "outputs": [],
   "source": [
    "len(tos_schema.merge_form_content_debugging(\n",
    "    old_content_attributes, format_attributes))"
   ]
  },
  {
   "cell_type": "code",
   "execution_count": null,
   "metadata": {},
   "outputs": [],
   "source": [
    "list_1 = deepcopy(old_content_attributes)\n",
    "list_2 = deepcopy(format_attributes)"
   ]
  },
  {
   "cell_type": "code",
   "execution_count": null,
   "metadata": {},
   "outputs": [],
   "source": [
    "merged_list = []\n",
    "i = 0\n",
    "j = 0\n",
    "while i < len(list_1) and j < len(list_2):\n",
    "\n",
    "    print(f'Merged list: {merged_list}')\n",
    "    print(f'i: {i}, j: {j}')\n",
    "\n",
    "    if tos_schema.name2idx[list_1[i]['name']] < tos_schema.name2idx[list_2[j]['name']]:\n",
    "        \n",
    "        merged_list.append(list_1[i])\n",
    "        i += 1\n",
    "        print(f'\\nAppending 1:')\n",
    "        print(f'merged_list: {merged_list}')\n",
    "        print(f'i: {i}, j: {j}')\n",
    "    elif tos_schema.name2idx[list_1[i]['name']] > tos_schema.name2idx[list_2[j]['name']]:\n",
    "        copied_item = deepcopy(list_2[j])\n",
    "        copied_item['debugging'] = False\n",
    "        merged_list.append(copied_item)\n",
    "        j += 1\n",
    "        print(f'\\nAppending 2:')\n",
    "        print(f'merged_list: {merged_list}')\n",
    "        print(f'i: {i}, j: {j}')\n",
    "    else:\n",
    "        merged_list.append(list_1[i])\n",
    "        i += 1\n",
    "        j += 1\n",
    "        print(f'\\nAppending 3:')\n",
    "        print(f'merged_list: {merged_list}')\n",
    "        print(f'i: {i}, j: {j}')"
   ]
  },
  {
   "cell_type": "code",
   "execution_count": null,
   "metadata": {},
   "outputs": [],
   "source": [
    "while i < len(list_1):\n",
    "    merged_list.append(list_1[i])\n",
    "    i += 1"
   ]
  },
  {
   "cell_type": "code",
   "execution_count": null,
   "metadata": {},
   "outputs": [],
   "source": [
    "merged_list"
   ]
  },
  {
   "cell_type": "code",
   "execution_count": null,
   "metadata": {},
   "outputs": [],
   "source": []
  },
  {
   "cell_type": "code",
   "execution_count": null,
   "metadata": {},
   "outputs": [],
   "source": [
    "import json\n",
    "\n",
    "d = json.loads(\"\"\"{\n",
    "'Account Termination': 'None',\n",
    "'Disputes': ['Termination', 'Disputes', 'Binding Arbitration'],\n",
    "'Fees': {\n",
    "'Zelle Fees': '17. Zelle Fees',\n",
    "'Overdraft Fees': 'None',\n",
    "'Transaction Fees': 'None',\n",
    "'Account Maintenance Fees': 'None'\n",
    "},\n",
    "'Interest Rates': 'None',\n",
    "'Definitions': {\n",
    "'Bank': 'JPMorgan Chase Bank, National Association, or any affiliate, agent, independent contractor, designee, or assignee that we may, at our sole discretion, involve in the provision of the Service',\n",
    "'Zelle Service': 'Zelle® Service or J.P. Morgan QuickPay'\n",
    "}\n",
    "}\"\"\")"
   ]
  },
  {
   "cell_type": "code",
   "execution_count": null,
   "metadata": {},
   "outputs": [],
   "source": [
    "s = \"\"\"\n",
    "{\n",
    "    \"Account Termination\": \"None\",\n",
    "    \"Disputes\": [\"Termination\", \"Disputes\", \"Binding Arbitration\"],\n",
    "    \"Fees\": {\n",
    "        \"Zelle Fees\": \"17. Zelle Fees\",\n",
    "        \"Overdraft Fees\": \"None\",\n",
    "        \"Transaction Fees\": \"None\",\n",
    "        \"Account Maintenance Fees\": \"None\"\n",
    "},\n",
    "\"Interest Rates\": \"None\",\n",
    "\"Definitions\": {\n",
    "    \"Bank\": \"JPMorgan Chase Bank, National Association, or any affiliate, agent, independent contractor, designee, or assignee that we may, at our sole discretion, involve in the provision of the Service\",\n",
    "    \"Zelle Service\": \"Zelle® Service or J.P. Morgan QuickPay\"\n",
    "}\n",
    "}\"\"\"\n",
    "\n",
    "# Load s into a json object avoiding \"name enclosed in double quotes\" errors\n",
    "import json\n",
    "import re\n",
    "\n",
    "def load_json(s):\n",
    "    s = re.sub(r\"(\\w+):\", r'\"\\1\":', s)\n",
    "    return json.loads(s)\n",
    "\n",
    "d = load_json(s)\n"
   ]
  },
  {
   "cell_type": "code",
   "execution_count": null,
   "metadata": {},
   "outputs": [],
   "source": []
  },
  {
   "cell_type": "code",
   "execution_count": null,
   "metadata": {},
   "outputs": [],
   "source": []
  }
 ],
 "metadata": {
  "kernelspec": {
   "display_name": "tiff-env",
   "language": "python",
   "name": "python3"
  },
  "language_info": {
   "codemirror_mode": {
    "name": "ipython",
    "version": 3
   },
   "file_extension": ".py",
   "mimetype": "text/x-python",
   "name": "python",
   "nbconvert_exporter": "python",
   "pygments_lexer": "ipython3",
   "version": "3.9.16"
  },
  "orig_nbformat": 4,
  "vscode": {
   "interpreter": {
    "hash": "ef14f49bbc779f2fde64ca0552c2a99d578405052f5b73f61279551da311a8a1"
   }
  }
 },
 "nbformat": 4,
 "nbformat_minor": 2
}
