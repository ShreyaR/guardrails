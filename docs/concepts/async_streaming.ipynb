{
 "cells": [
  {
   "cell_type": "markdown",
   "metadata": {},
   "source": [
    "# Async Stream-validate LLM responses\n",
    "\n",
    "Asynchronous behavior is generally useful in LLM applciations. It allows multiple, long-running LLM requests to execute at once. Adding streaming to this situation allows us to make non-blocking, iterative validations over each stream as chunks arrive. This document explores how to implement this behavior using the Guardrails framework.\n",
    "\n",
    "**Note**: learn more about streaming [here](./streaming).\n"
   ]
  },
  {
   "cell_type": "code",
   "execution_count": 5,
   "metadata": {},
   "outputs": [],
   "source": [
    "# Few imports and global variables\n",
    "from rich import print\n",
    "import guardrails as gd\n",
    "import litellm\n",
    "from IPython.display import clear_output\n",
    "import time"
   ]
  },
  {
   "cell_type": "markdown",
   "metadata": {},
   "source": [
    "### Setup\n",
    "\n",
    "Install the necessary validators from Guardrails hub in your CLI.\n",
    "\n",
    "```bash\n",
    "!guardrails hub install hub://guardrails/competitor_check\n",
    "```\n"
   ]
  },
  {
   "cell_type": "markdown",
   "metadata": {},
   "source": [
    "#### Create the Guard object\n"
   ]
  },
  {
   "cell_type": "markdown",
   "metadata": {},
   "source": [
    "# Async Streaming"
   ]
  },
  {
   "cell_type": "code",
   "execution_count": null,
   "metadata": {},
   "outputs": [],
   "source": [
    "from guardrails.hub import CompetitorCheck\n",
    "\n",
    "prompt = \"Tell me about the Apple Iphone\"\n",
    "\n",
    "guard = gd.AsyncGuard().use(CompetitorCheck, [\"Apple\"])"
   ]
  },
  {
   "cell_type": "markdown",
   "metadata": {},
   "source": [
    "##### Example 1: No async streaming\n",
    "\n",
    "By default, the `stream` parameter is set to `False`.\n",
    "We will use LiteLLM to make our LLM calls.\n"
   ]
  },
  {
   "cell_type": "code",
   "execution_count": null,
   "metadata": {},
   "outputs": [],
   "source": [
    "# Wrap the litellm OpenAI API call with the `guard` object\n",
    "raw_llm_output, validated_output, *rest = await guard(\n",
    "    litellm.acompletion,\n",
    "    model=\"gpt-3.5-turbo\",\n",
    "    prompt=prompt,\n",
    "    max_tokens=1024,\n",
    "    temperature=0.3,\n",
    ")"
   ]
  },
  {
   "cell_type": "code",
   "execution_count": null,
   "metadata": {},
   "outputs": [],
   "source": [
    "# Let's see the logs\n",
    "print(guard.history.last.tree)"
   ]
  },
  {
   "cell_type": "markdown",
   "metadata": {},
   "source": [
    "##### Example 2: Async Streaming\n",
    "\n",
    "Set the `stream` parameter to `True`\n"
   ]
  },
  {
   "cell_type": "code",
   "execution_count": null,
   "metadata": {},
   "outputs": [],
   "source": [
    "# Wrap the litellm OpenAI API call with the `guard` object\n",
    "fragment_generator = await guard(\n",
    "    litellm.acompletion,\n",
    "    model=\"gpt-3.5-turbo\",\n",
    "    prompt=prompt,\n",
    "    max_tokens=1024,\n",
    "    temperature=0,\n",
    "    stream=True,\n",
    ")\n",
    "\n",
    "\n",
    "async for op in fragment_generator:\n",
    "    clear_output(wait=True)\n",
    "    print(op)\n",
    "    time.sleep(0.5)"
   ]
  },
  {
   "cell_type": "code",
   "execution_count": null,
   "metadata": {},
   "outputs": [],
   "source": [
    "# Let's see the logs\n",
    "print(guard.history.last.tree)"
   ]
  },
  {
   "cell_type": "markdown",
   "metadata": {},
   "source": [
    "As you can see here, the outputs in both examples match. The only difference is that, in the async streaming example, the outputs are returned as soon as they are received and validated by Guardrails.\n",
    "\n",
    "In the non-streaming example, the outputs are returned only after the entire request has been processed by the API.\n",
    "\n",
    "In other words, when async streaming is enabled, the API returns the outputs as soon as they are ready, rather than waiting for the entire request to be processed.\n"
   ]
  }
 ],
 "metadata": {
  "kernelspec": {
   "display_name": "guard-venv",
   "language": "python",
   "name": "python3"
  },
  "language_info": {
   "codemirror_mode": {
    "name": "ipython",
    "version": 3
   },
   "file_extension": ".py",
   "mimetype": "text/x-python",
   "name": "python",
   "nbconvert_exporter": "python",
   "pygments_lexer": "ipython3",
   "version": "3.11.8"
  }
 },
 "nbformat": 4,
 "nbformat_minor": 2
}
