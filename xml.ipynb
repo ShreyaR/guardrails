{
 "cells": [
  {
   "cell_type": "code",
   "execution_count": 1,
   "metadata": {},
   "outputs": [],
   "source": [
    "from guardrails.x_schema import XSchema"
   ]
  },
  {
   "cell_type": "code",
   "execution_count": 2,
   "metadata": {},
   "outputs": [
    {
     "name": "stderr",
     "output_type": "stream",
     "text": [
      "/Users/shreyarajpal/guardrails/guardrails/x_schema.py:135: UserWarning: Formatter 1-indexed is not valid for element key.\n",
      "  warnings.warn(\n",
      "/Users/shreyarajpal/guardrails/guardrails/x_schema.py:135: UserWarning: Formatter lower-case two-words-only is not valid for element key.\n",
      "  warnings.warn(\n",
      "/Users/shreyarajpal/guardrails/guardrails/x_schema.py:135: UserWarning: Formatter one-line is not valid for element key.\n",
      "  warnings.warn(\n",
      "/Users/shreyarajpal/guardrails/guardrails/x_schema.py:135: UserWarning: Formatter percentage is not valid for element key.\n",
      "  warnings.warn(\n",
      "/Users/shreyarajpal/guardrails/guardrails/x_schema.py:135: UserWarning: Formatter less-than-200-characters is not valid for element key.\n",
      "  warnings.warn(\n",
      "/Users/shreyarajpal/guardrails/guardrails/x_schema.py:135: UserWarning: Formatter tone-twitter explain-high-quality is not valid for element key.\n",
      "  warnings.warn(\n",
      "/Users/shreyarajpal/guardrails/guardrails/x_schema.py:135: UserWarning: Formatter tagline tv-ad is not valid for element key.\n",
      "  warnings.warn(\n"
     ]
    }
   ],
   "source": [
    "schema = XSchema.from_xml('guardrails/prompt.xml', 'guardrails/prompt.xml')"
   ]
  },
  {
   "cell_type": "code",
   "execution_count": 3,
   "metadata": {},
   "outputs": [
    {
     "data": {
      "text/plain": [
       "XSchema(fees: Field(<class 'guardrails.x_datatypes.List'>, [], {'index': Field(<class 'guardrails.x_datatypes.Key'>, [], {}), 'name': Field(<class 'guardrails.x_datatypes.Key'>, [], {}), 'explanation': Field(<class 'guardrails.x_datatypes.Key'>, [], {}), 'value': Field(<class 'guardrails.x_datatypes.Key'>, [], {}), 'description': Field(<class 'guardrails.x_datatypes.Key'>, [], {}), 'example': Field(<class 'guardrails.x_datatypes.Key'>, [], {}), 'advertisement': Field(<class 'guardrails.x_datatypes.Key'>, [], {})})\n",
       ")"
      ]
     },
     "execution_count": 3,
     "metadata": {},
     "output_type": "execute_result"
    }
   ],
   "source": [
    "schema"
   ]
  },
  {
   "cell_type": "code",
   "execution_count": null,
   "metadata": {},
   "outputs": [],
   "source": []
  },
  {
   "cell_type": "code",
   "execution_count": null,
   "metadata": {},
   "outputs": [],
   "source": []
  },
  {
   "cell_type": "code",
   "execution_count": null,
   "metadata": {},
   "outputs": [],
   "source": []
  },
  {
   "cell_type": "code",
   "execution_count": null,
   "metadata": {},
   "outputs": [],
   "source": []
  },
  {
   "cell_type": "code",
   "execution_count": null,
   "metadata": {},
   "outputs": [],
   "source": []
  }
 ],
 "metadata": {
  "kernelspec": {
   "display_name": "tiff-env",
   "language": "python",
   "name": "python3"
  },
  "language_info": {
   "codemirror_mode": {
    "name": "ipython",
    "version": 3
   },
   "file_extension": ".py",
   "mimetype": "text/x-python",
   "name": "python",
   "nbconvert_exporter": "python",
   "pygments_lexer": "ipython3",
   "version": "3.9.16"
  },
  "orig_nbformat": 4,
  "vscode": {
   "interpreter": {
    "hash": "ef14f49bbc779f2fde64ca0552c2a99d578405052f5b73f61279551da311a8a1"
   }
  }
 },
 "nbformat": 4,
 "nbformat_minor": 2
}
