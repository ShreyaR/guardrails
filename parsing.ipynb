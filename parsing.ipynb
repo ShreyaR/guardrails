{
 "cells": [
  {
   "cell_type": "code",
   "execution_count": 73,
   "metadata": {},
   "outputs": [],
   "source": [
    "from lxml import etree as ET\n",
    "from guardrails.x_datatypes import registry as types_registry"
   ]
  },
  {
   "cell_type": "code",
   "execution_count": 53,
   "metadata": {},
   "outputs": [],
   "source": [
    "with open('guardrails/prompt.xml', \"r\") as f:\n",
    "    xml = f.read()\n",
    "parser = ET.XMLParser(encoding=\"utf-8\")\n",
    "parsed_xml = ET.fromstring(xml, parser=parser)"
   ]
  },
  {
   "cell_type": "code",
   "execution_count": 74,
   "metadata": {},
   "outputs": [],
   "source": [
    "def load_from_xml(\n",
    "    tree: ET._Element, strict: bool = False\n",
    ") -> bool:\n",
    "    \"\"\"Validate parsed XML, create a prompt and a Schema object.\"\"\"\n",
    "\n",
    "    schema = {}\n",
    "\n",
    "    for child in tree:\n",
    "        if isinstance(child, ET._Comment):\n",
    "            continue\n",
    "        child_name = child.attrib[\"name\"]\n",
    "        child_data_type = child.tag\n",
    "        child_data_type = types_registry[child_data_type]\n",
    "        child_data = child_data_type.from_xml(child, strict=strict)\n",
    "        schema[child_name] = child_data\n",
    "\n",
    "    return schema"
   ]
  },
  {
   "cell_type": "code",
   "execution_count": 75,
   "metadata": {},
   "outputs": [
    {
     "name": "stderr",
     "output_type": "stream",
     "text": [
      "/Users/shreyarajpal/guardrails/guardrails/x_datatypes.py:52: UserWarning: Formatter 1-indexed is not valid for element integer.\n",
      "  warnings.warn(\n",
      "/Users/shreyarajpal/guardrails/guardrails/x_datatypes.py:52: UserWarning: Formatter percentage is not valid for element float.\n",
      "  warnings.warn(\n",
      "/Users/shreyarajpal/guardrails/guardrails/x_datatypes.py:52: UserWarning: Formatter tone-twitter explain-high-quality is not valid for element string.\n",
      "  warnings.warn(\n",
      "/Users/shreyarajpal/guardrails/guardrails/x_datatypes.py:52: UserWarning: Formatter tagline tv-ad is not valid for element string.\n",
      "  warnings.warn(\n"
     ]
    }
   ],
   "source": [
    "schema = load_from_xml(parsed_xml)"
   ]
  },
  {
   "cell_type": "code",
   "execution_count": 86,
   "metadata": {},
   "outputs": [
    {
     "data": {
      "text/plain": [
       "[<guardrails.x_validators.LowerCase at 0x7fadf0c16310>,\n",
       " <guardrails.x_validators.TwoWords at 0x7fadf0c16040>]"
      ]
     },
     "execution_count": 86,
     "metadata": {},
     "output_type": "execute_result"
    }
   ],
   "source": [
    "schema['fees'].children['item'].children['name'].validators"
   ]
  },
  {
   "cell_type": "code",
   "execution_count": null,
   "metadata": {},
   "outputs": [],
   "source": []
  }
 ],
 "metadata": {
  "kernelspec": {
   "display_name": "tiff-env",
   "language": "python",
   "name": "python3"
  },
  "language_info": {
   "codemirror_mode": {
    "name": "ipython",
    "version": 3
   },
   "file_extension": ".py",
   "mimetype": "text/x-python",
   "name": "python",
   "nbconvert_exporter": "python",
   "pygments_lexer": "ipython3",
   "version": "3.9.16"
  },
  "orig_nbformat": 4,
  "vscode": {
   "interpreter": {
    "hash": "ef14f49bbc779f2fde64ca0552c2a99d578405052f5b73f61279551da311a8a1"
   }
  }
 },
 "nbformat": 4,
 "nbformat_minor": 2
}
