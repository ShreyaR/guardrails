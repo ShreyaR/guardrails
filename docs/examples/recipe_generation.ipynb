{
 "cells": [
  {
   "attachments": {},
   "cell_type": "markdown",
   "metadata": {},
   "source": [
    "# Generating Vegan Recipes\n",
    "\n",
    "!!! note\n",
    "    To download this example as a Jupyter notebook, click [here](https://github.com/ShreyaR/guardrails/blob/main/docs/examples/recipe_generation.ipynb).\n",
    "\n",
    "In this example, we will use Guardrails to generate vegan mac and cheese recipe.\n",
    "\n",
    "## Objective\n",
    "\n",
    "We want to generate a vegan Mac-n-Cheese recipe as a list of ingredients and instructions. We will use Guardrails to make sure the recipe is vegan."
   ]
  },
  {
   "cell_type": "code",
   "execution_count": null,
   "metadata": {},
   "outputs": [],
   "source": [
    "import guardrails as gd\n",
    "from rich import print"
   ]
  },
  {
   "attachments": {},
   "cell_type": "markdown",
   "metadata": {},
   "source": [
    "## Step 1: Create the RAIL Spec\n",
    "\n",
    "Ordinarily, we would create an RAIL spec in a separate file. For the purposes of this example, we will create the spec in this notebook as a string following the RAIL syntax. For more information on RAIL, see the [RAIL documentation](../rail/output.md).\n",
    "\n",
    "Here, we request:\n",
    "\n"
   ]
  },
  {
   "cell_type": "code",
   "execution_count": null,
   "metadata": {},
   "outputs": [],
   "source": [
    "rail_str = \"\"\"\n",
    "<rail version=\"0.1\">\n",
    "\n",
    "<script language='python'>\n",
    "from dataclasses import dataclass\n",
    "from guardrails.validators import Validator, EventDetail, register_validator\n",
    "\n",
    "import re\n",
    "from typing import Dict, List\n",
    "\n",
    "NON_VEGAN_INGREDIENTS = [\"butter\", \"milk\", \"eggs\", \"cheese\", \"cream\", \"yogurt\"]\n",
    "SUBSTITUTIONS = {\n",
    "    \"butter\": \"margarine\",\n",
    "    \"milk\": \"soy milk\",\n",
    "    \"eggs\": \"flax eggs\",\n",
    "    \"cheese\": \"vegan cheese\",\n",
    "    \"cream\": \"soy cream\",\n",
    "    \"yogurt\": \"soy yogurt\",\n",
    "}\n",
    "\n",
    "@register_validator(name=\"is-vegan\", data_type=\"string\")\n",
    "class IsVegan(Validator):\n",
    "\n",
    "    def validate(self, key, value, schema) -> Dict:\n",
    "        global NON_VEGAN_INGREDIENTS, SUBSTITUTIONS\n",
    "\n",
    "        # Make sure the ingredient is not in the list of non-vegan ingredients.\n",
    "        if value.lower() in NON_VEGAN_INGREDIENTS:\n",
    "            raise EventDetail(\n",
    "                key,\n",
    "                value,\n",
    "                schema,\n",
    "                f\"Value ${value} is not vegan.\",\n",
    "                # Programmatically fix the value by replacing it with a vegan\n",
    "                # substitute.\n",
    "                SUBSTITUTIONS[value.lower()],\n",
    "            )\n",
    "\n",
    "        return schema\n",
    "</script>\n",
    "\n",
    "\n",
    "<output>\n",
    "    <list name=\"ingredients\" description=\"What are the ingredients for the recipe?\">\n",
    "        <object>\n",
    "            <integer name=\"index\" format=\"1-indexed\" />\n",
    "            <string name=\"name\" format=\"is-vegan\" on-fail-is-vegan=\"fix\" />\n",
    "            <string name=\"brand\" description=\"Suggested brand for the ingredient (if any)\" />\n",
    "            <bool name=\"optional\" description=\"Is the ingredient necessary?\" />\n",
    "            <float name=\"quantity\" format=\"units-imperial\" />\n",
    "            <string name=\"units\" format=\"units-imperial\" />\n",
    "        </object>\n",
    "    </list>\n",
    "    <list name=\"instructions\" description=\"What are the instructions for the recipe?\">\n",
    "        <object>\n",
    "            <integer name=\"index\" format=\"1-indexed\" />\n",
    "            <string name=\"step\" />\n",
    "        </object>\n",
    "    </list>\n",
    "</output>\n",
    "\n",
    "\n",
    "<prompt>\n",
    "Generate a recipe for vegan mac and cheese.\n",
    "${gr.complete_json_suffix}\n",
    "</prompt>\n",
    "\n",
    "</rail>\n",
    "\"\"\""
   ]
  },
  {
   "attachments": {},
   "cell_type": "markdown",
   "metadata": {},
   "source": [
    "!!! note\n",
    "    Here, we create a custom `IsVegan` validator that checks if the ingredient is vegan.\n",
    "    We also set `on-fail-is-vegan` to `fix`, which in this case means that programatically we will replace the ingredient with a vegan substitute."
   ]
  },
  {
   "cell_type": "markdown",
   "metadata": {},
   "source": [
    "## Step 2: Create a `Guard` object with the RAIL Spec\n",
    "\n",
    "We create a `gd.Guard` object that will check, validate and correct the output of the LLM. This object:\n",
    "\n",
    "1. Enforces the quality criteria specified in the RAIL spec.\n",
    "2. Takes corrective action when the quality criteria are not met.\n",
    "3. Compiles the schema and type info from the RAIL spec and adds it to the prompt."
   ]
  },
  {
   "cell_type": "code",
   "execution_count": null,
   "metadata": {},
   "outputs": [],
   "source": [
    "guard = gd.Guard.from_rail_string(rail_str)"
   ]
  },
  {
   "cell_type": "markdown",
   "metadata": {},
   "source": [
    "As we can see, a few formatters weren't supported. These formatters won't be enforced in the output, but this information can still be used to generate a prompt.\n",
    "\n",
    "We see the prompt that will be sent to the LLM. The `{document}` is substituted with the user provided value at runtime."
   ]
  },
  {
   "cell_type": "code",
   "execution_count": null,
   "metadata": {},
   "outputs": [],
   "source": [
    "print(guard.base_prompt)"
   ]
  },
  {
   "cell_type": "markdown",
   "metadata": {},
   "source": [
    "## Step 3: Wrap the LLM API call with `Guard`"
   ]
  },
  {
   "cell_type": "code",
   "execution_count": null,
   "metadata": {},
   "outputs": [],
   "source": [
    "import openai\n",
    "\n",
    "raw_llm_response, validated_response = guard(\n",
    "    openai.Completion.create, engine=\"text-davinci-003\", max_tokens=2048, temperature=0\n",
    ")"
   ]
  },
  {
   "cell_type": "markdown",
   "metadata": {},
   "source": [
    "The `guard` wrapper returns the raw_llm_respose (which is a simple string), and the validated and corrected output (which is a dictionary).\n",
    "\n",
    "We can see that the output is a dictionary with the correct schema and types."
   ]
  },
  {
   "cell_type": "code",
   "execution_count": null,
   "metadata": {},
   "outputs": [],
   "source": [
    "print(validated_response)"
   ]
  },
  {
   "cell_type": "code",
   "execution_count": null,
   "metadata": {},
   "outputs": [],
   "source": [
    "print(guard.state.most_recent_call.tree)"
   ]
  }
 ],
 "metadata": {
  "kernelspec": {
   "display_name": "tiff-env",
   "language": "python",
   "name": "python3"
  },
  "language_info": {
   "codemirror_mode": {
    "name": "ipython",
    "version": 3
   },
   "file_extension": ".py",
   "mimetype": "text/x-python",
   "name": "python",
   "nbconvert_exporter": "python",
   "pygments_lexer": "ipython3",
   "version": "3.11.4"
  },
  "orig_nbformat": 4,
  "vscode": {
   "interpreter": {
    "hash": "ef14f49bbc779f2fde64ca0552c2a99d578405052f5b73f61279551da311a8a1"
   }
  }
 },
 "nbformat": 4,
 "nbformat_minor": 2
}
