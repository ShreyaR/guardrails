{
 "cells": [
  {
   "cell_type": "code",
   "execution_count": 7,
   "metadata": {},
   "outputs": [],
   "source": [
    "import json"
   ]
  },
  {
   "cell_type": "code",
   "execution_count": 14,
   "metadata": {},
   "outputs": [],
   "source": [
    "output = \"\"\"\n",
    "{\n",
    "\"interest_rates\": \"Purchase Annual Percentage Rate (APR) 0% Intro APR for the first 18 months that your Account is open. After that, 19.49%. This APR will vary with the market based on the Prime Rate. My Chase Loan SM APR 19.49%. This APR will vary with the market based on the Prime Rate. Promotional offers with fixed APRs and varying durations may be available from time to time on some accounts. Balance Transfer APR 0% Intro APR for the first 18 months that your Account is open. After that, 19.49%. This APR will vary with the market based on the Prime Rate. Cash Advance APR 29.49%. This APR will vary with the market based on the Prime Rate.\",\n",
    "\"fees\": [\n",
    "{\n",
    "\"name\": \"balance transfer\",\n",
    "\"value\": \"max(5% of the amount of each transfer, $5)\"\n",
    "},\n",
    "{\n",
    "\"name\": \"cash advance\",\n",
    "\"value\": \"max(5% of the amount of each transaction, $10)\"\n",
    "}\n",
    "]\n",
    "}\n",
    "\"\"\""
   ]
  },
  {
   "cell_type": "code",
   "execution_count": 15,
   "metadata": {},
   "outputs": [
    {
     "data": {
      "text/plain": [
       "{'interest_rates': 'Purchase Annual Percentage Rate (APR) 0% Intro APR for the first 18 months that your Account is open. After that, 19.49%. This APR will vary with the market based on the Prime Rate. My Chase Loan SM APR 19.49%. This APR will vary with the market based on the Prime Rate. Promotional offers with fixed APRs and varying durations may be available from time to time on some accounts. Balance Transfer APR 0% Intro APR for the first 18 months that your Account is open. After that, 19.49%. This APR will vary with the market based on the Prime Rate. Cash Advance APR 29.49%. This APR will vary with the market based on the Prime Rate.',\n",
       " 'fees': [{'name': 'balance transfer',\n",
       "   'value': 'max(5% of the amount of each transfer, $5)'},\n",
       "  {'name': 'cash advance',\n",
       "   'value': 'max(5% of the amount of each transaction, $10)'}]}"
      ]
     },
     "execution_count": 15,
     "metadata": {},
     "output_type": "execute_result"
    }
   ],
   "source": [
    "json.loads(output)"
   ]
  },
  {
   "cell_type": "code",
   "execution_count": null,
   "metadata": {},
   "outputs": [],
   "source": []
  }
 ],
 "metadata": {
  "kernelspec": {
   "display_name": "tiff-env",
   "language": "python",
   "name": "python3"
  },
  "language_info": {
   "codemirror_mode": {
    "name": "ipython",
    "version": 3
   },
   "file_extension": ".py",
   "mimetype": "text/x-python",
   "name": "python",
   "nbconvert_exporter": "python",
   "pygments_lexer": "ipython3",
   "version": "3.9.16"
  },
  "orig_nbformat": 4,
  "vscode": {
   "interpreter": {
    "hash": "ef14f49bbc779f2fde64ca0552c2a99d578405052f5b73f61279551da311a8a1"
   }
  }
 },
 "nbformat": 4,
 "nbformat_minor": 2
}
