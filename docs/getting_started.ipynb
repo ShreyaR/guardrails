{
 "cells": [
  {
   "attachments": {},
   "cell_type": "markdown",
   "metadata": {},
   "source": [
    "# Getting Started\n",
    "\n",
    "In this notebook, we will go through the basics of creating a `RAIL` spec and using Guardrails to enforce it.\n",
    "\n",
    "## Objective\n",
    "\n",
    "Our goal is to understand what a bank run is, and generate URL links to relevant news articles. We will first generate a `RAIL` spec for this and then use Guardrails to enforce it.\n",
    "\n",
    "## Installation\n",
    "\n",
    "To get started, install the `guardrails` package with `pip`.\n"
   ]
  },
  {
   "cell_type": "code",
   "execution_count": 1,
   "metadata": {},
   "outputs": [],
   "source": [
    "!pip install guardrails-ai"
   ]
  },
  {
   "attachments": {},
   "cell_type": "markdown",
   "metadata": {},
   "source": [
    "## Creating an `RAIL` spec\n",
    "\n",
    "At the heart of `Guardrails` is the `RAIL` spec.\n",
    "\n",
    "`RAIL` a flavor of XML (standing for **R**eliable **AI** markup **L**anguage) that describes the expected structure and type of the output of the LLM, the quality criteria for the output to be valid and corrective actions to be taken if the output is invalid.\n",
    "\n",
    "- For this task, we create a `RAIL` spec that requests the LLM to generate an object with 2 fields: `explanation` and `follow_up_url`.\n",
    "- For the `explanation` field to be valid, the max length of the generated string should be **between 200 to 280 characters in length**. In case the generated string doesn't meet this criteria, for now we just want to log the validation error and continue (i.e. the **noop** action).\n",
    "- For the `follow_up_url` field to be valid, the **URL should be reachable**. In case this quality criteria is not met, the generated output should be filtered out (i.e. the **filter** action)."
   ]
  },
  {
   "attachments": {},
   "cell_type": "markdown",
   "metadata": {},
   "source": [
    "We specify our quality criteria (generated length, URL reachability) in the `format` fields of the `RAIL` spec below. For now, we want to do nothing if the quality criteria for `explanation` is not met, and filter the `follow_up_url` if it is not valid.\n",
    "\n",
    "!!! note\n",
    "    Ordinarily, the `RAIL` spec would be created in a file directly. However, for the purposes of this demo, we write the spec in a string and then create a file from it."
   ]
  },
  {
   "cell_type": "code",
   "execution_count": 2,
   "metadata": {},
   "outputs": [],
   "source": [
    "rail_spec = \"\"\"\n",
    "<rail version=\"0.1\">\n",
    "\n",
    "<output>\n",
    "    <object name=\"bank_run\" format=\"length: 2\">\n",
    "        <string\n",
    "            name=\"explanation\"\n",
    "            description=\"A paragraph about what a bank run is.\"\n",
    "            format=\"length: 200 240\"\n",
    "            on-fail-length=\"noop\"\n",
    "        />\n",
    "        <url\n",
    "            name=\"follow_up_url\"\n",
    "            description=\"A web URL where I can read more about bank runs.\"\n",
    "            required=\"true\"\n",
    "            format=\"valid-url\"\n",
    "            on-fail-valid-url=\"filter\"\n",
    "        />\n",
    "    </object>\n",
    "</output>\n",
    "\n",
    "<prompt>\n",
    "Explain what a bank run is in a tweet.\n",
    "\n",
    "@xml_prefix_prompt\n",
    "\n",
    "{output_schema}\n",
    "\n",
    "@json_suffix_prompt_v2_wo_none\n",
    "</prompt>\n",
    "</rail>\n",
    "\"\"\""
   ]
  },
  {
   "attachments": {},
   "cell_type": "markdown",
   "metadata": {},
   "source": [
    "## Using Guardrails to enforce the `RAIL` spec\n",
    "\n",
    "We use the `RAIL` spec to create a `Guard` object. The `Guard` object is used to wrap the LLM API call and enforce the `RAIL` spec on the output of the LLM call."
   ]
  },
  {
   "cell_type": "code",
   "execution_count": 3,
   "metadata": {},
   "outputs": [],
   "source": [
    "from rich import print\n",
    "\n",
    "import guardrails as gd\n",
    "\n",
    "\n",
    "guard = gd.Guard.from_rail_string(rail_spec)"
   ]
  },
  {
   "attachments": {},
   "cell_type": "markdown",
   "metadata": {},
   "source": [
    "We can see that the `Guard` object compiles the `RAIL` output specification and adds it to the provided prompt."
   ]
  },
  {
   "cell_type": "code",
   "execution_count": 4,
   "metadata": {},
   "outputs": [
    {
     "data": {
      "text/html": [
       "<pre style=\"white-space:pre;overflow-x:auto;line-height:normal;font-family:Menlo,'DejaVu Sans Mono',consolas,'Courier New',monospace\">\n",
       "Explain what a bank run is in a tweet.\n",
       "\n",
       "\n",
       "Given below is XML that describes the information to extract from this document and the tags to extract it into.\n",
       "\n",
       "\n",
       "<span style=\"font-weight: bold\">&lt;</span><span style=\"color: #ff00ff; text-decoration-color: #ff00ff; font-weight: bold\">output</span><span style=\"color: #000000; text-decoration-color: #000000\">&gt;</span>\n",
       "<span style=\"color: #000000; text-decoration-color: #000000\">    &lt;object </span><span style=\"color: #808000; text-decoration-color: #808000\">name</span><span style=\"color: #000000; text-decoration-color: #000000\">=</span><span style=\"color: #008000; text-decoration-color: #008000\">\"bank_run\"</span><span style=\"color: #000000; text-decoration-color: #000000\"> </span><span style=\"color: #808000; text-decoration-color: #808000\">format</span><span style=\"color: #000000; text-decoration-color: #000000\">=</span><span style=\"color: #008000; text-decoration-color: #008000\">\"length: 2\"</span><span style=\"color: #000000; text-decoration-color: #000000\">&gt;</span>\n",
       "<span style=\"color: #000000; text-decoration-color: #000000\">        &lt;string </span><span style=\"color: #808000; text-decoration-color: #808000\">name</span><span style=\"color: #000000; text-decoration-color: #000000\">=</span><span style=\"color: #008000; text-decoration-color: #008000\">\"explanation\"</span><span style=\"color: #000000; text-decoration-color: #000000\"> </span><span style=\"color: #808000; text-decoration-color: #808000\">description</span><span style=\"color: #000000; text-decoration-color: #000000\">=</span><span style=\"color: #008000; text-decoration-color: #008000\">\"A paragraph about what a bank run is.\"</span><span style=\"color: #000000; text-decoration-color: #000000\"> </span><span style=\"color: #808000; text-decoration-color: #808000\">format</span><span style=\"color: #000000; text-decoration-color: #000000\">=</span><span style=\"color: #008000; text-decoration-color: #008000\">\"length: 200 240\"</span><span style=\"color: #800080; text-decoration-color: #800080\">/</span><span style=\"color: #000000; text-decoration-color: #000000\">&gt;</span>\n",
       "<span style=\"color: #000000; text-decoration-color: #000000\">        &lt;url </span><span style=\"color: #808000; text-decoration-color: #808000\">name</span><span style=\"color: #000000; text-decoration-color: #000000\">=</span><span style=\"color: #008000; text-decoration-color: #008000\">\"follow_up_url\"</span><span style=\"color: #000000; text-decoration-color: #000000\"> </span><span style=\"color: #808000; text-decoration-color: #808000\">description</span><span style=\"color: #000000; text-decoration-color: #000000\">=</span><span style=\"color: #008000; text-decoration-color: #008000\">\"A web URL where I can read more about bank runs.\"</span><span style=\"color: #000000; text-decoration-color: #000000\"> </span><span style=\"color: #808000; text-decoration-color: #808000\">required</span><span style=\"color: #000000; text-decoration-color: #000000\">=</span><span style=\"color: #008000; text-decoration-color: #008000\">\"true\"</span><span style=\"color: #000000; text-decoration-color: #000000\"> </span>\n",
       "<span style=\"color: #808000; text-decoration-color: #808000\">format</span><span style=\"color: #000000; text-decoration-color: #000000\">=</span><span style=\"color: #008000; text-decoration-color: #008000\">\"valid-url\"</span><span style=\"color: #800080; text-decoration-color: #800080\">/</span><span style=\"color: #000000; text-decoration-color: #000000\">&gt;</span>\n",
       "<span style=\"color: #000000; text-decoration-color: #000000\">    &lt;</span><span style=\"color: #800080; text-decoration-color: #800080\">/</span><span style=\"color: #ff00ff; text-decoration-color: #ff00ff\">object</span><span style=\"color: #000000; text-decoration-color: #000000\">&gt;</span>\n",
       "<span style=\"color: #000000; text-decoration-color: #000000\">&lt;</span><span style=\"color: #800080; text-decoration-color: #800080\">/</span><span style=\"color: #ff00ff; text-decoration-color: #ff00ff\">output</span><span style=\"font-weight: bold\">&gt;</span>\n",
       "\n",
       "\n",
       "\n",
       "\n",
       "ONLY return a valid JSON object <span style=\"font-weight: bold\">(</span>no other text is necessary<span style=\"font-weight: bold\">)</span>. The JSON MUST conform to the XML format, including \n",
       "any types and format requests e.g. requests for lists, objects and specific types. Be correct and concise.\n",
       "\n",
       "JSON Output:\n",
       "\n",
       "\n",
       "</pre>\n"
      ],
      "text/plain": [
       "\n",
       "Explain what a bank run is in a tweet.\n",
       "\n",
       "\n",
       "Given below is XML that describes the information to extract from this document and the tags to extract it into.\n",
       "\n",
       "\n",
       "\u001b[1m<\u001b[0m\u001b[1;95moutput\u001b[0m\u001b[39m>\u001b[0m\n",
       "\u001b[39m    <object \u001b[0m\u001b[33mname\u001b[0m\u001b[39m=\u001b[0m\u001b[32m\"bank_run\"\u001b[0m\u001b[39m \u001b[0m\u001b[33mformat\u001b[0m\u001b[39m=\u001b[0m\u001b[32m\"length\u001b[0m\u001b[32m: 2\"\u001b[0m\u001b[39m>\u001b[0m\n",
       "\u001b[39m        <string \u001b[0m\u001b[33mname\u001b[0m\u001b[39m=\u001b[0m\u001b[32m\"explanation\"\u001b[0m\u001b[39m \u001b[0m\u001b[33mdescription\u001b[0m\u001b[39m=\u001b[0m\u001b[32m\"A\u001b[0m\u001b[32m paragraph about what a bank run is.\"\u001b[0m\u001b[39m \u001b[0m\u001b[33mformat\u001b[0m\u001b[39m=\u001b[0m\u001b[32m\"length\u001b[0m\u001b[32m: 200 240\"\u001b[0m\u001b[35m/\u001b[0m\u001b[39m>\u001b[0m\n",
       "\u001b[39m        <url \u001b[0m\u001b[33mname\u001b[0m\u001b[39m=\u001b[0m\u001b[32m\"follow_up_url\"\u001b[0m\u001b[39m \u001b[0m\u001b[33mdescription\u001b[0m\u001b[39m=\u001b[0m\u001b[32m\"A\u001b[0m\u001b[32m web URL where I can read more about bank runs.\"\u001b[0m\u001b[39m \u001b[0m\u001b[33mrequired\u001b[0m\u001b[39m=\u001b[0m\u001b[32m\"true\"\u001b[0m\u001b[39m \u001b[0m\n",
       "\u001b[33mformat\u001b[0m\u001b[39m=\u001b[0m\u001b[32m\"valid\u001b[0m\u001b[32m-url\"\u001b[0m\u001b[35m/\u001b[0m\u001b[39m>\u001b[0m\n",
       "\u001b[39m    <\u001b[0m\u001b[35m/\u001b[0m\u001b[95mobject\u001b[0m\u001b[39m>\u001b[0m\n",
       "\u001b[39m<\u001b[0m\u001b[35m/\u001b[0m\u001b[95moutput\u001b[0m\u001b[1m>\u001b[0m\n",
       "\n",
       "\n",
       "\n",
       "\n",
       "ONLY return a valid JSON object \u001b[1m(\u001b[0mno other text is necessary\u001b[1m)\u001b[0m. The JSON MUST conform to the XML format, including \n",
       "any types and format requests e.g. requests for lists, objects and specific types. Be correct and concise.\n",
       "\n",
       "JSON Output:\n",
       "\n",
       "\n"
      ]
     },
     "metadata": {},
     "output_type": "display_data"
    }
   ],
   "source": [
    "print(guard.base_prompt)"
   ]
  },
  {
   "attachments": {},
   "cell_type": "markdown",
   "metadata": {},
   "source": [
    "Next, we call the `Guard` object with the LLM API call as the first argument and add any additional arguments to the LLM API call as the remaining arguments."
   ]
  },
  {
   "cell_type": "code",
   "execution_count": 5,
   "metadata": {},
   "outputs": [
    {
     "data": {
      "text/html": [
       "<pre style=\"white-space:pre;overflow-x:auto;line-height:normal;font-family:Menlo,'DejaVu Sans Mono',consolas,'Courier New',monospace\"><span style=\"font-weight: bold\">{</span>\n",
       "    <span style=\"color: #008000; text-decoration-color: #008000\">'bank_run'</span>: <span style=\"font-weight: bold\">{</span>\n",
       "        <span style=\"color: #008000; text-decoration-color: #008000\">'explanation'</span>: <span style=\"color: #008000; text-decoration-color: #008000\">\"A bank run is when a large number of customers withdraw their deposits from a bank due to </span>\n",
       "<span style=\"color: #008000; text-decoration-color: #008000\">concerns about the bank's solvency.\"</span>,\n",
       "        <span style=\"color: #008000; text-decoration-color: #008000\">'follow_up_url'</span>: <span style=\"color: #008000; text-decoration-color: #008000\">'https://www.investopedia.com/terms/b/bankrun.asp'</span>\n",
       "    <span style=\"font-weight: bold\">}</span>\n",
       "<span style=\"font-weight: bold\">}</span>\n",
       "</pre>\n"
      ],
      "text/plain": [
       "\u001b[1m{\u001b[0m\n",
       "    \u001b[32m'bank_run'\u001b[0m: \u001b[1m{\u001b[0m\n",
       "        \u001b[32m'explanation'\u001b[0m: \u001b[32m\"A bank run is when a large number of customers withdraw their deposits from a bank due to \u001b[0m\n",
       "\u001b[32mconcerns about the bank's solvency.\"\u001b[0m,\n",
       "        \u001b[32m'follow_up_url'\u001b[0m: \u001b[32m'https://www.investopedia.com/terms/b/bankrun.asp'\u001b[0m\n",
       "    \u001b[1m}\u001b[0m\n",
       "\u001b[1m}\u001b[0m\n"
      ]
     },
     "metadata": {},
     "output_type": "display_data"
    }
   ],
   "source": [
    "import openai\n",
    "import os\n",
    "\n",
    "# Set your OpenAI API key\n",
    "os.environ[\"OPENAI_API_KEY\"] = \"YOUR_OPENAI_API_KEY\"\n",
    "\n",
    "# Wrap the OpenAI API call with the `guard` object\n",
    "raw_llm_output, validated_output = guard(\n",
    "    openai.Completion.create,\n",
    "    engine=\"text-davinci-003\",\n",
    "    max_tokens=1024,\n",
    "    temperature=0.3,\n",
    ")\n",
    "\n",
    "# Print the validated output from the LLM\n",
    "print(validated_output)"
   ]
  },
  {
   "cell_type": "code",
   "execution_count": 6,
   "metadata": {},
   "outputs": [
    {
     "data": {
      "text/html": [
       "<pre style=\"white-space:pre;overflow-x:auto;line-height:normal;font-family:Menlo,'DejaVu Sans Mono',consolas,'Courier New',monospace\">Len of explanation: <span style=\"color: #008080; text-decoration-color: #008080; font-weight: bold\">125</span>\n",
       "</pre>\n"
      ],
      "text/plain": [
       "Len of explanation: \u001b[1;36m125\u001b[0m\n"
      ]
     },
     "metadata": {},
     "output_type": "display_data"
    }
   ],
   "source": [
    "print(f'Len of explanation: {len(validated_output[\"bank_run\"][\"explanation\"])}')"
   ]
  },
  {
   "attachments": {},
   "cell_type": "markdown",
   "metadata": {},
   "source": [
    "As we can see, the `explanation` field didn't meet the quality criteria (length between 200 and 280 characters). However, because of the the `noop` action specified in the `RAIL` spec, the `Guard` object returned the output of the LLM API call as is.\n",
    "\n",
    "Next, we change the `RAIL` spec to reask the LLM for a correct `explanation` if its length is incorrect. We do this by creating a new `RAIL` spec and creating a new `Guard` object."
   ]
  },
  {
   "cell_type": "code",
   "execution_count": 7,
   "metadata": {},
   "outputs": [
    {
     "data": {
      "text/html": [
       "<pre style=\"white-space:pre;overflow-x:auto;line-height:normal;font-family:Menlo,'DejaVu Sans Mono',consolas,'Courier New',monospace\"><span style=\"font-weight: bold\">{</span>\n",
       "    <span style=\"color: #008000; text-decoration-color: #008000\">'bank_run'</span>: <span style=\"font-weight: bold\">{</span>\n",
       "        <span style=\"color: #008000; text-decoration-color: #008000\">'explanation'</span>: <span style=\"color: #008000; text-decoration-color: #008000\">'A bank run is when a large number of people withdraw their deposits from a bank due to </span>\n",
       "<span style=\"color: #008000; text-decoration-color: #008000\">concerns about its solvency. This can cause a financial crisis if the bank is unable to meet the demand for </span>\n",
       "<span style=\"color: #008000; text-decoration-color: #008000\">withdrawals.'</span>,\n",
       "        <span style=\"color: #008000; text-decoration-color: #008000\">'follow_up_url'</span>: <span style=\"color: #008000; text-decoration-color: #008000\">'https://www.investopedia.com/terms/b/bankrun.asp'</span>\n",
       "    <span style=\"font-weight: bold\">}</span>\n",
       "<span style=\"font-weight: bold\">}</span>\n",
       "</pre>\n"
      ],
      "text/plain": [
       "\u001b[1m{\u001b[0m\n",
       "    \u001b[32m'bank_run'\u001b[0m: \u001b[1m{\u001b[0m\n",
       "        \u001b[32m'explanation'\u001b[0m: \u001b[32m'A bank run is when a large number of people withdraw their deposits from a bank due to \u001b[0m\n",
       "\u001b[32mconcerns about its solvency. This can cause a financial crisis if the bank is unable to meet the demand for \u001b[0m\n",
       "\u001b[32mwithdrawals.'\u001b[0m,\n",
       "        \u001b[32m'follow_up_url'\u001b[0m: \u001b[32m'https://www.investopedia.com/terms/b/bankrun.asp'\u001b[0m\n",
       "    \u001b[1m}\u001b[0m\n",
       "\u001b[1m}\u001b[0m\n"
      ]
     },
     "metadata": {},
     "output_type": "display_data"
    }
   ],
   "source": [
    "import tempfile\n",
    "\n",
    "rail_spec = \"\"\"\n",
    "<rail version=\"0.1\">\n",
    "\n",
    "<output>\n",
    "    <object name=\"bank_run\" format=\"length: 2\">\n",
    "        <string\n",
    "            name=\"explanation\"\n",
    "            description=\"A paragraph about what a bank run is.\"\n",
    "            format=\"length: 200 240\"\n",
    "            on-fail-length=\"reask\"\n",
    "        />\n",
    "        <url\n",
    "            name=\"follow_up_url\"\n",
    "            description=\"A web URL where I can read more about bank runs.\"\n",
    "            required=\"true\"\n",
    "            format=\"valid-url\"\n",
    "            on-fail-valid-url=\"filter\"\n",
    "        />\n",
    "    </object>\n",
    "</output>\n",
    "\n",
    "<prompt>\n",
    "Explain what a bank run is in a tweet.\n",
    "\n",
    "@xml_prefix_prompt\n",
    "\n",
    "{output_schema}\n",
    "\n",
    "@json_suffix_prompt_v2_wo_none\n",
    "</prompt>\n",
    "</rail>\n",
    "\"\"\"\n",
    "\n",
    "with tempfile.NamedTemporaryFile(mode=\"w\", suffix=\".rail\") as f:\n",
    "    f.write(rail_spec)\n",
    "    f.flush()\n",
    "    guard_with_reask = gd.Guard.from_rail(f.name)\n",
    "\n",
    "raw_llm_output, validated_output = guard_with_reask(\n",
    "    openai.Completion.create,\n",
    "    engine=\"text-davinci-003\",\n",
    "    max_tokens=1024,\n",
    "    temperature=0.3,\n",
    ")\n",
    "\n",
    "# Print the validated output from the LLM\n",
    "print(validated_output)"
   ]
  },
  {
   "cell_type": "code",
   "execution_count": 8,
   "metadata": {},
   "outputs": [
    {
     "data": {
      "text/html": [
       "<pre style=\"white-space:pre;overflow-x:auto;line-height:normal;font-family:Menlo,'DejaVu Sans Mono',consolas,'Courier New',monospace\">Len of explanation: <span style=\"color: #008080; text-decoration-color: #008080; font-weight: bold\">207</span>\n",
       "</pre>\n"
      ],
      "text/plain": [
       "Len of explanation: \u001b[1;36m207\u001b[0m\n"
      ]
     },
     "metadata": {},
     "output_type": "display_data"
    }
   ],
   "source": [
    "print(f'Len of explanation: {len(validated_output[\"bank_run\"][\"explanation\"])}')"
   ]
  }
 ],
 "metadata": {
  "kernelspec": {
   "display_name": "tiff-env",
   "language": "python",
   "name": "python3"
  },
  "language_info": {
   "codemirror_mode": {
    "name": "ipython",
    "version": 3
   },
   "file_extension": ".py",
   "mimetype": "text/x-python",
   "name": "python",
   "nbconvert_exporter": "python",
   "pygments_lexer": "ipython3",
   "version": "3.9.16"
  },
  "orig_nbformat": 4,
  "vscode": {
   "interpreter": {
    "hash": "ef14f49bbc779f2fde64ca0552c2a99d578405052f5b73f61279551da311a8a1"
   }
  }
 },
 "nbformat": 4,
 "nbformat_minor": 2
}
