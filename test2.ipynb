{
 "cells": [
  {
   "cell_type": "code",
   "execution_count": 1,
   "metadata": {},
   "outputs": [],
   "source": [
    "from guardrails.prompt_repo import Prompt\n",
    "from guardrails.schema import Schema, Field\n",
    "from guardrails.validators import StringValidator, FloatValidator, Validator, FormValidator\n",
    "\n",
    "from pyparsing import CaselessKeyword, Regex"
   ]
  },
  {
   "cell_type": "code",
   "execution_count": 2,
   "metadata": {},
   "outputs": [],
   "source": [
    "with open('openai_api_key.txt', 'r') as f:\n",
    "    openai_api_key = f.read()"
   ]
  },
  {
   "cell_type": "code",
   "execution_count": 3,
   "metadata": {},
   "outputs": [],
   "source": [
    "schema = {\n",
    "    \"fees\": Field(\n",
    "        validator=StringValidator,\n",
    "        prompt=\"What fees and charges are associated with my account, including account maintenance fees, transaction fees, and overdraft fees?\"),\n",
    "    \"interest_rates\": Field(\n",
    "        validator=FloatValidator,\n",
    "        prompt=\"What are the interest rates offered by the bank on savings and checking accounts, loans, and credit products?\"),\n",
    "    \"limitations\": Field(\n",
    "        validator=StringValidator,\n",
    "        prompt=\"Are there any limitations on the number or frequency of transactions, transfers, or withdrawals from my account?\"),\n",
    "    \"liability\": Field(\n",
    "        validator=FloatValidator,\n",
    "        prompt=\"What is the maximum amount I am liable for in case of fraud, unauthorized transactions, or other security breaches?\"),\n",
    "    \"privacy\": Field(\n",
    "        validator=StringValidator,\n",
    "        prompt=\"What are the bank's policies on data collection, sharing, and protection?\"),\n",
    "    \"disputes\": Field(\n",
    "        validator=StringValidator,\n",
    "        prompt=\"What are the procedures for resolving disputes with the bank, including information on arbitration, mediation, and lawsuits?\"),\n",
    "    \"account_termination\": Field(\n",
    "        validator=StringValidator,\n",
    "        prompt=\"Under what circumstances can the bank terminate my account, and what notice is required for such termination?\"),\n",
    "    \"regulatory_oversight\": Field(\n",
    "        validator=StringValidator,\n",
    "        prompt=\"What is the bank's regulatory oversight, including its licensing and compliance status?\")\n",
    "}\n",
    "\n",
    "tos_schema = Schema.from_dict(schema)"
   ]
  },
  {
   "cell_type": "code",
   "execution_count": 4,
   "metadata": {},
   "outputs": [],
   "source": [
    "def LLM(prompt):\n",
    "    from openai import Completion\n",
    "    llm_output = Completion.create(\n",
    "        model=\"text-davinci-003\",\n",
    "        prompt=prompt,\n",
    "        temperature=0,\n",
    "        max_tokens=2048,\n",
    "        api_key=openai_api_key\n",
    "    )\n",
    "    return llm_output['choices'][0]['text']"
   ]
  },
  {
   "cell_type": "code",
   "execution_count": 5,
   "metadata": {},
   "outputs": [],
   "source": [
    "base_prompt_template = Prompt(\"\"\"Given the following document, answer the following questions. If the answer doesn't exist in the document, enter 'None'.\n",
    "\n",
    "{document}\"\"\")"
   ]
  },
  {
   "cell_type": "code",
   "execution_count": 6,
   "metadata": {},
   "outputs": [
    {
     "name": "stdout",
     "output_type": "stream",
     "text": [
      "Given the following document, answer the following questions. If the answer doesn't exist in the document, enter 'None'.\n",
      "\n",
      "{document}\n",
      "\n",
      "Questions:\n",
      "0. fees: What fees and charges are associated with my account, including account maintenance fees, transaction fees, and overdraft fees?\n",
      "1. interest_rates: What are the interest rates offered by the bank on savings and checking accounts, loans, and credit products?\n",
      "2. limitations: Are there any limitations on the number or frequency of transactions, transfers, or withdrawals from my account?\n",
      "3. liability: What is the maximum amount I am liable for in case of fraud, unauthorized transactions, or other security breaches?\n",
      "4. privacy: What are the bank's policies on data collection, sharing, and protection?\n",
      "5. disputes: What are the procedures for resolving disputes with the bank, including information on arbitration, mediation, and lawsuits?\n",
      "6. account_termination: Under what circumstances can the bank terminate my account, and what notice is required for such termination?\n",
      "7. regulatory_oversight: What is the bank's regulatory oversight, including its licensing and compliance status?\n",
      "\n",
      "To answer these questions, respond in this format:\n",
      "0. fees: << a string >>\n",
      "1. interest_rates: << a float >>\n",
      "2. limitations: << a string >>\n",
      "3. liability: << a float >>\n",
      "4. privacy: << a string >>\n",
      "5. disputes: << a string >>\n",
      "6. account_termination: << a string >>\n",
      "7. regulatory_oversight: << a string >>\n",
      "\n",
      "Try to be as correct and concise as possible. Find all relevant information in the document and answer the questions, even if the answer is 'None'.\n",
      "If you are unsure of the answer, enter 'None'. If you answer incorrectly, you will be asked again until you get it right which is expensive.\n"
     ]
    }
   ],
   "source": [
    "# Get prompt for getting info from the TOS\n",
    "updated_prompt = tos_schema.add_to_prompt(base_prompt_template)\n",
    "print(updated_prompt)"
   ]
  },
  {
   "cell_type": "code",
   "execution_count": 22,
   "metadata": {},
   "outputs": [],
   "source": [
    "# Read content from data/chunk_0.txt\n",
    "with open(\"data/chunk_0.txt\", \"r\") as f:\n",
    "    content = f.read()\n",
    "\n",
    "# llm_output = LLM(updated_prompt.format(document=content))\n",
    "# with open(\"data/llm_output.txt\", \"w\") as f:\n",
    "#     f.write(llm_output)\n",
    "# print(llm_output)"
   ]
  },
  {
   "cell_type": "code",
   "execution_count": 8,
   "metadata": {},
   "outputs": [
    {
     "name": "stdout",
     "output_type": "stream",
     "text": [
      "\n",
      "\n",
      "0. fees: None\n",
      "1. interest_rates: None\n",
      "2. limitations: Transfer Limits\n",
      "3. liability: Your Liability for Unauthorized Transfers\n",
      "4. privacy: Privacy Policy and Notice\n",
      "5. disputes: Disputes\n",
      "6. account_termination: Termination\n",
      "7. regulatory_oversight: None\n"
     ]
    }
   ],
   "source": [
    "with open(\"data/llm_output.txt\", \"r\") as f:\n",
    "    llm_output = f.read()\n",
    "print(llm_output)"
   ]
  },
  {
   "cell_type": "code",
   "execution_count": 9,
   "metadata": {},
   "outputs": [],
   "source": [
    "from copy import deepcopy\n",
    "\n",
    "text = llm_output\n",
    "extracted_object = {}\n",
    "invalid_forms = []\n",
    "text_copy = deepcopy(text)"
   ]
  },
  {
   "cell_type": "code",
   "execution_count": 10,
   "metadata": {},
   "outputs": [],
   "source": [
    "for i, attr in enumerate(tos_schema._schema):\n",
    "    field = attr['field']\n",
    "    name = attr['name']\n",
    "    combined_grammar = CaselessKeyword(f\"{i}. {name}:\") + field.form_validator.grammar\n",
    "    matched_form = list(combined_grammar.scan_string(text_copy, maxMatches=1))\n",
    "    if len(matched_form):\n",
    "        extracted_object[name] = matched_form[0][0]\n",
    "        text_copy = text_copy[matched_form[0][2]:]\n",
    "    else:\n",
    "        invalid_attr = {'name': name, 'field': field}\n",
    "        invalid_forms.append(invalid_attr)"
   ]
  },
  {
   "cell_type": "code",
   "execution_count": 11,
   "metadata": {},
   "outputs": [
    {
     "data": {
      "text/plain": [
       "{'fees': ParseResults(['0. fees:', 'None'], {}),\n",
       " 'limitations': ParseResults(['2. limitations:', 'Transfer Limits'], {}),\n",
       " 'privacy': ParseResults(['4. privacy:', 'Privacy Policy and Notice'], {}),\n",
       " 'disputes': ParseResults(['5. disputes:', 'Disputes'], {}),\n",
       " 'account_termination': ParseResults(['6. account_termination:', 'Termination'], {}),\n",
       " 'regulatory_oversight': ParseResults(['7. regulatory_oversight:', 'None'], {})}"
      ]
     },
     "execution_count": 11,
     "metadata": {},
     "output_type": "execute_result"
    }
   ],
   "source": [
    "extracted_object"
   ]
  },
  {
   "cell_type": "code",
   "execution_count": 12,
   "metadata": {},
   "outputs": [
    {
     "data": {
      "text/plain": [
       "[{'name': 'interest_rates',\n",
       "  'field': <guardrails.schema.Field at 0x7fb50898a160>},\n",
       " {'name': 'liability', 'field': <guardrails.schema.Field at 0x7fb50898ae80>}]"
      ]
     },
     "execution_count": 12,
     "metadata": {},
     "output_type": "execute_result"
    }
   ],
   "source": [
    "invalid_forms"
   ]
  },
  {
   "cell_type": "code",
   "execution_count": 13,
   "metadata": {},
   "outputs": [
    {
     "name": "stdout",
     "output_type": "stream",
     "text": [
      "\n",
      "\n",
      "0. fees: None\n",
      "1. interest_rates: None\n",
      "2. limitations: Transfer Limits\n",
      "3. liability: Your Liability for Unauthorized Transfers\n",
      "4. privacy: Privacy Policy and Notice\n",
      "5. disputes: Disputes\n",
      "6. account_termination: Termination\n",
      "7. regulatory_oversight: None\n"
     ]
    }
   ],
   "source": [
    "print(llm_output)"
   ]
  },
  {
   "cell_type": "code",
   "execution_count": 14,
   "metadata": {},
   "outputs": [],
   "source": [
    "\n",
    "prompt_copy = deepcopy(base_prompt_template)\n",
    "prompt_str = \"\\n\\nQuestions:\\n\"\n",
    "form_str = \"\\nTo answer these questions, respond in this format:\\n\""
   ]
  },
  {
   "cell_type": "code",
   "execution_count": 15,
   "metadata": {},
   "outputs": [],
   "source": [
    "for item in invalid_forms:\n",
    "    attr_name = item['name']\n",
    "    attr_prompt = item['field'].prompt\n",
    "    attr_form = item['field'].form_validator.grammar\n",
    "    attr_idx = tos_schema.name2idx[attr_name]\n",
    "    attr_debug_prompt = item['field'].form_validator.debug(\n",
    "        text, placeholder=CaselessKeyword(f\"{attr_idx}. {attr_name}:\"))\n",
    "    prompt_str += f\"{attr_idx}. {attr_name}: {attr_prompt}\\n\"\n",
    "    form_str += f\"{attr_idx}. {attr_name}: {attr_form}. {attr_debug_prompt}\\n\"\n"
   ]
  },
  {
   "cell_type": "code",
   "execution_count": 16,
   "metadata": {},
   "outputs": [],
   "source": [
    "prompt_copy.append_to_prompt(prompt_str)\n",
    "prompt_copy.append_to_prompt(form_str)\n",
    "prompt_copy.append_to_prompt(\"\"\"\n",
    "Try to be as correct and concise as possible. Find all relevant information in the document and answer the questions, even if the answer is 'None'.\n",
    "If you are unsure of the answer, enter 'None'. If you answer incorrectly, you will be asked again until you get it right which is expensive.\"\"\")\n"
   ]
  },
  {
   "cell_type": "code",
   "execution_count": 17,
   "metadata": {},
   "outputs": [
    {
     "name": "stdout",
     "output_type": "stream",
     "text": [
      "Given the following document, answer the following questions. If the answer doesn't exist in the document, enter 'None'.\n",
      "\n",
      "{document}\n",
      "\n",
      "Questions:\n",
      "1. interest_rates: What are the interest rates offered by the bank on savings and checking accounts, loans, and credit products?\n",
      "3. liability: What is the maximum amount I am liable for in case of fraud, unauthorized transactions, or other security breaches?\n",
      "\n",
      "To answer these questions, respond in this format:\n",
      "1. interest_rates: Re:('[-+]?\\d*\\.\\d+|\\d+'). You previously responded with \" None\" after \"1. interest_rates:\", which is incorrect. The correct output should be of the format: a float after \"1. interest_rates:\".\n",
      "3. liability: Re:('[-+]?\\d*\\.\\d+|\\d+'). You previously responded with \" Your Liability for Unauthorized Transfers\" after \"3. liability:\", which is incorrect. The correct output should be of the format: a float after \"3. liability:\".\n",
      "\n",
      "Try to be as correct and concise as possible. Find all relevant information in the document and answer the questions, even if the answer is 'None'.\n",
      "If you are unsure of the answer, enter 'None'. If you answer incorrectly, you will be asked again until you get it right which is expensive.\n"
     ]
    }
   ],
   "source": [
    "print(prompt_copy.source)"
   ]
  },
  {
   "cell_type": "code",
   "execution_count": 18,
   "metadata": {},
   "outputs": [],
   "source": [
    "form_debug_prompt = tos_schema.create_form_debug_prompt(\n",
    "    llm_output,\n",
    "    invalid_forms,\n",
    "    base_prompt_template\n",
    ")"
   ]
  },
  {
   "cell_type": "code",
   "execution_count": 21,
   "metadata": {},
   "outputs": [
    {
     "name": "stdout",
     "output_type": "stream",
     "text": [
      "Given the following document, answer the following questions. If the answer doesn't exist in the document, enter 'None'.\n",
      "\n",
      "{document}\n",
      "\n",
      "Questions:\n",
      "1. interest_rates: What are the interest rates offered by the bank on savings and checking accounts, loans, and credit products?\n",
      "3. liability: What is the maximum amount I am liable for in case of fraud, unauthorized transactions, or other security breaches?\n",
      "\n",
      "To answer these questions, respond in this format:\n",
      "1. interest_rates: << a float >>. You previously responded with \" None\" after \"1. interest_rates:\", which is incorrect. The correct output should be of the format: a float after \"1. interest_rates:\".\n",
      "3. liability: << a float >>. You previously responded with \" Your Liability for Unauthorized Transfers\" after \"3. liability:\", which is incorrect. The correct output should be of the format: a float after \"3. liability:\".\n",
      "\n",
      "Try to be as correct and concise as possible. Find all relevant information in the document and answer the questions, even if the answer is 'None'.\n",
      "If you are unsure of the answer, enter 'None'. If you answer incorrectly, you will be asked again until you get it right which is expensive.\n"
     ]
    }
   ],
   "source": [
    "print(form_debug_prompt.source)"
   ]
  },
  {
   "cell_type": "code",
   "execution_count": 25,
   "metadata": {},
   "outputs": [],
   "source": [
    "llm_output = LLM(form_debug_prompt.format(document=content))"
   ]
  },
  {
   "cell_type": "code",
   "execution_count": 27,
   "metadata": {},
   "outputs": [
    {
     "name": "stdout",
     "output_type": "stream",
     "text": [
      "\n",
      "\n",
      "1. interest_rates: None.\n",
      "3. liability: None.\n"
     ]
    }
   ],
   "source": [
    "print(llm_output)"
   ]
  },
  {
   "cell_type": "code",
   "execution_count": 24,
   "metadata": {},
   "outputs": [
    {
     "name": "stdout",
     "output_type": "stream",
     "text": [
      "Given the following document, answer the following questions. If the answer doesn't exist in the document, enter 'None'.\n",
      "\n",
      "Zelle® Service Agreement and Privacy\n",
      "Notice\n",
      "Last updated: 11/3/2022\n",
      "This agreement with Chase is available in Spanish as a courtesy. If there is any difference in\n",
      "meaning between the Spanish and English versions of this agreement or any related\n",
      "documents we provide you, either now or in the future, the English version is the official\n",
      "document and will prevail. Please consult with a translator if you have any questions.\n",
      "We suggest you read this document carefully and print a copy for your reference.\n",
      "This Zelle® Service Agreement and Privacy Notice (this \"Agreement\") states the terms and\n",
      "conditions that govern your use of the Zelle® Service (sometimes referred to as Chase\n",
      "QuickPay®, Chase QuickPay® with Zelle®, QuickPay, Send Money with Zelle®, Chase Person\u0002to-Person, QuickPay, Chase QuickPay for Small Business, Zelle, Zelle, or other trade name or\n",
      "trademark as determined by us) and J.P. Morgan QuickPay (each, the \" Zelle® Service\", “Zelle\n",
      "Service” or \"Service\"). As used herein, the terms \"Bank\", \"us,\" \"we,\" or \"our\" mean JPMorgan\n",
      "Chase Bank, National Association, or any affiliate, agent, independent contractor, designee, or\n",
      "assignee that we may, at our sole discretion, involve in the provision of the Service; \"you\" or\n",
      "\"your\" means (1) an individual or entity that is the owner of an account or (2) an authorized\n",
      "signer on an account who has authority to view account information and effect transactions\n",
      "on such account.\n",
      "TABLE OF CONTENTS\n",
      "1. General Terms Applicable to the Service\n",
      "2. Eligibility and User Profile\n",
      "3. Registering/Enrolling for the Service\n",
      "4. Definitions\n",
      "5. Statements\n",
      "6. Wireless Operator Data\n",
      "7. Disclosure of Account Information to Third Parties\n",
      "8. Mobile & Text Services; Consent to Emails and Automated Text Messages\n",
      "9. Cancellation of Your Service\n",
      "10. Cutoff Times\n",
      "11. Receiving Money\n",
      "12. Requesting Money\n",
      "13. Sending Money\n",
      "14. Transfer Limits\n",
      "15. Repeating Transfers\n",
      "16. Terms applicable to your use of Zelle platforms\n",
      "17. Zelle Fees\n",
      "18. Your Liability for Unauthorized Transfers\n",
      "19. Our Liability for Failure to Complete Transfers: For Consumer Deposit Accounts and Chase\n",
      "Liquid Cards Only\n",
      "20. Errors and Questions about Service: For Transfers From Consumer Deposit Accounts and\n",
      "Chase Liquid Cards Only\n",
      "21. No Purchase Protection\n",
      "22. ADDITIONAL TERMS APPLICABLE ONLY TO THE Service FOR BUSINESS ACCOUNTS\n",
      "Zelle Liability for Unauthorized Transfers for Chase Business Deposit Accounts Only\n",
      "Errors and Questions about Services for Chase Business Deposit Accounts Only\n",
      "Miscellaneous Terms for Business Accounts\n",
      "23. ADDITIONAL TERMS APPLICABLE TO ALL USERS OF THE SERVICE\n",
      "Computer Equipment; Browser Access and Internet Services\n",
      "Passwords\n",
      "Notices\n",
      "New Features\n",
      "Limitation of Liability; No Warranties\n",
      "Other Agreements\n",
      "Termination\n",
      "Disputes\n",
      "Binding Arbitration\n",
      "Indemnity\n",
      "Records; Communications\n",
      "Special Provisions for Business Customers\n",
      "Choice of Law/Successors; Waiver; Severability\n",
      "Chase Account Information\n",
      "Privacy Policy and Notice\n",
      "1. General Terms Applicable to the Service\n",
      "We have partnered with Zelle to enable transfers of money between you and others who are\n",
      "enrolled directly with Zelle or enrolled with another financial institution that partners with\n",
      "Zelle (each, a “User”) using aliases, such as email addresses or mobile phone numbers.\n",
      "When you use or access, or permit any other person(s) or entity to whom you have delegated\n",
      "to act on your behalf to use or access the Service, you agree to the terms and conditions of\n",
      "this Agreement. We may amend or change this Agreement (including any applicable fees and\n",
      "service charges) from time to time, in our sole discretion, by sending you written notice by\n",
      "electronic mail, postal mail or by posting the updated terms on the sites within the Service\n",
      "(the \"Site(s)\"). Please access and review this Agreement regularly. If you find the Agreement\n",
      "unacceptable to you at any time, please discontinue your use of the Service. Your use of the\n",
      "Service after we have made such changes available will be considered your agreement to the\n",
      "change.\n",
      "We grant to you, for your personal use or, if you are a business, internal business purposes\n",
      "only, a nonexclusive, limited and revocable right to access and use the Service. You agree not\n",
      "to use the Service for any other purpose, including commercial purposes, such as co\u0002branding, framing, linking, or reselling any portion of the Service without our prior written\n",
      "consent.\n",
      "Subject to the terms of this Agreement, the Services are generally available 24 hours a day,\n",
      "seven days a week with the exception of outages for maintenance and circumstances beyond\n",
      "\n",
      "\n",
      "Questions:\n",
      "1. interest_rates: What are the interest rates offered by the bank on savings and checking accounts, loans, and credit products?\n",
      "3. liability: What is the maximum amount I am liable for in case of fraud, unauthorized transactions, or other security breaches?\n",
      "\n",
      "To answer these questions, respond in this format:\n",
      "1. interest_rates: << a float >>. You previously responded with \" None\" after \"1. interest_rates:\", which is incorrect. The correct output should be of the format: a float after \"1. interest_rates:\".\n",
      "3. liability: << a float >>. You previously responded with \" Your Liability for Unauthorized Transfers\" after \"3. liability:\", which is incorrect. The correct output should be of the format: a float after \"3. liability:\".\n",
      "\n",
      "Try to be as correct and concise as possible. Find all relevant information in the document and answer the questions, even if the answer is 'None'.\n",
      "If you are unsure of the answer, enter 'None'. If you answer incorrectly, you will be asked again until you get it right which is expensive.\n"
     ]
    }
   ],
   "source": [
    "print(form_debug_prompt.format(document=content))"
   ]
  },
  {
   "cell_type": "code",
   "execution_count": null,
   "metadata": {},
   "outputs": [],
   "source": []
  },
  {
   "cell_type": "code",
   "execution_count": null,
   "metadata": {},
   "outputs": [],
   "source": []
  },
  {
   "cell_type": "code",
   "execution_count": null,
   "metadata": {},
   "outputs": [],
   "source": []
  },
  {
   "cell_type": "code",
   "execution_count": null,
   "metadata": {},
   "outputs": [],
   "source": []
  },
  {
   "cell_type": "code",
   "execution_count": null,
   "metadata": {},
   "outputs": [],
   "source": []
  },
  {
   "cell_type": "code",
   "execution_count": null,
   "metadata": {},
   "outputs": [],
   "source": [
    "{\n",
    "    \"interest_rate\": Field(prompt=\"Interest rate of the lender\", validator=[FloatValidator, RationalInterestRateValidator]),\n",
    "    \"url\": Field(prompt=\"URL of the lender\", validators=[UrlValidator, ReachableUrlValidator]),\n",
    "    \"list_of_lenders\": Field(\n",
    "        prompt=\"List of lenders\",\n",
    "        validators=[ListValidator(min_length=1, max_length=10, validator=StringValidator)]),\n",
    "    \"other_object\": Field(prompt=\"Other object to extract\", validators={\n",
    "        \"key_1\": StringValidator,\n",
    "        \"key_2\": [FloatValidator, PositiveFloatValidator],\n",
    "    })\n",
    "}"
   ]
  },
  {
   "cell_type": "code",
   "execution_count": 2,
   "metadata": {},
   "outputs": [
    {
     "ename": "NameError",
     "evalue": "name 'StringValidator' is not defined",
     "output_type": "error",
     "traceback": [
      "\u001b[0;31m---------------------------------------------------------------------------\u001b[0m",
      "\u001b[0;31mNameError\u001b[0m                                 Traceback (most recent call last)",
      "Cell \u001b[0;32mIn[2], line 2\u001b[0m\n\u001b[1;32m      1\u001b[0m schema \u001b[39m=\u001b[39m {\n\u001b[0;32m----> 2\u001b[0m     \u001b[39m\"\u001b[39m\u001b[39mname\u001b[39m\u001b[39m\"\u001b[39m: StringValidator,\n\u001b[1;32m      3\u001b[0m     \u001b[39m\"\u001b[39m\u001b[39minterest_rate\u001b[39m\u001b[39m\"\u001b[39m: [FloatValidator, RationalInterestRateValidator],\n\u001b[1;32m      4\u001b[0m     \u001b[39m\"\u001b[39m\u001b[39murl\u001b[39m\u001b[39m\"\u001b[39m: [UrlValidator, ReachableUrlValidator],\n\u001b[1;32m      5\u001b[0m     \u001b[39m\"\u001b[39m\u001b[39mlist_of_lenders\u001b[39m\u001b[39m\"\u001b[39m: ListValidator(min_length\u001b[39m=\u001b[39m\u001b[39m1\u001b[39m, max_length\u001b[39m=\u001b[39m\u001b[39m10\u001b[39m, element_validators\u001b[39m=\u001b[39m[StringValidator]),\n\u001b[1;32m      6\u001b[0m     \u001b[39m\"\u001b[39m\u001b[39mother_object\u001b[39m\u001b[39m\"\u001b[39m: {\n\u001b[1;32m      7\u001b[0m         \u001b[39m\"\u001b[39m\u001b[39mkey_1\u001b[39m\u001b[39m\"\u001b[39m: StringValidator,\n\u001b[1;32m      8\u001b[0m         \u001b[39m\"\u001b[39m\u001b[39mkey_2\u001b[39m\u001b[39m\"\u001b[39m: [FloatValidator, PositiveFloatValidator],\n\u001b[1;32m      9\u001b[0m     }\n\u001b[1;32m     10\u001b[0m }\n",
      "\u001b[0;31mNameError\u001b[0m: name 'StringValidator' is not defined"
     ]
    }
   ],
   "source": [
    "schema = {\n",
    "    \"name\": StringValidator,\n",
    "    \"interest_rate\": [FloatValidator, RationalInterestRateValidator],\n",
    "    \"url\": [UrlValidator, ReachableUrlValidator],\n",
    "    \"list_of_lenders\": ListValidator(min_length=1, max_length=10, element_validators=[StringValidator]),\n",
    "    \"other_object\": {\n",
    "        \"key_1\": StringValidator,\n",
    "        \"key_2\": [FloatValidator, PositiveFloatValidator],\n",
    "    }\n",
    "}"
   ]
  },
  {
   "cell_type": "code",
   "execution_count": null,
   "metadata": {},
   "outputs": [],
   "source": [
    "info_schema = Schema.from_dict(schema)"
   ]
  },
  {
   "cell_type": "code",
   "execution_count": null,
   "metadata": {},
   "outputs": [],
   "source": []
  },
  {
   "cell_type": "code",
   "execution_count": null,
   "metadata": {},
   "outputs": [],
   "source": [
    "schema = {\n",
    "    \"name\": Field(prompt=\"Name of the lender\", validators=StringValidator),\n",
    "    \"interest_rate\": Field(prompt=\"Interest rate of the lender\", validators=[FloatValidator, RationalInterestRateValidator]),\n",
    "    \"url\": Field(prompt=\"URL of the lender\", validators=[UrlValidator, ReachableUrlValidator]),\n",
    "    \"list_of_lenders\": Field(\n",
    "        prompt=\"List of lenders\",\n",
    "        validators=[ListValidator(min_length=1, max_length=10, validator=StringValidator)]),\n",
    "    \"other_object\": Field(prompt=\"Other object to extract\", validators={\n",
    "        \"key_1\": StringValidator,\n",
    "        \"key_2\": [FloatValidator, PositiveFloatValidator],\n",
    "    })\n",
    "}"
   ]
  },
  {
   "cell_type": "code",
   "execution_count": null,
   "metadata": {},
   "outputs": [],
   "source": [
    "schema = {\n",
    "    \"name\": {\n",
    "        \"prompt\": \"Name of the lender\",\n",
    "        \"format\": StringValidator,\n",
    "        \"required\": True,\n",
    "        \"validators\": [VerboseStringValidator]\n",
    "    },\n",
    "    \"interest_rate\": {\n",
    "        \"prompt\": \"Interest rate of the lender\",\n",
    "        \"format\": FloatValidator,\n",
    "        \"required\": True,\n",
    "        \"validators\": [RationalInterestRateValidator]\n",
    "    },\n",
    "    \"url\": {\n",
    "        \"prompt\": \"URL of the lender\",\n",
    "        \"format\": UrlValidator,\n",
    "        \"required\": True,\n",
    "        \"validators\": [ReachableUrlValidator]\n",
    "    },\n",
    "    \"list_of_lenders\": {\n",
    "        \"prompt\": \"List of lenders\",\n",
    "        \"format\": ListValidator(min_length=1, max_length=10, format=StringValidator, validators=[VerboseStringValidator]),\n",
    "        \"required\": True,\n",
    "        \"validators\": []\n",
    "    },\n",
    "    \"other_object\": {\n",
    "        \"key_1\": {\n",
    "            \"prompt\": \"Key 1\",\n",
    "            \"format\": StringValidator,\n",
    "            \"required\": True,\n",
    "            \"validators\": [VerboseStringValidator]\n",
    "        },\n",
    "        \"key_2\": {\n",
    "            \"prompt\": \"Key 2\",\n",
    "            \"format\": FloatValidator,\n",
    "            \"required\": True,\n",
    "            \"validators\": [PositiveFloatValidator]\n",
    "        }\n",
    "    }\n",
    "}"
   ]
  }
 ],
 "metadata": {
  "kernelspec": {
   "display_name": "tiff-env",
   "language": "python",
   "name": "python3"
  },
  "language_info": {
   "codemirror_mode": {
    "name": "ipython",
    "version": 3
   },
   "file_extension": ".py",
   "mimetype": "text/x-python",
   "name": "python",
   "nbconvert_exporter": "python",
   "pygments_lexer": "ipython3",
   "version": "3.9.16"
  },
  "orig_nbformat": 4,
  "vscode": {
   "interpreter": {
    "hash": "ef14f49bbc779f2fde64ca0552c2a99d578405052f5b73f61279551da311a8a1"
   }
  }
 },
 "nbformat": 4,
 "nbformat_minor": 2
}
